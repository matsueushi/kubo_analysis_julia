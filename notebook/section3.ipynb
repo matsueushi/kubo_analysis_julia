{
 "cells": [
  {
   "cell_type": "code",
   "execution_count": 99,
   "metadata": {},
   "outputs": [
    {
     "name": "stderr",
     "output_type": "stream",
     "text": [
      "\u001b[32m\u001b[1m Activating\u001b[22m\u001b[39m environment at `~/Documents/kubo_analysis_julia/notebook/Project.toml`\n"
     ]
    }
   ],
   "source": [
    "using Pkg; Pkg.activate(\".\"); Pkg.instantiate()"
   ]
  },
  {
   "cell_type": "markdown",
   "metadata": {},
   "source": [
    "# 3 一般化線形モデル(GLM) -ポアソン回帰-"
   ]
  },
  {
   "cell_type": "code",
   "execution_count": 100,
   "metadata": {},
   "outputs": [],
   "source": [
    "using CSV\n",
    "using DataFrames\n",
    "using GLM\n",
    "using LaTeXStrings\n",
    "using Plots\n",
    "using StatsBase\n",
    "using StatsPlots"
   ]
  },
  {
   "cell_type": "markdown",
   "metadata": {},
   "source": [
    "## 3.2 観測されたデータの概要を調べる"
   ]
  },
  {
   "cell_type": "code",
   "execution_count": 101,
   "metadata": {},
   "outputs": [
    {
     "data": {
      "text/html": [
       "<table class=\"data-frame\"><thead><tr><th></th><th>y</th><th>x</th><th>f</th></tr><tr><th></th><th>Int64</th><th>Float64</th><th>String</th></tr></thead><tbody><p>100 rows × 3 columns</p><tr><th>1</th><td>6</td><td>8.31</td><td>C</td></tr><tr><th>2</th><td>6</td><td>9.44</td><td>C</td></tr><tr><th>3</th><td>6</td><td>9.5</td><td>C</td></tr><tr><th>4</th><td>12</td><td>9.07</td><td>C</td></tr><tr><th>5</th><td>10</td><td>10.16</td><td>C</td></tr><tr><th>6</th><td>4</td><td>8.32</td><td>C</td></tr><tr><th>7</th><td>9</td><td>10.61</td><td>C</td></tr><tr><th>8</th><td>9</td><td>10.06</td><td>C</td></tr><tr><th>9</th><td>9</td><td>9.93</td><td>C</td></tr><tr><th>10</th><td>11</td><td>10.43</td><td>C</td></tr><tr><th>11</th><td>6</td><td>10.36</td><td>C</td></tr><tr><th>12</th><td>10</td><td>10.15</td><td>C</td></tr><tr><th>13</th><td>6</td><td>10.92</td><td>C</td></tr><tr><th>14</th><td>10</td><td>8.85</td><td>C</td></tr><tr><th>15</th><td>11</td><td>9.42</td><td>C</td></tr><tr><th>16</th><td>8</td><td>11.11</td><td>C</td></tr><tr><th>17</th><td>3</td><td>8.02</td><td>C</td></tr><tr><th>18</th><td>8</td><td>11.93</td><td>C</td></tr><tr><th>19</th><td>5</td><td>8.55</td><td>C</td></tr><tr><th>20</th><td>5</td><td>7.19</td><td>C</td></tr><tr><th>21</th><td>4</td><td>9.83</td><td>C</td></tr><tr><th>22</th><td>11</td><td>10.79</td><td>C</td></tr><tr><th>23</th><td>5</td><td>8.89</td><td>C</td></tr><tr><th>24</th><td>10</td><td>10.09</td><td>C</td></tr><tr><th>25</th><td>6</td><td>11.63</td><td>C</td></tr><tr><th>26</th><td>6</td><td>10.21</td><td>C</td></tr><tr><th>27</th><td>7</td><td>9.45</td><td>C</td></tr><tr><th>28</th><td>9</td><td>10.44</td><td>C</td></tr><tr><th>29</th><td>3</td><td>9.44</td><td>C</td></tr><tr><th>30</th><td>10</td><td>10.48</td><td>C</td></tr><tr><th>&vellip;</th><td>&vellip;</td><td>&vellip;</td><td>&vellip;</td></tr></tbody></table>"
      ],
      "text/latex": [
       "\\begin{tabular}{r|ccc}\n",
       "\t& y & x & f\\\\\n",
       "\t\\hline\n",
       "\t& Int64 & Float64 & String\\\\\n",
       "\t\\hline\n",
       "\t1 & 6 & 8.31 & C \\\\\n",
       "\t2 & 6 & 9.44 & C \\\\\n",
       "\t3 & 6 & 9.5 & C \\\\\n",
       "\t4 & 12 & 9.07 & C \\\\\n",
       "\t5 & 10 & 10.16 & C \\\\\n",
       "\t6 & 4 & 8.32 & C \\\\\n",
       "\t7 & 9 & 10.61 & C \\\\\n",
       "\t8 & 9 & 10.06 & C \\\\\n",
       "\t9 & 9 & 9.93 & C \\\\\n",
       "\t10 & 11 & 10.43 & C \\\\\n",
       "\t11 & 6 & 10.36 & C \\\\\n",
       "\t12 & 10 & 10.15 & C \\\\\n",
       "\t13 & 6 & 10.92 & C \\\\\n",
       "\t14 & 10 & 8.85 & C \\\\\n",
       "\t15 & 11 & 9.42 & C \\\\\n",
       "\t16 & 8 & 11.11 & C \\\\\n",
       "\t17 & 3 & 8.02 & C \\\\\n",
       "\t18 & 8 & 11.93 & C \\\\\n",
       "\t19 & 5 & 8.55 & C \\\\\n",
       "\t20 & 5 & 7.19 & C \\\\\n",
       "\t21 & 4 & 9.83 & C \\\\\n",
       "\t22 & 11 & 10.79 & C \\\\\n",
       "\t23 & 5 & 8.89 & C \\\\\n",
       "\t24 & 10 & 10.09 & C \\\\\n",
       "\t25 & 6 & 11.63 & C \\\\\n",
       "\t26 & 6 & 10.21 & C \\\\\n",
       "\t27 & 7 & 9.45 & C \\\\\n",
       "\t28 & 9 & 10.44 & C \\\\\n",
       "\t29 & 3 & 9.44 & C \\\\\n",
       "\t30 & 10 & 10.48 & C \\\\\n",
       "\t$\\dots$ & $\\dots$ & $\\dots$ & $\\dots$ \\\\\n",
       "\\end{tabular}\n"
      ],
      "text/plain": [
       "100×3 DataFrame\n",
       "│ Row │ y     │ x       │ f      │\n",
       "│     │ \u001b[90mInt64\u001b[39m │ \u001b[90mFloat64\u001b[39m │ \u001b[90mString\u001b[39m │\n",
       "├─────┼───────┼─────────┼────────┤\n",
       "│ 1   │ 6     │ 8.31    │ C      │\n",
       "│ 2   │ 6     │ 9.44    │ C      │\n",
       "│ 3   │ 6     │ 9.5     │ C      │\n",
       "│ 4   │ 12    │ 9.07    │ C      │\n",
       "│ 5   │ 10    │ 10.16   │ C      │\n",
       "│ 6   │ 4     │ 8.32    │ C      │\n",
       "│ 7   │ 9     │ 10.61   │ C      │\n",
       "│ 8   │ 9     │ 10.06   │ C      │\n",
       "│ 9   │ 9     │ 9.93    │ C      │\n",
       "│ 10  │ 11    │ 10.43   │ C      │\n",
       "⋮\n",
       "│ 90  │ 5     │ 8.85    │ T      │\n",
       "│ 91  │ 6     │ 11.2    │ T      │\n",
       "│ 92  │ 5     │ 9.86    │ T      │\n",
       "│ 93  │ 8     │ 11.54   │ T      │\n",
       "│ 94  │ 5     │ 10.03   │ T      │\n",
       "│ 95  │ 9     │ 11.88   │ T      │\n",
       "│ 96  │ 8     │ 9.15    │ T      │\n",
       "│ 97  │ 6     │ 8.52    │ T      │\n",
       "│ 98  │ 8     │ 10.24   │ T      │\n",
       "│ 99  │ 7     │ 10.86   │ T      │\n",
       "│ 100 │ 9     │ 9.97    │ T      │"
      ]
     },
     "execution_count": 101,
     "metadata": {},
     "output_type": "execute_result"
    }
   ],
   "source": [
    "df = CSV.read(joinpath(\"..\", \"data/section3.csv\"))"
   ]
  },
  {
   "cell_type": "markdown",
   "metadata": {},
   "source": [
    "### 列ごとにデータを表示"
   ]
  },
  {
   "cell_type": "code",
   "execution_count": 102,
   "metadata": {},
   "outputs": [
    {
     "data": {
      "text/plain": [
       "100-element CSV.Column{Float64,Float64}:\n",
       "  8.31\n",
       "  9.44\n",
       "  9.5\n",
       "  9.07\n",
       " 10.16\n",
       "  8.32\n",
       " 10.61\n",
       " 10.06\n",
       "  9.93\n",
       " 10.43\n",
       " 10.36\n",
       " 10.15\n",
       " 10.92\n",
       "  ⋮\n",
       " 10.73\n",
       "  8.85\n",
       " 11.2\n",
       "  9.86\n",
       " 11.54\n",
       " 10.03\n",
       " 11.88\n",
       "  9.15\n",
       "  8.52\n",
       " 10.24\n",
       " 10.86\n",
       "  9.97"
      ]
     },
     "execution_count": 102,
     "metadata": {},
     "output_type": "execute_result"
    }
   ],
   "source": [
    "df.x"
   ]
  },
  {
   "cell_type": "code",
   "execution_count": 103,
   "metadata": {},
   "outputs": [
    {
     "data": {
      "text/plain": [
       "100-element CSV.Column{Int64,Int64}:\n",
       "  6\n",
       "  6\n",
       "  6\n",
       " 12\n",
       " 10\n",
       "  4\n",
       "  9\n",
       "  9\n",
       "  9\n",
       " 11\n",
       "  6\n",
       " 10\n",
       "  6\n",
       "  ⋮\n",
       "  4\n",
       "  5\n",
       "  6\n",
       "  5\n",
       "  8\n",
       "  5\n",
       "  9\n",
       "  8\n",
       "  6\n",
       "  8\n",
       "  7\n",
       "  9"
      ]
     },
     "execution_count": 103,
     "metadata": {},
     "output_type": "execute_result"
    }
   ],
   "source": [
    "df.y"
   ]
  },
  {
   "cell_type": "code",
   "execution_count": 104,
   "metadata": {},
   "outputs": [
    {
     "data": {
      "text/plain": [
       "100-element CSV.Column{String,PooledString}:\n",
       " \"C\"\n",
       " \"C\"\n",
       " \"C\"\n",
       " \"C\"\n",
       " \"C\"\n",
       " \"C\"\n",
       " \"C\"\n",
       " \"C\"\n",
       " \"C\"\n",
       " \"C\"\n",
       " \"C\"\n",
       " \"C\"\n",
       " \"C\"\n",
       " ⋮\n",
       " \"T\"\n",
       " \"T\"\n",
       " \"T\"\n",
       " \"T\"\n",
       " \"T\"\n",
       " \"T\"\n",
       " \"T\"\n",
       " \"T\"\n",
       " \"T\"\n",
       " \"T\"\n",
       " \"T\"\n",
       " \"T\""
      ]
     },
     "execution_count": 104,
     "metadata": {},
     "output_type": "execute_result"
    }
   ],
   "source": [
    "df.f"
   ]
  },
  {
   "cell_type": "markdown",
   "metadata": {},
   "source": [
    "### データオブジェクトの型を調べる"
   ]
  },
  {
   "cell_type": "code",
   "execution_count": 105,
   "metadata": {},
   "outputs": [
    {
     "data": {
      "text/plain": [
       "DataFrame"
      ]
     },
     "execution_count": 105,
     "metadata": {},
     "output_type": "execute_result"
    }
   ],
   "source": [
    "typeof(df)"
   ]
  },
  {
   "cell_type": "code",
   "execution_count": 106,
   "metadata": {},
   "outputs": [
    {
     "data": {
      "text/plain": [
       "CSV.Column{Int64,Int64}"
      ]
     },
     "execution_count": 106,
     "metadata": {},
     "output_type": "execute_result"
    }
   ],
   "source": [
    "typeof(df.y)"
   ]
  },
  {
   "cell_type": "code",
   "execution_count": 107,
   "metadata": {},
   "outputs": [
    {
     "data": {
      "text/plain": [
       "CSV.Column{Float64,Float64}"
      ]
     },
     "execution_count": 107,
     "metadata": {},
     "output_type": "execute_result"
    }
   ],
   "source": [
    "typeof(df.x)"
   ]
  },
  {
   "cell_type": "code",
   "execution_count": 108,
   "metadata": {},
   "outputs": [
    {
     "data": {
      "text/plain": [
       "CSV.Column{String,PooledString}"
      ]
     },
     "execution_count": 108,
     "metadata": {},
     "output_type": "execute_result"
    }
   ],
   "source": [
    "typeof(df.f)\n",
    "\n",
    "### データの要約"
   ]
  },
  {
   "cell_type": "code",
   "execution_count": 109,
   "metadata": {},
   "outputs": [
    {
     "data": {
      "text/html": [
       "<table class=\"data-frame\"><thead><tr><th></th><th>variable</th><th>mean</th><th>min</th><th>median</th><th>max</th><th>nunique</th><th>nmissing</th><th>eltype</th></tr><tr><th></th><th>Symbol</th><th>Union…</th><th>Any</th><th>Union…</th><th>Any</th><th>Union…</th><th>Nothing</th><th>DataType</th></tr></thead><tbody><p>3 rows × 8 columns</p><tr><th>1</th><td>y</td><td>7.83</td><td>2</td><td>8.0</td><td>15</td><td></td><td></td><td>Int64</td></tr><tr><th>2</th><td>x</td><td>10.0891</td><td>7.19</td><td>10.155</td><td>12.4</td><td></td><td></td><td>Float64</td></tr><tr><th>3</th><td>f</td><td></td><td>C</td><td></td><td>T</td><td>2</td><td></td><td>String</td></tr></tbody></table>"
      ],
      "text/latex": [
       "\\begin{tabular}{r|cccccccc}\n",
       "\t& variable & mean & min & median & max & nunique & nmissing & eltype\\\\\n",
       "\t\\hline\n",
       "\t& Symbol & Union… & Any & Union… & Any & Union… & Nothing & DataType\\\\\n",
       "\t\\hline\n",
       "\t1 & y & 7.83 & 2 & 8.0 & 15 &  &  & Int64 \\\\\n",
       "\t2 & x & 10.0891 & 7.19 & 10.155 & 12.4 &  &  & Float64 \\\\\n",
       "\t3 & f &  & C &  & T & 2 &  & String \\\\\n",
       "\\end{tabular}\n"
      ],
      "text/plain": [
       "3×8 DataFrame. Omitted printing of 1 columns\n",
       "│ Row │ variable │ mean    │ min  │ median │ max  │ nunique │ nmissing │\n",
       "│     │ \u001b[90mSymbol\u001b[39m   │ \u001b[90mUnion…\u001b[39m  │ \u001b[90mAny\u001b[39m  │ \u001b[90mUnion…\u001b[39m │ \u001b[90mAny\u001b[39m  │ \u001b[90mUnion…\u001b[39m  │ \u001b[90mNothing\u001b[39m  │\n",
       "├─────┼──────────┼─────────┼──────┼────────┼──────┼─────────┼──────────┤\n",
       "│ 1   │ y        │ 7.83    │ 2    │ 8.0    │ 15   │         │          │\n",
       "│ 2   │ x        │ 10.0891 │ 7.19 │ 10.155 │ 12.4 │         │          │\n",
       "│ 3   │ f        │         │ C    │        │ T    │ 2       │          │"
      ]
     },
     "execution_count": 109,
     "metadata": {},
     "output_type": "execute_result"
    }
   ],
   "source": [
    "describe(df)"
   ]
  },
  {
   "cell_type": "markdown",
   "metadata": {},
   "source": [
    "## 3.3 統計モデリングの前にデータを図示する\n",
    "### データの図示\n",
    "散布図"
   ]
  },
  {
   "cell_type": "code",
   "execution_count": 110,
   "metadata": {},
   "outputs": [
    {
     "data": {
      "image/svg+xml": [
       "<?xml version=\"1.0\" encoding=\"utf-8\"?>\n",
       "<svg xmlns=\"http://www.w3.org/2000/svg\" xmlns:xlink=\"http://www.w3.org/1999/xlink\" width=\"600\" height=\"400\" viewBox=\"0 0 2400 1600\">\n",
       "<defs>\n",
       "  <clipPath id=\"clip580\">\n",
       "    <rect x=\"0\" y=\"0\" width=\"2400\" height=\"1600\"/>\n",
       "  </clipPath>\n",
       "</defs>\n",
       "<path clip-path=\"url(#clip580)\" d=\"\n",
       "M0 1600 L2400 1600 L2400 0 L0 0  Z\n",
       "  \" fill=\"#ffffff\" fill-rule=\"evenodd\" fill-opacity=\"1\"/>\n",
       "<defs>\n",
       "  <clipPath id=\"clip581\">\n",
       "    <rect x=\"480\" y=\"0\" width=\"1681\" height=\"1600\"/>\n",
       "  </clipPath>\n",
       "</defs>\n",
       "<path clip-path=\"url(#clip580)\" d=\"\n",
       "M135.071 1486.45 L2352.76 1486.45 L2352.76 47.2441 L135.071 47.2441  Z\n",
       "  \" fill=\"#ffffff\" fill-rule=\"evenodd\" fill-opacity=\"1\"/>\n",
       "<defs>\n",
       "  <clipPath id=\"clip582\">\n",
       "    <rect x=\"135\" y=\"47\" width=\"2219\" height=\"1440\"/>\n",
       "  </clipPath>\n",
       "</defs>\n",
       "<polyline clip-path=\"url(#clip582)\" style=\"stroke:#000000; stroke-width:2; stroke-opacity:0.1; fill:none\" points=\"\n",
       "  523.103,1486.45 523.103,47.2441 \n",
       "  \"/>\n",
       "<polyline clip-path=\"url(#clip582)\" style=\"stroke:#000000; stroke-width:2; stroke-opacity:0.1; fill:none\" points=\"\n",
       "  924.669,1486.45 924.669,47.2441 \n",
       "  \"/>\n",
       "<polyline clip-path=\"url(#clip582)\" style=\"stroke:#000000; stroke-width:2; stroke-opacity:0.1; fill:none\" points=\"\n",
       "  1326.23,1486.45 1326.23,47.2441 \n",
       "  \"/>\n",
       "<polyline clip-path=\"url(#clip582)\" style=\"stroke:#000000; stroke-width:2; stroke-opacity:0.1; fill:none\" points=\"\n",
       "  1727.8,1486.45 1727.8,47.2441 \n",
       "  \"/>\n",
       "<polyline clip-path=\"url(#clip582)\" style=\"stroke:#000000; stroke-width:2; stroke-opacity:0.1; fill:none\" points=\"\n",
       "  2129.37,1486.45 2129.37,47.2441 \n",
       "  \"/>\n",
       "<polyline clip-path=\"url(#clip582)\" style=\"stroke:#000000; stroke-width:2; stroke-opacity:0.1; fill:none\" points=\"\n",
       "  135.071,1445.72 2352.76,1445.72 \n",
       "  \"/>\n",
       "<polyline clip-path=\"url(#clip582)\" style=\"stroke:#000000; stroke-width:2; stroke-opacity:0.1; fill:none\" points=\"\n",
       "  135.071,1236.83 2352.76,1236.83 \n",
       "  \"/>\n",
       "<polyline clip-path=\"url(#clip582)\" style=\"stroke:#000000; stroke-width:2; stroke-opacity:0.1; fill:none\" points=\"\n",
       "  135.071,1027.95 2352.76,1027.95 \n",
       "  \"/>\n",
       "<polyline clip-path=\"url(#clip582)\" style=\"stroke:#000000; stroke-width:2; stroke-opacity:0.1; fill:none\" points=\"\n",
       "  135.071,819.067 2352.76,819.067 \n",
       "  \"/>\n",
       "<polyline clip-path=\"url(#clip582)\" style=\"stroke:#000000; stroke-width:2; stroke-opacity:0.1; fill:none\" points=\"\n",
       "  135.071,610.184 2352.76,610.184 \n",
       "  \"/>\n",
       "<polyline clip-path=\"url(#clip582)\" style=\"stroke:#000000; stroke-width:2; stroke-opacity:0.1; fill:none\" points=\"\n",
       "  135.071,401.301 2352.76,401.301 \n",
       "  \"/>\n",
       "<polyline clip-path=\"url(#clip582)\" style=\"stroke:#000000; stroke-width:2; stroke-opacity:0.1; fill:none\" points=\"\n",
       "  135.071,192.418 2352.76,192.418 \n",
       "  \"/>\n",
       "<polyline clip-path=\"url(#clip580)\" style=\"stroke:#000000; stroke-width:4; stroke-opacity:1; fill:none\" points=\"\n",
       "  135.071,1486.45 2352.76,1486.45 \n",
       "  \"/>\n",
       "<polyline clip-path=\"url(#clip580)\" style=\"stroke:#000000; stroke-width:4; stroke-opacity:1; fill:none\" points=\"\n",
       "  135.071,1486.45 135.071,47.2441 \n",
       "  \"/>\n",
       "<polyline clip-path=\"url(#clip580)\" style=\"stroke:#000000; stroke-width:4; stroke-opacity:1; fill:none\" points=\"\n",
       "  523.103,1486.45 523.103,1469.18 \n",
       "  \"/>\n",
       "<polyline clip-path=\"url(#clip580)\" style=\"stroke:#000000; stroke-width:4; stroke-opacity:1; fill:none\" points=\"\n",
       "  924.669,1486.45 924.669,1469.18 \n",
       "  \"/>\n",
       "<polyline clip-path=\"url(#clip580)\" style=\"stroke:#000000; stroke-width:4; stroke-opacity:1; fill:none\" points=\"\n",
       "  1326.23,1486.45 1326.23,1469.18 \n",
       "  \"/>\n",
       "<polyline clip-path=\"url(#clip580)\" style=\"stroke:#000000; stroke-width:4; stroke-opacity:1; fill:none\" points=\"\n",
       "  1727.8,1486.45 1727.8,1469.18 \n",
       "  \"/>\n",
       "<polyline clip-path=\"url(#clip580)\" style=\"stroke:#000000; stroke-width:4; stroke-opacity:1; fill:none\" points=\"\n",
       "  2129.37,1486.45 2129.37,1469.18 \n",
       "  \"/>\n",
       "<polyline clip-path=\"url(#clip580)\" style=\"stroke:#000000; stroke-width:4; stroke-opacity:1; fill:none\" points=\"\n",
       "  135.071,1445.72 161.683,1445.72 \n",
       "  \"/>\n",
       "<polyline clip-path=\"url(#clip580)\" style=\"stroke:#000000; stroke-width:4; stroke-opacity:1; fill:none\" points=\"\n",
       "  135.071,1236.83 161.683,1236.83 \n",
       "  \"/>\n",
       "<polyline clip-path=\"url(#clip580)\" style=\"stroke:#000000; stroke-width:4; stroke-opacity:1; fill:none\" points=\"\n",
       "  135.071,1027.95 161.683,1027.95 \n",
       "  \"/>\n",
       "<polyline clip-path=\"url(#clip580)\" style=\"stroke:#000000; stroke-width:4; stroke-opacity:1; fill:none\" points=\"\n",
       "  135.071,819.067 161.683,819.067 \n",
       "  \"/>\n",
       "<polyline clip-path=\"url(#clip580)\" style=\"stroke:#000000; stroke-width:4; stroke-opacity:1; fill:none\" points=\"\n",
       "  135.071,610.184 161.683,610.184 \n",
       "  \"/>\n",
       "<polyline clip-path=\"url(#clip580)\" style=\"stroke:#000000; stroke-width:4; stroke-opacity:1; fill:none\" points=\"\n",
       "  135.071,401.301 161.683,401.301 \n",
       "  \"/>\n",
       "<polyline clip-path=\"url(#clip580)\" style=\"stroke:#000000; stroke-width:4; stroke-opacity:1; fill:none\" points=\"\n",
       "  135.071,192.418 161.683,192.418 \n",
       "  \"/>\n",
       "<path clip-path=\"url(#clip580)\" d=\"M 0 0 M523.103 1523.51 Q519.77 1523.51 517.849 1525.29 Q515.951 1527.07 515.951 1530.2 Q515.951 1533.32 517.849 1535.11 Q519.77 1536.89 523.103 1536.89 Q526.437 1536.89 528.358 1535.11 Q530.279 1533.3 530.279 1530.2 Q530.279 1527.07 528.358 1525.29 Q526.46 1523.51 523.103 1523.51 M518.427 1521.52 Q515.418 1520.78 513.728 1518.72 Q512.062 1516.66 512.062 1513.69 Q512.062 1509.55 515.001 1507.14 Q517.964 1504.73 523.103 1504.73 Q528.265 1504.73 531.205 1507.14 Q534.145 1509.55 534.145 1513.69 Q534.145 1516.66 532.455 1518.72 Q530.788 1520.78 527.802 1521.52 Q531.182 1522.3 533.057 1524.6 Q534.955 1526.89 534.955 1530.2 Q534.955 1535.22 531.876 1537.91 Q528.821 1540.59 523.103 1540.59 Q517.386 1540.59 514.307 1537.91 Q511.251 1535.22 511.251 1530.2 Q511.251 1526.89 513.15 1524.6 Q515.048 1522.3 518.427 1521.52 M516.714 1514.13 Q516.714 1516.82 518.381 1518.32 Q520.071 1519.83 523.103 1519.83 Q526.113 1519.83 527.802 1518.32 Q529.515 1516.82 529.515 1514.13 Q529.515 1511.45 527.802 1509.94 Q526.113 1508.44 523.103 1508.44 Q520.071 1508.44 518.381 1509.94 Q516.714 1511.45 516.714 1514.13 Z\" fill=\"#000000\" fill-rule=\"evenodd\" fill-opacity=\"1\" /><path clip-path=\"url(#clip580)\" d=\"M 0 0 M914.97 1539.2 L914.97 1534.94 Q916.729 1535.78 918.534 1536.22 Q920.34 1536.66 922.076 1536.66 Q926.706 1536.66 929.136 1533.55 Q931.59 1530.43 931.937 1524.09 Q930.595 1526.08 928.534 1527.14 Q926.474 1528.21 923.974 1528.21 Q918.789 1528.21 915.757 1525.08 Q912.747 1521.93 912.747 1516.49 Q912.747 1511.17 915.896 1507.95 Q919.044 1504.73 924.275 1504.73 Q930.271 1504.73 933.419 1509.34 Q936.59 1513.92 936.59 1522.67 Q936.59 1530.85 932.701 1535.73 Q928.835 1540.59 922.284 1540.59 Q920.525 1540.59 918.72 1540.24 Q916.914 1539.9 914.97 1539.2 M924.275 1524.55 Q927.423 1524.55 929.252 1522.4 Q931.104 1520.24 931.104 1516.49 Q931.104 1512.77 929.252 1510.61 Q927.423 1508.44 924.275 1508.44 Q921.127 1508.44 919.275 1510.61 Q917.447 1512.77 917.447 1516.49 Q917.447 1520.24 919.275 1522.4 Q921.127 1524.55 924.275 1524.55 Z\" fill=\"#000000\" fill-rule=\"evenodd\" fill-opacity=\"1\" /><path clip-path=\"url(#clip580)\" d=\"M 0 0 M1303.11 1535.98 L1310.75 1535.98 L1310.75 1509.62 L1302.44 1511.29 L1302.44 1507.03 L1310.7 1505.36 L1315.38 1505.36 L1315.38 1535.98 L1323.02 1535.98 L1323.02 1539.92 L1303.11 1539.92 L1303.11 1535.98 Z\" fill=\"#000000\" fill-rule=\"evenodd\" fill-opacity=\"1\" /><path clip-path=\"url(#clip580)\" d=\"M 0 0 M1338.09 1508.44 Q1334.47 1508.44 1332.65 1512 Q1330.84 1515.55 1330.84 1522.67 Q1330.84 1529.78 1332.65 1533.35 Q1334.47 1536.89 1338.09 1536.89 Q1341.72 1536.89 1343.53 1533.35 Q1345.35 1529.78 1345.35 1522.67 Q1345.35 1515.55 1343.53 1512 Q1341.72 1508.44 1338.09 1508.44 M1338.09 1504.73 Q1343.9 1504.73 1346.95 1509.34 Q1350.03 1513.92 1350.03 1522.67 Q1350.03 1531.4 1346.95 1536.01 Q1343.9 1540.59 1338.09 1540.59 Q1332.28 1540.59 1329.2 1536.01 Q1326.14 1531.4 1326.14 1522.67 Q1326.14 1513.92 1329.2 1509.34 Q1332.28 1504.73 1338.09 1504.73 Z\" fill=\"#000000\" fill-rule=\"evenodd\" fill-opacity=\"1\" /><path clip-path=\"url(#clip580)\" d=\"M 0 0 M1705.29 1535.98 L1712.93 1535.98 L1712.93 1509.62 L1704.62 1511.29 L1704.62 1507.03 L1712.88 1505.36 L1717.56 1505.36 L1717.56 1535.98 L1725.2 1535.98 L1725.2 1539.92 L1705.29 1539.92 L1705.29 1535.98 Z\" fill=\"#000000\" fill-rule=\"evenodd\" fill-opacity=\"1\" /><path clip-path=\"url(#clip580)\" d=\"M 0 0 M1731.08 1535.98 L1738.71 1535.98 L1738.71 1509.62 L1730.4 1511.29 L1730.4 1507.03 L1738.67 1505.36 L1743.34 1505.36 L1743.34 1535.98 L1750.98 1535.98 L1750.98 1539.92 L1731.08 1539.92 L1731.08 1535.98 Z\" fill=\"#000000\" fill-rule=\"evenodd\" fill-opacity=\"1\" /><path clip-path=\"url(#clip580)\" d=\"M 0 0 M2107.04 1535.98 L2114.68 1535.98 L2114.68 1509.62 L2106.37 1511.29 L2106.37 1507.03 L2114.63 1505.36 L2119.31 1505.36 L2119.31 1535.98 L2126.95 1535.98 L2126.95 1539.92 L2107.04 1539.92 L2107.04 1535.98 Z\" fill=\"#000000\" fill-rule=\"evenodd\" fill-opacity=\"1\" /><path clip-path=\"url(#clip580)\" d=\"M 0 0 M2136.04 1535.98 L2152.36 1535.98 L2152.36 1539.92 L2130.42 1539.92 L2130.42 1535.98 Q2133.08 1533.23 2137.66 1528.6 Q2142.27 1523.95 2143.45 1522.61 Q2145.7 1520.08 2146.58 1518.35 Q2147.48 1516.59 2147.48 1514.9 Q2147.48 1512.14 2145.53 1510.41 Q2143.61 1508.67 2140.51 1508.67 Q2138.31 1508.67 2135.86 1509.43 Q2133.43 1510.2 2130.65 1511.75 L2130.65 1507.03 Q2133.47 1505.89 2135.93 1505.31 Q2138.38 1504.73 2140.42 1504.73 Q2145.79 1504.73 2148.98 1507.42 Q2152.18 1510.11 2152.18 1514.6 Q2152.18 1516.73 2151.37 1518.65 Q2150.58 1520.54 2148.47 1523.14 Q2147.9 1523.81 2144.79 1527.03 Q2141.69 1530.22 2136.04 1535.98 Z\" fill=\"#000000\" fill-rule=\"evenodd\" fill-opacity=\"1\" /><path clip-path=\"url(#clip580)\" d=\"M 0 0 M94.7512 1459.06 L111.071 1459.06 L111.071 1463 L89.1262 1463 L89.1262 1459.06 Q91.7883 1456.31 96.3716 1451.68 Q100.978 1447.02 102.159 1445.68 Q104.404 1443.16 105.284 1441.42 Q106.186 1439.66 106.186 1437.97 Q106.186 1435.22 104.242 1433.48 Q102.321 1431.75 99.2188 1431.75 Q97.0197 1431.75 94.566 1432.51 Q92.1355 1433.27 89.3577 1434.82 L89.3577 1430.1 Q92.1818 1428.97 94.6355 1428.39 Q97.0892 1427.81 99.1262 1427.81 Q104.497 1427.81 107.691 1430.5 Q110.885 1433.18 110.885 1437.67 Q110.885 1439.8 110.075 1441.72 Q109.288 1443.62 107.182 1446.21 Q106.603 1446.88 103.501 1450.1 Q100.399 1453.3 94.7512 1459.06 Z\" fill=\"#000000\" fill-rule=\"evenodd\" fill-opacity=\"1\" /><path clip-path=\"url(#clip580)\" d=\"M 0 0 M101.487 1223.63 L89.6818 1242.08 L101.487 1242.08 L101.487 1223.63 M100.26 1219.55 L106.14 1219.55 L106.14 1242.08 L111.071 1242.08 L111.071 1245.96 L106.14 1245.96 L106.14 1254.11 L101.487 1254.11 L101.487 1245.96 L85.8855 1245.96 L85.8855 1241.45 L100.26 1219.55 Z\" fill=\"#000000\" fill-rule=\"evenodd\" fill-opacity=\"1\" /><path clip-path=\"url(#clip580)\" d=\"M 0 0 M99.5429 1026.09 Q96.3947 1026.09 94.5429 1028.24 Q92.7142 1030.39 92.7142 1034.14 Q92.7142 1037.87 94.5429 1040.04 Q96.3947 1042.2 99.5429 1042.2 Q102.691 1042.2 104.52 1040.04 Q106.372 1037.87 106.372 1034.14 Q106.372 1030.39 104.52 1028.24 Q102.691 1026.09 99.5429 1026.09 M108.825 1011.43 L108.825 1015.69 Q107.066 1014.86 105.26 1014.42 Q103.478 1013.98 101.719 1013.98 Q97.0892 1013.98 94.6355 1017.1 Q92.2049 1020.23 91.8577 1026.55 Q93.2234 1024.54 95.2836 1023.47 Q97.3438 1022.38 99.8206 1022.38 Q105.029 1022.38 108.038 1025.55 Q111.071 1028.7 111.071 1034.14 Q111.071 1039.47 107.922 1042.68 Q104.774 1045.9 99.5429 1045.9 Q93.5475 1045.9 90.3762 1041.32 Q87.205 1036.71 87.205 1027.98 Q87.205 1019.79 91.0938 1014.93 Q94.9827 1010.04 101.534 1010.04 Q103.293 1010.04 105.075 1010.39 Q106.881 1010.74 108.825 1011.43 Z\" fill=\"#000000\" fill-rule=\"evenodd\" fill-opacity=\"1\" /><path clip-path=\"url(#clip580)\" d=\"M 0 0 M99.2188 819.935 Q95.8855 819.935 93.9642 821.717 Q92.066 823.5 92.066 826.625 Q92.066 829.75 93.9642 831.532 Q95.8855 833.314 99.2188 833.314 Q102.552 833.314 104.473 831.532 Q106.395 829.726 106.395 826.625 Q106.395 823.5 104.473 821.717 Q102.575 819.935 99.2188 819.935 M94.5429 817.944 Q91.5336 817.203 89.8438 815.143 Q88.1772 813.083 88.1772 810.12 Q88.1772 805.977 91.117 803.569 Q94.0799 801.162 99.2188 801.162 Q104.381 801.162 107.321 803.569 Q110.26 805.977 110.26 810.12 Q110.26 813.083 108.571 815.143 Q106.904 817.203 103.918 817.944 Q107.297 818.731 109.172 821.023 Q111.071 823.314 111.071 826.625 Q111.071 831.648 107.992 834.333 Q104.936 837.018 99.2188 837.018 Q93.5012 837.018 90.4225 834.333 Q87.367 831.648 87.367 826.625 Q87.367 823.314 89.2651 821.023 Q91.1633 818.731 94.5429 817.944 M92.8299 810.56 Q92.8299 813.245 94.4966 814.75 Q96.1864 816.254 99.2188 816.254 Q102.228 816.254 103.918 814.75 Q105.631 813.245 105.631 810.56 Q105.631 807.875 103.918 806.37 Q102.228 804.865 99.2188 804.865 Q96.1864 804.865 94.4966 806.37 Q92.8299 807.875 92.8299 810.56 Z\" fill=\"#000000\" fill-rule=\"evenodd\" fill-opacity=\"1\" /><path clip-path=\"url(#clip580)\" d=\"M 0 0 M64.1495 623.529 L71.7884 623.529 L71.7884 597.163 L63.4782 598.83 L63.4782 594.57 L71.7421 592.904 L76.418 592.904 L76.418 623.529 L84.0568 623.529 L84.0568 627.464 L64.1495 627.464 L64.1495 623.529 Z\" fill=\"#000000\" fill-rule=\"evenodd\" fill-opacity=\"1\" /><path clip-path=\"url(#clip580)\" d=\"M 0 0 M99.1262 595.982 Q95.5151 595.982 93.6864 599.547 Q91.8809 603.089 91.8809 610.218 Q91.8809 617.325 93.6864 620.89 Q95.5151 624.431 99.1262 624.431 Q102.76 624.431 104.566 620.89 Q106.395 617.325 106.395 610.218 Q106.395 603.089 104.566 599.547 Q102.76 595.982 99.1262 595.982 M99.1262 592.279 Q104.936 592.279 107.992 596.885 Q111.071 601.469 111.071 610.218 Q111.071 618.945 107.992 623.552 Q104.936 628.135 99.1262 628.135 Q93.316 628.135 90.2374 623.552 Q87.1818 618.945 87.1818 610.218 Q87.1818 601.469 90.2374 596.885 Q93.316 592.279 99.1262 592.279 Z\" fill=\"#000000\" fill-rule=\"evenodd\" fill-opacity=\"1\" /><path clip-path=\"url(#clip580)\" d=\"M 0 0 M65.7467 414.646 L73.3856 414.646 L73.3856 388.28 L65.0754 389.947 L65.0754 385.687 L73.3393 384.021 L78.0152 384.021 L78.0152 414.646 L85.654 414.646 L85.654 418.581 L65.7467 418.581 L65.7467 414.646 Z\" fill=\"#000000\" fill-rule=\"evenodd\" fill-opacity=\"1\" /><path clip-path=\"url(#clip580)\" d=\"M 0 0 M94.7512 414.646 L111.071 414.646 L111.071 418.581 L89.1262 418.581 L89.1262 414.646 Q91.7883 411.891 96.3716 407.261 Q100.978 402.609 102.159 401.266 Q104.404 398.743 105.284 397.007 Q106.186 395.248 106.186 393.558 Q106.186 390.803 104.242 389.067 Q102.321 387.331 99.2188 387.331 Q97.0197 387.331 94.566 388.095 Q92.1355 388.859 89.3577 390.41 L89.3577 385.687 Q92.1818 384.553 94.6355 383.974 Q97.0892 383.396 99.1262 383.396 Q104.497 383.396 107.691 386.081 Q110.885 388.766 110.885 393.257 Q110.885 395.386 110.075 397.308 Q109.288 399.206 107.182 401.798 Q106.603 402.47 103.501 405.687 Q100.399 408.882 94.7512 414.646 Z\" fill=\"#000000\" fill-rule=\"evenodd\" fill-opacity=\"1\" /><path clip-path=\"url(#clip580)\" d=\"M 0 0 M63.6634 205.763 L71.3023 205.763 L71.3023 179.397 L62.9921 181.064 L62.9921 176.804 L71.256 175.138 L75.9319 175.138 L75.9319 205.763 L83.5707 205.763 L83.5707 209.698 L63.6634 209.698 L63.6634 205.763 Z\" fill=\"#000000\" fill-rule=\"evenodd\" fill-opacity=\"1\" /><path clip-path=\"url(#clip580)\" d=\"M 0 0 M101.487 179.212 L89.6818 197.661 L101.487 197.661 L101.487 179.212 M100.26 175.138 L106.14 175.138 L106.14 197.661 L111.071 197.661 L111.071 201.55 L106.14 201.55 L106.14 209.698 L101.487 209.698 L101.487 201.55 L85.8855 201.55 L85.8855 197.036 L100.26 175.138 Z\" fill=\"#000000\" fill-rule=\"evenodd\" fill-opacity=\"1\" /><circle clip-path=\"url(#clip582)\" cx=\"647.589\" cy=\"1027.95\" r=\"14\" fill=\"#009af9\" fill-rule=\"evenodd\" fill-opacity=\"1\" stroke=\"#000000\" stroke-opacity=\"1\" stroke-width=\"3.2\"/>\n",
       "<circle clip-path=\"url(#clip582)\" cx=\"1101.36\" cy=\"1027.95\" r=\"14\" fill=\"#009af9\" fill-rule=\"evenodd\" fill-opacity=\"1\" stroke=\"#000000\" stroke-opacity=\"1\" stroke-width=\"3.2\"/>\n",
       "<circle clip-path=\"url(#clip582)\" cx=\"1125.45\" cy=\"1027.95\" r=\"14\" fill=\"#009af9\" fill-rule=\"evenodd\" fill-opacity=\"1\" stroke=\"#000000\" stroke-opacity=\"1\" stroke-width=\"3.2\"/>\n",
       "<circle clip-path=\"url(#clip582)\" cx=\"952.778\" cy=\"401.301\" r=\"14\" fill=\"#009af9\" fill-rule=\"evenodd\" fill-opacity=\"1\" stroke=\"#000000\" stroke-opacity=\"1\" stroke-width=\"3.2\"/>\n",
       "<circle clip-path=\"url(#clip582)\" cx=\"1390.48\" cy=\"610.184\" r=\"14\" fill=\"#009af9\" fill-rule=\"evenodd\" fill-opacity=\"1\" stroke=\"#000000\" stroke-opacity=\"1\" stroke-width=\"3.2\"/>\n",
       "<circle clip-path=\"url(#clip582)\" cx=\"651.604\" cy=\"1236.83\" r=\"14\" fill=\"#009af9\" fill-rule=\"evenodd\" fill-opacity=\"1\" stroke=\"#000000\" stroke-opacity=\"1\" stroke-width=\"3.2\"/>\n",
       "<circle clip-path=\"url(#clip582)\" cx=\"1571.19\" cy=\"714.625\" r=\"14\" fill=\"#009af9\" fill-rule=\"evenodd\" fill-opacity=\"1\" stroke=\"#000000\" stroke-opacity=\"1\" stroke-width=\"3.2\"/>\n",
       "<circle clip-path=\"url(#clip582)\" cx=\"1350.33\" cy=\"714.625\" r=\"14\" fill=\"#009af9\" fill-rule=\"evenodd\" fill-opacity=\"1\" stroke=\"#000000\" stroke-opacity=\"1\" stroke-width=\"3.2\"/>\n",
       "<circle clip-path=\"url(#clip582)\" cx=\"1298.12\" cy=\"714.625\" r=\"14\" fill=\"#009af9\" fill-rule=\"evenodd\" fill-opacity=\"1\" stroke=\"#000000\" stroke-opacity=\"1\" stroke-width=\"3.2\"/>\n",
       "<circle clip-path=\"url(#clip582)\" cx=\"1498.91\" cy=\"505.742\" r=\"14\" fill=\"#009af9\" fill-rule=\"evenodd\" fill-opacity=\"1\" stroke=\"#000000\" stroke-opacity=\"1\" stroke-width=\"3.2\"/>\n",
       "<circle clip-path=\"url(#clip582)\" cx=\"1470.8\" cy=\"1027.95\" r=\"14\" fill=\"#009af9\" fill-rule=\"evenodd\" fill-opacity=\"1\" stroke=\"#000000\" stroke-opacity=\"1\" stroke-width=\"3.2\"/>\n",
       "<circle clip-path=\"url(#clip582)\" cx=\"1386.47\" cy=\"610.184\" r=\"14\" fill=\"#009af9\" fill-rule=\"evenodd\" fill-opacity=\"1\" stroke=\"#000000\" stroke-opacity=\"1\" stroke-width=\"3.2\"/>\n",
       "<circle clip-path=\"url(#clip582)\" cx=\"1695.67\" cy=\"1027.95\" r=\"14\" fill=\"#009af9\" fill-rule=\"evenodd\" fill-opacity=\"1\" stroke=\"#000000\" stroke-opacity=\"1\" stroke-width=\"3.2\"/>\n",
       "<circle clip-path=\"url(#clip582)\" cx=\"864.434\" cy=\"610.184\" r=\"14\" fill=\"#009af9\" fill-rule=\"evenodd\" fill-opacity=\"1\" stroke=\"#000000\" stroke-opacity=\"1\" stroke-width=\"3.2\"/>\n",
       "<circle clip-path=\"url(#clip582)\" cx=\"1093.33\" cy=\"505.742\" r=\"14\" fill=\"#009af9\" fill-rule=\"evenodd\" fill-opacity=\"1\" stroke=\"#000000\" stroke-opacity=\"1\" stroke-width=\"3.2\"/>\n",
       "<circle clip-path=\"url(#clip582)\" cx=\"1771.97\" cy=\"819.067\" r=\"14\" fill=\"#009af9\" fill-rule=\"evenodd\" fill-opacity=\"1\" stroke=\"#000000\" stroke-opacity=\"1\" stroke-width=\"3.2\"/>\n",
       "<circle clip-path=\"url(#clip582)\" cx=\"531.135\" cy=\"1341.27\" r=\"14\" fill=\"#009af9\" fill-rule=\"evenodd\" fill-opacity=\"1\" stroke=\"#000000\" stroke-opacity=\"1\" stroke-width=\"3.2\"/>\n",
       "<circle clip-path=\"url(#clip582)\" cx=\"2101.26\" cy=\"819.067\" r=\"14\" fill=\"#009af9\" fill-rule=\"evenodd\" fill-opacity=\"1\" stroke=\"#000000\" stroke-opacity=\"1\" stroke-width=\"3.2\"/>\n",
       "<circle clip-path=\"url(#clip582)\" cx=\"743.964\" cy=\"1132.39\" r=\"14\" fill=\"#009af9\" fill-rule=\"evenodd\" fill-opacity=\"1\" stroke=\"#000000\" stroke-opacity=\"1\" stroke-width=\"3.2\"/>\n",
       "<circle clip-path=\"url(#clip582)\" cx=\"197.835\" cy=\"1132.39\" r=\"14\" fill=\"#009af9\" fill-rule=\"evenodd\" fill-opacity=\"1\" stroke=\"#000000\" stroke-opacity=\"1\" stroke-width=\"3.2\"/>\n",
       "<circle clip-path=\"url(#clip582)\" cx=\"1257.97\" cy=\"1236.83\" r=\"14\" fill=\"#009af9\" fill-rule=\"evenodd\" fill-opacity=\"1\" stroke=\"#000000\" stroke-opacity=\"1\" stroke-width=\"3.2\"/>\n",
       "<circle clip-path=\"url(#clip582)\" cx=\"1643.47\" cy=\"505.742\" r=\"14\" fill=\"#009af9\" fill-rule=\"evenodd\" fill-opacity=\"1\" stroke=\"#000000\" stroke-opacity=\"1\" stroke-width=\"3.2\"/>\n",
       "<circle clip-path=\"url(#clip582)\" cx=\"880.497\" cy=\"1132.39\" r=\"14\" fill=\"#009af9\" fill-rule=\"evenodd\" fill-opacity=\"1\" stroke=\"#000000\" stroke-opacity=\"1\" stroke-width=\"3.2\"/>\n",
       "<circle clip-path=\"url(#clip582)\" cx=\"1362.38\" cy=\"610.184\" r=\"14\" fill=\"#009af9\" fill-rule=\"evenodd\" fill-opacity=\"1\" stroke=\"#000000\" stroke-opacity=\"1\" stroke-width=\"3.2\"/>\n",
       "<circle clip-path=\"url(#clip582)\" cx=\"1980.79\" cy=\"1027.95\" r=\"14\" fill=\"#009af9\" fill-rule=\"evenodd\" fill-opacity=\"1\" stroke=\"#000000\" stroke-opacity=\"1\" stroke-width=\"3.2\"/>\n",
       "<circle clip-path=\"url(#clip582)\" cx=\"1410.56\" cy=\"1027.95\" r=\"14\" fill=\"#009af9\" fill-rule=\"evenodd\" fill-opacity=\"1\" stroke=\"#000000\" stroke-opacity=\"1\" stroke-width=\"3.2\"/>\n",
       "<circle clip-path=\"url(#clip582)\" cx=\"1105.37\" cy=\"923.508\" r=\"14\" fill=\"#009af9\" fill-rule=\"evenodd\" fill-opacity=\"1\" stroke=\"#000000\" stroke-opacity=\"1\" stroke-width=\"3.2\"/>\n",
       "<circle clip-path=\"url(#clip582)\" cx=\"1502.92\" cy=\"714.625\" r=\"14\" fill=\"#009af9\" fill-rule=\"evenodd\" fill-opacity=\"1\" stroke=\"#000000\" stroke-opacity=\"1\" stroke-width=\"3.2\"/>\n",
       "<circle clip-path=\"url(#clip582)\" cx=\"1101.36\" cy=\"1341.27\" r=\"14\" fill=\"#009af9\" fill-rule=\"evenodd\" fill-opacity=\"1\" stroke=\"#000000\" stroke-opacity=\"1\" stroke-width=\"3.2\"/>\n",
       "<circle clip-path=\"url(#clip582)\" cx=\"1518.99\" cy=\"610.184\" r=\"14\" fill=\"#009af9\" fill-rule=\"evenodd\" fill-opacity=\"1\" stroke=\"#000000\" stroke-opacity=\"1\" stroke-width=\"3.2\"/>\n",
       "<circle clip-path=\"url(#clip582)\" cx=\"1097.34\" cy=\"1445.72\" r=\"14\" fill=\"#009af9\" fill-rule=\"evenodd\" fill-opacity=\"1\" stroke=\"#000000\" stroke-opacity=\"1\" stroke-width=\"3.2\"/>\n",
       "<circle clip-path=\"url(#clip582)\" cx=\"1454.74\" cy=\"714.625\" r=\"14\" fill=\"#009af9\" fill-rule=\"evenodd\" fill-opacity=\"1\" stroke=\"#000000\" stroke-opacity=\"1\" stroke-width=\"3.2\"/>\n",
       "<circle clip-path=\"url(#clip582)\" cx=\"1458.75\" cy=\"610.184\" r=\"14\" fill=\"#009af9\" fill-rule=\"evenodd\" fill-opacity=\"1\" stroke=\"#000000\" stroke-opacity=\"1\" stroke-width=\"3.2\"/>\n",
       "<circle clip-path=\"url(#clip582)\" cx=\"723.886\" cy=\"1132.39\" r=\"14\" fill=\"#009af9\" fill-rule=\"evenodd\" fill-opacity=\"1\" stroke=\"#000000\" stroke-opacity=\"1\" stroke-width=\"3.2\"/>\n",
       "<circle clip-path=\"url(#clip582)\" cx=\"1089.31\" cy=\"505.742\" r=\"14\" fill=\"#009af9\" fill-rule=\"evenodd\" fill-opacity=\"1\" stroke=\"#000000\" stroke-opacity=\"1\" stroke-width=\"3.2\"/>\n",
       "<circle clip-path=\"url(#clip582)\" cx=\"908.606\" cy=\"610.184\" r=\"14\" fill=\"#009af9\" fill-rule=\"evenodd\" fill-opacity=\"1\" stroke=\"#000000\" stroke-opacity=\"1\" stroke-width=\"3.2\"/>\n",
       "<circle clip-path=\"url(#clip582)\" cx=\"1193.72\" cy=\"1236.83\" r=\"14\" fill=\"#009af9\" fill-rule=\"evenodd\" fill-opacity=\"1\" stroke=\"#000000\" stroke-opacity=\"1\" stroke-width=\"3.2\"/>\n",
       "<circle clip-path=\"url(#clip582)\" cx=\"1430.64\" cy=\"819.067\" r=\"14\" fill=\"#009af9\" fill-rule=\"evenodd\" fill-opacity=\"1\" stroke=\"#000000\" stroke-opacity=\"1\" stroke-width=\"3.2\"/>\n",
       "<circle clip-path=\"url(#clip582)\" cx=\"1470.8\" cy=\"714.625\" r=\"14\" fill=\"#009af9\" fill-rule=\"evenodd\" fill-opacity=\"1\" stroke=\"#000000\" stroke-opacity=\"1\" stroke-width=\"3.2\"/>\n",
       "<circle clip-path=\"url(#clip582)\" cx=\"2049.05\" cy=\"401.301\" r=\"14\" fill=\"#009af9\" fill-rule=\"evenodd\" fill-opacity=\"1\" stroke=\"#000000\" stroke-opacity=\"1\" stroke-width=\"3.2\"/>\n",
       "<circle clip-path=\"url(#clip582)\" cx=\"1703.71\" cy=\"819.067\" r=\"14\" fill=\"#009af9\" fill-rule=\"evenodd\" fill-opacity=\"1\" stroke=\"#000000\" stroke-opacity=\"1\" stroke-width=\"3.2\"/>\n",
       "<circle clip-path=\"url(#clip582)\" cx=\"1426.63\" cy=\"714.625\" r=\"14\" fill=\"#009af9\" fill-rule=\"evenodd\" fill-opacity=\"1\" stroke=\"#000000\" stroke-opacity=\"1\" stroke-width=\"3.2\"/>\n",
       "<circle clip-path=\"url(#clip582)\" cx=\"820.262\" cy=\"819.067\" r=\"14\" fill=\"#009af9\" fill-rule=\"evenodd\" fill-opacity=\"1\" stroke=\"#000000\" stroke-opacity=\"1\" stroke-width=\"3.2\"/>\n",
       "<circle clip-path=\"url(#clip582)\" cx=\"1510.95\" cy=\"1027.95\" r=\"14\" fill=\"#009af9\" fill-rule=\"evenodd\" fill-opacity=\"1\" stroke=\"#000000\" stroke-opacity=\"1\" stroke-width=\"3.2\"/>\n",
       "<circle clip-path=\"url(#clip582)\" cx=\"1073.25\" cy=\"1027.95\" r=\"14\" fill=\"#009af9\" fill-rule=\"evenodd\" fill-opacity=\"1\" stroke=\"#000000\" stroke-opacity=\"1\" stroke-width=\"3.2\"/>\n",
       "<circle clip-path=\"url(#clip582)\" cx=\"1221.83\" cy=\"610.184\" r=\"14\" fill=\"#009af9\" fill-rule=\"evenodd\" fill-opacity=\"1\" stroke=\"#000000\" stroke-opacity=\"1\" stroke-width=\"3.2\"/>\n",
       "<circle clip-path=\"url(#clip582)\" cx=\"904.59\" cy=\"610.184\" r=\"14\" fill=\"#009af9\" fill-rule=\"evenodd\" fill-opacity=\"1\" stroke=\"#000000\" stroke-opacity=\"1\" stroke-width=\"3.2\"/>\n",
       "<circle clip-path=\"url(#clip582)\" cx=\"820.262\" cy=\"714.625\" r=\"14\" fill=\"#009af9\" fill-rule=\"evenodd\" fill-opacity=\"1\" stroke=\"#000000\" stroke-opacity=\"1\" stroke-width=\"3.2\"/>\n",
       "<circle clip-path=\"url(#clip582)\" cx=\"1856.3\" cy=\"401.301\" r=\"14\" fill=\"#009af9\" fill-rule=\"evenodd\" fill-opacity=\"1\" stroke=\"#000000\" stroke-opacity=\"1\" stroke-width=\"3.2\"/>\n",
       "<circle clip-path=\"url(#clip582)\" cx=\"1025.06\" cy=\"1027.95\" r=\"14\" fill=\"#009af9\" fill-rule=\"evenodd\" fill-opacity=\"1\" stroke=\"#000000\" stroke-opacity=\"1\" stroke-width=\"3.2\"/>\n",
       "<circle clip-path=\"url(#clip582)\" cx=\"1382.45\" cy=\"192.418\" r=\"14\" fill=\"#e26f46\" fill-rule=\"evenodd\" fill-opacity=\"1\" stroke=\"#000000\" stroke-opacity=\"1\" stroke-width=\"3.2\"/>\n",
       "<circle clip-path=\"url(#clip582)\" cx=\"944.747\" cy=\"1027.95\" r=\"14\" fill=\"#e26f46\" fill-rule=\"evenodd\" fill-opacity=\"1\" stroke=\"#000000\" stroke-opacity=\"1\" stroke-width=\"3.2\"/>\n",
       "<circle clip-path=\"url(#clip582)\" cx=\"1282.06\" cy=\"923.508\" r=\"14\" fill=\"#e26f46\" fill-rule=\"evenodd\" fill-opacity=\"1\" stroke=\"#000000\" stroke-opacity=\"1\" stroke-width=\"3.2\"/>\n",
       "<circle clip-path=\"url(#clip582)\" cx=\"828.293\" cy=\"714.625\" r=\"14\" fill=\"#e26f46\" fill-rule=\"evenodd\" fill-opacity=\"1\" stroke=\"#000000\" stroke-opacity=\"1\" stroke-width=\"3.2\"/>\n",
       "<circle clip-path=\"url(#clip582)\" cx=\"2145.43\" cy=\"1027.95\" r=\"14\" fill=\"#e26f46\" fill-rule=\"evenodd\" fill-opacity=\"1\" stroke=\"#000000\" stroke-opacity=\"1\" stroke-width=\"3.2\"/>\n",
       "<circle clip-path=\"url(#clip582)\" cx=\"1290.09\" cy=\"923.508\" r=\"14\" fill=\"#e26f46\" fill-rule=\"evenodd\" fill-opacity=\"1\" stroke=\"#000000\" stroke-opacity=\"1\" stroke-width=\"3.2\"/>\n",
       "<circle clip-path=\"url(#clip582)\" cx=\"1261.98\" cy=\"714.625\" r=\"14\" fill=\"#e26f46\" fill-rule=\"evenodd\" fill-opacity=\"1\" stroke=\"#000000\" stroke-opacity=\"1\" stroke-width=\"3.2\"/>\n",
       "<circle clip-path=\"url(#clip582)\" cx=\"2077.16\" cy=\"296.859\" r=\"14\" fill=\"#e26f46\" fill-rule=\"evenodd\" fill-opacity=\"1\" stroke=\"#000000\" stroke-opacity=\"1\" stroke-width=\"3.2\"/>\n",
       "<circle clip-path=\"url(#clip582)\" cx=\"1390.48\" cy=\"714.625\" r=\"14\" fill=\"#e26f46\" fill-rule=\"evenodd\" fill-opacity=\"1\" stroke=\"#000000\" stroke-opacity=\"1\" stroke-width=\"3.2\"/>\n",
       "<circle clip-path=\"url(#clip582)\" cx=\"1061.2\" cy=\"296.859\" r=\"14\" fill=\"#e26f46\" fill-rule=\"evenodd\" fill-opacity=\"1\" stroke=\"#000000\" stroke-opacity=\"1\" stroke-width=\"3.2\"/>\n",
       "<circle clip-path=\"url(#clip582)\" cx=\"1394.5\" cy=\"923.508\" r=\"14\" fill=\"#e26f46\" fill-rule=\"evenodd\" fill-opacity=\"1\" stroke=\"#000000\" stroke-opacity=\"1\" stroke-width=\"3.2\"/>\n",
       "<circle clip-path=\"url(#clip582)\" cx=\"1723.78\" cy=\"819.067\" r=\"14\" fill=\"#e26f46\" fill-rule=\"evenodd\" fill-opacity=\"1\" stroke=\"#000000\" stroke-opacity=\"1\" stroke-width=\"3.2\"/>\n",
       "<circle clip-path=\"url(#clip582)\" cx=\"1000.97\" cy=\"610.184\" r=\"14\" fill=\"#e26f46\" fill-rule=\"evenodd\" fill-opacity=\"1\" stroke=\"#000000\" stroke-opacity=\"1\" stroke-width=\"3.2\"/>\n",
       "<circle clip-path=\"url(#clip582)\" cx=\"1595.28\" cy=\"923.508\" r=\"14\" fill=\"#e26f46\" fill-rule=\"evenodd\" fill-opacity=\"1\" stroke=\"#000000\" stroke-opacity=\"1\" stroke-width=\"3.2\"/>\n",
       "<circle clip-path=\"url(#clip582)\" cx=\"1711.74\" cy=\"401.301\" r=\"14\" fill=\"#e26f46\" fill-rule=\"evenodd\" fill-opacity=\"1\" stroke=\"#000000\" stroke-opacity=\"1\" stroke-width=\"3.2\"/>\n",
       "<circle clip-path=\"url(#clip582)\" cx=\"1547.1\" cy=\"1027.95\" r=\"14\" fill=\"#e26f46\" fill-rule=\"evenodd\" fill-opacity=\"1\" stroke=\"#000000\" stroke-opacity=\"1\" stroke-width=\"3.2\"/>\n",
       "<circle clip-path=\"url(#clip582)\" cx=\"1201.75\" cy=\"87.9763\" r=\"14\" fill=\"#e26f46\" fill-rule=\"evenodd\" fill-opacity=\"1\" stroke=\"#000000\" stroke-opacity=\"1\" stroke-width=\"3.2\"/>\n",
       "<circle clip-path=\"url(#clip582)\" cx=\"1691.66\" cy=\"1341.27\" r=\"14\" fill=\"#e26f46\" fill-rule=\"evenodd\" fill-opacity=\"1\" stroke=\"#000000\" stroke-opacity=\"1\" stroke-width=\"3.2\"/>\n",
       "<circle clip-path=\"url(#clip582)\" cx=\"1165.61\" cy=\"1236.83\" r=\"14\" fill=\"#e26f46\" fill-rule=\"evenodd\" fill-opacity=\"1\" stroke=\"#000000\" stroke-opacity=\"1\" stroke-width=\"3.2\"/>\n",
       "<circle clip-path=\"url(#clip582)\" cx=\"2277.94\" cy=\"1027.95\" r=\"14\" fill=\"#e26f46\" fill-rule=\"evenodd\" fill-opacity=\"1\" stroke=\"#000000\" stroke-opacity=\"1\" stroke-width=\"3.2\"/>\n",
       "<circle clip-path=\"url(#clip582)\" cx=\"1543.08\" cy=\"610.184\" r=\"14\" fill=\"#e26f46\" fill-rule=\"evenodd\" fill-opacity=\"1\" stroke=\"#000000\" stroke-opacity=\"1\" stroke-width=\"3.2\"/>\n",
       "<circle clip-path=\"url(#clip582)\" cx=\"1848.27\" cy=\"819.067\" r=\"14\" fill=\"#e26f46\" fill-rule=\"evenodd\" fill-opacity=\"1\" stroke=\"#000000\" stroke-opacity=\"1\" stroke-width=\"3.2\"/>\n",
       "<circle clip-path=\"url(#clip582)\" cx=\"2289.99\" cy=\"819.067\" r=\"14\" fill=\"#e26f46\" fill-rule=\"evenodd\" fill-opacity=\"1\" stroke=\"#000000\" stroke-opacity=\"1\" stroke-width=\"3.2\"/>\n",
       "<circle clip-path=\"url(#clip582)\" cx=\"1398.52\" cy=\"923.508\" r=\"14\" fill=\"#e26f46\" fill-rule=\"evenodd\" fill-opacity=\"1\" stroke=\"#000000\" stroke-opacity=\"1\" stroke-width=\"3.2\"/>\n",
       "<circle clip-path=\"url(#clip582)\" cx=\"1137.5\" cy=\"1132.39\" r=\"14\" fill=\"#e26f46\" fill-rule=\"evenodd\" fill-opacity=\"1\" stroke=\"#000000\" stroke-opacity=\"1\" stroke-width=\"3.2\"/>\n",
       "<circle clip-path=\"url(#clip582)\" cx=\"1422.61\" cy=\"1027.95\" r=\"14\" fill=\"#e26f46\" fill-rule=\"evenodd\" fill-opacity=\"1\" stroke=\"#000000\" stroke-opacity=\"1\" stroke-width=\"3.2\"/>\n",
       "<circle clip-path=\"url(#clip582)\" cx=\"2032.99\" cy=\"819.067\" r=\"14\" fill=\"#e26f46\" fill-rule=\"evenodd\" fill-opacity=\"1\" stroke=\"#000000\" stroke-opacity=\"1\" stroke-width=\"3.2\"/>\n",
       "<circle clip-path=\"url(#clip582)\" cx=\"1133.48\" cy=\"714.625\" r=\"14\" fill=\"#e26f46\" fill-rule=\"evenodd\" fill-opacity=\"1\" stroke=\"#000000\" stroke-opacity=\"1\" stroke-width=\"3.2\"/>\n",
       "<circle clip-path=\"url(#clip582)\" cx=\"1486.86\" cy=\"714.625\" r=\"14\" fill=\"#e26f46\" fill-rule=\"evenodd\" fill-opacity=\"1\" stroke=\"#000000\" stroke-opacity=\"1\" stroke-width=\"3.2\"/>\n",
       "<circle clip-path=\"url(#clip582)\" cx=\"1310.17\" cy=\"1027.95\" r=\"14\" fill=\"#e26f46\" fill-rule=\"evenodd\" fill-opacity=\"1\" stroke=\"#000000\" stroke-opacity=\"1\" stroke-width=\"3.2\"/>\n",
       "<circle clip-path=\"url(#clip582)\" cx=\"1446.7\" cy=\"923.508\" r=\"14\" fill=\"#e26f46\" fill-rule=\"evenodd\" fill-opacity=\"1\" stroke=\"#000000\" stroke-opacity=\"1\" stroke-width=\"3.2\"/>\n",
       "<circle clip-path=\"url(#clip582)\" cx=\"1944.64\" cy=\"610.184\" r=\"14\" fill=\"#e26f46\" fill-rule=\"evenodd\" fill-opacity=\"1\" stroke=\"#000000\" stroke-opacity=\"1\" stroke-width=\"3.2\"/>\n",
       "<circle clip-path=\"url(#clip582)\" cx=\"1093.33\" cy=\"1027.95\" r=\"14\" fill=\"#e26f46\" fill-rule=\"evenodd\" fill-opacity=\"1\" stroke=\"#000000\" stroke-opacity=\"1\" stroke-width=\"3.2\"/>\n",
       "<circle clip-path=\"url(#clip582)\" cx=\"1840.24\" cy=\"505.742\" r=\"14\" fill=\"#e26f46\" fill-rule=\"evenodd\" fill-opacity=\"1\" stroke=\"#000000\" stroke-opacity=\"1\" stroke-width=\"3.2\"/>\n",
       "<circle clip-path=\"url(#clip582)\" cx=\"1217.81\" cy=\"505.742\" r=\"14\" fill=\"#e26f46\" fill-rule=\"evenodd\" fill-opacity=\"1\" stroke=\"#000000\" stroke-opacity=\"1\" stroke-width=\"3.2\"/>\n",
       "<circle clip-path=\"url(#clip582)\" cx=\"1639.46\" cy=\"505.742\" r=\"14\" fill=\"#e26f46\" fill-rule=\"evenodd\" fill-opacity=\"1\" stroke=\"#000000\" stroke-opacity=\"1\" stroke-width=\"3.2\"/>\n",
       "<circle clip-path=\"url(#clip582)\" cx=\"1410.56\" cy=\"1132.39\" r=\"14\" fill=\"#e26f46\" fill-rule=\"evenodd\" fill-opacity=\"1\" stroke=\"#000000\" stroke-opacity=\"1\" stroke-width=\"3.2\"/>\n",
       "<circle clip-path=\"url(#clip582)\" cx=\"1531.03\" cy=\"1027.95\" r=\"14\" fill=\"#e26f46\" fill-rule=\"evenodd\" fill-opacity=\"1\" stroke=\"#000000\" stroke-opacity=\"1\" stroke-width=\"3.2\"/>\n",
       "<circle clip-path=\"url(#clip582)\" cx=\"1619.38\" cy=\"1236.83\" r=\"14\" fill=\"#e26f46\" fill-rule=\"evenodd\" fill-opacity=\"1\" stroke=\"#000000\" stroke-opacity=\"1\" stroke-width=\"3.2\"/>\n",
       "<circle clip-path=\"url(#clip582)\" cx=\"864.434\" cy=\"1132.39\" r=\"14\" fill=\"#e26f46\" fill-rule=\"evenodd\" fill-opacity=\"1\" stroke=\"#000000\" stroke-opacity=\"1\" stroke-width=\"3.2\"/>\n",
       "<circle clip-path=\"url(#clip582)\" cx=\"1808.11\" cy=\"1027.95\" r=\"14\" fill=\"#e26f46\" fill-rule=\"evenodd\" fill-opacity=\"1\" stroke=\"#000000\" stroke-opacity=\"1\" stroke-width=\"3.2\"/>\n",
       "<circle clip-path=\"url(#clip582)\" cx=\"1270.01\" cy=\"1132.39\" r=\"14\" fill=\"#e26f46\" fill-rule=\"evenodd\" fill-opacity=\"1\" stroke=\"#000000\" stroke-opacity=\"1\" stroke-width=\"3.2\"/>\n",
       "<circle clip-path=\"url(#clip582)\" cx=\"1944.64\" cy=\"819.067\" r=\"14\" fill=\"#e26f46\" fill-rule=\"evenodd\" fill-opacity=\"1\" stroke=\"#000000\" stroke-opacity=\"1\" stroke-width=\"3.2\"/>\n",
       "<circle clip-path=\"url(#clip582)\" cx=\"1338.28\" cy=\"1132.39\" r=\"14\" fill=\"#e26f46\" fill-rule=\"evenodd\" fill-opacity=\"1\" stroke=\"#000000\" stroke-opacity=\"1\" stroke-width=\"3.2\"/>\n",
       "<circle clip-path=\"url(#clip582)\" cx=\"2081.18\" cy=\"714.625\" r=\"14\" fill=\"#e26f46\" fill-rule=\"evenodd\" fill-opacity=\"1\" stroke=\"#000000\" stroke-opacity=\"1\" stroke-width=\"3.2\"/>\n",
       "<circle clip-path=\"url(#clip582)\" cx=\"984.904\" cy=\"819.067\" r=\"14\" fill=\"#e26f46\" fill-rule=\"evenodd\" fill-opacity=\"1\" stroke=\"#000000\" stroke-opacity=\"1\" stroke-width=\"3.2\"/>\n",
       "<circle clip-path=\"url(#clip582)\" cx=\"731.917\" cy=\"1027.95\" r=\"14\" fill=\"#e26f46\" fill-rule=\"evenodd\" fill-opacity=\"1\" stroke=\"#000000\" stroke-opacity=\"1\" stroke-width=\"3.2\"/>\n",
       "<circle clip-path=\"url(#clip582)\" cx=\"1422.61\" cy=\"819.067\" r=\"14\" fill=\"#e26f46\" fill-rule=\"evenodd\" fill-opacity=\"1\" stroke=\"#000000\" stroke-opacity=\"1\" stroke-width=\"3.2\"/>\n",
       "<circle clip-path=\"url(#clip582)\" cx=\"1671.58\" cy=\"923.508\" r=\"14\" fill=\"#e26f46\" fill-rule=\"evenodd\" fill-opacity=\"1\" stroke=\"#000000\" stroke-opacity=\"1\" stroke-width=\"3.2\"/>\n",
       "<circle clip-path=\"url(#clip582)\" cx=\"1314.19\" cy=\"714.625\" r=\"14\" fill=\"#e26f46\" fill-rule=\"evenodd\" fill-opacity=\"1\" stroke=\"#000000\" stroke-opacity=\"1\" stroke-width=\"3.2\"/>\n",
       "<path clip-path=\"url(#clip580)\" d=\"\n",
       "M2011.52 312.204 L2280.76 312.204 L2280.76 130.764 L2011.52 130.764  Z\n",
       "  \" fill=\"#ffffff\" fill-rule=\"evenodd\" fill-opacity=\"1\"/>\n",
       "<polyline clip-path=\"url(#clip580)\" style=\"stroke:#000000; stroke-width:4; stroke-opacity:1; fill:none\" points=\"\n",
       "  2011.52,312.204 2280.76,312.204 2280.76,130.764 2011.52,130.764 2011.52,312.204 \n",
       "  \"/>\n",
       "<circle clip-path=\"url(#clip580)\" cx=\"2119.52\" cy=\"191.244\" r=\"23\" fill=\"#009af9\" fill-rule=\"evenodd\" fill-opacity=\"1\" stroke=\"#000000\" stroke-opacity=\"1\" stroke-width=\"5.12\"/>\n",
       "<path clip-path=\"url(#clip580)\" d=\"M 0 0 M2231.39 176.626 L2231.39 181.557 Q2229.03 179.358 2226.34 178.27 Q2223.68 177.182 2220.67 177.182 Q2214.75 177.182 2211.6 180.816 Q2208.45 184.427 2208.45 191.279 Q2208.45 198.107 2211.6 201.742 Q2214.75 205.353 2220.67 205.353 Q2223.68 205.353 2226.34 204.265 Q2229.03 203.177 2231.39 200.978 L2231.39 205.862 Q2228.94 207.529 2226.18 208.362 Q2223.45 209.195 2220.39 209.195 Q2212.55 209.195 2208.03 204.404 Q2203.52 199.589 2203.52 191.279 Q2203.52 182.946 2208.03 178.154 Q2212.55 173.339 2220.39 173.339 Q2223.5 173.339 2226.23 174.172 Q2228.98 174.983 2231.39 176.626 Z\" fill=\"#000000\" fill-rule=\"evenodd\" fill-opacity=\"1\" /><circle clip-path=\"url(#clip580)\" cx=\"2119.52\" cy=\"251.724\" r=\"23\" fill=\"#e26f46\" fill-rule=\"evenodd\" fill-opacity=\"1\" stroke=\"#000000\" stroke-opacity=\"1\" stroke-width=\"5.12\"/>\n",
       "<path clip-path=\"url(#clip580)\" d=\"M 0 0 M2203.52 234.444 L2232.76 234.444 L2232.76 238.379 L2220.49 238.379 L2220.49 269.004 L2215.79 269.004 L2215.79 238.379 L2203.52 238.379 L2203.52 234.444 Z\" fill=\"#000000\" fill-rule=\"evenodd\" fill-opacity=\"1\" /></svg>\n"
      ]
     },
     "execution_count": 110,
     "metadata": {},
     "output_type": "execute_result"
    }
   ],
   "source": [
    "scatter(df.x, df.y, group=df.f)"
   ]
  },
  {
   "cell_type": "markdown",
   "metadata": {},
   "source": [
    "箱ひげ図"
   ]
  },
  {
   "cell_type": "code",
   "execution_count": 111,
   "metadata": {},
   "outputs": [
    {
     "data": {
      "image/svg+xml": [
       "<?xml version=\"1.0\" encoding=\"utf-8\"?>\n",
       "<svg xmlns=\"http://www.w3.org/2000/svg\" xmlns:xlink=\"http://www.w3.org/1999/xlink\" width=\"600\" height=\"400\" viewBox=\"0 0 2400 1600\">\n",
       "<defs>\n",
       "  <clipPath id=\"clip620\">\n",
       "    <rect x=\"0\" y=\"0\" width=\"2400\" height=\"1600\"/>\n",
       "  </clipPath>\n",
       "</defs>\n",
       "<path clip-path=\"url(#clip620)\" d=\"\n",
       "M0 1600 L2400 1600 L2400 0 L0 0  Z\n",
       "  \" fill=\"#ffffff\" fill-rule=\"evenodd\" fill-opacity=\"1\"/>\n",
       "<defs>\n",
       "  <clipPath id=\"clip621\">\n",
       "    <rect x=\"480\" y=\"0\" width=\"1681\" height=\"1600\"/>\n",
       "  </clipPath>\n",
       "</defs>\n",
       "<path clip-path=\"url(#clip620)\" d=\"\n",
       "M135.071 1486.45 L2352.76 1486.45 L2352.76 47.2441 L135.071 47.2441  Z\n",
       "  \" fill=\"#ffffff\" fill-rule=\"evenodd\" fill-opacity=\"1\"/>\n",
       "<defs>\n",
       "  <clipPath id=\"clip622\">\n",
       "    <rect x=\"135\" y=\"47\" width=\"2219\" height=\"1440\"/>\n",
       "  </clipPath>\n",
       "</defs>\n",
       "<polyline clip-path=\"url(#clip622)\" style=\"stroke:#000000; stroke-width:2; stroke-opacity:0.1; fill:none\" points=\"\n",
       "  662.759,1486.45 662.759,47.2441 \n",
       "  \"/>\n",
       "<polyline clip-path=\"url(#clip622)\" style=\"stroke:#000000; stroke-width:2; stroke-opacity:0.1; fill:none\" points=\"\n",
       "  1825.07,1486.45 1825.07,47.2441 \n",
       "  \"/>\n",
       "<polyline clip-path=\"url(#clip622)\" style=\"stroke:#000000; stroke-width:2; stroke-opacity:0.1; fill:none\" points=\"\n",
       "  135.071,1445.72 2352.76,1445.72 \n",
       "  \"/>\n",
       "<polyline clip-path=\"url(#clip622)\" style=\"stroke:#000000; stroke-width:2; stroke-opacity:0.1; fill:none\" points=\"\n",
       "  135.071,1236.83 2352.76,1236.83 \n",
       "  \"/>\n",
       "<polyline clip-path=\"url(#clip622)\" style=\"stroke:#000000; stroke-width:2; stroke-opacity:0.1; fill:none\" points=\"\n",
       "  135.071,1027.95 2352.76,1027.95 \n",
       "  \"/>\n",
       "<polyline clip-path=\"url(#clip622)\" style=\"stroke:#000000; stroke-width:2; stroke-opacity:0.1; fill:none\" points=\"\n",
       "  135.071,819.067 2352.76,819.067 \n",
       "  \"/>\n",
       "<polyline clip-path=\"url(#clip622)\" style=\"stroke:#000000; stroke-width:2; stroke-opacity:0.1; fill:none\" points=\"\n",
       "  135.071,610.184 2352.76,610.184 \n",
       "  \"/>\n",
       "<polyline clip-path=\"url(#clip622)\" style=\"stroke:#000000; stroke-width:2; stroke-opacity:0.1; fill:none\" points=\"\n",
       "  135.071,401.301 2352.76,401.301 \n",
       "  \"/>\n",
       "<polyline clip-path=\"url(#clip622)\" style=\"stroke:#000000; stroke-width:2; stroke-opacity:0.1; fill:none\" points=\"\n",
       "  135.071,192.418 2352.76,192.418 \n",
       "  \"/>\n",
       "<polyline clip-path=\"url(#clip620)\" style=\"stroke:#000000; stroke-width:4; stroke-opacity:1; fill:none\" points=\"\n",
       "  135.071,1486.45 2352.76,1486.45 \n",
       "  \"/>\n",
       "<polyline clip-path=\"url(#clip620)\" style=\"stroke:#000000; stroke-width:4; stroke-opacity:1; fill:none\" points=\"\n",
       "  135.071,1486.45 135.071,47.2441 \n",
       "  \"/>\n",
       "<polyline clip-path=\"url(#clip620)\" style=\"stroke:#000000; stroke-width:4; stroke-opacity:1; fill:none\" points=\"\n",
       "  662.759,1486.45 662.759,1469.18 \n",
       "  \"/>\n",
       "<polyline clip-path=\"url(#clip620)\" style=\"stroke:#000000; stroke-width:4; stroke-opacity:1; fill:none\" points=\"\n",
       "  1825.07,1486.45 1825.07,1469.18 \n",
       "  \"/>\n",
       "<polyline clip-path=\"url(#clip620)\" style=\"stroke:#000000; stroke-width:4; stroke-opacity:1; fill:none\" points=\"\n",
       "  135.071,1445.72 161.683,1445.72 \n",
       "  \"/>\n",
       "<polyline clip-path=\"url(#clip620)\" style=\"stroke:#000000; stroke-width:4; stroke-opacity:1; fill:none\" points=\"\n",
       "  135.071,1236.83 161.683,1236.83 \n",
       "  \"/>\n",
       "<polyline clip-path=\"url(#clip620)\" style=\"stroke:#000000; stroke-width:4; stroke-opacity:1; fill:none\" points=\"\n",
       "  135.071,1027.95 161.683,1027.95 \n",
       "  \"/>\n",
       "<polyline clip-path=\"url(#clip620)\" style=\"stroke:#000000; stroke-width:4; stroke-opacity:1; fill:none\" points=\"\n",
       "  135.071,819.067 161.683,819.067 \n",
       "  \"/>\n",
       "<polyline clip-path=\"url(#clip620)\" style=\"stroke:#000000; stroke-width:4; stroke-opacity:1; fill:none\" points=\"\n",
       "  135.071,610.184 161.683,610.184 \n",
       "  \"/>\n",
       "<polyline clip-path=\"url(#clip620)\" style=\"stroke:#000000; stroke-width:4; stroke-opacity:1; fill:none\" points=\"\n",
       "  135.071,401.301 161.683,401.301 \n",
       "  \"/>\n",
       "<polyline clip-path=\"url(#clip620)\" style=\"stroke:#000000; stroke-width:4; stroke-opacity:1; fill:none\" points=\"\n",
       "  135.071,192.418 161.683,192.418 \n",
       "  \"/>\n",
       "<path clip-path=\"url(#clip620)\" d=\"M 0 0 M676.694 1508.02 L676.694 1512.95 Q674.333 1510.75 671.648 1509.67 Q668.986 1508.58 665.976 1508.58 Q660.05 1508.58 656.902 1512.21 Q653.754 1515.82 653.754 1522.67 Q653.754 1529.5 656.902 1533.14 Q660.05 1536.75 665.976 1536.75 Q668.986 1536.75 671.648 1535.66 Q674.333 1534.57 676.694 1532.37 L676.694 1537.26 Q674.24 1538.92 671.486 1539.76 Q668.754 1540.59 665.699 1540.59 Q657.851 1540.59 653.338 1535.8 Q648.824 1530.98 648.824 1522.67 Q648.824 1514.34 653.338 1509.55 Q657.851 1504.73 665.699 1504.73 Q668.8 1504.73 671.532 1505.57 Q674.287 1506.38 676.694 1508.02 Z\" fill=\"#000000\" fill-rule=\"evenodd\" fill-opacity=\"1\" /><path clip-path=\"url(#clip620)\" d=\"M 0 0 M1810.45 1505.36 L1839.69 1505.36 L1839.69 1509.3 L1827.42 1509.3 L1827.42 1539.92 L1822.72 1539.92 L1822.72 1509.3 L1810.45 1509.3 L1810.45 1505.36 Z\" fill=\"#000000\" fill-rule=\"evenodd\" fill-opacity=\"1\" /><path clip-path=\"url(#clip620)\" d=\"M 0 0 M94.7512 1459.06 L111.071 1459.06 L111.071 1463 L89.1262 1463 L89.1262 1459.06 Q91.7883 1456.31 96.3716 1451.68 Q100.978 1447.02 102.159 1445.68 Q104.404 1443.16 105.284 1441.42 Q106.186 1439.66 106.186 1437.97 Q106.186 1435.22 104.242 1433.48 Q102.321 1431.75 99.2188 1431.75 Q97.0197 1431.75 94.566 1432.51 Q92.1355 1433.27 89.3577 1434.82 L89.3577 1430.1 Q92.1818 1428.97 94.6355 1428.39 Q97.0892 1427.81 99.1262 1427.81 Q104.497 1427.81 107.691 1430.5 Q110.885 1433.18 110.885 1437.67 Q110.885 1439.8 110.075 1441.72 Q109.288 1443.62 107.182 1446.21 Q106.603 1446.88 103.501 1450.1 Q100.399 1453.3 94.7512 1459.06 Z\" fill=\"#000000\" fill-rule=\"evenodd\" fill-opacity=\"1\" /><path clip-path=\"url(#clip620)\" d=\"M 0 0 M101.487 1223.63 L89.6818 1242.08 L101.487 1242.08 L101.487 1223.63 M100.26 1219.55 L106.14 1219.55 L106.14 1242.08 L111.071 1242.08 L111.071 1245.96 L106.14 1245.96 L106.14 1254.11 L101.487 1254.11 L101.487 1245.96 L85.8855 1245.96 L85.8855 1241.45 L100.26 1219.55 Z\" fill=\"#000000\" fill-rule=\"evenodd\" fill-opacity=\"1\" /><path clip-path=\"url(#clip620)\" d=\"M 0 0 M99.5429 1026.09 Q96.3947 1026.09 94.5429 1028.24 Q92.7142 1030.39 92.7142 1034.14 Q92.7142 1037.87 94.5429 1040.04 Q96.3947 1042.2 99.5429 1042.2 Q102.691 1042.2 104.52 1040.04 Q106.372 1037.87 106.372 1034.14 Q106.372 1030.39 104.52 1028.24 Q102.691 1026.09 99.5429 1026.09 M108.825 1011.43 L108.825 1015.69 Q107.066 1014.86 105.26 1014.42 Q103.478 1013.98 101.719 1013.98 Q97.0892 1013.98 94.6355 1017.1 Q92.2049 1020.23 91.8577 1026.55 Q93.2234 1024.54 95.2836 1023.47 Q97.3438 1022.38 99.8206 1022.38 Q105.029 1022.38 108.038 1025.55 Q111.071 1028.7 111.071 1034.14 Q111.071 1039.47 107.922 1042.68 Q104.774 1045.9 99.5429 1045.9 Q93.5475 1045.9 90.3762 1041.32 Q87.205 1036.71 87.205 1027.98 Q87.205 1019.79 91.0938 1014.93 Q94.9827 1010.04 101.534 1010.04 Q103.293 1010.04 105.075 1010.39 Q106.881 1010.74 108.825 1011.43 Z\" fill=\"#000000\" fill-rule=\"evenodd\" fill-opacity=\"1\" /><path clip-path=\"url(#clip620)\" d=\"M 0 0 M99.2188 819.935 Q95.8855 819.935 93.9642 821.717 Q92.066 823.5 92.066 826.625 Q92.066 829.75 93.9642 831.532 Q95.8855 833.314 99.2188 833.314 Q102.552 833.314 104.473 831.532 Q106.395 829.726 106.395 826.625 Q106.395 823.5 104.473 821.717 Q102.575 819.935 99.2188 819.935 M94.5429 817.944 Q91.5336 817.203 89.8438 815.143 Q88.1772 813.083 88.1772 810.12 Q88.1772 805.977 91.117 803.569 Q94.0799 801.162 99.2188 801.162 Q104.381 801.162 107.321 803.569 Q110.26 805.977 110.26 810.12 Q110.26 813.083 108.571 815.143 Q106.904 817.203 103.918 817.944 Q107.297 818.731 109.172 821.023 Q111.071 823.314 111.071 826.625 Q111.071 831.648 107.992 834.333 Q104.936 837.018 99.2188 837.018 Q93.5012 837.018 90.4225 834.333 Q87.367 831.648 87.367 826.625 Q87.367 823.314 89.2651 821.023 Q91.1633 818.731 94.5429 817.944 M92.8299 810.56 Q92.8299 813.245 94.4966 814.75 Q96.1864 816.254 99.2188 816.254 Q102.228 816.254 103.918 814.75 Q105.631 813.245 105.631 810.56 Q105.631 807.875 103.918 806.37 Q102.228 804.865 99.2188 804.865 Q96.1864 804.865 94.4966 806.37 Q92.8299 807.875 92.8299 810.56 Z\" fill=\"#000000\" fill-rule=\"evenodd\" fill-opacity=\"1\" /><path clip-path=\"url(#clip620)\" d=\"M 0 0 M64.1495 623.529 L71.7884 623.529 L71.7884 597.163 L63.4782 598.83 L63.4782 594.57 L71.7421 592.904 L76.418 592.904 L76.418 623.529 L84.0568 623.529 L84.0568 627.464 L64.1495 627.464 L64.1495 623.529 Z\" fill=\"#000000\" fill-rule=\"evenodd\" fill-opacity=\"1\" /><path clip-path=\"url(#clip620)\" d=\"M 0 0 M99.1262 595.982 Q95.5151 595.982 93.6864 599.547 Q91.8809 603.089 91.8809 610.218 Q91.8809 617.325 93.6864 620.89 Q95.5151 624.431 99.1262 624.431 Q102.76 624.431 104.566 620.89 Q106.395 617.325 106.395 610.218 Q106.395 603.089 104.566 599.547 Q102.76 595.982 99.1262 595.982 M99.1262 592.279 Q104.936 592.279 107.992 596.885 Q111.071 601.469 111.071 610.218 Q111.071 618.945 107.992 623.552 Q104.936 628.135 99.1262 628.135 Q93.316 628.135 90.2374 623.552 Q87.1818 618.945 87.1818 610.218 Q87.1818 601.469 90.2374 596.885 Q93.316 592.279 99.1262 592.279 Z\" fill=\"#000000\" fill-rule=\"evenodd\" fill-opacity=\"1\" /><path clip-path=\"url(#clip620)\" d=\"M 0 0 M65.7467 414.646 L73.3856 414.646 L73.3856 388.28 L65.0754 389.947 L65.0754 385.687 L73.3393 384.021 L78.0152 384.021 L78.0152 414.646 L85.654 414.646 L85.654 418.581 L65.7467 418.581 L65.7467 414.646 Z\" fill=\"#000000\" fill-rule=\"evenodd\" fill-opacity=\"1\" /><path clip-path=\"url(#clip620)\" d=\"M 0 0 M94.7512 414.646 L111.071 414.646 L111.071 418.581 L89.1262 418.581 L89.1262 414.646 Q91.7883 411.891 96.3716 407.261 Q100.978 402.609 102.159 401.266 Q104.404 398.743 105.284 397.007 Q106.186 395.248 106.186 393.558 Q106.186 390.803 104.242 389.067 Q102.321 387.331 99.2188 387.331 Q97.0197 387.331 94.566 388.095 Q92.1355 388.859 89.3577 390.41 L89.3577 385.687 Q92.1818 384.553 94.6355 383.974 Q97.0892 383.396 99.1262 383.396 Q104.497 383.396 107.691 386.081 Q110.885 388.766 110.885 393.257 Q110.885 395.386 110.075 397.308 Q109.288 399.206 107.182 401.798 Q106.603 402.47 103.501 405.687 Q100.399 408.882 94.7512 414.646 Z\" fill=\"#000000\" fill-rule=\"evenodd\" fill-opacity=\"1\" /><path clip-path=\"url(#clip620)\" d=\"M 0 0 M63.6634 205.763 L71.3023 205.763 L71.3023 179.397 L62.9921 181.064 L62.9921 176.804 L71.256 175.138 L75.9319 175.138 L75.9319 205.763 L83.5707 205.763 L83.5707 209.698 L63.6634 209.698 L63.6634 205.763 Z\" fill=\"#000000\" fill-rule=\"evenodd\" fill-opacity=\"1\" /><path clip-path=\"url(#clip620)\" d=\"M 0 0 M101.487 179.212 L89.6818 197.661 L101.487 197.661 L101.487 179.212 M100.26 175.138 L106.14 175.138 L106.14 197.661 L111.071 197.661 L111.071 201.55 L106.14 201.55 L106.14 209.698 L101.487 209.698 L101.487 201.55 L85.8855 201.55 L85.8855 197.036 L100.26 175.138 Z\" fill=\"#000000\" fill-rule=\"evenodd\" fill-opacity=\"1\" /><circle clip-path=\"url(#clip622)\" cx=\"1825.07\" cy=\"192.418\" r=\"14\" fill=\"#009af9\" fill-rule=\"evenodd\" fill-opacity=\"1\" stroke=\"#000000\" stroke-opacity=\"1\" stroke-width=\"3.2\"/>\n",
       "<circle clip-path=\"url(#clip622)\" cx=\"1825.07\" cy=\"87.9763\" r=\"14\" fill=\"#009af9\" fill-rule=\"evenodd\" fill-opacity=\"1\" stroke=\"#000000\" stroke-opacity=\"1\" stroke-width=\"3.2\"/>\n",
       "<path clip-path=\"url(#clip622)\" d=\"\n",
       "M662.759 1445.72 L197.835 1445.72 L1127.68 1445.72 L662.759 1445.72 L662.759 1027.95 L662.759 1445.72  Z\n",
       "  \" fill=\"#009af9\" fill-rule=\"evenodd\" fill-opacity=\"1\"/>\n",
       "<polyline clip-path=\"url(#clip622)\" style=\"stroke:#000000; stroke-width:4; stroke-opacity:1; fill:none\" points=\"\n",
       "  662.759,1445.72 197.835,1445.72 1127.68,1445.72 662.759,1445.72 662.759,1027.95 662.759,1445.72 \n",
       "  \"/>\n",
       "<path clip-path=\"url(#clip622)\" d=\"\n",
       "M197.835 1027.95 L197.835 819.067 L1127.68 819.067 L1127.68 1027.95 L197.835 1027.95 L197.835 1027.95  Z\n",
       "  \" fill=\"#009af9\" fill-rule=\"evenodd\" fill-opacity=\"1\"/>\n",
       "<polyline clip-path=\"url(#clip622)\" style=\"stroke:#000000; stroke-width:4; stroke-opacity:1; fill:none\" points=\"\n",
       "  197.835,1027.95 197.835,819.067 1127.68,819.067 1127.68,1027.95 197.835,1027.95 \n",
       "  \"/>\n",
       "<path clip-path=\"url(#clip622)\" d=\"\n",
       "M197.835 610.184 L197.835 819.067 L1127.68 819.067 L1127.68 610.184 L197.835 610.184 L197.835 610.184  Z\n",
       "  \" fill=\"#009af9\" fill-rule=\"evenodd\" fill-opacity=\"1\"/>\n",
       "<polyline clip-path=\"url(#clip622)\" style=\"stroke:#000000; stroke-width:4; stroke-opacity:1; fill:none\" points=\"\n",
       "  197.835,610.184 197.835,819.067 1127.68,819.067 1127.68,610.184 197.835,610.184 \n",
       "  \"/>\n",
       "<path clip-path=\"url(#clip622)\" d=\"\n",
       "M662.759 401.301 L197.835 401.301 L1127.68 401.301 L662.759 401.301 L662.759 610.184 L662.759 401.301  Z\n",
       "  \" fill=\"#009af9\" fill-rule=\"evenodd\" fill-opacity=\"1\"/>\n",
       "<polyline clip-path=\"url(#clip622)\" style=\"stroke:#000000; stroke-width:4; stroke-opacity:1; fill:none\" points=\"\n",
       "  662.759,401.301 197.835,401.301 1127.68,401.301 662.759,401.301 662.759,610.184 662.759,401.301 \n",
       "  \"/>\n",
       "<path clip-path=\"url(#clip622)\" d=\"\n",
       "M1825.07 1341.27 L1360.14 1341.27 L2289.99 1341.27 L1825.07 1341.27 L1825.07 1027.95 L1825.07 1341.27  Z\n",
       "  \" fill=\"#009af9\" fill-rule=\"evenodd\" fill-opacity=\"1\"/>\n",
       "<polyline clip-path=\"url(#clip622)\" style=\"stroke:#000000; stroke-width:4; stroke-opacity:1; fill:none\" points=\"\n",
       "  1825.07,1341.27 1360.14,1341.27 2289.99,1341.27 1825.07,1341.27 1825.07,1027.95 1825.07,1341.27 \n",
       "  \"/>\n",
       "<path clip-path=\"url(#clip622)\" d=\"\n",
       "M1360.14 1027.95 L1360.14 871.287 L2289.99 871.287 L2289.99 1027.95 L1360.14 1027.95 L1360.14 1027.95  Z\n",
       "  \" fill=\"#009af9\" fill-rule=\"evenodd\" fill-opacity=\"1\"/>\n",
       "<polyline clip-path=\"url(#clip622)\" style=\"stroke:#000000; stroke-width:4; stroke-opacity:1; fill:none\" points=\"\n",
       "  1360.14,1027.95 1360.14,871.287 2289.99,871.287 2289.99,1027.95 1360.14,1027.95 \n",
       "  \"/>\n",
       "<path clip-path=\"url(#clip622)\" d=\"\n",
       "M1360.14 714.625 L1360.14 871.287 L2289.99 871.287 L2289.99 714.625 L1360.14 714.625 L1360.14 714.625  Z\n",
       "  \" fill=\"#009af9\" fill-rule=\"evenodd\" fill-opacity=\"1\"/>\n",
       "<polyline clip-path=\"url(#clip622)\" style=\"stroke:#000000; stroke-width:4; stroke-opacity:1; fill:none\" points=\"\n",
       "  1360.14,714.625 1360.14,871.287 2289.99,871.287 2289.99,714.625 1360.14,714.625 \n",
       "  \"/>\n",
       "<path clip-path=\"url(#clip622)\" d=\"\n",
       "M1825.07 296.859 L1360.14 296.859 L2289.99 296.859 L1825.07 296.859 L1825.07 714.625 L1825.07 296.859  Z\n",
       "  \" fill=\"#009af9\" fill-rule=\"evenodd\" fill-opacity=\"1\"/>\n",
       "<polyline clip-path=\"url(#clip622)\" style=\"stroke:#000000; stroke-width:4; stroke-opacity:1; fill:none\" points=\"\n",
       "  1825.07,296.859 1360.14,296.859 2289.99,296.859 1825.07,296.859 1825.07,714.625 1825.07,296.859 \n",
       "  \"/>\n",
       "</svg>\n"
      ]
     },
     "execution_count": 111,
     "metadata": {},
     "output_type": "execute_result"
    }
   ],
   "source": [
    "boxplot(df.f, df.y, label=\"\")"
   ]
  },
  {
   "cell_type": "markdown",
   "metadata": {},
   "source": [
    "## 3.4 ポアソン回帰の統計モデル\n",
    "### 3.4.2 当てはめと当てはまりの良さ\n",
    "### GLMのフィッティング\n",
    "http://juliastats.github.io/GLM.jl/latest/examples/"
   ]
  },
  {
   "cell_type": "code",
   "execution_count": 112,
   "metadata": {},
   "outputs": [
    {
     "data": {
      "text/plain": [
       "3-element Array{String,1}:\n",
       " \"y\"\n",
       " \"x\"\n",
       " \"f\""
      ]
     },
     "execution_count": 112,
     "metadata": {},
     "output_type": "execute_result"
    }
   ],
   "source": [
    "names(df)"
   ]
  },
  {
   "cell_type": "code",
   "execution_count": 113,
   "metadata": {},
   "outputs": [
    {
     "data": {
      "text/plain": [
       "StatsModels.TableRegressionModel{GeneralizedLinearModel{GLM.GlmResp{Array{Float64,1},Poisson{Float64},LogLink},GLM.DensePredChol{Float64,LinearAlgebra.Cholesky{Float64,Array{Float64,2}}}},Array{Float64,2}}\n",
       "\n",
       "y ~ 1 + x\n",
       "\n",
       "Coefficients:\n",
       "───────────────────────────────────────────────────────────────────────────\n",
       "              Estimate  Std. Error  z value  Pr(>|z|)  Lower 95%  Upper 95%\n",
       "───────────────────────────────────────────────────────────────────────────\n",
       "(Intercept)  1.29172     0.363686   3.55174    0.0004   0.578909   2.00453\n",
       "x            0.0756619   0.0356042  2.12509    0.0336   0.005879   0.145445\n",
       "───────────────────────────────────────────────────────────────────────────"
      ]
     },
     "execution_count": 113,
     "metadata": {},
     "output_type": "execute_result"
    }
   ],
   "source": [
    "result = glm(@formula(y ~ x), df, GLM.Poisson())"
   ]
  },
  {
   "cell_type": "code",
   "execution_count": 114,
   "metadata": {},
   "outputs": [
    {
     "data": {
      "text/plain": [
       "-235.3862507698607"
      ]
     },
     "execution_count": 114,
     "metadata": {},
     "output_type": "execute_result"
    }
   ],
   "source": [
    "loglikelihood(result)"
   ]
  },
  {
   "cell_type": "markdown",
   "metadata": {},
   "source": [
    "### 3.4.3 ポアソン回帰モデルによる予測"
   ]
  },
  {
   "cell_type": "code",
   "execution_count": 115,
   "metadata": {},
   "outputs": [
    {
     "data": {
      "image/svg+xml": [
       "<?xml version=\"1.0\" encoding=\"utf-8\"?>\n",
       "<svg xmlns=\"http://www.w3.org/2000/svg\" xmlns:xlink=\"http://www.w3.org/1999/xlink\" width=\"600\" height=\"400\" viewBox=\"0 0 2400 1600\">\n",
       "<defs>\n",
       "  <clipPath id=\"clip660\">\n",
       "    <rect x=\"0\" y=\"0\" width=\"2400\" height=\"1600\"/>\n",
       "  </clipPath>\n",
       "</defs>\n",
       "<path clip-path=\"url(#clip660)\" d=\"\n",
       "M0 1600 L2400 1600 L2400 0 L0 0  Z\n",
       "  \" fill=\"#ffffff\" fill-rule=\"evenodd\" fill-opacity=\"1\"/>\n",
       "<defs>\n",
       "  <clipPath id=\"clip661\">\n",
       "    <rect x=\"480\" y=\"0\" width=\"1681\" height=\"1600\"/>\n",
       "  </clipPath>\n",
       "</defs>\n",
       "<path clip-path=\"url(#clip660)\" d=\"\n",
       "M135.071 1486.45 L2352.76 1486.45 L2352.76 47.2441 L135.071 47.2441  Z\n",
       "  \" fill=\"#ffffff\" fill-rule=\"evenodd\" fill-opacity=\"1\"/>\n",
       "<defs>\n",
       "  <clipPath id=\"clip662\">\n",
       "    <rect x=\"135\" y=\"47\" width=\"2219\" height=\"1440\"/>\n",
       "  </clipPath>\n",
       "</defs>\n",
       "<polyline clip-path=\"url(#clip662)\" style=\"stroke:#000000; stroke-width:2; stroke-opacity:0.1; fill:none\" points=\"\n",
       "  523.103,1486.45 523.103,47.2441 \n",
       "  \"/>\n",
       "<polyline clip-path=\"url(#clip662)\" style=\"stroke:#000000; stroke-width:2; stroke-opacity:0.1; fill:none\" points=\"\n",
       "  924.669,1486.45 924.669,47.2441 \n",
       "  \"/>\n",
       "<polyline clip-path=\"url(#clip662)\" style=\"stroke:#000000; stroke-width:2; stroke-opacity:0.1; fill:none\" points=\"\n",
       "  1326.23,1486.45 1326.23,47.2441 \n",
       "  \"/>\n",
       "<polyline clip-path=\"url(#clip662)\" style=\"stroke:#000000; stroke-width:2; stroke-opacity:0.1; fill:none\" points=\"\n",
       "  1727.8,1486.45 1727.8,47.2441 \n",
       "  \"/>\n",
       "<polyline clip-path=\"url(#clip662)\" style=\"stroke:#000000; stroke-width:2; stroke-opacity:0.1; fill:none\" points=\"\n",
       "  2129.37,1486.45 2129.37,47.2441 \n",
       "  \"/>\n",
       "<polyline clip-path=\"url(#clip662)\" style=\"stroke:#000000; stroke-width:2; stroke-opacity:0.1; fill:none\" points=\"\n",
       "  135.071,1445.72 2352.76,1445.72 \n",
       "  \"/>\n",
       "<polyline clip-path=\"url(#clip662)\" style=\"stroke:#000000; stroke-width:2; stroke-opacity:0.1; fill:none\" points=\"\n",
       "  135.071,1236.83 2352.76,1236.83 \n",
       "  \"/>\n",
       "<polyline clip-path=\"url(#clip662)\" style=\"stroke:#000000; stroke-width:2; stroke-opacity:0.1; fill:none\" points=\"\n",
       "  135.071,1027.95 2352.76,1027.95 \n",
       "  \"/>\n",
       "<polyline clip-path=\"url(#clip662)\" style=\"stroke:#000000; stroke-width:2; stroke-opacity:0.1; fill:none\" points=\"\n",
       "  135.071,819.067 2352.76,819.067 \n",
       "  \"/>\n",
       "<polyline clip-path=\"url(#clip662)\" style=\"stroke:#000000; stroke-width:2; stroke-opacity:0.1; fill:none\" points=\"\n",
       "  135.071,610.184 2352.76,610.184 \n",
       "  \"/>\n",
       "<polyline clip-path=\"url(#clip662)\" style=\"stroke:#000000; stroke-width:2; stroke-opacity:0.1; fill:none\" points=\"\n",
       "  135.071,401.301 2352.76,401.301 \n",
       "  \"/>\n",
       "<polyline clip-path=\"url(#clip662)\" style=\"stroke:#000000; stroke-width:2; stroke-opacity:0.1; fill:none\" points=\"\n",
       "  135.071,192.418 2352.76,192.418 \n",
       "  \"/>\n",
       "<polyline clip-path=\"url(#clip660)\" style=\"stroke:#000000; stroke-width:4; stroke-opacity:1; fill:none\" points=\"\n",
       "  135.071,1486.45 2352.76,1486.45 \n",
       "  \"/>\n",
       "<polyline clip-path=\"url(#clip660)\" style=\"stroke:#000000; stroke-width:4; stroke-opacity:1; fill:none\" points=\"\n",
       "  135.071,1486.45 135.071,47.2441 \n",
       "  \"/>\n",
       "<polyline clip-path=\"url(#clip660)\" style=\"stroke:#000000; stroke-width:4; stroke-opacity:1; fill:none\" points=\"\n",
       "  523.103,1486.45 523.103,1469.18 \n",
       "  \"/>\n",
       "<polyline clip-path=\"url(#clip660)\" style=\"stroke:#000000; stroke-width:4; stroke-opacity:1; fill:none\" points=\"\n",
       "  924.669,1486.45 924.669,1469.18 \n",
       "  \"/>\n",
       "<polyline clip-path=\"url(#clip660)\" style=\"stroke:#000000; stroke-width:4; stroke-opacity:1; fill:none\" points=\"\n",
       "  1326.23,1486.45 1326.23,1469.18 \n",
       "  \"/>\n",
       "<polyline clip-path=\"url(#clip660)\" style=\"stroke:#000000; stroke-width:4; stroke-opacity:1; fill:none\" points=\"\n",
       "  1727.8,1486.45 1727.8,1469.18 \n",
       "  \"/>\n",
       "<polyline clip-path=\"url(#clip660)\" style=\"stroke:#000000; stroke-width:4; stroke-opacity:1; fill:none\" points=\"\n",
       "  2129.37,1486.45 2129.37,1469.18 \n",
       "  \"/>\n",
       "<polyline clip-path=\"url(#clip660)\" style=\"stroke:#000000; stroke-width:4; stroke-opacity:1; fill:none\" points=\"\n",
       "  135.071,1445.72 161.683,1445.72 \n",
       "  \"/>\n",
       "<polyline clip-path=\"url(#clip660)\" style=\"stroke:#000000; stroke-width:4; stroke-opacity:1; fill:none\" points=\"\n",
       "  135.071,1236.83 161.683,1236.83 \n",
       "  \"/>\n",
       "<polyline clip-path=\"url(#clip660)\" style=\"stroke:#000000; stroke-width:4; stroke-opacity:1; fill:none\" points=\"\n",
       "  135.071,1027.95 161.683,1027.95 \n",
       "  \"/>\n",
       "<polyline clip-path=\"url(#clip660)\" style=\"stroke:#000000; stroke-width:4; stroke-opacity:1; fill:none\" points=\"\n",
       "  135.071,819.067 161.683,819.067 \n",
       "  \"/>\n",
       "<polyline clip-path=\"url(#clip660)\" style=\"stroke:#000000; stroke-width:4; stroke-opacity:1; fill:none\" points=\"\n",
       "  135.071,610.184 161.683,610.184 \n",
       "  \"/>\n",
       "<polyline clip-path=\"url(#clip660)\" style=\"stroke:#000000; stroke-width:4; stroke-opacity:1; fill:none\" points=\"\n",
       "  135.071,401.301 161.683,401.301 \n",
       "  \"/>\n",
       "<polyline clip-path=\"url(#clip660)\" style=\"stroke:#000000; stroke-width:4; stroke-opacity:1; fill:none\" points=\"\n",
       "  135.071,192.418 161.683,192.418 \n",
       "  \"/>\n",
       "<path clip-path=\"url(#clip660)\" d=\"M 0 0 M523.103 1523.51 Q519.77 1523.51 517.849 1525.29 Q515.951 1527.07 515.951 1530.2 Q515.951 1533.32 517.849 1535.11 Q519.77 1536.89 523.103 1536.89 Q526.437 1536.89 528.358 1535.11 Q530.279 1533.3 530.279 1530.2 Q530.279 1527.07 528.358 1525.29 Q526.46 1523.51 523.103 1523.51 M518.427 1521.52 Q515.418 1520.78 513.728 1518.72 Q512.062 1516.66 512.062 1513.69 Q512.062 1509.55 515.001 1507.14 Q517.964 1504.73 523.103 1504.73 Q528.265 1504.73 531.205 1507.14 Q534.145 1509.55 534.145 1513.69 Q534.145 1516.66 532.455 1518.72 Q530.788 1520.78 527.802 1521.52 Q531.182 1522.3 533.057 1524.6 Q534.955 1526.89 534.955 1530.2 Q534.955 1535.22 531.876 1537.91 Q528.821 1540.59 523.103 1540.59 Q517.386 1540.59 514.307 1537.91 Q511.251 1535.22 511.251 1530.2 Q511.251 1526.89 513.15 1524.6 Q515.048 1522.3 518.427 1521.52 M516.714 1514.13 Q516.714 1516.82 518.381 1518.32 Q520.071 1519.83 523.103 1519.83 Q526.113 1519.83 527.802 1518.32 Q529.515 1516.82 529.515 1514.13 Q529.515 1511.45 527.802 1509.94 Q526.113 1508.44 523.103 1508.44 Q520.071 1508.44 518.381 1509.94 Q516.714 1511.45 516.714 1514.13 Z\" fill=\"#000000\" fill-rule=\"evenodd\" fill-opacity=\"1\" /><path clip-path=\"url(#clip660)\" d=\"M 0 0 M914.97 1539.2 L914.97 1534.94 Q916.729 1535.78 918.534 1536.22 Q920.34 1536.66 922.076 1536.66 Q926.706 1536.66 929.136 1533.55 Q931.59 1530.43 931.937 1524.09 Q930.595 1526.08 928.534 1527.14 Q926.474 1528.21 923.974 1528.21 Q918.789 1528.21 915.757 1525.08 Q912.747 1521.93 912.747 1516.49 Q912.747 1511.17 915.896 1507.95 Q919.044 1504.73 924.275 1504.73 Q930.271 1504.73 933.419 1509.34 Q936.59 1513.92 936.59 1522.67 Q936.59 1530.85 932.701 1535.73 Q928.835 1540.59 922.284 1540.59 Q920.525 1540.59 918.72 1540.24 Q916.914 1539.9 914.97 1539.2 M924.275 1524.55 Q927.423 1524.55 929.252 1522.4 Q931.104 1520.24 931.104 1516.49 Q931.104 1512.77 929.252 1510.61 Q927.423 1508.44 924.275 1508.44 Q921.127 1508.44 919.275 1510.61 Q917.447 1512.77 917.447 1516.49 Q917.447 1520.24 919.275 1522.4 Q921.127 1524.55 924.275 1524.55 Z\" fill=\"#000000\" fill-rule=\"evenodd\" fill-opacity=\"1\" /><path clip-path=\"url(#clip660)\" d=\"M 0 0 M1303.11 1535.98 L1310.75 1535.98 L1310.75 1509.62 L1302.44 1511.29 L1302.44 1507.03 L1310.7 1505.36 L1315.38 1505.36 L1315.38 1535.98 L1323.02 1535.98 L1323.02 1539.92 L1303.11 1539.92 L1303.11 1535.98 Z\" fill=\"#000000\" fill-rule=\"evenodd\" fill-opacity=\"1\" /><path clip-path=\"url(#clip660)\" d=\"M 0 0 M1338.09 1508.44 Q1334.47 1508.44 1332.65 1512 Q1330.84 1515.55 1330.84 1522.67 Q1330.84 1529.78 1332.65 1533.35 Q1334.47 1536.89 1338.09 1536.89 Q1341.72 1536.89 1343.53 1533.35 Q1345.35 1529.78 1345.35 1522.67 Q1345.35 1515.55 1343.53 1512 Q1341.72 1508.44 1338.09 1508.44 M1338.09 1504.73 Q1343.9 1504.73 1346.95 1509.34 Q1350.03 1513.92 1350.03 1522.67 Q1350.03 1531.4 1346.95 1536.01 Q1343.9 1540.59 1338.09 1540.59 Q1332.28 1540.59 1329.2 1536.01 Q1326.14 1531.4 1326.14 1522.67 Q1326.14 1513.92 1329.2 1509.34 Q1332.28 1504.73 1338.09 1504.73 Z\" fill=\"#000000\" fill-rule=\"evenodd\" fill-opacity=\"1\" /><path clip-path=\"url(#clip660)\" d=\"M 0 0 M1705.29 1535.98 L1712.93 1535.98 L1712.93 1509.62 L1704.62 1511.29 L1704.62 1507.03 L1712.88 1505.36 L1717.56 1505.36 L1717.56 1535.98 L1725.2 1535.98 L1725.2 1539.92 L1705.29 1539.92 L1705.29 1535.98 Z\" fill=\"#000000\" fill-rule=\"evenodd\" fill-opacity=\"1\" /><path clip-path=\"url(#clip660)\" d=\"M 0 0 M1731.08 1535.98 L1738.71 1535.98 L1738.71 1509.62 L1730.4 1511.29 L1730.4 1507.03 L1738.67 1505.36 L1743.34 1505.36 L1743.34 1535.98 L1750.98 1535.98 L1750.98 1539.92 L1731.08 1539.92 L1731.08 1535.98 Z\" fill=\"#000000\" fill-rule=\"evenodd\" fill-opacity=\"1\" /><path clip-path=\"url(#clip660)\" d=\"M 0 0 M2107.04 1535.98 L2114.68 1535.98 L2114.68 1509.62 L2106.37 1511.29 L2106.37 1507.03 L2114.63 1505.36 L2119.31 1505.36 L2119.31 1535.98 L2126.95 1535.98 L2126.95 1539.92 L2107.04 1539.92 L2107.04 1535.98 Z\" fill=\"#000000\" fill-rule=\"evenodd\" fill-opacity=\"1\" /><path clip-path=\"url(#clip660)\" d=\"M 0 0 M2136.04 1535.98 L2152.36 1535.98 L2152.36 1539.92 L2130.42 1539.92 L2130.42 1535.98 Q2133.08 1533.23 2137.66 1528.6 Q2142.27 1523.95 2143.45 1522.61 Q2145.7 1520.08 2146.58 1518.35 Q2147.48 1516.59 2147.48 1514.9 Q2147.48 1512.14 2145.53 1510.41 Q2143.61 1508.67 2140.51 1508.67 Q2138.31 1508.67 2135.86 1509.43 Q2133.43 1510.2 2130.65 1511.75 L2130.65 1507.03 Q2133.47 1505.89 2135.93 1505.31 Q2138.38 1504.73 2140.42 1504.73 Q2145.79 1504.73 2148.98 1507.42 Q2152.18 1510.11 2152.18 1514.6 Q2152.18 1516.73 2151.37 1518.65 Q2150.58 1520.54 2148.47 1523.14 Q2147.9 1523.81 2144.79 1527.03 Q2141.69 1530.22 2136.04 1535.98 Z\" fill=\"#000000\" fill-rule=\"evenodd\" fill-opacity=\"1\" /><path clip-path=\"url(#clip660)\" d=\"M 0 0 M94.7512 1459.06 L111.071 1459.06 L111.071 1463 L89.1262 1463 L89.1262 1459.06 Q91.7883 1456.31 96.3716 1451.68 Q100.978 1447.02 102.159 1445.68 Q104.404 1443.16 105.284 1441.42 Q106.186 1439.66 106.186 1437.97 Q106.186 1435.22 104.242 1433.48 Q102.321 1431.75 99.2188 1431.75 Q97.0197 1431.75 94.566 1432.51 Q92.1355 1433.27 89.3577 1434.82 L89.3577 1430.1 Q92.1818 1428.97 94.6355 1428.39 Q97.0892 1427.81 99.1262 1427.81 Q104.497 1427.81 107.691 1430.5 Q110.885 1433.18 110.885 1437.67 Q110.885 1439.8 110.075 1441.72 Q109.288 1443.62 107.182 1446.21 Q106.603 1446.88 103.501 1450.1 Q100.399 1453.3 94.7512 1459.06 Z\" fill=\"#000000\" fill-rule=\"evenodd\" fill-opacity=\"1\" /><path clip-path=\"url(#clip660)\" d=\"M 0 0 M101.487 1223.63 L89.6818 1242.08 L101.487 1242.08 L101.487 1223.63 M100.26 1219.55 L106.14 1219.55 L106.14 1242.08 L111.071 1242.08 L111.071 1245.96 L106.14 1245.96 L106.14 1254.11 L101.487 1254.11 L101.487 1245.96 L85.8855 1245.96 L85.8855 1241.45 L100.26 1219.55 Z\" fill=\"#000000\" fill-rule=\"evenodd\" fill-opacity=\"1\" /><path clip-path=\"url(#clip660)\" d=\"M 0 0 M99.5429 1026.09 Q96.3947 1026.09 94.5429 1028.24 Q92.7142 1030.39 92.7142 1034.14 Q92.7142 1037.87 94.5429 1040.04 Q96.3947 1042.2 99.5429 1042.2 Q102.691 1042.2 104.52 1040.04 Q106.372 1037.87 106.372 1034.14 Q106.372 1030.39 104.52 1028.24 Q102.691 1026.09 99.5429 1026.09 M108.825 1011.43 L108.825 1015.69 Q107.066 1014.86 105.26 1014.42 Q103.478 1013.98 101.719 1013.98 Q97.0892 1013.98 94.6355 1017.1 Q92.2049 1020.23 91.8577 1026.55 Q93.2234 1024.54 95.2836 1023.47 Q97.3438 1022.38 99.8206 1022.38 Q105.029 1022.38 108.038 1025.55 Q111.071 1028.7 111.071 1034.14 Q111.071 1039.47 107.922 1042.68 Q104.774 1045.9 99.5429 1045.9 Q93.5475 1045.9 90.3762 1041.32 Q87.205 1036.71 87.205 1027.98 Q87.205 1019.79 91.0938 1014.93 Q94.9827 1010.04 101.534 1010.04 Q103.293 1010.04 105.075 1010.39 Q106.881 1010.74 108.825 1011.43 Z\" fill=\"#000000\" fill-rule=\"evenodd\" fill-opacity=\"1\" /><path clip-path=\"url(#clip660)\" d=\"M 0 0 M99.2188 819.935 Q95.8855 819.935 93.9642 821.717 Q92.066 823.5 92.066 826.625 Q92.066 829.75 93.9642 831.532 Q95.8855 833.314 99.2188 833.314 Q102.552 833.314 104.473 831.532 Q106.395 829.726 106.395 826.625 Q106.395 823.5 104.473 821.717 Q102.575 819.935 99.2188 819.935 M94.5429 817.944 Q91.5336 817.203 89.8438 815.143 Q88.1772 813.083 88.1772 810.12 Q88.1772 805.977 91.117 803.569 Q94.0799 801.162 99.2188 801.162 Q104.381 801.162 107.321 803.569 Q110.26 805.977 110.26 810.12 Q110.26 813.083 108.571 815.143 Q106.904 817.203 103.918 817.944 Q107.297 818.731 109.172 821.023 Q111.071 823.314 111.071 826.625 Q111.071 831.648 107.992 834.333 Q104.936 837.018 99.2188 837.018 Q93.5012 837.018 90.4225 834.333 Q87.367 831.648 87.367 826.625 Q87.367 823.314 89.2651 821.023 Q91.1633 818.731 94.5429 817.944 M92.8299 810.56 Q92.8299 813.245 94.4966 814.75 Q96.1864 816.254 99.2188 816.254 Q102.228 816.254 103.918 814.75 Q105.631 813.245 105.631 810.56 Q105.631 807.875 103.918 806.37 Q102.228 804.865 99.2188 804.865 Q96.1864 804.865 94.4966 806.37 Q92.8299 807.875 92.8299 810.56 Z\" fill=\"#000000\" fill-rule=\"evenodd\" fill-opacity=\"1\" /><path clip-path=\"url(#clip660)\" d=\"M 0 0 M64.1495 623.529 L71.7884 623.529 L71.7884 597.163 L63.4782 598.83 L63.4782 594.57 L71.7421 592.904 L76.418 592.904 L76.418 623.529 L84.0568 623.529 L84.0568 627.464 L64.1495 627.464 L64.1495 623.529 Z\" fill=\"#000000\" fill-rule=\"evenodd\" fill-opacity=\"1\" /><path clip-path=\"url(#clip660)\" d=\"M 0 0 M99.1262 595.982 Q95.5151 595.982 93.6864 599.547 Q91.8809 603.089 91.8809 610.218 Q91.8809 617.325 93.6864 620.89 Q95.5151 624.431 99.1262 624.431 Q102.76 624.431 104.566 620.89 Q106.395 617.325 106.395 610.218 Q106.395 603.089 104.566 599.547 Q102.76 595.982 99.1262 595.982 M99.1262 592.279 Q104.936 592.279 107.992 596.885 Q111.071 601.469 111.071 610.218 Q111.071 618.945 107.992 623.552 Q104.936 628.135 99.1262 628.135 Q93.316 628.135 90.2374 623.552 Q87.1818 618.945 87.1818 610.218 Q87.1818 601.469 90.2374 596.885 Q93.316 592.279 99.1262 592.279 Z\" fill=\"#000000\" fill-rule=\"evenodd\" fill-opacity=\"1\" /><path clip-path=\"url(#clip660)\" d=\"M 0 0 M65.7467 414.646 L73.3856 414.646 L73.3856 388.28 L65.0754 389.947 L65.0754 385.687 L73.3393 384.021 L78.0152 384.021 L78.0152 414.646 L85.654 414.646 L85.654 418.581 L65.7467 418.581 L65.7467 414.646 Z\" fill=\"#000000\" fill-rule=\"evenodd\" fill-opacity=\"1\" /><path clip-path=\"url(#clip660)\" d=\"M 0 0 M94.7512 414.646 L111.071 414.646 L111.071 418.581 L89.1262 418.581 L89.1262 414.646 Q91.7883 411.891 96.3716 407.261 Q100.978 402.609 102.159 401.266 Q104.404 398.743 105.284 397.007 Q106.186 395.248 106.186 393.558 Q106.186 390.803 104.242 389.067 Q102.321 387.331 99.2188 387.331 Q97.0197 387.331 94.566 388.095 Q92.1355 388.859 89.3577 390.41 L89.3577 385.687 Q92.1818 384.553 94.6355 383.974 Q97.0892 383.396 99.1262 383.396 Q104.497 383.396 107.691 386.081 Q110.885 388.766 110.885 393.257 Q110.885 395.386 110.075 397.308 Q109.288 399.206 107.182 401.798 Q106.603 402.47 103.501 405.687 Q100.399 408.882 94.7512 414.646 Z\" fill=\"#000000\" fill-rule=\"evenodd\" fill-opacity=\"1\" /><path clip-path=\"url(#clip660)\" d=\"M 0 0 M63.6634 205.763 L71.3023 205.763 L71.3023 179.397 L62.9921 181.064 L62.9921 176.804 L71.256 175.138 L75.9319 175.138 L75.9319 205.763 L83.5707 205.763 L83.5707 209.698 L63.6634 209.698 L63.6634 205.763 Z\" fill=\"#000000\" fill-rule=\"evenodd\" fill-opacity=\"1\" /><path clip-path=\"url(#clip660)\" d=\"M 0 0 M101.487 179.212 L89.6818 197.661 L101.487 197.661 L101.487 179.212 M100.26 175.138 L106.14 175.138 L106.14 197.661 L111.071 197.661 L111.071 201.55 L106.14 201.55 L106.14 209.698 L101.487 209.698 L101.487 201.55 L85.8855 201.55 L85.8855 197.036 L100.26 175.138 Z\" fill=\"#000000\" fill-rule=\"evenodd\" fill-opacity=\"1\" /><circle clip-path=\"url(#clip662)\" cx=\"647.589\" cy=\"1027.95\" r=\"14\" fill=\"#009af9\" fill-rule=\"evenodd\" fill-opacity=\"1\" stroke=\"#000000\" stroke-opacity=\"1\" stroke-width=\"3.2\"/>\n",
       "<circle clip-path=\"url(#clip662)\" cx=\"1101.36\" cy=\"1027.95\" r=\"14\" fill=\"#009af9\" fill-rule=\"evenodd\" fill-opacity=\"1\" stroke=\"#000000\" stroke-opacity=\"1\" stroke-width=\"3.2\"/>\n",
       "<circle clip-path=\"url(#clip662)\" cx=\"1125.45\" cy=\"1027.95\" r=\"14\" fill=\"#009af9\" fill-rule=\"evenodd\" fill-opacity=\"1\" stroke=\"#000000\" stroke-opacity=\"1\" stroke-width=\"3.2\"/>\n",
       "<circle clip-path=\"url(#clip662)\" cx=\"952.778\" cy=\"401.301\" r=\"14\" fill=\"#009af9\" fill-rule=\"evenodd\" fill-opacity=\"1\" stroke=\"#000000\" stroke-opacity=\"1\" stroke-width=\"3.2\"/>\n",
       "<circle clip-path=\"url(#clip662)\" cx=\"1390.48\" cy=\"610.184\" r=\"14\" fill=\"#009af9\" fill-rule=\"evenodd\" fill-opacity=\"1\" stroke=\"#000000\" stroke-opacity=\"1\" stroke-width=\"3.2\"/>\n",
       "<circle clip-path=\"url(#clip662)\" cx=\"651.604\" cy=\"1236.83\" r=\"14\" fill=\"#009af9\" fill-rule=\"evenodd\" fill-opacity=\"1\" stroke=\"#000000\" stroke-opacity=\"1\" stroke-width=\"3.2\"/>\n",
       "<circle clip-path=\"url(#clip662)\" cx=\"1571.19\" cy=\"714.625\" r=\"14\" fill=\"#009af9\" fill-rule=\"evenodd\" fill-opacity=\"1\" stroke=\"#000000\" stroke-opacity=\"1\" stroke-width=\"3.2\"/>\n",
       "<circle clip-path=\"url(#clip662)\" cx=\"1350.33\" cy=\"714.625\" r=\"14\" fill=\"#009af9\" fill-rule=\"evenodd\" fill-opacity=\"1\" stroke=\"#000000\" stroke-opacity=\"1\" stroke-width=\"3.2\"/>\n",
       "<circle clip-path=\"url(#clip662)\" cx=\"1298.12\" cy=\"714.625\" r=\"14\" fill=\"#009af9\" fill-rule=\"evenodd\" fill-opacity=\"1\" stroke=\"#000000\" stroke-opacity=\"1\" stroke-width=\"3.2\"/>\n",
       "<circle clip-path=\"url(#clip662)\" cx=\"1498.91\" cy=\"505.742\" r=\"14\" fill=\"#009af9\" fill-rule=\"evenodd\" fill-opacity=\"1\" stroke=\"#000000\" stroke-opacity=\"1\" stroke-width=\"3.2\"/>\n",
       "<circle clip-path=\"url(#clip662)\" cx=\"1470.8\" cy=\"1027.95\" r=\"14\" fill=\"#009af9\" fill-rule=\"evenodd\" fill-opacity=\"1\" stroke=\"#000000\" stroke-opacity=\"1\" stroke-width=\"3.2\"/>\n",
       "<circle clip-path=\"url(#clip662)\" cx=\"1386.47\" cy=\"610.184\" r=\"14\" fill=\"#009af9\" fill-rule=\"evenodd\" fill-opacity=\"1\" stroke=\"#000000\" stroke-opacity=\"1\" stroke-width=\"3.2\"/>\n",
       "<circle clip-path=\"url(#clip662)\" cx=\"1695.67\" cy=\"1027.95\" r=\"14\" fill=\"#009af9\" fill-rule=\"evenodd\" fill-opacity=\"1\" stroke=\"#000000\" stroke-opacity=\"1\" stroke-width=\"3.2\"/>\n",
       "<circle clip-path=\"url(#clip662)\" cx=\"864.434\" cy=\"610.184\" r=\"14\" fill=\"#009af9\" fill-rule=\"evenodd\" fill-opacity=\"1\" stroke=\"#000000\" stroke-opacity=\"1\" stroke-width=\"3.2\"/>\n",
       "<circle clip-path=\"url(#clip662)\" cx=\"1093.33\" cy=\"505.742\" r=\"14\" fill=\"#009af9\" fill-rule=\"evenodd\" fill-opacity=\"1\" stroke=\"#000000\" stroke-opacity=\"1\" stroke-width=\"3.2\"/>\n",
       "<circle clip-path=\"url(#clip662)\" cx=\"1771.97\" cy=\"819.067\" r=\"14\" fill=\"#009af9\" fill-rule=\"evenodd\" fill-opacity=\"1\" stroke=\"#000000\" stroke-opacity=\"1\" stroke-width=\"3.2\"/>\n",
       "<circle clip-path=\"url(#clip662)\" cx=\"531.135\" cy=\"1341.27\" r=\"14\" fill=\"#009af9\" fill-rule=\"evenodd\" fill-opacity=\"1\" stroke=\"#000000\" stroke-opacity=\"1\" stroke-width=\"3.2\"/>\n",
       "<circle clip-path=\"url(#clip662)\" cx=\"2101.26\" cy=\"819.067\" r=\"14\" fill=\"#009af9\" fill-rule=\"evenodd\" fill-opacity=\"1\" stroke=\"#000000\" stroke-opacity=\"1\" stroke-width=\"3.2\"/>\n",
       "<circle clip-path=\"url(#clip662)\" cx=\"743.964\" cy=\"1132.39\" r=\"14\" fill=\"#009af9\" fill-rule=\"evenodd\" fill-opacity=\"1\" stroke=\"#000000\" stroke-opacity=\"1\" stroke-width=\"3.2\"/>\n",
       "<circle clip-path=\"url(#clip662)\" cx=\"197.835\" cy=\"1132.39\" r=\"14\" fill=\"#009af9\" fill-rule=\"evenodd\" fill-opacity=\"1\" stroke=\"#000000\" stroke-opacity=\"1\" stroke-width=\"3.2\"/>\n",
       "<circle clip-path=\"url(#clip662)\" cx=\"1257.97\" cy=\"1236.83\" r=\"14\" fill=\"#009af9\" fill-rule=\"evenodd\" fill-opacity=\"1\" stroke=\"#000000\" stroke-opacity=\"1\" stroke-width=\"3.2\"/>\n",
       "<circle clip-path=\"url(#clip662)\" cx=\"1643.47\" cy=\"505.742\" r=\"14\" fill=\"#009af9\" fill-rule=\"evenodd\" fill-opacity=\"1\" stroke=\"#000000\" stroke-opacity=\"1\" stroke-width=\"3.2\"/>\n",
       "<circle clip-path=\"url(#clip662)\" cx=\"880.497\" cy=\"1132.39\" r=\"14\" fill=\"#009af9\" fill-rule=\"evenodd\" fill-opacity=\"1\" stroke=\"#000000\" stroke-opacity=\"1\" stroke-width=\"3.2\"/>\n",
       "<circle clip-path=\"url(#clip662)\" cx=\"1362.38\" cy=\"610.184\" r=\"14\" fill=\"#009af9\" fill-rule=\"evenodd\" fill-opacity=\"1\" stroke=\"#000000\" stroke-opacity=\"1\" stroke-width=\"3.2\"/>\n",
       "<circle clip-path=\"url(#clip662)\" cx=\"1980.79\" cy=\"1027.95\" r=\"14\" fill=\"#009af9\" fill-rule=\"evenodd\" fill-opacity=\"1\" stroke=\"#000000\" stroke-opacity=\"1\" stroke-width=\"3.2\"/>\n",
       "<circle clip-path=\"url(#clip662)\" cx=\"1410.56\" cy=\"1027.95\" r=\"14\" fill=\"#009af9\" fill-rule=\"evenodd\" fill-opacity=\"1\" stroke=\"#000000\" stroke-opacity=\"1\" stroke-width=\"3.2\"/>\n",
       "<circle clip-path=\"url(#clip662)\" cx=\"1105.37\" cy=\"923.508\" r=\"14\" fill=\"#009af9\" fill-rule=\"evenodd\" fill-opacity=\"1\" stroke=\"#000000\" stroke-opacity=\"1\" stroke-width=\"3.2\"/>\n",
       "<circle clip-path=\"url(#clip662)\" cx=\"1502.92\" cy=\"714.625\" r=\"14\" fill=\"#009af9\" fill-rule=\"evenodd\" fill-opacity=\"1\" stroke=\"#000000\" stroke-opacity=\"1\" stroke-width=\"3.2\"/>\n",
       "<circle clip-path=\"url(#clip662)\" cx=\"1101.36\" cy=\"1341.27\" r=\"14\" fill=\"#009af9\" fill-rule=\"evenodd\" fill-opacity=\"1\" stroke=\"#000000\" stroke-opacity=\"1\" stroke-width=\"3.2\"/>\n",
       "<circle clip-path=\"url(#clip662)\" cx=\"1518.99\" cy=\"610.184\" r=\"14\" fill=\"#009af9\" fill-rule=\"evenodd\" fill-opacity=\"1\" stroke=\"#000000\" stroke-opacity=\"1\" stroke-width=\"3.2\"/>\n",
       "<circle clip-path=\"url(#clip662)\" cx=\"1097.34\" cy=\"1445.72\" r=\"14\" fill=\"#009af9\" fill-rule=\"evenodd\" fill-opacity=\"1\" stroke=\"#000000\" stroke-opacity=\"1\" stroke-width=\"3.2\"/>\n",
       "<circle clip-path=\"url(#clip662)\" cx=\"1454.74\" cy=\"714.625\" r=\"14\" fill=\"#009af9\" fill-rule=\"evenodd\" fill-opacity=\"1\" stroke=\"#000000\" stroke-opacity=\"1\" stroke-width=\"3.2\"/>\n",
       "<circle clip-path=\"url(#clip662)\" cx=\"1458.75\" cy=\"610.184\" r=\"14\" fill=\"#009af9\" fill-rule=\"evenodd\" fill-opacity=\"1\" stroke=\"#000000\" stroke-opacity=\"1\" stroke-width=\"3.2\"/>\n",
       "<circle clip-path=\"url(#clip662)\" cx=\"723.886\" cy=\"1132.39\" r=\"14\" fill=\"#009af9\" fill-rule=\"evenodd\" fill-opacity=\"1\" stroke=\"#000000\" stroke-opacity=\"1\" stroke-width=\"3.2\"/>\n",
       "<circle clip-path=\"url(#clip662)\" cx=\"1089.31\" cy=\"505.742\" r=\"14\" fill=\"#009af9\" fill-rule=\"evenodd\" fill-opacity=\"1\" stroke=\"#000000\" stroke-opacity=\"1\" stroke-width=\"3.2\"/>\n",
       "<circle clip-path=\"url(#clip662)\" cx=\"908.606\" cy=\"610.184\" r=\"14\" fill=\"#009af9\" fill-rule=\"evenodd\" fill-opacity=\"1\" stroke=\"#000000\" stroke-opacity=\"1\" stroke-width=\"3.2\"/>\n",
       "<circle clip-path=\"url(#clip662)\" cx=\"1193.72\" cy=\"1236.83\" r=\"14\" fill=\"#009af9\" fill-rule=\"evenodd\" fill-opacity=\"1\" stroke=\"#000000\" stroke-opacity=\"1\" stroke-width=\"3.2\"/>\n",
       "<circle clip-path=\"url(#clip662)\" cx=\"1430.64\" cy=\"819.067\" r=\"14\" fill=\"#009af9\" fill-rule=\"evenodd\" fill-opacity=\"1\" stroke=\"#000000\" stroke-opacity=\"1\" stroke-width=\"3.2\"/>\n",
       "<circle clip-path=\"url(#clip662)\" cx=\"1470.8\" cy=\"714.625\" r=\"14\" fill=\"#009af9\" fill-rule=\"evenodd\" fill-opacity=\"1\" stroke=\"#000000\" stroke-opacity=\"1\" stroke-width=\"3.2\"/>\n",
       "<circle clip-path=\"url(#clip662)\" cx=\"2049.05\" cy=\"401.301\" r=\"14\" fill=\"#009af9\" fill-rule=\"evenodd\" fill-opacity=\"1\" stroke=\"#000000\" stroke-opacity=\"1\" stroke-width=\"3.2\"/>\n",
       "<circle clip-path=\"url(#clip662)\" cx=\"1703.71\" cy=\"819.067\" r=\"14\" fill=\"#009af9\" fill-rule=\"evenodd\" fill-opacity=\"1\" stroke=\"#000000\" stroke-opacity=\"1\" stroke-width=\"3.2\"/>\n",
       "<circle clip-path=\"url(#clip662)\" cx=\"1426.63\" cy=\"714.625\" r=\"14\" fill=\"#009af9\" fill-rule=\"evenodd\" fill-opacity=\"1\" stroke=\"#000000\" stroke-opacity=\"1\" stroke-width=\"3.2\"/>\n",
       "<circle clip-path=\"url(#clip662)\" cx=\"820.262\" cy=\"819.067\" r=\"14\" fill=\"#009af9\" fill-rule=\"evenodd\" fill-opacity=\"1\" stroke=\"#000000\" stroke-opacity=\"1\" stroke-width=\"3.2\"/>\n",
       "<circle clip-path=\"url(#clip662)\" cx=\"1510.95\" cy=\"1027.95\" r=\"14\" fill=\"#009af9\" fill-rule=\"evenodd\" fill-opacity=\"1\" stroke=\"#000000\" stroke-opacity=\"1\" stroke-width=\"3.2\"/>\n",
       "<circle clip-path=\"url(#clip662)\" cx=\"1073.25\" cy=\"1027.95\" r=\"14\" fill=\"#009af9\" fill-rule=\"evenodd\" fill-opacity=\"1\" stroke=\"#000000\" stroke-opacity=\"1\" stroke-width=\"3.2\"/>\n",
       "<circle clip-path=\"url(#clip662)\" cx=\"1221.83\" cy=\"610.184\" r=\"14\" fill=\"#009af9\" fill-rule=\"evenodd\" fill-opacity=\"1\" stroke=\"#000000\" stroke-opacity=\"1\" stroke-width=\"3.2\"/>\n",
       "<circle clip-path=\"url(#clip662)\" cx=\"904.59\" cy=\"610.184\" r=\"14\" fill=\"#009af9\" fill-rule=\"evenodd\" fill-opacity=\"1\" stroke=\"#000000\" stroke-opacity=\"1\" stroke-width=\"3.2\"/>\n",
       "<circle clip-path=\"url(#clip662)\" cx=\"820.262\" cy=\"714.625\" r=\"14\" fill=\"#009af9\" fill-rule=\"evenodd\" fill-opacity=\"1\" stroke=\"#000000\" stroke-opacity=\"1\" stroke-width=\"3.2\"/>\n",
       "<circle clip-path=\"url(#clip662)\" cx=\"1856.3\" cy=\"401.301\" r=\"14\" fill=\"#009af9\" fill-rule=\"evenodd\" fill-opacity=\"1\" stroke=\"#000000\" stroke-opacity=\"1\" stroke-width=\"3.2\"/>\n",
       "<circle clip-path=\"url(#clip662)\" cx=\"1025.06\" cy=\"1027.95\" r=\"14\" fill=\"#009af9\" fill-rule=\"evenodd\" fill-opacity=\"1\" stroke=\"#000000\" stroke-opacity=\"1\" stroke-width=\"3.2\"/>\n",
       "<circle clip-path=\"url(#clip662)\" cx=\"1382.45\" cy=\"192.418\" r=\"14\" fill=\"#e26f46\" fill-rule=\"evenodd\" fill-opacity=\"1\" stroke=\"#000000\" stroke-opacity=\"1\" stroke-width=\"3.2\"/>\n",
       "<circle clip-path=\"url(#clip662)\" cx=\"944.747\" cy=\"1027.95\" r=\"14\" fill=\"#e26f46\" fill-rule=\"evenodd\" fill-opacity=\"1\" stroke=\"#000000\" stroke-opacity=\"1\" stroke-width=\"3.2\"/>\n",
       "<circle clip-path=\"url(#clip662)\" cx=\"1282.06\" cy=\"923.508\" r=\"14\" fill=\"#e26f46\" fill-rule=\"evenodd\" fill-opacity=\"1\" stroke=\"#000000\" stroke-opacity=\"1\" stroke-width=\"3.2\"/>\n",
       "<circle clip-path=\"url(#clip662)\" cx=\"828.293\" cy=\"714.625\" r=\"14\" fill=\"#e26f46\" fill-rule=\"evenodd\" fill-opacity=\"1\" stroke=\"#000000\" stroke-opacity=\"1\" stroke-width=\"3.2\"/>\n",
       "<circle clip-path=\"url(#clip662)\" cx=\"2145.43\" cy=\"1027.95\" r=\"14\" fill=\"#e26f46\" fill-rule=\"evenodd\" fill-opacity=\"1\" stroke=\"#000000\" stroke-opacity=\"1\" stroke-width=\"3.2\"/>\n",
       "<circle clip-path=\"url(#clip662)\" cx=\"1290.09\" cy=\"923.508\" r=\"14\" fill=\"#e26f46\" fill-rule=\"evenodd\" fill-opacity=\"1\" stroke=\"#000000\" stroke-opacity=\"1\" stroke-width=\"3.2\"/>\n",
       "<circle clip-path=\"url(#clip662)\" cx=\"1261.98\" cy=\"714.625\" r=\"14\" fill=\"#e26f46\" fill-rule=\"evenodd\" fill-opacity=\"1\" stroke=\"#000000\" stroke-opacity=\"1\" stroke-width=\"3.2\"/>\n",
       "<circle clip-path=\"url(#clip662)\" cx=\"2077.16\" cy=\"296.859\" r=\"14\" fill=\"#e26f46\" fill-rule=\"evenodd\" fill-opacity=\"1\" stroke=\"#000000\" stroke-opacity=\"1\" stroke-width=\"3.2\"/>\n",
       "<circle clip-path=\"url(#clip662)\" cx=\"1390.48\" cy=\"714.625\" r=\"14\" fill=\"#e26f46\" fill-rule=\"evenodd\" fill-opacity=\"1\" stroke=\"#000000\" stroke-opacity=\"1\" stroke-width=\"3.2\"/>\n",
       "<circle clip-path=\"url(#clip662)\" cx=\"1061.2\" cy=\"296.859\" r=\"14\" fill=\"#e26f46\" fill-rule=\"evenodd\" fill-opacity=\"1\" stroke=\"#000000\" stroke-opacity=\"1\" stroke-width=\"3.2\"/>\n",
       "<circle clip-path=\"url(#clip662)\" cx=\"1394.5\" cy=\"923.508\" r=\"14\" fill=\"#e26f46\" fill-rule=\"evenodd\" fill-opacity=\"1\" stroke=\"#000000\" stroke-opacity=\"1\" stroke-width=\"3.2\"/>\n",
       "<circle clip-path=\"url(#clip662)\" cx=\"1723.78\" cy=\"819.067\" r=\"14\" fill=\"#e26f46\" fill-rule=\"evenodd\" fill-opacity=\"1\" stroke=\"#000000\" stroke-opacity=\"1\" stroke-width=\"3.2\"/>\n",
       "<circle clip-path=\"url(#clip662)\" cx=\"1000.97\" cy=\"610.184\" r=\"14\" fill=\"#e26f46\" fill-rule=\"evenodd\" fill-opacity=\"1\" stroke=\"#000000\" stroke-opacity=\"1\" stroke-width=\"3.2\"/>\n",
       "<circle clip-path=\"url(#clip662)\" cx=\"1595.28\" cy=\"923.508\" r=\"14\" fill=\"#e26f46\" fill-rule=\"evenodd\" fill-opacity=\"1\" stroke=\"#000000\" stroke-opacity=\"1\" stroke-width=\"3.2\"/>\n",
       "<circle clip-path=\"url(#clip662)\" cx=\"1711.74\" cy=\"401.301\" r=\"14\" fill=\"#e26f46\" fill-rule=\"evenodd\" fill-opacity=\"1\" stroke=\"#000000\" stroke-opacity=\"1\" stroke-width=\"3.2\"/>\n",
       "<circle clip-path=\"url(#clip662)\" cx=\"1547.1\" cy=\"1027.95\" r=\"14\" fill=\"#e26f46\" fill-rule=\"evenodd\" fill-opacity=\"1\" stroke=\"#000000\" stroke-opacity=\"1\" stroke-width=\"3.2\"/>\n",
       "<circle clip-path=\"url(#clip662)\" cx=\"1201.75\" cy=\"87.9763\" r=\"14\" fill=\"#e26f46\" fill-rule=\"evenodd\" fill-opacity=\"1\" stroke=\"#000000\" stroke-opacity=\"1\" stroke-width=\"3.2\"/>\n",
       "<circle clip-path=\"url(#clip662)\" cx=\"1691.66\" cy=\"1341.27\" r=\"14\" fill=\"#e26f46\" fill-rule=\"evenodd\" fill-opacity=\"1\" stroke=\"#000000\" stroke-opacity=\"1\" stroke-width=\"3.2\"/>\n",
       "<circle clip-path=\"url(#clip662)\" cx=\"1165.61\" cy=\"1236.83\" r=\"14\" fill=\"#e26f46\" fill-rule=\"evenodd\" fill-opacity=\"1\" stroke=\"#000000\" stroke-opacity=\"1\" stroke-width=\"3.2\"/>\n",
       "<circle clip-path=\"url(#clip662)\" cx=\"2277.94\" cy=\"1027.95\" r=\"14\" fill=\"#e26f46\" fill-rule=\"evenodd\" fill-opacity=\"1\" stroke=\"#000000\" stroke-opacity=\"1\" stroke-width=\"3.2\"/>\n",
       "<circle clip-path=\"url(#clip662)\" cx=\"1543.08\" cy=\"610.184\" r=\"14\" fill=\"#e26f46\" fill-rule=\"evenodd\" fill-opacity=\"1\" stroke=\"#000000\" stroke-opacity=\"1\" stroke-width=\"3.2\"/>\n",
       "<circle clip-path=\"url(#clip662)\" cx=\"1848.27\" cy=\"819.067\" r=\"14\" fill=\"#e26f46\" fill-rule=\"evenodd\" fill-opacity=\"1\" stroke=\"#000000\" stroke-opacity=\"1\" stroke-width=\"3.2\"/>\n",
       "<circle clip-path=\"url(#clip662)\" cx=\"2289.99\" cy=\"819.067\" r=\"14\" fill=\"#e26f46\" fill-rule=\"evenodd\" fill-opacity=\"1\" stroke=\"#000000\" stroke-opacity=\"1\" stroke-width=\"3.2\"/>\n",
       "<circle clip-path=\"url(#clip662)\" cx=\"1398.52\" cy=\"923.508\" r=\"14\" fill=\"#e26f46\" fill-rule=\"evenodd\" fill-opacity=\"1\" stroke=\"#000000\" stroke-opacity=\"1\" stroke-width=\"3.2\"/>\n",
       "<circle clip-path=\"url(#clip662)\" cx=\"1137.5\" cy=\"1132.39\" r=\"14\" fill=\"#e26f46\" fill-rule=\"evenodd\" fill-opacity=\"1\" stroke=\"#000000\" stroke-opacity=\"1\" stroke-width=\"3.2\"/>\n",
       "<circle clip-path=\"url(#clip662)\" cx=\"1422.61\" cy=\"1027.95\" r=\"14\" fill=\"#e26f46\" fill-rule=\"evenodd\" fill-opacity=\"1\" stroke=\"#000000\" stroke-opacity=\"1\" stroke-width=\"3.2\"/>\n",
       "<circle clip-path=\"url(#clip662)\" cx=\"2032.99\" cy=\"819.067\" r=\"14\" fill=\"#e26f46\" fill-rule=\"evenodd\" fill-opacity=\"1\" stroke=\"#000000\" stroke-opacity=\"1\" stroke-width=\"3.2\"/>\n",
       "<circle clip-path=\"url(#clip662)\" cx=\"1133.48\" cy=\"714.625\" r=\"14\" fill=\"#e26f46\" fill-rule=\"evenodd\" fill-opacity=\"1\" stroke=\"#000000\" stroke-opacity=\"1\" stroke-width=\"3.2\"/>\n",
       "<circle clip-path=\"url(#clip662)\" cx=\"1486.86\" cy=\"714.625\" r=\"14\" fill=\"#e26f46\" fill-rule=\"evenodd\" fill-opacity=\"1\" stroke=\"#000000\" stroke-opacity=\"1\" stroke-width=\"3.2\"/>\n",
       "<circle clip-path=\"url(#clip662)\" cx=\"1310.17\" cy=\"1027.95\" r=\"14\" fill=\"#e26f46\" fill-rule=\"evenodd\" fill-opacity=\"1\" stroke=\"#000000\" stroke-opacity=\"1\" stroke-width=\"3.2\"/>\n",
       "<circle clip-path=\"url(#clip662)\" cx=\"1446.7\" cy=\"923.508\" r=\"14\" fill=\"#e26f46\" fill-rule=\"evenodd\" fill-opacity=\"1\" stroke=\"#000000\" stroke-opacity=\"1\" stroke-width=\"3.2\"/>\n",
       "<circle clip-path=\"url(#clip662)\" cx=\"1944.64\" cy=\"610.184\" r=\"14\" fill=\"#e26f46\" fill-rule=\"evenodd\" fill-opacity=\"1\" stroke=\"#000000\" stroke-opacity=\"1\" stroke-width=\"3.2\"/>\n",
       "<circle clip-path=\"url(#clip662)\" cx=\"1093.33\" cy=\"1027.95\" r=\"14\" fill=\"#e26f46\" fill-rule=\"evenodd\" fill-opacity=\"1\" stroke=\"#000000\" stroke-opacity=\"1\" stroke-width=\"3.2\"/>\n",
       "<circle clip-path=\"url(#clip662)\" cx=\"1840.24\" cy=\"505.742\" r=\"14\" fill=\"#e26f46\" fill-rule=\"evenodd\" fill-opacity=\"1\" stroke=\"#000000\" stroke-opacity=\"1\" stroke-width=\"3.2\"/>\n",
       "<circle clip-path=\"url(#clip662)\" cx=\"1217.81\" cy=\"505.742\" r=\"14\" fill=\"#e26f46\" fill-rule=\"evenodd\" fill-opacity=\"1\" stroke=\"#000000\" stroke-opacity=\"1\" stroke-width=\"3.2\"/>\n",
       "<circle clip-path=\"url(#clip662)\" cx=\"1639.46\" cy=\"505.742\" r=\"14\" fill=\"#e26f46\" fill-rule=\"evenodd\" fill-opacity=\"1\" stroke=\"#000000\" stroke-opacity=\"1\" stroke-width=\"3.2\"/>\n",
       "<circle clip-path=\"url(#clip662)\" cx=\"1410.56\" cy=\"1132.39\" r=\"14\" fill=\"#e26f46\" fill-rule=\"evenodd\" fill-opacity=\"1\" stroke=\"#000000\" stroke-opacity=\"1\" stroke-width=\"3.2\"/>\n",
       "<circle clip-path=\"url(#clip662)\" cx=\"1531.03\" cy=\"1027.95\" r=\"14\" fill=\"#e26f46\" fill-rule=\"evenodd\" fill-opacity=\"1\" stroke=\"#000000\" stroke-opacity=\"1\" stroke-width=\"3.2\"/>\n",
       "<circle clip-path=\"url(#clip662)\" cx=\"1619.38\" cy=\"1236.83\" r=\"14\" fill=\"#e26f46\" fill-rule=\"evenodd\" fill-opacity=\"1\" stroke=\"#000000\" stroke-opacity=\"1\" stroke-width=\"3.2\"/>\n",
       "<circle clip-path=\"url(#clip662)\" cx=\"864.434\" cy=\"1132.39\" r=\"14\" fill=\"#e26f46\" fill-rule=\"evenodd\" fill-opacity=\"1\" stroke=\"#000000\" stroke-opacity=\"1\" stroke-width=\"3.2\"/>\n",
       "<circle clip-path=\"url(#clip662)\" cx=\"1808.11\" cy=\"1027.95\" r=\"14\" fill=\"#e26f46\" fill-rule=\"evenodd\" fill-opacity=\"1\" stroke=\"#000000\" stroke-opacity=\"1\" stroke-width=\"3.2\"/>\n",
       "<circle clip-path=\"url(#clip662)\" cx=\"1270.01\" cy=\"1132.39\" r=\"14\" fill=\"#e26f46\" fill-rule=\"evenodd\" fill-opacity=\"1\" stroke=\"#000000\" stroke-opacity=\"1\" stroke-width=\"3.2\"/>\n",
       "<circle clip-path=\"url(#clip662)\" cx=\"1944.64\" cy=\"819.067\" r=\"14\" fill=\"#e26f46\" fill-rule=\"evenodd\" fill-opacity=\"1\" stroke=\"#000000\" stroke-opacity=\"1\" stroke-width=\"3.2\"/>\n",
       "<circle clip-path=\"url(#clip662)\" cx=\"1338.28\" cy=\"1132.39\" r=\"14\" fill=\"#e26f46\" fill-rule=\"evenodd\" fill-opacity=\"1\" stroke=\"#000000\" stroke-opacity=\"1\" stroke-width=\"3.2\"/>\n",
       "<circle clip-path=\"url(#clip662)\" cx=\"2081.18\" cy=\"714.625\" r=\"14\" fill=\"#e26f46\" fill-rule=\"evenodd\" fill-opacity=\"1\" stroke=\"#000000\" stroke-opacity=\"1\" stroke-width=\"3.2\"/>\n",
       "<circle clip-path=\"url(#clip662)\" cx=\"984.904\" cy=\"819.067\" r=\"14\" fill=\"#e26f46\" fill-rule=\"evenodd\" fill-opacity=\"1\" stroke=\"#000000\" stroke-opacity=\"1\" stroke-width=\"3.2\"/>\n",
       "<circle clip-path=\"url(#clip662)\" cx=\"731.917\" cy=\"1027.95\" r=\"14\" fill=\"#e26f46\" fill-rule=\"evenodd\" fill-opacity=\"1\" stroke=\"#000000\" stroke-opacity=\"1\" stroke-width=\"3.2\"/>\n",
       "<circle clip-path=\"url(#clip662)\" cx=\"1422.61\" cy=\"819.067\" r=\"14\" fill=\"#e26f46\" fill-rule=\"evenodd\" fill-opacity=\"1\" stroke=\"#000000\" stroke-opacity=\"1\" stroke-width=\"3.2\"/>\n",
       "<circle clip-path=\"url(#clip662)\" cx=\"1671.58\" cy=\"923.508\" r=\"14\" fill=\"#e26f46\" fill-rule=\"evenodd\" fill-opacity=\"1\" stroke=\"#000000\" stroke-opacity=\"1\" stroke-width=\"3.2\"/>\n",
       "<circle clip-path=\"url(#clip662)\" cx=\"1314.19\" cy=\"714.625\" r=\"14\" fill=\"#e26f46\" fill-rule=\"evenodd\" fill-opacity=\"1\" stroke=\"#000000\" stroke-opacity=\"1\" stroke-width=\"3.2\"/>\n",
       "<polyline clip-path=\"url(#clip662)\" style=\"stroke:#3da44d; stroke-width:8; stroke-opacity:1; fill:none\" points=\"\n",
       "  197.835,1000.73 218.968,998.118 240.101,995.497 261.234,992.866 282.367,990.225 303.5,987.573 324.633,984.91 345.765,982.237 366.898,979.553 388.031,976.858 \n",
       "  409.164,974.153 430.297,971.437 451.43,968.71 472.563,965.972 493.696,963.223 514.829,960.463 535.961,957.692 557.094,954.91 578.227,952.118 599.36,949.313 \n",
       "  620.493,946.498 641.626,943.671 662.759,940.834 683.892,937.984 705.025,935.124 726.157,932.252 747.29,929.369 768.423,926.474 789.556,923.567 810.689,920.649 \n",
       "  831.822,917.719 852.955,914.778 874.088,911.825 895.221,908.86 916.353,905.883 937.486,902.894 958.619,899.894 979.752,896.881 1000.89,893.856 1022.02,890.82 \n",
       "  1043.15,887.771 1064.28,884.71 1085.42,881.637 1106.55,878.551 1127.68,875.453 1148.82,872.343 1169.95,869.221 1191.08,866.086 1212.21,862.938 1233.35,859.778 \n",
       "  1254.48,856.605 1275.61,853.42 1296.75,850.222 1317.88,847.011 1339.01,843.787 1360.14,840.551 1381.28,837.301 1402.41,834.039 1423.54,830.763 1444.68,827.475 \n",
       "  1465.81,824.173 1486.94,820.858 1508.07,817.53 1529.21,814.189 1550.34,810.834 1571.47,807.466 1592.61,804.084 1613.74,800.689 1634.87,797.281 1656,793.858 \n",
       "  1677.14,790.423 1698.27,786.973 1719.4,783.51 1740.54,780.032 1761.67,776.541 1782.8,773.036 1803.93,769.517 1825.07,765.984 1846.2,762.437 1867.33,758.876 \n",
       "  1888.47,755.3 1909.6,751.711 1930.73,748.107 1951.87,744.488 1973,740.855 1994.13,737.208 2015.26,733.546 2036.4,729.869 2057.53,726.178 2078.66,722.472 \n",
       "  2099.8,718.751 2120.93,715.015 2142.06,711.265 2163.19,707.499 2184.33,703.719 2205.46,699.923 2226.59,696.112 2247.73,692.286 2268.86,688.445 2289.99,684.588 \n",
       "  \n",
       "  \"/>\n",
       "<path clip-path=\"url(#clip660)\" d=\"\n",
       "M2011.52 372.684 L2280.76 372.684 L2280.76 130.764 L2011.52 130.764  Z\n",
       "  \" fill=\"#ffffff\" fill-rule=\"evenodd\" fill-opacity=\"1\"/>\n",
       "<polyline clip-path=\"url(#clip660)\" style=\"stroke:#000000; stroke-width:4; stroke-opacity:1; fill:none\" points=\"\n",
       "  2011.52,372.684 2280.76,372.684 2280.76,130.764 2011.52,130.764 2011.52,372.684 \n",
       "  \"/>\n",
       "<circle clip-path=\"url(#clip660)\" cx=\"2119.52\" cy=\"191.244\" r=\"23\" fill=\"#009af9\" fill-rule=\"evenodd\" fill-opacity=\"1\" stroke=\"#000000\" stroke-opacity=\"1\" stroke-width=\"5.12\"/>\n",
       "<path clip-path=\"url(#clip660)\" d=\"M 0 0 M2231.39 176.626 L2231.39 181.557 Q2229.03 179.358 2226.34 178.27 Q2223.68 177.182 2220.67 177.182 Q2214.75 177.182 2211.6 180.816 Q2208.45 184.427 2208.45 191.279 Q2208.45 198.107 2211.6 201.742 Q2214.75 205.353 2220.67 205.353 Q2223.68 205.353 2226.34 204.265 Q2229.03 203.177 2231.39 200.978 L2231.39 205.862 Q2228.94 207.529 2226.18 208.362 Q2223.45 209.195 2220.39 209.195 Q2212.55 209.195 2208.03 204.404 Q2203.52 199.589 2203.52 191.279 Q2203.52 182.946 2208.03 178.154 Q2212.55 173.339 2220.39 173.339 Q2223.5 173.339 2226.23 174.172 Q2228.98 174.983 2231.39 176.626 Z\" fill=\"#000000\" fill-rule=\"evenodd\" fill-opacity=\"1\" /><circle clip-path=\"url(#clip660)\" cx=\"2119.52\" cy=\"251.724\" r=\"23\" fill=\"#e26f46\" fill-rule=\"evenodd\" fill-opacity=\"1\" stroke=\"#000000\" stroke-opacity=\"1\" stroke-width=\"5.12\"/>\n",
       "<path clip-path=\"url(#clip660)\" d=\"M 0 0 M2203.52 234.444 L2232.76 234.444 L2232.76 238.379 L2220.49 238.379 L2220.49 269.004 L2215.79 269.004 L2215.79 238.379 L2203.52 238.379 L2203.52 234.444 Z\" fill=\"#000000\" fill-rule=\"evenodd\" fill-opacity=\"1\" /><polyline clip-path=\"url(#clip660)\" style=\"stroke:#3da44d; stroke-width:4; stroke-opacity:1; fill:none\" points=\"\n",
       "  2035.52,312.204 2179.52,312.204 \n",
       "  \"/>\n",
       "<path clip-path=\"url(#clip660)\" d=\"M 0 0 M2227.25 328.587 Q2227.25 329.032 2226.73 329.079 L2225.68 329.079 Q2224.6 329.079 2224.13 328.915 Q2223.66 328.751 2223.12 328.001 Q2222.8 327.533 2221.98 325.355 Q2221.18 323.153 2220.01 319.827 Q2218.86 316.501 2218.09 314.533 L2206.54 328.165 Q2205.75 329.172 2204.95 329.172 Q2204.36 329.172 2203.94 328.774 Q2203.52 328.376 2203.52 327.767 Q2203.52 327.322 2203.68 327.064 Q2203.87 326.807 2204.36 326.291 L2217.62 313.151 L2212.96 300.105 Q2212.07 297.693 2211.55 297.084 Q2211.06 296.475 2209.84 296.264 Q2209.4 296.147 2209.4 295.772 Q2209.4 295.257 2210.27 295.257 Q2214.9 295.257 2216.12 298.653 L2225.91 325.94 Q2226.45 327.509 2227.01 328.165 Q2227.25 328.47 2227.25 328.587 Z\" fill=\"#000000\" fill-rule=\"evenodd\" fill-opacity=\"1\" /></svg>\n"
      ]
     },
     "execution_count": 115,
     "metadata": {},
     "output_type": "execute_result"
    },
    {
     "name": "stderr",
     "output_type": "stream",
     "text": [
      "sh: latex: command not found\n",
      "latex: failed to create a dvi file\n"
     ]
    }
   ],
   "source": [
    "plot(df.x, df.y, group=df.f, seriestype=:scatter)\n",
    "xx = range(minimum(df.x), maximum(df.x), length=100)\n",
    "plot!(xx, exp.(1.29 .+ 0.0757 .* xx), linewidth=2, label=L\"\\lambda\")"
   ]
  },
  {
   "cell_type": "code",
   "execution_count": 116,
   "metadata": {},
   "outputs": [
    {
     "data": {
      "image/svg+xml": [
       "<?xml version=\"1.0\" encoding=\"utf-8\"?>\n",
       "<svg xmlns=\"http://www.w3.org/2000/svg\" xmlns:xlink=\"http://www.w3.org/1999/xlink\" width=\"600\" height=\"400\" viewBox=\"0 0 2400 1600\">\n",
       "<defs>\n",
       "  <clipPath id=\"clip700\">\n",
       "    <rect x=\"0\" y=\"0\" width=\"2400\" height=\"1600\"/>\n",
       "  </clipPath>\n",
       "</defs>\n",
       "<path clip-path=\"url(#clip700)\" d=\"\n",
       "M0 1600 L2400 1600 L2400 0 L0 0  Z\n",
       "  \" fill=\"#ffffff\" fill-rule=\"evenodd\" fill-opacity=\"1\"/>\n",
       "<defs>\n",
       "  <clipPath id=\"clip701\">\n",
       "    <rect x=\"480\" y=\"0\" width=\"1681\" height=\"1600\"/>\n",
       "  </clipPath>\n",
       "</defs>\n",
       "<path clip-path=\"url(#clip700)\" d=\"\n",
       "M135.071 1486.45 L2352.76 1486.45 L2352.76 47.2441 L135.071 47.2441  Z\n",
       "  \" fill=\"#ffffff\" fill-rule=\"evenodd\" fill-opacity=\"1\"/>\n",
       "<defs>\n",
       "  <clipPath id=\"clip702\">\n",
       "    <rect x=\"135\" y=\"47\" width=\"2219\" height=\"1440\"/>\n",
       "  </clipPath>\n",
       "</defs>\n",
       "<polyline clip-path=\"url(#clip702)\" style=\"stroke:#000000; stroke-width:2; stroke-opacity:0.1; fill:none\" points=\"\n",
       "  523.103,1486.45 523.103,47.2441 \n",
       "  \"/>\n",
       "<polyline clip-path=\"url(#clip702)\" style=\"stroke:#000000; stroke-width:2; stroke-opacity:0.1; fill:none\" points=\"\n",
       "  924.669,1486.45 924.669,47.2441 \n",
       "  \"/>\n",
       "<polyline clip-path=\"url(#clip702)\" style=\"stroke:#000000; stroke-width:2; stroke-opacity:0.1; fill:none\" points=\"\n",
       "  1326.23,1486.45 1326.23,47.2441 \n",
       "  \"/>\n",
       "<polyline clip-path=\"url(#clip702)\" style=\"stroke:#000000; stroke-width:2; stroke-opacity:0.1; fill:none\" points=\"\n",
       "  1727.8,1486.45 1727.8,47.2441 \n",
       "  \"/>\n",
       "<polyline clip-path=\"url(#clip702)\" style=\"stroke:#000000; stroke-width:2; stroke-opacity:0.1; fill:none\" points=\"\n",
       "  2129.37,1486.45 2129.37,47.2441 \n",
       "  \"/>\n",
       "<polyline clip-path=\"url(#clip702)\" style=\"stroke:#000000; stroke-width:2; stroke-opacity:0.1; fill:none\" points=\"\n",
       "  135.071,1445.72 2352.76,1445.72 \n",
       "  \"/>\n",
       "<polyline clip-path=\"url(#clip702)\" style=\"stroke:#000000; stroke-width:2; stroke-opacity:0.1; fill:none\" points=\"\n",
       "  135.071,1236.83 2352.76,1236.83 \n",
       "  \"/>\n",
       "<polyline clip-path=\"url(#clip702)\" style=\"stroke:#000000; stroke-width:2; stroke-opacity:0.1; fill:none\" points=\"\n",
       "  135.071,1027.95 2352.76,1027.95 \n",
       "  \"/>\n",
       "<polyline clip-path=\"url(#clip702)\" style=\"stroke:#000000; stroke-width:2; stroke-opacity:0.1; fill:none\" points=\"\n",
       "  135.071,819.067 2352.76,819.067 \n",
       "  \"/>\n",
       "<polyline clip-path=\"url(#clip702)\" style=\"stroke:#000000; stroke-width:2; stroke-opacity:0.1; fill:none\" points=\"\n",
       "  135.071,610.184 2352.76,610.184 \n",
       "  \"/>\n",
       "<polyline clip-path=\"url(#clip702)\" style=\"stroke:#000000; stroke-width:2; stroke-opacity:0.1; fill:none\" points=\"\n",
       "  135.071,401.301 2352.76,401.301 \n",
       "  \"/>\n",
       "<polyline clip-path=\"url(#clip702)\" style=\"stroke:#000000; stroke-width:2; stroke-opacity:0.1; fill:none\" points=\"\n",
       "  135.071,192.418 2352.76,192.418 \n",
       "  \"/>\n",
       "<polyline clip-path=\"url(#clip700)\" style=\"stroke:#000000; stroke-width:4; stroke-opacity:1; fill:none\" points=\"\n",
       "  135.071,1486.45 2352.76,1486.45 \n",
       "  \"/>\n",
       "<polyline clip-path=\"url(#clip700)\" style=\"stroke:#000000; stroke-width:4; stroke-opacity:1; fill:none\" points=\"\n",
       "  135.071,1486.45 135.071,47.2441 \n",
       "  \"/>\n",
       "<polyline clip-path=\"url(#clip700)\" style=\"stroke:#000000; stroke-width:4; stroke-opacity:1; fill:none\" points=\"\n",
       "  523.103,1486.45 523.103,1469.18 \n",
       "  \"/>\n",
       "<polyline clip-path=\"url(#clip700)\" style=\"stroke:#000000; stroke-width:4; stroke-opacity:1; fill:none\" points=\"\n",
       "  924.669,1486.45 924.669,1469.18 \n",
       "  \"/>\n",
       "<polyline clip-path=\"url(#clip700)\" style=\"stroke:#000000; stroke-width:4; stroke-opacity:1; fill:none\" points=\"\n",
       "  1326.23,1486.45 1326.23,1469.18 \n",
       "  \"/>\n",
       "<polyline clip-path=\"url(#clip700)\" style=\"stroke:#000000; stroke-width:4; stroke-opacity:1; fill:none\" points=\"\n",
       "  1727.8,1486.45 1727.8,1469.18 \n",
       "  \"/>\n",
       "<polyline clip-path=\"url(#clip700)\" style=\"stroke:#000000; stroke-width:4; stroke-opacity:1; fill:none\" points=\"\n",
       "  2129.37,1486.45 2129.37,1469.18 \n",
       "  \"/>\n",
       "<polyline clip-path=\"url(#clip700)\" style=\"stroke:#000000; stroke-width:4; stroke-opacity:1; fill:none\" points=\"\n",
       "  135.071,1445.72 161.683,1445.72 \n",
       "  \"/>\n",
       "<polyline clip-path=\"url(#clip700)\" style=\"stroke:#000000; stroke-width:4; stroke-opacity:1; fill:none\" points=\"\n",
       "  135.071,1236.83 161.683,1236.83 \n",
       "  \"/>\n",
       "<polyline clip-path=\"url(#clip700)\" style=\"stroke:#000000; stroke-width:4; stroke-opacity:1; fill:none\" points=\"\n",
       "  135.071,1027.95 161.683,1027.95 \n",
       "  \"/>\n",
       "<polyline clip-path=\"url(#clip700)\" style=\"stroke:#000000; stroke-width:4; stroke-opacity:1; fill:none\" points=\"\n",
       "  135.071,819.067 161.683,819.067 \n",
       "  \"/>\n",
       "<polyline clip-path=\"url(#clip700)\" style=\"stroke:#000000; stroke-width:4; stroke-opacity:1; fill:none\" points=\"\n",
       "  135.071,610.184 161.683,610.184 \n",
       "  \"/>\n",
       "<polyline clip-path=\"url(#clip700)\" style=\"stroke:#000000; stroke-width:4; stroke-opacity:1; fill:none\" points=\"\n",
       "  135.071,401.301 161.683,401.301 \n",
       "  \"/>\n",
       "<polyline clip-path=\"url(#clip700)\" style=\"stroke:#000000; stroke-width:4; stroke-opacity:1; fill:none\" points=\"\n",
       "  135.071,192.418 161.683,192.418 \n",
       "  \"/>\n",
       "<path clip-path=\"url(#clip700)\" d=\"M 0 0 M523.103 1523.51 Q519.77 1523.51 517.849 1525.29 Q515.951 1527.07 515.951 1530.2 Q515.951 1533.32 517.849 1535.11 Q519.77 1536.89 523.103 1536.89 Q526.437 1536.89 528.358 1535.11 Q530.279 1533.3 530.279 1530.2 Q530.279 1527.07 528.358 1525.29 Q526.46 1523.51 523.103 1523.51 M518.427 1521.52 Q515.418 1520.78 513.728 1518.72 Q512.062 1516.66 512.062 1513.69 Q512.062 1509.55 515.001 1507.14 Q517.964 1504.73 523.103 1504.73 Q528.265 1504.73 531.205 1507.14 Q534.145 1509.55 534.145 1513.69 Q534.145 1516.66 532.455 1518.72 Q530.788 1520.78 527.802 1521.52 Q531.182 1522.3 533.057 1524.6 Q534.955 1526.89 534.955 1530.2 Q534.955 1535.22 531.876 1537.91 Q528.821 1540.59 523.103 1540.59 Q517.386 1540.59 514.307 1537.91 Q511.251 1535.22 511.251 1530.2 Q511.251 1526.89 513.15 1524.6 Q515.048 1522.3 518.427 1521.52 M516.714 1514.13 Q516.714 1516.82 518.381 1518.32 Q520.071 1519.83 523.103 1519.83 Q526.113 1519.83 527.802 1518.32 Q529.515 1516.82 529.515 1514.13 Q529.515 1511.45 527.802 1509.94 Q526.113 1508.44 523.103 1508.44 Q520.071 1508.44 518.381 1509.94 Q516.714 1511.45 516.714 1514.13 Z\" fill=\"#000000\" fill-rule=\"evenodd\" fill-opacity=\"1\" /><path clip-path=\"url(#clip700)\" d=\"M 0 0 M914.97 1539.2 L914.97 1534.94 Q916.729 1535.78 918.534 1536.22 Q920.34 1536.66 922.076 1536.66 Q926.706 1536.66 929.136 1533.55 Q931.59 1530.43 931.937 1524.09 Q930.595 1526.08 928.534 1527.14 Q926.474 1528.21 923.974 1528.21 Q918.789 1528.21 915.757 1525.08 Q912.747 1521.93 912.747 1516.49 Q912.747 1511.17 915.896 1507.95 Q919.044 1504.73 924.275 1504.73 Q930.271 1504.73 933.419 1509.34 Q936.59 1513.92 936.59 1522.67 Q936.59 1530.85 932.701 1535.73 Q928.835 1540.59 922.284 1540.59 Q920.525 1540.59 918.72 1540.24 Q916.914 1539.9 914.97 1539.2 M924.275 1524.55 Q927.423 1524.55 929.252 1522.4 Q931.104 1520.24 931.104 1516.49 Q931.104 1512.77 929.252 1510.61 Q927.423 1508.44 924.275 1508.44 Q921.127 1508.44 919.275 1510.61 Q917.447 1512.77 917.447 1516.49 Q917.447 1520.24 919.275 1522.4 Q921.127 1524.55 924.275 1524.55 Z\" fill=\"#000000\" fill-rule=\"evenodd\" fill-opacity=\"1\" /><path clip-path=\"url(#clip700)\" d=\"M 0 0 M1303.11 1535.98 L1310.75 1535.98 L1310.75 1509.62 L1302.44 1511.29 L1302.44 1507.03 L1310.7 1505.36 L1315.38 1505.36 L1315.38 1535.98 L1323.02 1535.98 L1323.02 1539.92 L1303.11 1539.92 L1303.11 1535.98 Z\" fill=\"#000000\" fill-rule=\"evenodd\" fill-opacity=\"1\" /><path clip-path=\"url(#clip700)\" d=\"M 0 0 M1338.09 1508.44 Q1334.47 1508.44 1332.65 1512 Q1330.84 1515.55 1330.84 1522.67 Q1330.84 1529.78 1332.65 1533.35 Q1334.47 1536.89 1338.09 1536.89 Q1341.72 1536.89 1343.53 1533.35 Q1345.35 1529.78 1345.35 1522.67 Q1345.35 1515.55 1343.53 1512 Q1341.72 1508.44 1338.09 1508.44 M1338.09 1504.73 Q1343.9 1504.73 1346.95 1509.34 Q1350.03 1513.92 1350.03 1522.67 Q1350.03 1531.4 1346.95 1536.01 Q1343.9 1540.59 1338.09 1540.59 Q1332.28 1540.59 1329.2 1536.01 Q1326.14 1531.4 1326.14 1522.67 Q1326.14 1513.92 1329.2 1509.34 Q1332.28 1504.73 1338.09 1504.73 Z\" fill=\"#000000\" fill-rule=\"evenodd\" fill-opacity=\"1\" /><path clip-path=\"url(#clip700)\" d=\"M 0 0 M1705.29 1535.98 L1712.93 1535.98 L1712.93 1509.62 L1704.62 1511.29 L1704.62 1507.03 L1712.88 1505.36 L1717.56 1505.36 L1717.56 1535.98 L1725.2 1535.98 L1725.2 1539.92 L1705.29 1539.92 L1705.29 1535.98 Z\" fill=\"#000000\" fill-rule=\"evenodd\" fill-opacity=\"1\" /><path clip-path=\"url(#clip700)\" d=\"M 0 0 M1731.08 1535.98 L1738.71 1535.98 L1738.71 1509.62 L1730.4 1511.29 L1730.4 1507.03 L1738.67 1505.36 L1743.34 1505.36 L1743.34 1535.98 L1750.98 1535.98 L1750.98 1539.92 L1731.08 1539.92 L1731.08 1535.98 Z\" fill=\"#000000\" fill-rule=\"evenodd\" fill-opacity=\"1\" /><path clip-path=\"url(#clip700)\" d=\"M 0 0 M2107.04 1535.98 L2114.68 1535.98 L2114.68 1509.62 L2106.37 1511.29 L2106.37 1507.03 L2114.63 1505.36 L2119.31 1505.36 L2119.31 1535.98 L2126.95 1535.98 L2126.95 1539.92 L2107.04 1539.92 L2107.04 1535.98 Z\" fill=\"#000000\" fill-rule=\"evenodd\" fill-opacity=\"1\" /><path clip-path=\"url(#clip700)\" d=\"M 0 0 M2136.04 1535.98 L2152.36 1535.98 L2152.36 1539.92 L2130.42 1539.92 L2130.42 1535.98 Q2133.08 1533.23 2137.66 1528.6 Q2142.27 1523.95 2143.45 1522.61 Q2145.7 1520.08 2146.58 1518.35 Q2147.48 1516.59 2147.48 1514.9 Q2147.48 1512.14 2145.53 1510.41 Q2143.61 1508.67 2140.51 1508.67 Q2138.31 1508.67 2135.86 1509.43 Q2133.43 1510.2 2130.65 1511.75 L2130.65 1507.03 Q2133.47 1505.89 2135.93 1505.31 Q2138.38 1504.73 2140.42 1504.73 Q2145.79 1504.73 2148.98 1507.42 Q2152.18 1510.11 2152.18 1514.6 Q2152.18 1516.73 2151.37 1518.65 Q2150.58 1520.54 2148.47 1523.14 Q2147.9 1523.81 2144.79 1527.03 Q2141.69 1530.22 2136.04 1535.98 Z\" fill=\"#000000\" fill-rule=\"evenodd\" fill-opacity=\"1\" /><path clip-path=\"url(#clip700)\" d=\"M 0 0 M94.7512 1459.06 L111.071 1459.06 L111.071 1463 L89.1262 1463 L89.1262 1459.06 Q91.7883 1456.31 96.3716 1451.68 Q100.978 1447.02 102.159 1445.68 Q104.404 1443.16 105.284 1441.42 Q106.186 1439.66 106.186 1437.97 Q106.186 1435.22 104.242 1433.48 Q102.321 1431.75 99.2188 1431.75 Q97.0197 1431.75 94.566 1432.51 Q92.1355 1433.27 89.3577 1434.82 L89.3577 1430.1 Q92.1818 1428.97 94.6355 1428.39 Q97.0892 1427.81 99.1262 1427.81 Q104.497 1427.81 107.691 1430.5 Q110.885 1433.18 110.885 1437.67 Q110.885 1439.8 110.075 1441.72 Q109.288 1443.62 107.182 1446.21 Q106.603 1446.88 103.501 1450.1 Q100.399 1453.3 94.7512 1459.06 Z\" fill=\"#000000\" fill-rule=\"evenodd\" fill-opacity=\"1\" /><path clip-path=\"url(#clip700)\" d=\"M 0 0 M101.487 1223.63 L89.6818 1242.08 L101.487 1242.08 L101.487 1223.63 M100.26 1219.55 L106.14 1219.55 L106.14 1242.08 L111.071 1242.08 L111.071 1245.96 L106.14 1245.96 L106.14 1254.11 L101.487 1254.11 L101.487 1245.96 L85.8855 1245.96 L85.8855 1241.45 L100.26 1219.55 Z\" fill=\"#000000\" fill-rule=\"evenodd\" fill-opacity=\"1\" /><path clip-path=\"url(#clip700)\" d=\"M 0 0 M99.5429 1026.09 Q96.3947 1026.09 94.5429 1028.24 Q92.7142 1030.39 92.7142 1034.14 Q92.7142 1037.87 94.5429 1040.04 Q96.3947 1042.2 99.5429 1042.2 Q102.691 1042.2 104.52 1040.04 Q106.372 1037.87 106.372 1034.14 Q106.372 1030.39 104.52 1028.24 Q102.691 1026.09 99.5429 1026.09 M108.825 1011.43 L108.825 1015.69 Q107.066 1014.86 105.26 1014.42 Q103.478 1013.98 101.719 1013.98 Q97.0892 1013.98 94.6355 1017.1 Q92.2049 1020.23 91.8577 1026.55 Q93.2234 1024.54 95.2836 1023.47 Q97.3438 1022.38 99.8206 1022.38 Q105.029 1022.38 108.038 1025.55 Q111.071 1028.7 111.071 1034.14 Q111.071 1039.47 107.922 1042.68 Q104.774 1045.9 99.5429 1045.9 Q93.5475 1045.9 90.3762 1041.32 Q87.205 1036.71 87.205 1027.98 Q87.205 1019.79 91.0938 1014.93 Q94.9827 1010.04 101.534 1010.04 Q103.293 1010.04 105.075 1010.39 Q106.881 1010.74 108.825 1011.43 Z\" fill=\"#000000\" fill-rule=\"evenodd\" fill-opacity=\"1\" /><path clip-path=\"url(#clip700)\" d=\"M 0 0 M99.2188 819.935 Q95.8855 819.935 93.9642 821.717 Q92.066 823.5 92.066 826.625 Q92.066 829.75 93.9642 831.532 Q95.8855 833.314 99.2188 833.314 Q102.552 833.314 104.473 831.532 Q106.395 829.726 106.395 826.625 Q106.395 823.5 104.473 821.717 Q102.575 819.935 99.2188 819.935 M94.5429 817.944 Q91.5336 817.203 89.8438 815.143 Q88.1772 813.083 88.1772 810.12 Q88.1772 805.977 91.117 803.569 Q94.0799 801.162 99.2188 801.162 Q104.381 801.162 107.321 803.569 Q110.26 805.977 110.26 810.12 Q110.26 813.083 108.571 815.143 Q106.904 817.203 103.918 817.944 Q107.297 818.731 109.172 821.023 Q111.071 823.314 111.071 826.625 Q111.071 831.648 107.992 834.333 Q104.936 837.018 99.2188 837.018 Q93.5012 837.018 90.4225 834.333 Q87.367 831.648 87.367 826.625 Q87.367 823.314 89.2651 821.023 Q91.1633 818.731 94.5429 817.944 M92.8299 810.56 Q92.8299 813.245 94.4966 814.75 Q96.1864 816.254 99.2188 816.254 Q102.228 816.254 103.918 814.75 Q105.631 813.245 105.631 810.56 Q105.631 807.875 103.918 806.37 Q102.228 804.865 99.2188 804.865 Q96.1864 804.865 94.4966 806.37 Q92.8299 807.875 92.8299 810.56 Z\" fill=\"#000000\" fill-rule=\"evenodd\" fill-opacity=\"1\" /><path clip-path=\"url(#clip700)\" d=\"M 0 0 M64.1495 623.529 L71.7884 623.529 L71.7884 597.163 L63.4782 598.83 L63.4782 594.57 L71.7421 592.904 L76.418 592.904 L76.418 623.529 L84.0568 623.529 L84.0568 627.464 L64.1495 627.464 L64.1495 623.529 Z\" fill=\"#000000\" fill-rule=\"evenodd\" fill-opacity=\"1\" /><path clip-path=\"url(#clip700)\" d=\"M 0 0 M99.1262 595.982 Q95.5151 595.982 93.6864 599.547 Q91.8809 603.089 91.8809 610.218 Q91.8809 617.325 93.6864 620.89 Q95.5151 624.431 99.1262 624.431 Q102.76 624.431 104.566 620.89 Q106.395 617.325 106.395 610.218 Q106.395 603.089 104.566 599.547 Q102.76 595.982 99.1262 595.982 M99.1262 592.279 Q104.936 592.279 107.992 596.885 Q111.071 601.469 111.071 610.218 Q111.071 618.945 107.992 623.552 Q104.936 628.135 99.1262 628.135 Q93.316 628.135 90.2374 623.552 Q87.1818 618.945 87.1818 610.218 Q87.1818 601.469 90.2374 596.885 Q93.316 592.279 99.1262 592.279 Z\" fill=\"#000000\" fill-rule=\"evenodd\" fill-opacity=\"1\" /><path clip-path=\"url(#clip700)\" d=\"M 0 0 M65.7467 414.646 L73.3856 414.646 L73.3856 388.28 L65.0754 389.947 L65.0754 385.687 L73.3393 384.021 L78.0152 384.021 L78.0152 414.646 L85.654 414.646 L85.654 418.581 L65.7467 418.581 L65.7467 414.646 Z\" fill=\"#000000\" fill-rule=\"evenodd\" fill-opacity=\"1\" /><path clip-path=\"url(#clip700)\" d=\"M 0 0 M94.7512 414.646 L111.071 414.646 L111.071 418.581 L89.1262 418.581 L89.1262 414.646 Q91.7883 411.891 96.3716 407.261 Q100.978 402.609 102.159 401.266 Q104.404 398.743 105.284 397.007 Q106.186 395.248 106.186 393.558 Q106.186 390.803 104.242 389.067 Q102.321 387.331 99.2188 387.331 Q97.0197 387.331 94.566 388.095 Q92.1355 388.859 89.3577 390.41 L89.3577 385.687 Q92.1818 384.553 94.6355 383.974 Q97.0892 383.396 99.1262 383.396 Q104.497 383.396 107.691 386.081 Q110.885 388.766 110.885 393.257 Q110.885 395.386 110.075 397.308 Q109.288 399.206 107.182 401.798 Q106.603 402.47 103.501 405.687 Q100.399 408.882 94.7512 414.646 Z\" fill=\"#000000\" fill-rule=\"evenodd\" fill-opacity=\"1\" /><path clip-path=\"url(#clip700)\" d=\"M 0 0 M63.6634 205.763 L71.3023 205.763 L71.3023 179.397 L62.9921 181.064 L62.9921 176.804 L71.256 175.138 L75.9319 175.138 L75.9319 205.763 L83.5707 205.763 L83.5707 209.698 L63.6634 209.698 L63.6634 205.763 Z\" fill=\"#000000\" fill-rule=\"evenodd\" fill-opacity=\"1\" /><path clip-path=\"url(#clip700)\" d=\"M 0 0 M101.487 179.212 L89.6818 197.661 L101.487 197.661 L101.487 179.212 M100.26 175.138 L106.14 175.138 L106.14 197.661 L111.071 197.661 L111.071 201.55 L106.14 201.55 L106.14 209.698 L101.487 209.698 L101.487 201.55 L85.8855 201.55 L85.8855 197.036 L100.26 175.138 Z\" fill=\"#000000\" fill-rule=\"evenodd\" fill-opacity=\"1\" /><circle clip-path=\"url(#clip702)\" cx=\"647.589\" cy=\"1027.95\" r=\"14\" fill=\"#009af9\" fill-rule=\"evenodd\" fill-opacity=\"1\" stroke=\"#000000\" stroke-opacity=\"1\" stroke-width=\"3.2\"/>\n",
       "<circle clip-path=\"url(#clip702)\" cx=\"1101.36\" cy=\"1027.95\" r=\"14\" fill=\"#009af9\" fill-rule=\"evenodd\" fill-opacity=\"1\" stroke=\"#000000\" stroke-opacity=\"1\" stroke-width=\"3.2\"/>\n",
       "<circle clip-path=\"url(#clip702)\" cx=\"1125.45\" cy=\"1027.95\" r=\"14\" fill=\"#009af9\" fill-rule=\"evenodd\" fill-opacity=\"1\" stroke=\"#000000\" stroke-opacity=\"1\" stroke-width=\"3.2\"/>\n",
       "<circle clip-path=\"url(#clip702)\" cx=\"952.778\" cy=\"401.301\" r=\"14\" fill=\"#009af9\" fill-rule=\"evenodd\" fill-opacity=\"1\" stroke=\"#000000\" stroke-opacity=\"1\" stroke-width=\"3.2\"/>\n",
       "<circle clip-path=\"url(#clip702)\" cx=\"1390.48\" cy=\"610.184\" r=\"14\" fill=\"#009af9\" fill-rule=\"evenodd\" fill-opacity=\"1\" stroke=\"#000000\" stroke-opacity=\"1\" stroke-width=\"3.2\"/>\n",
       "<circle clip-path=\"url(#clip702)\" cx=\"651.604\" cy=\"1236.83\" r=\"14\" fill=\"#009af9\" fill-rule=\"evenodd\" fill-opacity=\"1\" stroke=\"#000000\" stroke-opacity=\"1\" stroke-width=\"3.2\"/>\n",
       "<circle clip-path=\"url(#clip702)\" cx=\"1571.19\" cy=\"714.625\" r=\"14\" fill=\"#009af9\" fill-rule=\"evenodd\" fill-opacity=\"1\" stroke=\"#000000\" stroke-opacity=\"1\" stroke-width=\"3.2\"/>\n",
       "<circle clip-path=\"url(#clip702)\" cx=\"1350.33\" cy=\"714.625\" r=\"14\" fill=\"#009af9\" fill-rule=\"evenodd\" fill-opacity=\"1\" stroke=\"#000000\" stroke-opacity=\"1\" stroke-width=\"3.2\"/>\n",
       "<circle clip-path=\"url(#clip702)\" cx=\"1298.12\" cy=\"714.625\" r=\"14\" fill=\"#009af9\" fill-rule=\"evenodd\" fill-opacity=\"1\" stroke=\"#000000\" stroke-opacity=\"1\" stroke-width=\"3.2\"/>\n",
       "<circle clip-path=\"url(#clip702)\" cx=\"1498.91\" cy=\"505.742\" r=\"14\" fill=\"#009af9\" fill-rule=\"evenodd\" fill-opacity=\"1\" stroke=\"#000000\" stroke-opacity=\"1\" stroke-width=\"3.2\"/>\n",
       "<circle clip-path=\"url(#clip702)\" cx=\"1470.8\" cy=\"1027.95\" r=\"14\" fill=\"#009af9\" fill-rule=\"evenodd\" fill-opacity=\"1\" stroke=\"#000000\" stroke-opacity=\"1\" stroke-width=\"3.2\"/>\n",
       "<circle clip-path=\"url(#clip702)\" cx=\"1386.47\" cy=\"610.184\" r=\"14\" fill=\"#009af9\" fill-rule=\"evenodd\" fill-opacity=\"1\" stroke=\"#000000\" stroke-opacity=\"1\" stroke-width=\"3.2\"/>\n",
       "<circle clip-path=\"url(#clip702)\" cx=\"1695.67\" cy=\"1027.95\" r=\"14\" fill=\"#009af9\" fill-rule=\"evenodd\" fill-opacity=\"1\" stroke=\"#000000\" stroke-opacity=\"1\" stroke-width=\"3.2\"/>\n",
       "<circle clip-path=\"url(#clip702)\" cx=\"864.434\" cy=\"610.184\" r=\"14\" fill=\"#009af9\" fill-rule=\"evenodd\" fill-opacity=\"1\" stroke=\"#000000\" stroke-opacity=\"1\" stroke-width=\"3.2\"/>\n",
       "<circle clip-path=\"url(#clip702)\" cx=\"1093.33\" cy=\"505.742\" r=\"14\" fill=\"#009af9\" fill-rule=\"evenodd\" fill-opacity=\"1\" stroke=\"#000000\" stroke-opacity=\"1\" stroke-width=\"3.2\"/>\n",
       "<circle clip-path=\"url(#clip702)\" cx=\"1771.97\" cy=\"819.067\" r=\"14\" fill=\"#009af9\" fill-rule=\"evenodd\" fill-opacity=\"1\" stroke=\"#000000\" stroke-opacity=\"1\" stroke-width=\"3.2\"/>\n",
       "<circle clip-path=\"url(#clip702)\" cx=\"531.135\" cy=\"1341.27\" r=\"14\" fill=\"#009af9\" fill-rule=\"evenodd\" fill-opacity=\"1\" stroke=\"#000000\" stroke-opacity=\"1\" stroke-width=\"3.2\"/>\n",
       "<circle clip-path=\"url(#clip702)\" cx=\"2101.26\" cy=\"819.067\" r=\"14\" fill=\"#009af9\" fill-rule=\"evenodd\" fill-opacity=\"1\" stroke=\"#000000\" stroke-opacity=\"1\" stroke-width=\"3.2\"/>\n",
       "<circle clip-path=\"url(#clip702)\" cx=\"743.964\" cy=\"1132.39\" r=\"14\" fill=\"#009af9\" fill-rule=\"evenodd\" fill-opacity=\"1\" stroke=\"#000000\" stroke-opacity=\"1\" stroke-width=\"3.2\"/>\n",
       "<circle clip-path=\"url(#clip702)\" cx=\"197.835\" cy=\"1132.39\" r=\"14\" fill=\"#009af9\" fill-rule=\"evenodd\" fill-opacity=\"1\" stroke=\"#000000\" stroke-opacity=\"1\" stroke-width=\"3.2\"/>\n",
       "<circle clip-path=\"url(#clip702)\" cx=\"1257.97\" cy=\"1236.83\" r=\"14\" fill=\"#009af9\" fill-rule=\"evenodd\" fill-opacity=\"1\" stroke=\"#000000\" stroke-opacity=\"1\" stroke-width=\"3.2\"/>\n",
       "<circle clip-path=\"url(#clip702)\" cx=\"1643.47\" cy=\"505.742\" r=\"14\" fill=\"#009af9\" fill-rule=\"evenodd\" fill-opacity=\"1\" stroke=\"#000000\" stroke-opacity=\"1\" stroke-width=\"3.2\"/>\n",
       "<circle clip-path=\"url(#clip702)\" cx=\"880.497\" cy=\"1132.39\" r=\"14\" fill=\"#009af9\" fill-rule=\"evenodd\" fill-opacity=\"1\" stroke=\"#000000\" stroke-opacity=\"1\" stroke-width=\"3.2\"/>\n",
       "<circle clip-path=\"url(#clip702)\" cx=\"1362.38\" cy=\"610.184\" r=\"14\" fill=\"#009af9\" fill-rule=\"evenodd\" fill-opacity=\"1\" stroke=\"#000000\" stroke-opacity=\"1\" stroke-width=\"3.2\"/>\n",
       "<circle clip-path=\"url(#clip702)\" cx=\"1980.79\" cy=\"1027.95\" r=\"14\" fill=\"#009af9\" fill-rule=\"evenodd\" fill-opacity=\"1\" stroke=\"#000000\" stroke-opacity=\"1\" stroke-width=\"3.2\"/>\n",
       "<circle clip-path=\"url(#clip702)\" cx=\"1410.56\" cy=\"1027.95\" r=\"14\" fill=\"#009af9\" fill-rule=\"evenodd\" fill-opacity=\"1\" stroke=\"#000000\" stroke-opacity=\"1\" stroke-width=\"3.2\"/>\n",
       "<circle clip-path=\"url(#clip702)\" cx=\"1105.37\" cy=\"923.508\" r=\"14\" fill=\"#009af9\" fill-rule=\"evenodd\" fill-opacity=\"1\" stroke=\"#000000\" stroke-opacity=\"1\" stroke-width=\"3.2\"/>\n",
       "<circle clip-path=\"url(#clip702)\" cx=\"1502.92\" cy=\"714.625\" r=\"14\" fill=\"#009af9\" fill-rule=\"evenodd\" fill-opacity=\"1\" stroke=\"#000000\" stroke-opacity=\"1\" stroke-width=\"3.2\"/>\n",
       "<circle clip-path=\"url(#clip702)\" cx=\"1101.36\" cy=\"1341.27\" r=\"14\" fill=\"#009af9\" fill-rule=\"evenodd\" fill-opacity=\"1\" stroke=\"#000000\" stroke-opacity=\"1\" stroke-width=\"3.2\"/>\n",
       "<circle clip-path=\"url(#clip702)\" cx=\"1518.99\" cy=\"610.184\" r=\"14\" fill=\"#009af9\" fill-rule=\"evenodd\" fill-opacity=\"1\" stroke=\"#000000\" stroke-opacity=\"1\" stroke-width=\"3.2\"/>\n",
       "<circle clip-path=\"url(#clip702)\" cx=\"1097.34\" cy=\"1445.72\" r=\"14\" fill=\"#009af9\" fill-rule=\"evenodd\" fill-opacity=\"1\" stroke=\"#000000\" stroke-opacity=\"1\" stroke-width=\"3.2\"/>\n",
       "<circle clip-path=\"url(#clip702)\" cx=\"1454.74\" cy=\"714.625\" r=\"14\" fill=\"#009af9\" fill-rule=\"evenodd\" fill-opacity=\"1\" stroke=\"#000000\" stroke-opacity=\"1\" stroke-width=\"3.2\"/>\n",
       "<circle clip-path=\"url(#clip702)\" cx=\"1458.75\" cy=\"610.184\" r=\"14\" fill=\"#009af9\" fill-rule=\"evenodd\" fill-opacity=\"1\" stroke=\"#000000\" stroke-opacity=\"1\" stroke-width=\"3.2\"/>\n",
       "<circle clip-path=\"url(#clip702)\" cx=\"723.886\" cy=\"1132.39\" r=\"14\" fill=\"#009af9\" fill-rule=\"evenodd\" fill-opacity=\"1\" stroke=\"#000000\" stroke-opacity=\"1\" stroke-width=\"3.2\"/>\n",
       "<circle clip-path=\"url(#clip702)\" cx=\"1089.31\" cy=\"505.742\" r=\"14\" fill=\"#009af9\" fill-rule=\"evenodd\" fill-opacity=\"1\" stroke=\"#000000\" stroke-opacity=\"1\" stroke-width=\"3.2\"/>\n",
       "<circle clip-path=\"url(#clip702)\" cx=\"908.606\" cy=\"610.184\" r=\"14\" fill=\"#009af9\" fill-rule=\"evenodd\" fill-opacity=\"1\" stroke=\"#000000\" stroke-opacity=\"1\" stroke-width=\"3.2\"/>\n",
       "<circle clip-path=\"url(#clip702)\" cx=\"1193.72\" cy=\"1236.83\" r=\"14\" fill=\"#009af9\" fill-rule=\"evenodd\" fill-opacity=\"1\" stroke=\"#000000\" stroke-opacity=\"1\" stroke-width=\"3.2\"/>\n",
       "<circle clip-path=\"url(#clip702)\" cx=\"1430.64\" cy=\"819.067\" r=\"14\" fill=\"#009af9\" fill-rule=\"evenodd\" fill-opacity=\"1\" stroke=\"#000000\" stroke-opacity=\"1\" stroke-width=\"3.2\"/>\n",
       "<circle clip-path=\"url(#clip702)\" cx=\"1470.8\" cy=\"714.625\" r=\"14\" fill=\"#009af9\" fill-rule=\"evenodd\" fill-opacity=\"1\" stroke=\"#000000\" stroke-opacity=\"1\" stroke-width=\"3.2\"/>\n",
       "<circle clip-path=\"url(#clip702)\" cx=\"2049.05\" cy=\"401.301\" r=\"14\" fill=\"#009af9\" fill-rule=\"evenodd\" fill-opacity=\"1\" stroke=\"#000000\" stroke-opacity=\"1\" stroke-width=\"3.2\"/>\n",
       "<circle clip-path=\"url(#clip702)\" cx=\"1703.71\" cy=\"819.067\" r=\"14\" fill=\"#009af9\" fill-rule=\"evenodd\" fill-opacity=\"1\" stroke=\"#000000\" stroke-opacity=\"1\" stroke-width=\"3.2\"/>\n",
       "<circle clip-path=\"url(#clip702)\" cx=\"1426.63\" cy=\"714.625\" r=\"14\" fill=\"#009af9\" fill-rule=\"evenodd\" fill-opacity=\"1\" stroke=\"#000000\" stroke-opacity=\"1\" stroke-width=\"3.2\"/>\n",
       "<circle clip-path=\"url(#clip702)\" cx=\"820.262\" cy=\"819.067\" r=\"14\" fill=\"#009af9\" fill-rule=\"evenodd\" fill-opacity=\"1\" stroke=\"#000000\" stroke-opacity=\"1\" stroke-width=\"3.2\"/>\n",
       "<circle clip-path=\"url(#clip702)\" cx=\"1510.95\" cy=\"1027.95\" r=\"14\" fill=\"#009af9\" fill-rule=\"evenodd\" fill-opacity=\"1\" stroke=\"#000000\" stroke-opacity=\"1\" stroke-width=\"3.2\"/>\n",
       "<circle clip-path=\"url(#clip702)\" cx=\"1073.25\" cy=\"1027.95\" r=\"14\" fill=\"#009af9\" fill-rule=\"evenodd\" fill-opacity=\"1\" stroke=\"#000000\" stroke-opacity=\"1\" stroke-width=\"3.2\"/>\n",
       "<circle clip-path=\"url(#clip702)\" cx=\"1221.83\" cy=\"610.184\" r=\"14\" fill=\"#009af9\" fill-rule=\"evenodd\" fill-opacity=\"1\" stroke=\"#000000\" stroke-opacity=\"1\" stroke-width=\"3.2\"/>\n",
       "<circle clip-path=\"url(#clip702)\" cx=\"904.59\" cy=\"610.184\" r=\"14\" fill=\"#009af9\" fill-rule=\"evenodd\" fill-opacity=\"1\" stroke=\"#000000\" stroke-opacity=\"1\" stroke-width=\"3.2\"/>\n",
       "<circle clip-path=\"url(#clip702)\" cx=\"820.262\" cy=\"714.625\" r=\"14\" fill=\"#009af9\" fill-rule=\"evenodd\" fill-opacity=\"1\" stroke=\"#000000\" stroke-opacity=\"1\" stroke-width=\"3.2\"/>\n",
       "<circle clip-path=\"url(#clip702)\" cx=\"1856.3\" cy=\"401.301\" r=\"14\" fill=\"#009af9\" fill-rule=\"evenodd\" fill-opacity=\"1\" stroke=\"#000000\" stroke-opacity=\"1\" stroke-width=\"3.2\"/>\n",
       "<circle clip-path=\"url(#clip702)\" cx=\"1025.06\" cy=\"1027.95\" r=\"14\" fill=\"#009af9\" fill-rule=\"evenodd\" fill-opacity=\"1\" stroke=\"#000000\" stroke-opacity=\"1\" stroke-width=\"3.2\"/>\n",
       "<circle clip-path=\"url(#clip702)\" cx=\"1382.45\" cy=\"192.418\" r=\"14\" fill=\"#e26f46\" fill-rule=\"evenodd\" fill-opacity=\"1\" stroke=\"#000000\" stroke-opacity=\"1\" stroke-width=\"3.2\"/>\n",
       "<circle clip-path=\"url(#clip702)\" cx=\"944.747\" cy=\"1027.95\" r=\"14\" fill=\"#e26f46\" fill-rule=\"evenodd\" fill-opacity=\"1\" stroke=\"#000000\" stroke-opacity=\"1\" stroke-width=\"3.2\"/>\n",
       "<circle clip-path=\"url(#clip702)\" cx=\"1282.06\" cy=\"923.508\" r=\"14\" fill=\"#e26f46\" fill-rule=\"evenodd\" fill-opacity=\"1\" stroke=\"#000000\" stroke-opacity=\"1\" stroke-width=\"3.2\"/>\n",
       "<circle clip-path=\"url(#clip702)\" cx=\"828.293\" cy=\"714.625\" r=\"14\" fill=\"#e26f46\" fill-rule=\"evenodd\" fill-opacity=\"1\" stroke=\"#000000\" stroke-opacity=\"1\" stroke-width=\"3.2\"/>\n",
       "<circle clip-path=\"url(#clip702)\" cx=\"2145.43\" cy=\"1027.95\" r=\"14\" fill=\"#e26f46\" fill-rule=\"evenodd\" fill-opacity=\"1\" stroke=\"#000000\" stroke-opacity=\"1\" stroke-width=\"3.2\"/>\n",
       "<circle clip-path=\"url(#clip702)\" cx=\"1290.09\" cy=\"923.508\" r=\"14\" fill=\"#e26f46\" fill-rule=\"evenodd\" fill-opacity=\"1\" stroke=\"#000000\" stroke-opacity=\"1\" stroke-width=\"3.2\"/>\n",
       "<circle clip-path=\"url(#clip702)\" cx=\"1261.98\" cy=\"714.625\" r=\"14\" fill=\"#e26f46\" fill-rule=\"evenodd\" fill-opacity=\"1\" stroke=\"#000000\" stroke-opacity=\"1\" stroke-width=\"3.2\"/>\n",
       "<circle clip-path=\"url(#clip702)\" cx=\"2077.16\" cy=\"296.859\" r=\"14\" fill=\"#e26f46\" fill-rule=\"evenodd\" fill-opacity=\"1\" stroke=\"#000000\" stroke-opacity=\"1\" stroke-width=\"3.2\"/>\n",
       "<circle clip-path=\"url(#clip702)\" cx=\"1390.48\" cy=\"714.625\" r=\"14\" fill=\"#e26f46\" fill-rule=\"evenodd\" fill-opacity=\"1\" stroke=\"#000000\" stroke-opacity=\"1\" stroke-width=\"3.2\"/>\n",
       "<circle clip-path=\"url(#clip702)\" cx=\"1061.2\" cy=\"296.859\" r=\"14\" fill=\"#e26f46\" fill-rule=\"evenodd\" fill-opacity=\"1\" stroke=\"#000000\" stroke-opacity=\"1\" stroke-width=\"3.2\"/>\n",
       "<circle clip-path=\"url(#clip702)\" cx=\"1394.5\" cy=\"923.508\" r=\"14\" fill=\"#e26f46\" fill-rule=\"evenodd\" fill-opacity=\"1\" stroke=\"#000000\" stroke-opacity=\"1\" stroke-width=\"3.2\"/>\n",
       "<circle clip-path=\"url(#clip702)\" cx=\"1723.78\" cy=\"819.067\" r=\"14\" fill=\"#e26f46\" fill-rule=\"evenodd\" fill-opacity=\"1\" stroke=\"#000000\" stroke-opacity=\"1\" stroke-width=\"3.2\"/>\n",
       "<circle clip-path=\"url(#clip702)\" cx=\"1000.97\" cy=\"610.184\" r=\"14\" fill=\"#e26f46\" fill-rule=\"evenodd\" fill-opacity=\"1\" stroke=\"#000000\" stroke-opacity=\"1\" stroke-width=\"3.2\"/>\n",
       "<circle clip-path=\"url(#clip702)\" cx=\"1595.28\" cy=\"923.508\" r=\"14\" fill=\"#e26f46\" fill-rule=\"evenodd\" fill-opacity=\"1\" stroke=\"#000000\" stroke-opacity=\"1\" stroke-width=\"3.2\"/>\n",
       "<circle clip-path=\"url(#clip702)\" cx=\"1711.74\" cy=\"401.301\" r=\"14\" fill=\"#e26f46\" fill-rule=\"evenodd\" fill-opacity=\"1\" stroke=\"#000000\" stroke-opacity=\"1\" stroke-width=\"3.2\"/>\n",
       "<circle clip-path=\"url(#clip702)\" cx=\"1547.1\" cy=\"1027.95\" r=\"14\" fill=\"#e26f46\" fill-rule=\"evenodd\" fill-opacity=\"1\" stroke=\"#000000\" stroke-opacity=\"1\" stroke-width=\"3.2\"/>\n",
       "<circle clip-path=\"url(#clip702)\" cx=\"1201.75\" cy=\"87.9763\" r=\"14\" fill=\"#e26f46\" fill-rule=\"evenodd\" fill-opacity=\"1\" stroke=\"#000000\" stroke-opacity=\"1\" stroke-width=\"3.2\"/>\n",
       "<circle clip-path=\"url(#clip702)\" cx=\"1691.66\" cy=\"1341.27\" r=\"14\" fill=\"#e26f46\" fill-rule=\"evenodd\" fill-opacity=\"1\" stroke=\"#000000\" stroke-opacity=\"1\" stroke-width=\"3.2\"/>\n",
       "<circle clip-path=\"url(#clip702)\" cx=\"1165.61\" cy=\"1236.83\" r=\"14\" fill=\"#e26f46\" fill-rule=\"evenodd\" fill-opacity=\"1\" stroke=\"#000000\" stroke-opacity=\"1\" stroke-width=\"3.2\"/>\n",
       "<circle clip-path=\"url(#clip702)\" cx=\"2277.94\" cy=\"1027.95\" r=\"14\" fill=\"#e26f46\" fill-rule=\"evenodd\" fill-opacity=\"1\" stroke=\"#000000\" stroke-opacity=\"1\" stroke-width=\"3.2\"/>\n",
       "<circle clip-path=\"url(#clip702)\" cx=\"1543.08\" cy=\"610.184\" r=\"14\" fill=\"#e26f46\" fill-rule=\"evenodd\" fill-opacity=\"1\" stroke=\"#000000\" stroke-opacity=\"1\" stroke-width=\"3.2\"/>\n",
       "<circle clip-path=\"url(#clip702)\" cx=\"1848.27\" cy=\"819.067\" r=\"14\" fill=\"#e26f46\" fill-rule=\"evenodd\" fill-opacity=\"1\" stroke=\"#000000\" stroke-opacity=\"1\" stroke-width=\"3.2\"/>\n",
       "<circle clip-path=\"url(#clip702)\" cx=\"2289.99\" cy=\"819.067\" r=\"14\" fill=\"#e26f46\" fill-rule=\"evenodd\" fill-opacity=\"1\" stroke=\"#000000\" stroke-opacity=\"1\" stroke-width=\"3.2\"/>\n",
       "<circle clip-path=\"url(#clip702)\" cx=\"1398.52\" cy=\"923.508\" r=\"14\" fill=\"#e26f46\" fill-rule=\"evenodd\" fill-opacity=\"1\" stroke=\"#000000\" stroke-opacity=\"1\" stroke-width=\"3.2\"/>\n",
       "<circle clip-path=\"url(#clip702)\" cx=\"1137.5\" cy=\"1132.39\" r=\"14\" fill=\"#e26f46\" fill-rule=\"evenodd\" fill-opacity=\"1\" stroke=\"#000000\" stroke-opacity=\"1\" stroke-width=\"3.2\"/>\n",
       "<circle clip-path=\"url(#clip702)\" cx=\"1422.61\" cy=\"1027.95\" r=\"14\" fill=\"#e26f46\" fill-rule=\"evenodd\" fill-opacity=\"1\" stroke=\"#000000\" stroke-opacity=\"1\" stroke-width=\"3.2\"/>\n",
       "<circle clip-path=\"url(#clip702)\" cx=\"2032.99\" cy=\"819.067\" r=\"14\" fill=\"#e26f46\" fill-rule=\"evenodd\" fill-opacity=\"1\" stroke=\"#000000\" stroke-opacity=\"1\" stroke-width=\"3.2\"/>\n",
       "<circle clip-path=\"url(#clip702)\" cx=\"1133.48\" cy=\"714.625\" r=\"14\" fill=\"#e26f46\" fill-rule=\"evenodd\" fill-opacity=\"1\" stroke=\"#000000\" stroke-opacity=\"1\" stroke-width=\"3.2\"/>\n",
       "<circle clip-path=\"url(#clip702)\" cx=\"1486.86\" cy=\"714.625\" r=\"14\" fill=\"#e26f46\" fill-rule=\"evenodd\" fill-opacity=\"1\" stroke=\"#000000\" stroke-opacity=\"1\" stroke-width=\"3.2\"/>\n",
       "<circle clip-path=\"url(#clip702)\" cx=\"1310.17\" cy=\"1027.95\" r=\"14\" fill=\"#e26f46\" fill-rule=\"evenodd\" fill-opacity=\"1\" stroke=\"#000000\" stroke-opacity=\"1\" stroke-width=\"3.2\"/>\n",
       "<circle clip-path=\"url(#clip702)\" cx=\"1446.7\" cy=\"923.508\" r=\"14\" fill=\"#e26f46\" fill-rule=\"evenodd\" fill-opacity=\"1\" stroke=\"#000000\" stroke-opacity=\"1\" stroke-width=\"3.2\"/>\n",
       "<circle clip-path=\"url(#clip702)\" cx=\"1944.64\" cy=\"610.184\" r=\"14\" fill=\"#e26f46\" fill-rule=\"evenodd\" fill-opacity=\"1\" stroke=\"#000000\" stroke-opacity=\"1\" stroke-width=\"3.2\"/>\n",
       "<circle clip-path=\"url(#clip702)\" cx=\"1093.33\" cy=\"1027.95\" r=\"14\" fill=\"#e26f46\" fill-rule=\"evenodd\" fill-opacity=\"1\" stroke=\"#000000\" stroke-opacity=\"1\" stroke-width=\"3.2\"/>\n",
       "<circle clip-path=\"url(#clip702)\" cx=\"1840.24\" cy=\"505.742\" r=\"14\" fill=\"#e26f46\" fill-rule=\"evenodd\" fill-opacity=\"1\" stroke=\"#000000\" stroke-opacity=\"1\" stroke-width=\"3.2\"/>\n",
       "<circle clip-path=\"url(#clip702)\" cx=\"1217.81\" cy=\"505.742\" r=\"14\" fill=\"#e26f46\" fill-rule=\"evenodd\" fill-opacity=\"1\" stroke=\"#000000\" stroke-opacity=\"1\" stroke-width=\"3.2\"/>\n",
       "<circle clip-path=\"url(#clip702)\" cx=\"1639.46\" cy=\"505.742\" r=\"14\" fill=\"#e26f46\" fill-rule=\"evenodd\" fill-opacity=\"1\" stroke=\"#000000\" stroke-opacity=\"1\" stroke-width=\"3.2\"/>\n",
       "<circle clip-path=\"url(#clip702)\" cx=\"1410.56\" cy=\"1132.39\" r=\"14\" fill=\"#e26f46\" fill-rule=\"evenodd\" fill-opacity=\"1\" stroke=\"#000000\" stroke-opacity=\"1\" stroke-width=\"3.2\"/>\n",
       "<circle clip-path=\"url(#clip702)\" cx=\"1531.03\" cy=\"1027.95\" r=\"14\" fill=\"#e26f46\" fill-rule=\"evenodd\" fill-opacity=\"1\" stroke=\"#000000\" stroke-opacity=\"1\" stroke-width=\"3.2\"/>\n",
       "<circle clip-path=\"url(#clip702)\" cx=\"1619.38\" cy=\"1236.83\" r=\"14\" fill=\"#e26f46\" fill-rule=\"evenodd\" fill-opacity=\"1\" stroke=\"#000000\" stroke-opacity=\"1\" stroke-width=\"3.2\"/>\n",
       "<circle clip-path=\"url(#clip702)\" cx=\"864.434\" cy=\"1132.39\" r=\"14\" fill=\"#e26f46\" fill-rule=\"evenodd\" fill-opacity=\"1\" stroke=\"#000000\" stroke-opacity=\"1\" stroke-width=\"3.2\"/>\n",
       "<circle clip-path=\"url(#clip702)\" cx=\"1808.11\" cy=\"1027.95\" r=\"14\" fill=\"#e26f46\" fill-rule=\"evenodd\" fill-opacity=\"1\" stroke=\"#000000\" stroke-opacity=\"1\" stroke-width=\"3.2\"/>\n",
       "<circle clip-path=\"url(#clip702)\" cx=\"1270.01\" cy=\"1132.39\" r=\"14\" fill=\"#e26f46\" fill-rule=\"evenodd\" fill-opacity=\"1\" stroke=\"#000000\" stroke-opacity=\"1\" stroke-width=\"3.2\"/>\n",
       "<circle clip-path=\"url(#clip702)\" cx=\"1944.64\" cy=\"819.067\" r=\"14\" fill=\"#e26f46\" fill-rule=\"evenodd\" fill-opacity=\"1\" stroke=\"#000000\" stroke-opacity=\"1\" stroke-width=\"3.2\"/>\n",
       "<circle clip-path=\"url(#clip702)\" cx=\"1338.28\" cy=\"1132.39\" r=\"14\" fill=\"#e26f46\" fill-rule=\"evenodd\" fill-opacity=\"1\" stroke=\"#000000\" stroke-opacity=\"1\" stroke-width=\"3.2\"/>\n",
       "<circle clip-path=\"url(#clip702)\" cx=\"2081.18\" cy=\"714.625\" r=\"14\" fill=\"#e26f46\" fill-rule=\"evenodd\" fill-opacity=\"1\" stroke=\"#000000\" stroke-opacity=\"1\" stroke-width=\"3.2\"/>\n",
       "<circle clip-path=\"url(#clip702)\" cx=\"984.904\" cy=\"819.067\" r=\"14\" fill=\"#e26f46\" fill-rule=\"evenodd\" fill-opacity=\"1\" stroke=\"#000000\" stroke-opacity=\"1\" stroke-width=\"3.2\"/>\n",
       "<circle clip-path=\"url(#clip702)\" cx=\"731.917\" cy=\"1027.95\" r=\"14\" fill=\"#e26f46\" fill-rule=\"evenodd\" fill-opacity=\"1\" stroke=\"#000000\" stroke-opacity=\"1\" stroke-width=\"3.2\"/>\n",
       "<circle clip-path=\"url(#clip702)\" cx=\"1422.61\" cy=\"819.067\" r=\"14\" fill=\"#e26f46\" fill-rule=\"evenodd\" fill-opacity=\"1\" stroke=\"#000000\" stroke-opacity=\"1\" stroke-width=\"3.2\"/>\n",
       "<circle clip-path=\"url(#clip702)\" cx=\"1671.58\" cy=\"923.508\" r=\"14\" fill=\"#e26f46\" fill-rule=\"evenodd\" fill-opacity=\"1\" stroke=\"#000000\" stroke-opacity=\"1\" stroke-width=\"3.2\"/>\n",
       "<circle clip-path=\"url(#clip702)\" cx=\"1314.19\" cy=\"714.625\" r=\"14\" fill=\"#e26f46\" fill-rule=\"evenodd\" fill-opacity=\"1\" stroke=\"#000000\" stroke-opacity=\"1\" stroke-width=\"3.2\"/>\n",
       "<polyline clip-path=\"url(#clip702)\" style=\"stroke:#3da44d; stroke-width:8; stroke-opacity:1; fill:none\" points=\"\n",
       "  197.835,999.781 218.968,997.168 240.101,994.545 261.234,991.912 282.367,989.268 303.5,986.613 324.633,983.948 345.765,981.273 366.898,978.586 388.031,975.889 \n",
       "  409.164,973.181 430.297,970.463 451.43,967.733 472.563,964.993 493.696,962.241 514.829,959.479 535.961,956.706 557.094,953.921 578.227,951.126 599.36,948.319 \n",
       "  620.493,945.501 641.626,942.672 662.759,939.832 683.892,936.98 705.025,934.117 726.157,931.242 747.29,928.356 768.423,925.459 789.556,922.55 810.689,919.629 \n",
       "  831.822,916.697 852.955,913.753 874.088,910.797 895.221,907.829 916.353,904.85 937.486,901.858 958.619,898.855 979.752,895.84 1000.89,892.813 1022.02,889.773 \n",
       "  1043.15,886.722 1064.28,883.658 1085.42,880.582 1106.55,877.494 1127.68,874.394 1148.82,871.281 1169.95,868.156 1191.08,865.018 1212.21,861.868 1233.35,858.705 \n",
       "  1254.48,855.53 1275.61,852.342 1296.75,849.141 1317.88,845.927 1339.01,842.701 1360.14,839.462 1381.28,836.209 1402.41,832.944 1423.54,829.666 1444.68,826.375 \n",
       "  1465.81,823.07 1486.94,819.753 1508.07,816.422 1529.21,813.078 1550.34,809.72 1571.47,806.35 1592.61,802.965 1613.74,799.568 1634.87,796.156 1656,792.731 \n",
       "  1677.14,789.293 1698.27,785.84 1719.4,782.374 1740.54,778.894 1761.67,775.4 1782.8,771.893 1803.93,768.371 1825.07,764.835 1846.2,761.285 1867.33,757.721 \n",
       "  1888.47,754.143 1909.6,750.55 1930.73,746.943 1951.87,743.322 1973,739.686 1994.13,736.036 2015.26,732.371 2036.4,728.692 2057.53,724.997 2078.66,721.289 \n",
       "  2099.8,717.565 2120.93,713.826 2142.06,710.073 2163.19,706.304 2184.33,702.521 2205.46,698.722 2226.59,694.909 2247.73,691.08 2268.86,687.236 2289.99,683.376 \n",
       "  \n",
       "  \"/>\n",
       "<path clip-path=\"url(#clip700)\" d=\"\n",
       "M2011.52 372.684 L2280.76 372.684 L2280.76 130.764 L2011.52 130.764  Z\n",
       "  \" fill=\"#ffffff\" fill-rule=\"evenodd\" fill-opacity=\"1\"/>\n",
       "<polyline clip-path=\"url(#clip700)\" style=\"stroke:#000000; stroke-width:4; stroke-opacity:1; fill:none\" points=\"\n",
       "  2011.52,372.684 2280.76,372.684 2280.76,130.764 2011.52,130.764 2011.52,372.684 \n",
       "  \"/>\n",
       "<circle clip-path=\"url(#clip700)\" cx=\"2119.52\" cy=\"191.244\" r=\"23\" fill=\"#009af9\" fill-rule=\"evenodd\" fill-opacity=\"1\" stroke=\"#000000\" stroke-opacity=\"1\" stroke-width=\"5.12\"/>\n",
       "<path clip-path=\"url(#clip700)\" d=\"M 0 0 M2231.39 176.626 L2231.39 181.557 Q2229.03 179.358 2226.34 178.27 Q2223.68 177.182 2220.67 177.182 Q2214.75 177.182 2211.6 180.816 Q2208.45 184.427 2208.45 191.279 Q2208.45 198.107 2211.6 201.742 Q2214.75 205.353 2220.67 205.353 Q2223.68 205.353 2226.34 204.265 Q2229.03 203.177 2231.39 200.978 L2231.39 205.862 Q2228.94 207.529 2226.18 208.362 Q2223.45 209.195 2220.39 209.195 Q2212.55 209.195 2208.03 204.404 Q2203.52 199.589 2203.52 191.279 Q2203.52 182.946 2208.03 178.154 Q2212.55 173.339 2220.39 173.339 Q2223.5 173.339 2226.23 174.172 Q2228.98 174.983 2231.39 176.626 Z\" fill=\"#000000\" fill-rule=\"evenodd\" fill-opacity=\"1\" /><circle clip-path=\"url(#clip700)\" cx=\"2119.52\" cy=\"251.724\" r=\"23\" fill=\"#e26f46\" fill-rule=\"evenodd\" fill-opacity=\"1\" stroke=\"#000000\" stroke-opacity=\"1\" stroke-width=\"5.12\"/>\n",
       "<path clip-path=\"url(#clip700)\" d=\"M 0 0 M2203.52 234.444 L2232.76 234.444 L2232.76 238.379 L2220.49 238.379 L2220.49 269.004 L2215.79 269.004 L2215.79 238.379 L2203.52 238.379 L2203.52 234.444 Z\" fill=\"#000000\" fill-rule=\"evenodd\" fill-opacity=\"1\" /><polyline clip-path=\"url(#clip700)\" style=\"stroke:#3da44d; stroke-width:4; stroke-opacity:1; fill:none\" points=\"\n",
       "  2035.52,312.204 2179.52,312.204 \n",
       "  \"/>\n",
       "<path clip-path=\"url(#clip700)\" d=\"M 0 0 M2227.25 328.587 Q2227.25 329.032 2226.73 329.079 L2225.68 329.079 Q2224.6 329.079 2224.13 328.915 Q2223.66 328.751 2223.12 328.001 Q2222.8 327.533 2221.98 325.355 Q2221.18 323.153 2220.01 319.827 Q2218.86 316.501 2218.09 314.533 L2206.54 328.165 Q2205.75 329.172 2204.95 329.172 Q2204.36 329.172 2203.94 328.774 Q2203.52 328.376 2203.52 327.767 Q2203.52 327.322 2203.68 327.064 Q2203.87 326.807 2204.36 326.291 L2217.62 313.151 L2212.96 300.105 Q2212.07 297.693 2211.55 297.084 Q2211.06 296.475 2209.84 296.264 Q2209.4 296.147 2209.4 295.772 Q2209.4 295.257 2210.27 295.257 Q2214.9 295.257 2216.12 298.653 L2225.91 325.94 Q2226.45 327.509 2227.01 328.165 Q2227.25 328.47 2227.25 328.587 Z\" fill=\"#000000\" fill-rule=\"evenodd\" fill-opacity=\"1\" /></svg>\n"
      ]
     },
     "execution_count": 116,
     "metadata": {},
     "output_type": "execute_result"
    },
    {
     "name": "stderr",
     "output_type": "stream",
     "text": [
      "sh: latex: command not found\n",
      "latex: failed to create a dvi file\n"
     ]
    }
   ],
   "source": [
    "plot(df.x, df.y, group = df.f, seriestype=:scatter)\n",
    "xx = DataFrame(x=range(minimum(df.x), maximum(df.x), length=100))\n",
    "yy = predict(result, xx)\n",
    "plot!(xx.x, yy, linewidth=2, label=L\"\\lambda\")"
   ]
  },
  {
   "cell_type": "markdown",
   "metadata": {},
   "source": [
    "## 3.5 説明変数が因子型の統計モデル"
   ]
  },
  {
   "cell_type": "code",
   "execution_count": 117,
   "metadata": {},
   "outputs": [
    {
     "data": {
      "text/plain": [
       "StatsModels.TableRegressionModel{GeneralizedLinearModel{GLM.GlmResp{Array{Float64,1},Poisson{Float64},LogLink},GLM.DensePredChol{Float64,LinearAlgebra.Cholesky{Float64,Array{Float64,2}}}},Array{Float64,2}}\n",
       "\n",
       "y ~ 1 + f\n",
       "\n",
       "Coefficients:\n",
       "─────────────────────────────────────────────────────────────────────────────\n",
       "              Estimate  Std. Error    z value  Pr(>|z|)  Lower 95%  Upper 95%\n",
       "─────────────────────────────────────────────────────────────────────────────\n",
       "(Intercept)  2.05156     0.050702   40.463       <1e-99   1.95218    2.15093\n",
       "f: T         0.0127716   0.0714756   0.178684    0.8582  -0.127318   0.152861\n",
       "─────────────────────────────────────────────────────────────────────────────"
      ]
     },
     "execution_count": 117,
     "metadata": {},
     "output_type": "execute_result"
    }
   ],
   "source": [
    "result_f = glm(@formula(y ~ f), df, GLM.Poisson())"
   ]
  },
  {
   "cell_type": "code",
   "execution_count": 118,
   "metadata": {},
   "outputs": [
    {
     "data": {
      "text/plain": [
       "-237.6272569606868"
      ]
     },
     "execution_count": 118,
     "metadata": {},
     "output_type": "execute_result"
    }
   ],
   "source": [
    "loglikelihood(result_f)"
   ]
  },
  {
   "cell_type": "markdown",
   "metadata": {},
   "source": [
    "## 3.6 説明変数が数量型 + 因子型の統計モデル"
   ]
  },
  {
   "cell_type": "code",
   "execution_count": 119,
   "metadata": {},
   "outputs": [
    {
     "data": {
      "text/plain": [
       "StatsModels.TableRegressionModel{GeneralizedLinearModel{GLM.GlmResp{Array{Float64,1},Poisson{Float64},LogLink},GLM.DensePredChol{Float64,LinearAlgebra.Cholesky{Float64,Array{Float64,2}}}},Array{Float64,2}}\n",
       "\n",
       "y ~ 1 + x + f\n",
       "\n",
       "Coefficients:\n",
       "────────────────────────────────────────────────────────────────────────────────\n",
       "               Estimate  Std. Error    z value  Pr(>|z|)    Lower 95%  Upper 95%\n",
       "────────────────────────────────────────────────────────────────────────────────\n",
       "(Intercept)   1.26311     0.369629    3.41722     0.0006   0.538646     1.98756\n",
       "x             0.0800726   0.0370369   2.16197     0.0306   0.00748169   0.152664\n",
       "f: T         -0.0319994   0.0743789  -0.430221    0.6670  -0.177779     0.113781\n",
       "────────────────────────────────────────────────────────────────────────────────"
      ]
     },
     "execution_count": 119,
     "metadata": {},
     "output_type": "execute_result"
    }
   ],
   "source": [
    "result_all = glm(@formula(y ~ x + f), df, GLM.Poisson())"
   ]
  },
  {
   "cell_type": "code",
   "execution_count": 120,
   "metadata": {},
   "outputs": [
    {
     "data": {
      "text/plain": [
       "-235.29371924249367"
      ]
     },
     "execution_count": 120,
     "metadata": {},
     "output_type": "execute_result"
    }
   ],
   "source": [
    "loglikelihood(result_all)"
   ]
  },
  {
   "cell_type": "markdown",
   "metadata": {},
   "source": [
    "### 対数リンク関数のわかりやすさ : 掛け算される効果\n",
    "恒等リンク関数"
   ]
  },
  {
   "cell_type": "code",
   "execution_count": 121,
   "metadata": {},
   "outputs": [
    {
     "data": {
      "text/plain": [
       "StatsModels.TableRegressionModel{GeneralizedLinearModel{GLM.GlmResp{Array{Float64,1},Poisson{Float64},IdentityLink},GLM.DensePredChol{Float64,LinearAlgebra.Cholesky{Float64,Array{Float64,2}}}},Array{Float64,2}}\n",
       "\n",
       "y ~ 1 + x + f\n",
       "\n",
       "Coefficients:\n",
       "──────────────────────────────────────────────────────────────────────────────\n",
       "              Estimate  Std. Error    z value  Pr(>|z|)   Lower 95%  Upper 95%\n",
       "──────────────────────────────────────────────────────────────────────────────\n",
       "(Intercept)   1.26602     2.8432     0.445279    0.6561  -4.30655     6.83858\n",
       "x             0.660745    0.289658   2.28112     0.0225   0.0930252   1.22846\n",
       "f: T         -0.204678    0.582247  -0.351532    0.7252  -1.34586     0.936504\n",
       "──────────────────────────────────────────────────────────────────────────────"
      ]
     },
     "execution_count": 121,
     "metadata": {},
     "output_type": "execute_result"
    }
   ],
   "source": [
    "result_identity = glm(@formula(y ~ x + f), df, GLM.Poisson(), IdentityLink())"
   ]
  },
  {
   "cell_type": "code",
   "execution_count": 122,
   "metadata": {},
   "outputs": [
    {
     "data": {
      "text/plain": [
       "-235.1589726266506"
      ]
     },
     "execution_count": 122,
     "metadata": {},
     "output_type": "execute_result"
    }
   ],
   "source": [
    "loglikelihood(result_identity)"
   ]
  },
  {
   "cell_type": "markdown",
   "metadata": {},
   "source": [
    "---\n",
    "\n",
    "*This notebook was generated using [Literate.jl](https://github.com/fredrikekre/Literate.jl).*"
   ]
  }
 ],
 "metadata": {
  "kernelspec": {
   "display_name": "Julia 1.4.1",
   "language": "julia",
   "name": "julia-1.4"
  },
  "language_info": {
   "file_extension": ".jl",
   "mimetype": "application/julia",
   "name": "julia",
   "version": "1.4.1"
  }
 },
 "nbformat": 4,
 "nbformat_minor": 3
}
