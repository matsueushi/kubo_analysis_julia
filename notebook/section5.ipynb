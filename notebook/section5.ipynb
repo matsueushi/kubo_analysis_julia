{
 "cells": [
  {
   "cell_type": "code",
   "execution_count": 17,
   "metadata": {},
   "outputs": [
    {
     "name": "stderr",
     "output_type": "stream",
     "text": [
      "\u001b[32m\u001b[1m Activating\u001b[22m\u001b[39m environment at `~/Documents/kubo_analysis_julia/notebook/Project.toml`\n"
     ]
    }
   ],
   "source": [
    "using Pkg; Pkg.activate(\".\"); Pkg.instantiate()"
   ]
  },
  {
   "cell_type": "markdown",
   "metadata": {},
   "source": [
    "# 5 GLMの尤度比検定と検定の非対称性"
   ]
  },
  {
   "cell_type": "code",
   "execution_count": 18,
   "metadata": {},
   "outputs": [],
   "source": [
    "using CSV\n",
    "using Distributions\n",
    "using GLM\n",
    "using Plots\n",
    "using StatsBase\n",
    "using Statistics"
   ]
  },
  {
   "cell_type": "code",
   "execution_count": 19,
   "metadata": {},
   "outputs": [
    {
     "data": {
      "text/html": [
       "<table class=\"data-frame\"><thead><tr><th></th><th>y</th><th>x</th><th>f</th></tr><tr><th></th><th>Int64</th><th>Float64</th><th>String</th></tr></thead><tbody><p>100 rows × 3 columns</p><tr><th>1</th><td>6</td><td>8.31</td><td>C</td></tr><tr><th>2</th><td>6</td><td>9.44</td><td>C</td></tr><tr><th>3</th><td>6</td><td>9.5</td><td>C</td></tr><tr><th>4</th><td>12</td><td>9.07</td><td>C</td></tr><tr><th>5</th><td>10</td><td>10.16</td><td>C</td></tr><tr><th>6</th><td>4</td><td>8.32</td><td>C</td></tr><tr><th>7</th><td>9</td><td>10.61</td><td>C</td></tr><tr><th>8</th><td>9</td><td>10.06</td><td>C</td></tr><tr><th>9</th><td>9</td><td>9.93</td><td>C</td></tr><tr><th>10</th><td>11</td><td>10.43</td><td>C</td></tr><tr><th>11</th><td>6</td><td>10.36</td><td>C</td></tr><tr><th>12</th><td>10</td><td>10.15</td><td>C</td></tr><tr><th>13</th><td>6</td><td>10.92</td><td>C</td></tr><tr><th>14</th><td>10</td><td>8.85</td><td>C</td></tr><tr><th>15</th><td>11</td><td>9.42</td><td>C</td></tr><tr><th>16</th><td>8</td><td>11.11</td><td>C</td></tr><tr><th>17</th><td>3</td><td>8.02</td><td>C</td></tr><tr><th>18</th><td>8</td><td>11.93</td><td>C</td></tr><tr><th>19</th><td>5</td><td>8.55</td><td>C</td></tr><tr><th>20</th><td>5</td><td>7.19</td><td>C</td></tr><tr><th>21</th><td>4</td><td>9.83</td><td>C</td></tr><tr><th>22</th><td>11</td><td>10.79</td><td>C</td></tr><tr><th>23</th><td>5</td><td>8.89</td><td>C</td></tr><tr><th>24</th><td>10</td><td>10.09</td><td>C</td></tr><tr><th>25</th><td>6</td><td>11.63</td><td>C</td></tr><tr><th>26</th><td>6</td><td>10.21</td><td>C</td></tr><tr><th>27</th><td>7</td><td>9.45</td><td>C</td></tr><tr><th>28</th><td>9</td><td>10.44</td><td>C</td></tr><tr><th>29</th><td>3</td><td>9.44</td><td>C</td></tr><tr><th>30</th><td>10</td><td>10.48</td><td>C</td></tr><tr><th>&vellip;</th><td>&vellip;</td><td>&vellip;</td><td>&vellip;</td></tr></tbody></table>"
      ],
      "text/latex": [
       "\\begin{tabular}{r|ccc}\n",
       "\t& y & x & f\\\\\n",
       "\t\\hline\n",
       "\t& Int64 & Float64 & String\\\\\n",
       "\t\\hline\n",
       "\t1 & 6 & 8.31 & C \\\\\n",
       "\t2 & 6 & 9.44 & C \\\\\n",
       "\t3 & 6 & 9.5 & C \\\\\n",
       "\t4 & 12 & 9.07 & C \\\\\n",
       "\t5 & 10 & 10.16 & C \\\\\n",
       "\t6 & 4 & 8.32 & C \\\\\n",
       "\t7 & 9 & 10.61 & C \\\\\n",
       "\t8 & 9 & 10.06 & C \\\\\n",
       "\t9 & 9 & 9.93 & C \\\\\n",
       "\t10 & 11 & 10.43 & C \\\\\n",
       "\t11 & 6 & 10.36 & C \\\\\n",
       "\t12 & 10 & 10.15 & C \\\\\n",
       "\t13 & 6 & 10.92 & C \\\\\n",
       "\t14 & 10 & 8.85 & C \\\\\n",
       "\t15 & 11 & 9.42 & C \\\\\n",
       "\t16 & 8 & 11.11 & C \\\\\n",
       "\t17 & 3 & 8.02 & C \\\\\n",
       "\t18 & 8 & 11.93 & C \\\\\n",
       "\t19 & 5 & 8.55 & C \\\\\n",
       "\t20 & 5 & 7.19 & C \\\\\n",
       "\t21 & 4 & 9.83 & C \\\\\n",
       "\t22 & 11 & 10.79 & C \\\\\n",
       "\t23 & 5 & 8.89 & C \\\\\n",
       "\t24 & 10 & 10.09 & C \\\\\n",
       "\t25 & 6 & 11.63 & C \\\\\n",
       "\t26 & 6 & 10.21 & C \\\\\n",
       "\t27 & 7 & 9.45 & C \\\\\n",
       "\t28 & 9 & 10.44 & C \\\\\n",
       "\t29 & 3 & 9.44 & C \\\\\n",
       "\t30 & 10 & 10.48 & C \\\\\n",
       "\t$\\dots$ & $\\dots$ & $\\dots$ & $\\dots$ \\\\\n",
       "\\end{tabular}\n"
      ],
      "text/plain": [
       "100×3 DataFrames.DataFrame\n",
       "│ Row │ y     │ x       │ f      │\n",
       "│     │ \u001b[90mInt64\u001b[39m │ \u001b[90mFloat64\u001b[39m │ \u001b[90mString\u001b[39m │\n",
       "├─────┼───────┼─────────┼────────┤\n",
       "│ 1   │ 6     │ 8.31    │ C      │\n",
       "│ 2   │ 6     │ 9.44    │ C      │\n",
       "│ 3   │ 6     │ 9.5     │ C      │\n",
       "│ 4   │ 12    │ 9.07    │ C      │\n",
       "│ 5   │ 10    │ 10.16   │ C      │\n",
       "│ 6   │ 4     │ 8.32    │ C      │\n",
       "│ 7   │ 9     │ 10.61   │ C      │\n",
       "│ 8   │ 9     │ 10.06   │ C      │\n",
       "│ 9   │ 9     │ 9.93    │ C      │\n",
       "│ 10  │ 11    │ 10.43   │ C      │\n",
       "⋮\n",
       "│ 90  │ 5     │ 8.85    │ T      │\n",
       "│ 91  │ 6     │ 11.2    │ T      │\n",
       "│ 92  │ 5     │ 9.86    │ T      │\n",
       "│ 93  │ 8     │ 11.54   │ T      │\n",
       "│ 94  │ 5     │ 10.03   │ T      │\n",
       "│ 95  │ 9     │ 11.88   │ T      │\n",
       "│ 96  │ 8     │ 9.15    │ T      │\n",
       "│ 97  │ 6     │ 8.52    │ T      │\n",
       "│ 98  │ 8     │ 10.24   │ T      │\n",
       "│ 99  │ 7     │ 10.86   │ T      │\n",
       "│ 100 │ 9     │ 9.97    │ T      │"
      ]
     },
     "execution_count": 19,
     "metadata": {},
     "output_type": "execute_result"
    }
   ],
   "source": [
    "df = CSV.read(joinpath(\"..\", \"data/section3.csv\"))"
   ]
  },
  {
   "cell_type": "markdown",
   "metadata": {},
   "source": [
    "### 5.4.1 方法(1) 汎用性のあるパラメトリックブートストラップ法\n",
    "一定モデル"
   ]
  },
  {
   "cell_type": "code",
   "execution_count": 20,
   "metadata": {},
   "outputs": [
    {
     "data": {
      "text/plain": [
       "StatsModels.TableRegressionModel{GeneralizedLinearModel{GLM.GlmResp{Array{Float64,1},Poisson{Float64},LogLink},GLM.DensePredChol{Float64,LinearAlgebra.Cholesky{Float64,Array{Float64,2}}}},Array{Float64,2}}\n",
       "\n",
       "y ~ 1\n",
       "\n",
       "Coefficients:\n",
       "──────────────────────────────────────────────────────────────────────────\n",
       "             Estimate  Std. Error  z value  Pr(>|z|)  Lower 95%  Upper 95%\n",
       "──────────────────────────────────────────────────────────────────────────\n",
       "(Intercept)   2.05796   0.0357371  57.5862    <1e-99    1.98792    2.12801\n",
       "──────────────────────────────────────────────────────────────────────────"
      ]
     },
     "execution_count": 20,
     "metadata": {},
     "output_type": "execute_result"
    }
   ],
   "source": [
    "fit1 = glm(@formula(y ~ 1), df, GLM.Poisson())"
   ]
  },
  {
   "cell_type": "markdown",
   "metadata": {},
   "source": [
    "xモデル"
   ]
  },
  {
   "cell_type": "code",
   "execution_count": 21,
   "metadata": {},
   "outputs": [
    {
     "data": {
      "text/plain": [
       "StatsModels.TableRegressionModel{GeneralizedLinearModel{GLM.GlmResp{Array{Float64,1},Poisson{Float64},LogLink},GLM.DensePredChol{Float64,LinearAlgebra.Cholesky{Float64,Array{Float64,2}}}},Array{Float64,2}}\n",
       "\n",
       "y ~ 1 + x\n",
       "\n",
       "Coefficients:\n",
       "───────────────────────────────────────────────────────────────────────────\n",
       "              Estimate  Std. Error  z value  Pr(>|z|)  Lower 95%  Upper 95%\n",
       "───────────────────────────────────────────────────────────────────────────\n",
       "(Intercept)  1.29172     0.363686   3.55174    0.0004   0.578909   2.00453\n",
       "x            0.0756619   0.0356042  2.12509    0.0336   0.005879   0.145445\n",
       "───────────────────────────────────────────────────────────────────────────"
      ]
     },
     "execution_count": 21,
     "metadata": {},
     "output_type": "execute_result"
    }
   ],
   "source": [
    "fit2 = glm(@formula(y ~ x), df, GLM.Poisson())"
   ]
  },
  {
   "cell_type": "markdown",
   "metadata": {},
   "source": [
    "### 残差逸脱度の差"
   ]
  },
  {
   "cell_type": "code",
   "execution_count": 22,
   "metadata": {},
   "outputs": [
    {
     "data": {
      "text/plain": [
       "4.513941078851829"
      ]
     },
     "execution_count": 22,
     "metadata": {},
     "output_type": "execute_result"
    }
   ],
   "source": [
    "deviance(fit1) - deviance(fit2)"
   ]
  },
  {
   "cell_type": "markdown",
   "metadata": {},
   "source": [
    "### 真のモデルから100個体分のデータを新しく生成"
   ]
  },
  {
   "cell_type": "code",
   "execution_count": 23,
   "metadata": {},
   "outputs": [
    {
     "data": {
      "text/plain": [
       "100-element Array{Int64,1}:\n",
       " 10\n",
       "  5\n",
       "  7\n",
       " 10\n",
       "  6\n",
       "  8\n",
       " 12\n",
       "  5\n",
       "  9\n",
       " 10\n",
       "  8\n",
       " 11\n",
       " 13\n",
       "  ⋮\n",
       "  7\n",
       "  7\n",
       " 11\n",
       "  5\n",
       "  6\n",
       "  4\n",
       " 11\n",
       " 10\n",
       "  8\n",
       " 10\n",
       "  9\n",
       " 15"
      ]
     },
     "execution_count": 23,
     "metadata": {},
     "output_type": "execute_result"
    }
   ],
   "source": [
    "df.y_rnd = rand(Poisson(mean(df.y)), 100)"
   ]
  },
  {
   "cell_type": "markdown",
   "metadata": {},
   "source": [
    "### 一定モデルとxモデルをこの真データに当てはめる"
   ]
  },
  {
   "cell_type": "code",
   "execution_count": 24,
   "metadata": {},
   "outputs": [
    {
     "data": {
      "text/plain": [
       "0.19437225171921568"
      ]
     },
     "execution_count": 24,
     "metadata": {},
     "output_type": "execute_result"
    }
   ],
   "source": [
    "fit1 = glm(@formula(y_rnd ~ 1), df, GLM.Poisson())\n",
    "fit2 = glm(@formula(y_rnd ~ x), df, GLM.Poisson())\n",
    "deviance(fit1) - deviance(fit2)"
   ]
  },
  {
   "cell_type": "markdown",
   "metadata": {},
   "source": [
    "### PB法を実行する関数\n",
    "データの生成と逸脱度差の評価"
   ]
  },
  {
   "cell_type": "code",
   "execution_count": 25,
   "metadata": {},
   "outputs": [
    {
     "data": {
      "text/plain": [
       "get_dd (generic function with 1 method)"
      ]
     },
     "execution_count": 25,
     "metadata": {},
     "output_type": "execute_result"
    }
   ],
   "source": [
    "function get_dd(df)\n",
    "    n_samples = size(df, 1)\n",
    "    y_mean = mean(df.y)\n",
    "    df.y_rnd = rand(Poisson(y_mean), n_samples)\n",
    "    fit1 = glm(@formula(y_rnd ~ 1), df, GLM.Poisson())\n",
    "    fit2 = glm(@formula(y_rnd ~ x), df, GLM.Poisson())\n",
    "    deviance(fit1) - deviance(fit2)\n",
    "end"
   ]
  },
  {
   "cell_type": "code",
   "execution_count": 26,
   "metadata": {},
   "outputs": [
    {
     "data": {
      "text/plain": [
       "pb (generic function with 1 method)"
      ]
     },
     "execution_count": 26,
     "metadata": {},
     "output_type": "execute_result"
    }
   ],
   "source": [
    "function pb(df, n_bootstrap)\n",
    "    [get_dd(df) for _ in 1:n_bootstrap]\n",
    "end"
   ]
  },
  {
   "cell_type": "markdown",
   "metadata": {},
   "source": [
    "### 逸脱度の差のサンプルを1000個を作成"
   ]
  },
  {
   "cell_type": "code",
   "execution_count": 27,
   "metadata": {},
   "outputs": [
    {
     "data": {
      "text/plain": [
       "1000-element Array{Float64,1}:\n",
       " 0.20131190752550765\n",
       " 0.14340189289684702\n",
       " 1.5596004764753815\n",
       " 0.14865646554004286\n",
       " 0.5152015258588989\n",
       " 0.31700610703182974\n",
       " 0.009970464674623258\n",
       " 0.9537188115813393\n",
       " 0.0015009642323775552\n",
       " 0.0038192509022962895\n",
       " 0.037905041277170426\n",
       " 0.6705732120159666\n",
       " 0.04878301129444651\n",
       " ⋮\n",
       " 0.0004440006674997221\n",
       " 0.4445880614095046\n",
       " 0.07163501558277119\n",
       " 3.2227813998535737\n",
       " 0.4475289235558222\n",
       " 1.832496883247586\n",
       " 0.34270354684640836\n",
       " 3.2900400346451306\n",
       " 0.38223233438138493\n",
       " 0.9511323318077274\n",
       " 0.3540388349066035\n",
       " 0.014956896780262241"
      ]
     },
     "execution_count": 27,
     "metadata": {},
     "output_type": "execute_result"
    }
   ],
   "source": [
    "dd12 = pb(df, 1000)"
   ]
  },
  {
   "cell_type": "code",
   "execution_count": 28,
   "metadata": {},
   "outputs": [
    {
     "name": "stdout",
     "output_type": "stream",
     "text": [
      "Summary Stats:\n",
      "Length:         1000\n",
      "Missing Count:  0\n",
      "Mean:           0.928926\n",
      "Minimum:        0.000001\n",
      "1st Quartile:   0.079751\n",
      "Median:         0.411421\n",
      "3rd Quartile:   1.222284\n",
      "Maximum:        14.685642\n",
      "Type:           Float64\n"
     ]
    }
   ],
   "source": [
    "describe(dd12)"
   ]
  },
  {
   "cell_type": "code",
   "execution_count": 29,
   "metadata": {},
   "outputs": [
    {
     "data": {
      "image/svg+xml": [
       "<?xml version=\"1.0\" encoding=\"utf-8\"?>\n",
       "<svg xmlns=\"http://www.w3.org/2000/svg\" xmlns:xlink=\"http://www.w3.org/1999/xlink\" width=\"600\" height=\"400\" viewBox=\"0 0 2400 1600\">\n",
       "<defs>\n",
       "  <clipPath id=\"clip030\">\n",
       "    <rect x=\"0\" y=\"0\" width=\"2400\" height=\"1600\"/>\n",
       "  </clipPath>\n",
       "</defs>\n",
       "<path clip-path=\"url(#clip030)\" d=\"\n",
       "M0 1600 L2400 1600 L2400 0 L0 0  Z\n",
       "  \" fill=\"#ffffff\" fill-rule=\"evenodd\" fill-opacity=\"1\"/>\n",
       "<defs>\n",
       "  <clipPath id=\"clip031\">\n",
       "    <rect x=\"480\" y=\"0\" width=\"1681\" height=\"1600\"/>\n",
       "  </clipPath>\n",
       "</defs>\n",
       "<path clip-path=\"url(#clip030)\" d=\"\n",
       "M163.774 1486.45 L2352.76 1486.45 L2352.76 47.2441 L163.774 47.2441  Z\n",
       "  \" fill=\"#ffffff\" fill-rule=\"evenodd\" fill-opacity=\"1\"/>\n",
       "<defs>\n",
       "  <clipPath id=\"clip032\">\n",
       "    <rect x=\"163\" y=\"47\" width=\"2190\" height=\"1440\"/>\n",
       "  </clipPath>\n",
       "</defs>\n",
       "<polyline clip-path=\"url(#clip032)\" style=\"stroke:#000000; stroke-width:2; stroke-opacity:0.1; fill:none\" points=\"\n",
       "  284.172,1486.45 284.172,47.2441 \n",
       "  \"/>\n",
       "<polyline clip-path=\"url(#clip032)\" style=\"stroke:#000000; stroke-width:2; stroke-opacity:0.1; fill:none\" points=\"\n",
       "  942.343,1486.45 942.343,47.2441 \n",
       "  \"/>\n",
       "<polyline clip-path=\"url(#clip032)\" style=\"stroke:#000000; stroke-width:2; stroke-opacity:0.1; fill:none\" points=\"\n",
       "  1600.51,1486.45 1600.51,47.2441 \n",
       "  \"/>\n",
       "<polyline clip-path=\"url(#clip032)\" style=\"stroke:#000000; stroke-width:2; stroke-opacity:0.1; fill:none\" points=\"\n",
       "  2258.68,1486.45 2258.68,47.2441 \n",
       "  \"/>\n",
       "<polyline clip-path=\"url(#clip032)\" style=\"stroke:#000000; stroke-width:2; stroke-opacity:0.1; fill:none\" points=\"\n",
       "  163.774,1445.72 2352.76,1445.72 \n",
       "  \"/>\n",
       "<polyline clip-path=\"url(#clip032)\" style=\"stroke:#000000; stroke-width:2; stroke-opacity:0.1; fill:none\" points=\"\n",
       "  163.774,1084.61 2352.76,1084.61 \n",
       "  \"/>\n",
       "<polyline clip-path=\"url(#clip032)\" style=\"stroke:#000000; stroke-width:2; stroke-opacity:0.1; fill:none\" points=\"\n",
       "  163.774,723.514 2352.76,723.514 \n",
       "  \"/>\n",
       "<polyline clip-path=\"url(#clip032)\" style=\"stroke:#000000; stroke-width:2; stroke-opacity:0.1; fill:none\" points=\"\n",
       "  163.774,362.413 2352.76,362.413 \n",
       "  \"/>\n",
       "<polyline clip-path=\"url(#clip030)\" style=\"stroke:#000000; stroke-width:4; stroke-opacity:1; fill:none\" points=\"\n",
       "  163.774,1486.45 2352.76,1486.45 \n",
       "  \"/>\n",
       "<polyline clip-path=\"url(#clip030)\" style=\"stroke:#000000; stroke-width:4; stroke-opacity:1; fill:none\" points=\"\n",
       "  163.774,1486.45 163.774,47.2441 \n",
       "  \"/>\n",
       "<polyline clip-path=\"url(#clip030)\" style=\"stroke:#000000; stroke-width:4; stroke-opacity:1; fill:none\" points=\"\n",
       "  284.172,1486.45 284.172,1469.18 \n",
       "  \"/>\n",
       "<polyline clip-path=\"url(#clip030)\" style=\"stroke:#000000; stroke-width:4; stroke-opacity:1; fill:none\" points=\"\n",
       "  942.343,1486.45 942.343,1469.18 \n",
       "  \"/>\n",
       "<polyline clip-path=\"url(#clip030)\" style=\"stroke:#000000; stroke-width:4; stroke-opacity:1; fill:none\" points=\"\n",
       "  1600.51,1486.45 1600.51,1469.18 \n",
       "  \"/>\n",
       "<polyline clip-path=\"url(#clip030)\" style=\"stroke:#000000; stroke-width:4; stroke-opacity:1; fill:none\" points=\"\n",
       "  2258.68,1486.45 2258.68,1469.18 \n",
       "  \"/>\n",
       "<polyline clip-path=\"url(#clip030)\" style=\"stroke:#000000; stroke-width:4; stroke-opacity:1; fill:none\" points=\"\n",
       "  163.774,1445.72 190.042,1445.72 \n",
       "  \"/>\n",
       "<polyline clip-path=\"url(#clip030)\" style=\"stroke:#000000; stroke-width:4; stroke-opacity:1; fill:none\" points=\"\n",
       "  163.774,1084.61 190.042,1084.61 \n",
       "  \"/>\n",
       "<polyline clip-path=\"url(#clip030)\" style=\"stroke:#000000; stroke-width:4; stroke-opacity:1; fill:none\" points=\"\n",
       "  163.774,723.514 190.042,723.514 \n",
       "  \"/>\n",
       "<polyline clip-path=\"url(#clip030)\" style=\"stroke:#000000; stroke-width:4; stroke-opacity:1; fill:none\" points=\"\n",
       "  163.774,362.413 190.042,362.413 \n",
       "  \"/>\n",
       "<path clip-path=\"url(#clip030)\" d=\"M 0 0 M284.172 1508.44 Q280.561 1508.44 278.732 1512 Q276.927 1515.55 276.927 1522.67 Q276.927 1529.78 278.732 1533.35 Q280.561 1536.89 284.172 1536.89 Q287.806 1536.89 289.612 1533.35 Q291.44 1529.78 291.44 1522.67 Q291.44 1515.55 289.612 1512 Q287.806 1508.44 284.172 1508.44 M284.172 1504.73 Q289.982 1504.73 293.038 1509.34 Q296.116 1513.92 296.116 1522.67 Q296.116 1531.4 293.038 1536.01 Q289.982 1540.59 284.172 1540.59 Q278.362 1540.59 275.283 1536.01 Q272.228 1531.4 272.228 1522.67 Q272.228 1513.92 275.283 1509.34 Q278.362 1504.73 284.172 1504.73 Z\" fill=\"#000000\" fill-rule=\"evenodd\" fill-opacity=\"1\" /><path clip-path=\"url(#clip030)\" d=\"M 0 0 M932.621 1505.36 L950.977 1505.36 L950.977 1509.3 L936.903 1509.3 L936.903 1517.77 Q937.922 1517.42 938.94 1517.26 Q939.959 1517.07 940.977 1517.07 Q946.764 1517.07 950.144 1520.24 Q953.523 1523.42 953.523 1528.83 Q953.523 1534.41 950.051 1537.51 Q946.579 1540.59 940.26 1540.59 Q938.084 1540.59 935.815 1540.22 Q933.57 1539.85 931.162 1539.11 L931.162 1534.41 Q933.246 1535.54 935.468 1536.1 Q937.69 1536.66 940.167 1536.66 Q944.172 1536.66 946.51 1534.55 Q948.848 1532.44 948.848 1528.83 Q948.848 1525.22 946.51 1523.11 Q944.172 1521.01 940.167 1521.01 Q938.292 1521.01 936.417 1521.42 Q934.565 1521.84 932.621 1522.72 L932.621 1505.36 Z\" fill=\"#000000\" fill-rule=\"evenodd\" fill-opacity=\"1\" /><path clip-path=\"url(#clip030)\" d=\"M 0 0 M1577.39 1535.98 L1585.03 1535.98 L1585.03 1509.62 L1576.72 1511.29 L1576.72 1507.03 L1584.98 1505.36 L1589.66 1505.36 L1589.66 1535.98 L1597.3 1535.98 L1597.3 1539.92 L1577.39 1539.92 L1577.39 1535.98 Z\" fill=\"#000000\" fill-rule=\"evenodd\" fill-opacity=\"1\" /><path clip-path=\"url(#clip030)\" d=\"M 0 0 M1612.37 1508.44 Q1608.75 1508.44 1606.93 1512 Q1605.12 1515.55 1605.12 1522.67 Q1605.12 1529.78 1606.93 1533.35 Q1608.75 1536.89 1612.37 1536.89 Q1616 1536.89 1617.81 1533.35 Q1619.63 1529.78 1619.63 1522.67 Q1619.63 1515.55 1617.81 1512 Q1616 1508.44 1612.37 1508.44 M1612.37 1504.73 Q1618.18 1504.73 1621.23 1509.34 Q1624.31 1513.92 1624.31 1522.67 Q1624.31 1531.4 1621.23 1536.01 Q1618.18 1540.59 1612.37 1540.59 Q1606.56 1540.59 1603.48 1536.01 Q1600.42 1531.4 1600.42 1522.67 Q1600.42 1513.92 1603.48 1509.34 Q1606.56 1504.73 1612.37 1504.73 Z\" fill=\"#000000\" fill-rule=\"evenodd\" fill-opacity=\"1\" /><path clip-path=\"url(#clip030)\" d=\"M 0 0 M2236.06 1535.98 L2243.7 1535.98 L2243.7 1509.62 L2235.39 1511.29 L2235.39 1507.03 L2243.65 1505.36 L2248.33 1505.36 L2248.33 1535.98 L2255.96 1535.98 L2255.96 1539.92 L2236.06 1539.92 L2236.06 1535.98 Z\" fill=\"#000000\" fill-rule=\"evenodd\" fill-opacity=\"1\" /><path clip-path=\"url(#clip030)\" d=\"M 0 0 M2261.08 1505.36 L2279.44 1505.36 L2279.44 1509.3 L2265.36 1509.3 L2265.36 1517.77 Q2266.38 1517.42 2267.4 1517.26 Q2268.42 1517.07 2269.44 1517.07 Q2275.22 1517.07 2278.6 1520.24 Q2281.98 1523.42 2281.98 1528.83 Q2281.98 1534.41 2278.51 1537.51 Q2275.04 1540.59 2268.72 1540.59 Q2266.54 1540.59 2264.28 1540.22 Q2262.03 1539.85 2259.62 1539.11 L2259.62 1534.41 Q2261.71 1535.54 2263.93 1536.1 Q2266.15 1536.66 2268.63 1536.66 Q2272.63 1536.66 2274.97 1534.55 Q2277.31 1532.44 2277.31 1528.83 Q2277.31 1525.22 2274.97 1523.11 Q2272.63 1521.01 2268.63 1521.01 Q2266.75 1521.01 2264.88 1521.42 Q2263.03 1521.84 2261.08 1522.72 L2261.08 1505.36 Z\" fill=\"#000000\" fill-rule=\"evenodd\" fill-opacity=\"1\" /><path clip-path=\"url(#clip030)\" d=\"M 0 0 M127.83 1431.51 Q124.219 1431.51 122.39 1435.08 Q120.584 1438.62 120.584 1445.75 Q120.584 1452.86 122.39 1456.42 Q124.219 1459.96 127.83 1459.96 Q131.464 1459.96 133.27 1456.42 Q135.098 1452.86 135.098 1445.75 Q135.098 1438.62 133.27 1435.08 Q131.464 1431.51 127.83 1431.51 M127.83 1427.81 Q133.64 1427.81 136.695 1432.42 Q139.774 1437 139.774 1445.75 Q139.774 1454.48 136.695 1459.08 Q133.64 1463.67 127.83 1463.67 Q122.02 1463.67 118.941 1459.08 Q115.885 1454.48 115.885 1445.75 Q115.885 1437 118.941 1432.42 Q122.02 1427.81 127.83 1427.81 Z\" fill=\"#000000\" fill-rule=\"evenodd\" fill-opacity=\"1\" /><path clip-path=\"url(#clip030)\" d=\"M 0 0 M65.8393 1097.96 L73.4782 1097.96 L73.4782 1071.59 L65.168 1073.26 L65.168 1069 L73.4319 1067.33 L78.1078 1067.33 L78.1078 1097.96 L85.7466 1097.96 L85.7466 1101.89 L65.8393 1101.89 L65.8393 1097.96 Z\" fill=\"#000000\" fill-rule=\"evenodd\" fill-opacity=\"1\" /><path clip-path=\"url(#clip030)\" d=\"M 0 0 M100.816 1070.41 Q97.2049 1070.41 95.3762 1073.98 Q93.5707 1077.52 93.5707 1084.65 Q93.5707 1091.76 95.3762 1095.32 Q97.2049 1098.86 100.816 1098.86 Q104.45 1098.86 106.256 1095.32 Q108.084 1091.76 108.084 1084.65 Q108.084 1077.52 106.256 1073.98 Q104.45 1070.41 100.816 1070.41 M100.816 1066.71 Q106.626 1066.71 109.682 1071.32 Q112.76 1075.9 112.76 1084.65 Q112.76 1093.38 109.682 1097.98 Q106.626 1102.57 100.816 1102.57 Q95.0058 1102.57 91.9272 1097.98 Q88.8716 1093.38 88.8716 1084.65 Q88.8716 1075.9 91.9272 1071.32 Q95.0058 1066.71 100.816 1066.71 Z\" fill=\"#000000\" fill-rule=\"evenodd\" fill-opacity=\"1\" /><path clip-path=\"url(#clip030)\" d=\"M 0 0 M127.83 1070.41 Q124.219 1070.41 122.39 1073.98 Q120.584 1077.52 120.584 1084.65 Q120.584 1091.76 122.39 1095.32 Q124.219 1098.86 127.83 1098.86 Q131.464 1098.86 133.27 1095.32 Q135.098 1091.76 135.098 1084.65 Q135.098 1077.52 133.27 1073.98 Q131.464 1070.41 127.83 1070.41 M127.83 1066.71 Q133.64 1066.71 136.695 1071.32 Q139.774 1075.9 139.774 1084.65 Q139.774 1093.38 136.695 1097.98 Q133.64 1102.57 127.83 1102.57 Q122.02 1102.57 118.941 1097.98 Q115.885 1093.38 115.885 1084.65 Q115.885 1075.9 118.941 1071.32 Q122.02 1066.71 127.83 1066.71 Z\" fill=\"#000000\" fill-rule=\"evenodd\" fill-opacity=\"1\" /><path clip-path=\"url(#clip030)\" d=\"M 0 0 M69.4273 736.859 L85.7466 736.859 L85.7466 740.794 L63.8023 740.794 L63.8023 736.859 Q66.4643 734.104 71.0476 729.474 Q75.6541 724.822 76.8346 723.479 Q79.08 720.956 79.9596 719.22 Q80.8624 717.461 80.8624 715.771 Q80.8624 713.016 78.918 711.28 Q76.9967 709.544 73.8948 709.544 Q71.6958 709.544 69.2421 710.308 Q66.8115 711.072 64.0338 712.623 L64.0338 707.901 Q66.8578 706.766 69.3115 706.188 Q71.7652 705.609 73.8023 705.609 Q79.1726 705.609 82.367 708.294 Q85.5614 710.979 85.5614 715.47 Q85.5614 717.6 84.7513 719.521 Q83.9642 721.419 81.8578 724.012 Q81.2791 724.683 78.1772 727.9 Q75.0754 731.095 69.4273 736.859 Z\" fill=\"#000000\" fill-rule=\"evenodd\" fill-opacity=\"1\" /><path clip-path=\"url(#clip030)\" d=\"M 0 0 M100.816 709.313 Q97.2049 709.313 95.3762 712.877 Q93.5707 716.419 93.5707 723.549 Q93.5707 730.655 95.3762 734.22 Q97.2049 737.761 100.816 737.761 Q104.45 737.761 106.256 734.22 Q108.084 730.655 108.084 723.549 Q108.084 716.419 106.256 712.877 Q104.45 709.313 100.816 709.313 M100.816 705.609 Q106.626 705.609 109.682 710.215 Q112.76 714.799 112.76 723.549 Q112.76 732.275 109.682 736.882 Q106.626 741.465 100.816 741.465 Q95.0058 741.465 91.9272 736.882 Q88.8716 732.275 88.8716 723.549 Q88.8716 714.799 91.9272 710.215 Q95.0058 705.609 100.816 705.609 Z\" fill=\"#000000\" fill-rule=\"evenodd\" fill-opacity=\"1\" /><path clip-path=\"url(#clip030)\" d=\"M 0 0 M127.83 709.313 Q124.219 709.313 122.39 712.877 Q120.584 716.419 120.584 723.549 Q120.584 730.655 122.39 734.22 Q124.219 737.761 127.83 737.761 Q131.464 737.761 133.27 734.22 Q135.098 730.655 135.098 723.549 Q135.098 716.419 133.27 712.877 Q131.464 709.313 127.83 709.313 M127.83 705.609 Q133.64 705.609 136.695 710.215 Q139.774 714.799 139.774 723.549 Q139.774 732.275 136.695 736.882 Q133.64 741.465 127.83 741.465 Q122.02 741.465 118.941 736.882 Q115.885 732.275 115.885 723.549 Q115.885 714.799 118.941 710.215 Q122.02 705.609 127.83 705.609 Z\" fill=\"#000000\" fill-rule=\"evenodd\" fill-opacity=\"1\" /><path clip-path=\"url(#clip030)\" d=\"M 0 0 M78.617 361.059 Q81.9735 361.776 83.8485 364.045 Q85.7466 366.313 85.7466 369.647 Q85.7466 374.762 82.2281 377.563 Q78.7096 380.364 72.2282 380.364 Q70.0523 380.364 67.7375 379.924 Q65.4458 379.508 62.9921 378.651 L62.9921 374.137 Q64.9366 375.272 67.2514 375.85 Q69.5662 376.429 72.0893 376.429 Q76.4874 376.429 78.7791 374.693 Q81.0939 372.957 81.0939 369.647 Q81.0939 366.591 78.9411 364.878 Q76.8115 363.142 72.9921 363.142 L68.9643 363.142 L68.9643 359.3 L73.1773 359.3 Q76.6263 359.3 78.455 357.934 Q80.2837 356.545 80.2837 353.952 Q80.2837 351.29 78.3856 349.878 Q76.5106 348.443 72.9921 348.443 Q71.0708 348.443 68.8717 348.86 Q66.6727 349.276 64.0338 350.156 L64.0338 345.989 Q66.6958 345.249 69.0106 344.878 Q71.3486 344.508 73.4087 344.508 Q78.7328 344.508 81.8346 346.939 Q84.9365 349.346 84.9365 353.466 Q84.9365 356.337 83.2929 358.327 Q81.6494 360.295 78.617 361.059 Z\" fill=\"#000000\" fill-rule=\"evenodd\" fill-opacity=\"1\" /><path clip-path=\"url(#clip030)\" d=\"M 0 0 M100.816 348.212 Q97.2049 348.212 95.3762 351.776 Q93.5707 355.318 93.5707 362.448 Q93.5707 369.554 95.3762 373.119 Q97.2049 376.661 100.816 376.661 Q104.45 376.661 106.256 373.119 Q108.084 369.554 108.084 362.448 Q108.084 355.318 106.256 351.776 Q104.45 348.212 100.816 348.212 M100.816 344.508 Q106.626 344.508 109.682 349.114 Q112.76 353.698 112.76 362.448 Q112.76 371.174 109.682 375.781 Q106.626 380.364 100.816 380.364 Q95.0058 380.364 91.9272 375.781 Q88.8716 371.174 88.8716 362.448 Q88.8716 353.698 91.9272 349.114 Q95.0058 344.508 100.816 344.508 Z\" fill=\"#000000\" fill-rule=\"evenodd\" fill-opacity=\"1\" /><path clip-path=\"url(#clip030)\" d=\"M 0 0 M127.83 348.212 Q124.219 348.212 122.39 351.776 Q120.584 355.318 120.584 362.448 Q120.584 369.554 122.39 373.119 Q124.219 376.661 127.83 376.661 Q131.464 376.661 133.27 373.119 Q135.098 369.554 135.098 362.448 Q135.098 355.318 133.27 351.776 Q131.464 348.212 127.83 348.212 M127.83 344.508 Q133.64 344.508 136.695 349.114 Q139.774 353.698 139.774 362.448 Q139.774 371.174 136.695 375.781 Q133.64 380.364 127.83 380.364 Q122.02 380.364 118.941 375.781 Q115.885 371.174 115.885 362.448 Q115.885 353.698 118.941 349.114 Q122.02 344.508 127.83 344.508 Z\" fill=\"#000000\" fill-rule=\"evenodd\" fill-opacity=\"1\" /><path clip-path=\"url(#clip032)\" d=\"\n",
       "M284.172 87.9763 L284.172 1445.72 L310.499 1445.72 L310.499 87.9763 L284.172 87.9763 L284.172 87.9763  Z\n",
       "  \" fill=\"#009af9\" fill-rule=\"evenodd\" fill-opacity=\"1\"/>\n",
       "<polyline clip-path=\"url(#clip032)\" style=\"stroke:#000000; stroke-width:4; stroke-opacity:1; fill:none\" points=\"\n",
       "  284.172,87.9763 284.172,1445.72 310.499,1445.72 310.499,87.9763 284.172,87.9763 \n",
       "  \"/>\n",
       "<path clip-path=\"url(#clip032)\" d=\"\n",
       "M310.499 1016.01 L310.499 1445.72 L336.826 1445.72 L336.826 1016.01 L310.499 1016.01 L310.499 1016.01  Z\n",
       "  \" fill=\"#009af9\" fill-rule=\"evenodd\" fill-opacity=\"1\"/>\n",
       "<polyline clip-path=\"url(#clip032)\" style=\"stroke:#000000; stroke-width:4; stroke-opacity:1; fill:none\" points=\"\n",
       "  310.499,1016.01 310.499,1445.72 336.826,1445.72 336.826,1016.01 310.499,1016.01 \n",
       "  \"/>\n",
       "<path clip-path=\"url(#clip032)\" d=\"\n",
       "M336.826 1178.5 L336.826 1445.72 L363.153 1445.72 L363.153 1178.5 L336.826 1178.5 L336.826 1178.5  Z\n",
       "  \" fill=\"#009af9\" fill-rule=\"evenodd\" fill-opacity=\"1\"/>\n",
       "<polyline clip-path=\"url(#clip032)\" style=\"stroke:#000000; stroke-width:4; stroke-opacity:1; fill:none\" points=\"\n",
       "  336.826,1178.5 336.826,1445.72 363.153,1445.72 363.153,1178.5 336.826,1178.5 \n",
       "  \"/>\n",
       "<path clip-path=\"url(#clip032)\" d=\"\n",
       "M363.153 1207.39 L363.153 1445.72 L389.479 1445.72 L389.479 1207.39 L363.153 1207.39 L363.153 1207.39  Z\n",
       "  \" fill=\"#009af9\" fill-rule=\"evenodd\" fill-opacity=\"1\"/>\n",
       "<polyline clip-path=\"url(#clip032)\" style=\"stroke:#000000; stroke-width:4; stroke-opacity:1; fill:none\" points=\"\n",
       "  363.153,1207.39 363.153,1445.72 389.479,1445.72 389.479,1207.39 363.153,1207.39 \n",
       "  \"/>\n",
       "<path clip-path=\"url(#clip032)\" d=\"\n",
       "M389.479 1229.06 L389.479 1445.72 L415.806 1445.72 L415.806 1229.06 L389.479 1229.06 L389.479 1229.06  Z\n",
       "  \" fill=\"#009af9\" fill-rule=\"evenodd\" fill-opacity=\"1\"/>\n",
       "<polyline clip-path=\"url(#clip032)\" style=\"stroke:#000000; stroke-width:4; stroke-opacity:1; fill:none\" points=\"\n",
       "  389.479,1229.06 389.479,1445.72 415.806,1445.72 415.806,1229.06 389.479,1229.06 \n",
       "  \"/>\n",
       "<path clip-path=\"url(#clip032)\" d=\"\n",
       "M415.806 1250.72 L415.806 1445.72 L442.133 1445.72 L442.133 1250.72 L415.806 1250.72 L415.806 1250.72  Z\n",
       "  \" fill=\"#009af9\" fill-rule=\"evenodd\" fill-opacity=\"1\"/>\n",
       "<polyline clip-path=\"url(#clip032)\" style=\"stroke:#000000; stroke-width:4; stroke-opacity:1; fill:none\" points=\"\n",
       "  415.806,1250.72 415.806,1445.72 442.133,1445.72 442.133,1250.72 415.806,1250.72 \n",
       "  \"/>\n",
       "<path clip-path=\"url(#clip032)\" d=\"\n",
       "M442.133 1326.55 L442.133 1445.72 L468.46 1445.72 L468.46 1326.55 L442.133 1326.55 L442.133 1326.55  Z\n",
       "  \" fill=\"#009af9\" fill-rule=\"evenodd\" fill-opacity=\"1\"/>\n",
       "<polyline clip-path=\"url(#clip032)\" style=\"stroke:#000000; stroke-width:4; stroke-opacity:1; fill:none\" points=\"\n",
       "  442.133,1326.55 442.133,1445.72 468.46,1445.72 468.46,1326.55 442.133,1326.55 \n",
       "  \"/>\n",
       "<path clip-path=\"url(#clip032)\" d=\"\n",
       "M468.46 1330.16 L468.46 1445.72 L494.787 1445.72 L494.787 1330.16 L468.46 1330.16 L468.46 1330.16  Z\n",
       "  \" fill=\"#009af9\" fill-rule=\"evenodd\" fill-opacity=\"1\"/>\n",
       "<polyline clip-path=\"url(#clip032)\" style=\"stroke:#000000; stroke-width:4; stroke-opacity:1; fill:none\" points=\"\n",
       "  468.46,1330.16 468.46,1445.72 494.787,1445.72 494.787,1330.16 468.46,1330.16 \n",
       "  \"/>\n",
       "<path clip-path=\"url(#clip032)\" d=\"\n",
       "M494.787 1384.33 L494.787 1445.72 L521.114 1445.72 L521.114 1384.33 L494.787 1384.33 L494.787 1384.33  Z\n",
       "  \" fill=\"#009af9\" fill-rule=\"evenodd\" fill-opacity=\"1\"/>\n",
       "<polyline clip-path=\"url(#clip032)\" style=\"stroke:#000000; stroke-width:4; stroke-opacity:1; fill:none\" points=\"\n",
       "  494.787,1384.33 494.787,1445.72 521.114,1445.72 521.114,1384.33 494.787,1384.33 \n",
       "  \"/>\n",
       "<path clip-path=\"url(#clip032)\" d=\"\n",
       "M521.114 1362.66 L521.114 1445.72 L547.44 1445.72 L547.44 1362.66 L521.114 1362.66 L521.114 1362.66  Z\n",
       "  \" fill=\"#009af9\" fill-rule=\"evenodd\" fill-opacity=\"1\"/>\n",
       "<polyline clip-path=\"url(#clip032)\" style=\"stroke:#000000; stroke-width:4; stroke-opacity:1; fill:none\" points=\"\n",
       "  521.114,1362.66 521.114,1445.72 547.44,1445.72 547.44,1362.66 521.114,1362.66 \n",
       "  \"/>\n",
       "<path clip-path=\"url(#clip032)\" d=\"\n",
       "M547.44 1395.16 L547.44 1445.72 L573.767 1445.72 L573.767 1395.16 L547.44 1395.16 L547.44 1395.16  Z\n",
       "  \" fill=\"#009af9\" fill-rule=\"evenodd\" fill-opacity=\"1\"/>\n",
       "<polyline clip-path=\"url(#clip032)\" style=\"stroke:#000000; stroke-width:4; stroke-opacity:1; fill:none\" points=\"\n",
       "  547.44,1395.16 547.44,1445.72 573.767,1445.72 573.767,1395.16 547.44,1395.16 \n",
       "  \"/>\n",
       "<path clip-path=\"url(#clip032)\" d=\"\n",
       "M573.767 1384.33 L573.767 1445.72 L600.094 1445.72 L600.094 1384.33 L573.767 1384.33 L573.767 1384.33  Z\n",
       "  \" fill=\"#009af9\" fill-rule=\"evenodd\" fill-opacity=\"1\"/>\n",
       "<polyline clip-path=\"url(#clip032)\" style=\"stroke:#000000; stroke-width:4; stroke-opacity:1; fill:none\" points=\"\n",
       "  573.767,1384.33 573.767,1445.72 600.094,1445.72 600.094,1384.33 573.767,1384.33 \n",
       "  \"/>\n",
       "<path clip-path=\"url(#clip032)\" d=\"\n",
       "M600.094 1395.16 L600.094 1445.72 L626.421 1445.72 L626.421 1395.16 L600.094 1395.16 L600.094 1395.16  Z\n",
       "  \" fill=\"#009af9\" fill-rule=\"evenodd\" fill-opacity=\"1\"/>\n",
       "<polyline clip-path=\"url(#clip032)\" style=\"stroke:#000000; stroke-width:4; stroke-opacity:1; fill:none\" points=\"\n",
       "  600.094,1395.16 600.094,1445.72 626.421,1445.72 626.421,1395.16 600.094,1395.16 \n",
       "  \"/>\n",
       "<path clip-path=\"url(#clip032)\" d=\"\n",
       "M626.421 1398.77 L626.421 1445.72 L652.748 1445.72 L652.748 1398.77 L626.421 1398.77 L626.421 1398.77  Z\n",
       "  \" fill=\"#009af9\" fill-rule=\"evenodd\" fill-opacity=\"1\"/>\n",
       "<polyline clip-path=\"url(#clip032)\" style=\"stroke:#000000; stroke-width:4; stroke-opacity:1; fill:none\" points=\"\n",
       "  626.421,1398.77 626.421,1445.72 652.748,1445.72 652.748,1398.77 626.421,1398.77 \n",
       "  \"/>\n",
       "<path clip-path=\"url(#clip032)\" d=\"\n",
       "M652.748 1391.55 L652.748 1445.72 L679.075 1445.72 L679.075 1391.55 L652.748 1391.55 L652.748 1391.55  Z\n",
       "  \" fill=\"#009af9\" fill-rule=\"evenodd\" fill-opacity=\"1\"/>\n",
       "<polyline clip-path=\"url(#clip032)\" style=\"stroke:#000000; stroke-width:4; stroke-opacity:1; fill:none\" points=\"\n",
       "  652.748,1391.55 652.748,1445.72 679.075,1445.72 679.075,1391.55 652.748,1391.55 \n",
       "  \"/>\n",
       "<path clip-path=\"url(#clip032)\" d=\"\n",
       "M679.075 1402.38 L679.075 1445.72 L705.401 1445.72 L705.401 1402.38 L679.075 1402.38 L679.075 1402.38  Z\n",
       "  \" fill=\"#009af9\" fill-rule=\"evenodd\" fill-opacity=\"1\"/>\n",
       "<polyline clip-path=\"url(#clip032)\" style=\"stroke:#000000; stroke-width:4; stroke-opacity:1; fill:none\" points=\"\n",
       "  679.075,1402.38 679.075,1445.72 705.401,1445.72 705.401,1402.38 679.075,1402.38 \n",
       "  \"/>\n",
       "<path clip-path=\"url(#clip032)\" d=\"\n",
       "M705.401 1420.44 L705.401 1445.72 L731.728 1445.72 L731.728 1420.44 L705.401 1420.44 L705.401 1420.44  Z\n",
       "  \" fill=\"#009af9\" fill-rule=\"evenodd\" fill-opacity=\"1\"/>\n",
       "<polyline clip-path=\"url(#clip032)\" style=\"stroke:#000000; stroke-width:4; stroke-opacity:1; fill:none\" points=\"\n",
       "  705.401,1420.44 705.401,1445.72 731.728,1445.72 731.728,1420.44 705.401,1420.44 \n",
       "  \"/>\n",
       "<path clip-path=\"url(#clip032)\" d=\"\n",
       "M731.728 1416.83 L731.728 1445.72 L758.055 1445.72 L758.055 1416.83 L731.728 1416.83 L731.728 1416.83  Z\n",
       "  \" fill=\"#009af9\" fill-rule=\"evenodd\" fill-opacity=\"1\"/>\n",
       "<polyline clip-path=\"url(#clip032)\" style=\"stroke:#000000; stroke-width:4; stroke-opacity:1; fill:none\" points=\"\n",
       "  731.728,1416.83 731.728,1445.72 758.055,1445.72 758.055,1416.83 731.728,1416.83 \n",
       "  \"/>\n",
       "<path clip-path=\"url(#clip032)\" d=\"\n",
       "M758.055 1427.66 L758.055 1445.72 L784.382 1445.72 L784.382 1427.66 L758.055 1427.66 L758.055 1427.66  Z\n",
       "  \" fill=\"#009af9\" fill-rule=\"evenodd\" fill-opacity=\"1\"/>\n",
       "<polyline clip-path=\"url(#clip032)\" style=\"stroke:#000000; stroke-width:4; stroke-opacity:1; fill:none\" points=\"\n",
       "  758.055,1427.66 758.055,1445.72 784.382,1445.72 784.382,1427.66 758.055,1427.66 \n",
       "  \"/>\n",
       "<path clip-path=\"url(#clip032)\" d=\"\n",
       "M784.382 1431.27 L784.382 1445.72 L810.709 1445.72 L810.709 1431.27 L784.382 1431.27 L784.382 1431.27  Z\n",
       "  \" fill=\"#009af9\" fill-rule=\"evenodd\" fill-opacity=\"1\"/>\n",
       "<polyline clip-path=\"url(#clip032)\" style=\"stroke:#000000; stroke-width:4; stroke-opacity:1; fill:none\" points=\"\n",
       "  784.382,1431.27 784.382,1445.72 810.709,1445.72 810.709,1431.27 784.382,1431.27 \n",
       "  \"/>\n",
       "<path clip-path=\"url(#clip032)\" d=\"\n",
       "M810.709 1427.66 L810.709 1445.72 L837.036 1445.72 L837.036 1427.66 L810.709 1427.66 L810.709 1427.66  Z\n",
       "  \" fill=\"#009af9\" fill-rule=\"evenodd\" fill-opacity=\"1\"/>\n",
       "<polyline clip-path=\"url(#clip032)\" style=\"stroke:#000000; stroke-width:4; stroke-opacity:1; fill:none\" points=\"\n",
       "  810.709,1427.66 810.709,1445.72 837.036,1445.72 837.036,1427.66 810.709,1427.66 \n",
       "  \"/>\n",
       "<path clip-path=\"url(#clip032)\" d=\"\n",
       "M837.036 1427.66 L837.036 1445.72 L863.362 1445.72 L863.362 1427.66 L837.036 1427.66 L837.036 1427.66  Z\n",
       "  \" fill=\"#009af9\" fill-rule=\"evenodd\" fill-opacity=\"1\"/>\n",
       "<polyline clip-path=\"url(#clip032)\" style=\"stroke:#000000; stroke-width:4; stroke-opacity:1; fill:none\" points=\"\n",
       "  837.036,1427.66 837.036,1445.72 863.362,1445.72 863.362,1427.66 837.036,1427.66 \n",
       "  \"/>\n",
       "<path clip-path=\"url(#clip032)\" d=\"\n",
       "M863.362 1431.27 L863.362 1445.72 L889.689 1445.72 L889.689 1431.27 L863.362 1431.27 L863.362 1431.27  Z\n",
       "  \" fill=\"#009af9\" fill-rule=\"evenodd\" fill-opacity=\"1\"/>\n",
       "<polyline clip-path=\"url(#clip032)\" style=\"stroke:#000000; stroke-width:4; stroke-opacity:1; fill:none\" points=\"\n",
       "  863.362,1431.27 863.362,1445.72 889.689,1445.72 889.689,1431.27 863.362,1431.27 \n",
       "  \"/>\n",
       "<path clip-path=\"url(#clip032)\" d=\"\n",
       "M889.689 1434.88 L889.689 1445.72 L916.016 1445.72 L916.016 1434.88 L889.689 1434.88 L889.689 1434.88  Z\n",
       "  \" fill=\"#009af9\" fill-rule=\"evenodd\" fill-opacity=\"1\"/>\n",
       "<polyline clip-path=\"url(#clip032)\" style=\"stroke:#000000; stroke-width:4; stroke-opacity:1; fill:none\" points=\"\n",
       "  889.689,1434.88 889.689,1445.72 916.016,1445.72 916.016,1434.88 889.689,1434.88 \n",
       "  \"/>\n",
       "<path clip-path=\"url(#clip032)\" d=\"\n",
       "M916.016 1438.49 L916.016 1445.72 L942.343 1445.72 L942.343 1438.49 L916.016 1438.49 L916.016 1438.49  Z\n",
       "  \" fill=\"#009af9\" fill-rule=\"evenodd\" fill-opacity=\"1\"/>\n",
       "<polyline clip-path=\"url(#clip032)\" style=\"stroke:#000000; stroke-width:4; stroke-opacity:1; fill:none\" points=\"\n",
       "  916.016,1438.49 916.016,1445.72 942.343,1445.72 942.343,1438.49 916.016,1438.49 \n",
       "  \"/>\n",
       "<path clip-path=\"url(#clip032)\" d=\"\n",
       "M942.343 1427.66 L942.343 1445.72 L968.67 1445.72 L968.67 1427.66 L942.343 1427.66 L942.343 1427.66  Z\n",
       "  \" fill=\"#009af9\" fill-rule=\"evenodd\" fill-opacity=\"1\"/>\n",
       "<polyline clip-path=\"url(#clip032)\" style=\"stroke:#000000; stroke-width:4; stroke-opacity:1; fill:none\" points=\"\n",
       "  942.343,1427.66 942.343,1445.72 968.67,1445.72 968.67,1427.66 942.343,1427.66 \n",
       "  \"/>\n",
       "<path clip-path=\"url(#clip032)\" d=\"\n",
       "M968.67 1434.88 L968.67 1445.72 L994.997 1445.72 L994.997 1434.88 L968.67 1434.88 L968.67 1434.88  Z\n",
       "  \" fill=\"#009af9\" fill-rule=\"evenodd\" fill-opacity=\"1\"/>\n",
       "<polyline clip-path=\"url(#clip032)\" style=\"stroke:#000000; stroke-width:4; stroke-opacity:1; fill:none\" points=\"\n",
       "  968.67,1434.88 968.67,1445.72 994.997,1445.72 994.997,1434.88 968.67,1434.88 \n",
       "  \"/>\n",
       "<path clip-path=\"url(#clip032)\" d=\"\n",
       "M994.997 1442.1 L994.997 1445.72 L1021.32 1445.72 L1021.32 1442.1 L994.997 1442.1 L994.997 1442.1  Z\n",
       "  \" fill=\"#009af9\" fill-rule=\"evenodd\" fill-opacity=\"1\"/>\n",
       "<polyline clip-path=\"url(#clip032)\" style=\"stroke:#000000; stroke-width:4; stroke-opacity:1; fill:none\" points=\"\n",
       "  994.997,1442.1 994.997,1445.72 1021.32,1445.72 1021.32,1442.1 994.997,1442.1 \n",
       "  \"/>\n",
       "<path clip-path=\"url(#clip032)\" d=\"\n",
       "M1021.32 1438.49 L1021.32 1445.72 L1047.65 1445.72 L1047.65 1438.49 L1021.32 1438.49 L1021.32 1438.49  Z\n",
       "  \" fill=\"#009af9\" fill-rule=\"evenodd\" fill-opacity=\"1\"/>\n",
       "<polyline clip-path=\"url(#clip032)\" style=\"stroke:#000000; stroke-width:4; stroke-opacity:1; fill:none\" points=\"\n",
       "  1021.32,1438.49 1021.32,1445.72 1047.65,1445.72 1047.65,1438.49 1021.32,1438.49 \n",
       "  \"/>\n",
       "<path clip-path=\"url(#clip032)\" d=\"\n",
       "M1047.65 1445.72 L1047.65 1445.72 L1073.98 1445.72 L1073.98 1445.72 L1047.65 1445.72 L1047.65 1445.72  Z\n",
       "  \" fill=\"#009af9\" fill-rule=\"evenodd\" fill-opacity=\"1\"/>\n",
       "<polyline clip-path=\"url(#clip032)\" style=\"stroke:#000000; stroke-width:4; stroke-opacity:1; fill:none\" points=\"\n",
       "  1047.65,1445.72 1047.65,1445.72 1073.98,1445.72 1047.65,1445.72 \n",
       "  \"/>\n",
       "<path clip-path=\"url(#clip032)\" d=\"\n",
       "M1073.98 1445.72 L1073.98 1445.72 L1100.3 1445.72 L1100.3 1445.72 L1073.98 1445.72 L1073.98 1445.72  Z\n",
       "  \" fill=\"#009af9\" fill-rule=\"evenodd\" fill-opacity=\"1\"/>\n",
       "<polyline clip-path=\"url(#clip032)\" style=\"stroke:#000000; stroke-width:4; stroke-opacity:1; fill:none\" points=\"\n",
       "  1073.98,1445.72 1073.98,1445.72 1100.3,1445.72 1073.98,1445.72 \n",
       "  \"/>\n",
       "<path clip-path=\"url(#clip032)\" d=\"\n",
       "M1100.3 1445.72 L1100.3 1445.72 L1126.63 1445.72 L1126.63 1445.72 L1100.3 1445.72 L1100.3 1445.72  Z\n",
       "  \" fill=\"#009af9\" fill-rule=\"evenodd\" fill-opacity=\"1\"/>\n",
       "<polyline clip-path=\"url(#clip032)\" style=\"stroke:#000000; stroke-width:4; stroke-opacity:1; fill:none\" points=\"\n",
       "  1100.3,1445.72 1100.3,1445.72 1126.63,1445.72 1100.3,1445.72 \n",
       "  \"/>\n",
       "<path clip-path=\"url(#clip032)\" d=\"\n",
       "M1126.63 1442.1 L1126.63 1445.72 L1152.96 1445.72 L1152.96 1442.1 L1126.63 1442.1 L1126.63 1442.1  Z\n",
       "  \" fill=\"#009af9\" fill-rule=\"evenodd\" fill-opacity=\"1\"/>\n",
       "<polyline clip-path=\"url(#clip032)\" style=\"stroke:#000000; stroke-width:4; stroke-opacity:1; fill:none\" points=\"\n",
       "  1126.63,1442.1 1126.63,1445.72 1152.96,1445.72 1152.96,1442.1 1126.63,1442.1 \n",
       "  \"/>\n",
       "<path clip-path=\"url(#clip032)\" d=\"\n",
       "M1152.96 1445.72 L1152.96 1445.72 L1179.28 1445.72 L1179.28 1445.72 L1152.96 1445.72 L1152.96 1445.72  Z\n",
       "  \" fill=\"#009af9\" fill-rule=\"evenodd\" fill-opacity=\"1\"/>\n",
       "<polyline clip-path=\"url(#clip032)\" style=\"stroke:#000000; stroke-width:4; stroke-opacity:1; fill:none\" points=\"\n",
       "  1152.96,1445.72 1152.96,1445.72 1179.28,1445.72 1152.96,1445.72 \n",
       "  \"/>\n",
       "<path clip-path=\"url(#clip032)\" d=\"\n",
       "M1179.28 1445.72 L1179.28 1445.72 L1205.61 1445.72 L1205.61 1445.72 L1179.28 1445.72 L1179.28 1445.72  Z\n",
       "  \" fill=\"#009af9\" fill-rule=\"evenodd\" fill-opacity=\"1\"/>\n",
       "<polyline clip-path=\"url(#clip032)\" style=\"stroke:#000000; stroke-width:4; stroke-opacity:1; fill:none\" points=\"\n",
       "  1179.28,1445.72 1179.28,1445.72 1205.61,1445.72 1179.28,1445.72 \n",
       "  \"/>\n",
       "<path clip-path=\"url(#clip032)\" d=\"\n",
       "M1205.61 1442.1 L1205.61 1445.72 L1231.94 1445.72 L1231.94 1442.1 L1205.61 1442.1 L1205.61 1442.1  Z\n",
       "  \" fill=\"#009af9\" fill-rule=\"evenodd\" fill-opacity=\"1\"/>\n",
       "<polyline clip-path=\"url(#clip032)\" style=\"stroke:#000000; stroke-width:4; stroke-opacity:1; fill:none\" points=\"\n",
       "  1205.61,1442.1 1205.61,1445.72 1231.94,1445.72 1231.94,1442.1 1205.61,1442.1 \n",
       "  \"/>\n",
       "<path clip-path=\"url(#clip032)\" d=\"\n",
       "M1231.94 1445.72 L1231.94 1445.72 L1258.27 1445.72 L1258.27 1445.72 L1231.94 1445.72 L1231.94 1445.72  Z\n",
       "  \" fill=\"#009af9\" fill-rule=\"evenodd\" fill-opacity=\"1\"/>\n",
       "<polyline clip-path=\"url(#clip032)\" style=\"stroke:#000000; stroke-width:4; stroke-opacity:1; fill:none\" points=\"\n",
       "  1231.94,1445.72 1231.94,1445.72 1258.27,1445.72 1231.94,1445.72 \n",
       "  \"/>\n",
       "<path clip-path=\"url(#clip032)\" d=\"\n",
       "M1258.27 1445.72 L1258.27 1445.72 L1284.59 1445.72 L1284.59 1445.72 L1258.27 1445.72 L1258.27 1445.72  Z\n",
       "  \" fill=\"#009af9\" fill-rule=\"evenodd\" fill-opacity=\"1\"/>\n",
       "<polyline clip-path=\"url(#clip032)\" style=\"stroke:#000000; stroke-width:4; stroke-opacity:1; fill:none\" points=\"\n",
       "  1258.27,1445.72 1258.27,1445.72 1284.59,1445.72 1258.27,1445.72 \n",
       "  \"/>\n",
       "<path clip-path=\"url(#clip032)\" d=\"\n",
       "M1284.59 1442.1 L1284.59 1445.72 L1310.92 1445.72 L1310.92 1442.1 L1284.59 1442.1 L1284.59 1442.1  Z\n",
       "  \" fill=\"#009af9\" fill-rule=\"evenodd\" fill-opacity=\"1\"/>\n",
       "<polyline clip-path=\"url(#clip032)\" style=\"stroke:#000000; stroke-width:4; stroke-opacity:1; fill:none\" points=\"\n",
       "  1284.59,1442.1 1284.59,1445.72 1310.92,1445.72 1310.92,1442.1 1284.59,1442.1 \n",
       "  \"/>\n",
       "<path clip-path=\"url(#clip032)\" d=\"\n",
       "M1310.92 1445.72 L1310.92 1445.72 L1337.25 1445.72 L1337.25 1445.72 L1310.92 1445.72 L1310.92 1445.72  Z\n",
       "  \" fill=\"#009af9\" fill-rule=\"evenodd\" fill-opacity=\"1\"/>\n",
       "<polyline clip-path=\"url(#clip032)\" style=\"stroke:#000000; stroke-width:4; stroke-opacity:1; fill:none\" points=\"\n",
       "  1310.92,1445.72 1310.92,1445.72 1337.25,1445.72 1310.92,1445.72 \n",
       "  \"/>\n",
       "<path clip-path=\"url(#clip032)\" d=\"\n",
       "M1337.25 1445.72 L1337.25 1445.72 L1363.57 1445.72 L1363.57 1445.72 L1337.25 1445.72 L1337.25 1445.72  Z\n",
       "  \" fill=\"#009af9\" fill-rule=\"evenodd\" fill-opacity=\"1\"/>\n",
       "<polyline clip-path=\"url(#clip032)\" style=\"stroke:#000000; stroke-width:4; stroke-opacity:1; fill:none\" points=\"\n",
       "  1337.25,1445.72 1337.25,1445.72 1363.57,1445.72 1337.25,1445.72 \n",
       "  \"/>\n",
       "<path clip-path=\"url(#clip032)\" d=\"\n",
       "M1363.57 1445.72 L1363.57 1445.72 L1389.9 1445.72 L1389.9 1445.72 L1363.57 1445.72 L1363.57 1445.72  Z\n",
       "  \" fill=\"#009af9\" fill-rule=\"evenodd\" fill-opacity=\"1\"/>\n",
       "<polyline clip-path=\"url(#clip032)\" style=\"stroke:#000000; stroke-width:4; stroke-opacity:1; fill:none\" points=\"\n",
       "  1363.57,1445.72 1363.57,1445.72 1389.9,1445.72 1363.57,1445.72 \n",
       "  \"/>\n",
       "<path clip-path=\"url(#clip032)\" d=\"\n",
       "M1389.9 1445.72 L1389.9 1445.72 L1416.23 1445.72 L1416.23 1445.72 L1389.9 1445.72 L1389.9 1445.72  Z\n",
       "  \" fill=\"#009af9\" fill-rule=\"evenodd\" fill-opacity=\"1\"/>\n",
       "<polyline clip-path=\"url(#clip032)\" style=\"stroke:#000000; stroke-width:4; stroke-opacity:1; fill:none\" points=\"\n",
       "  1389.9,1445.72 1389.9,1445.72 1416.23,1445.72 1389.9,1445.72 \n",
       "  \"/>\n",
       "<path clip-path=\"url(#clip032)\" d=\"\n",
       "M1416.23 1442.1 L1416.23 1445.72 L1442.55 1445.72 L1442.55 1442.1 L1416.23 1442.1 L1416.23 1442.1  Z\n",
       "  \" fill=\"#009af9\" fill-rule=\"evenodd\" fill-opacity=\"1\"/>\n",
       "<polyline clip-path=\"url(#clip032)\" style=\"stroke:#000000; stroke-width:4; stroke-opacity:1; fill:none\" points=\"\n",
       "  1416.23,1442.1 1416.23,1445.72 1442.55,1445.72 1442.55,1442.1 1416.23,1442.1 \n",
       "  \"/>\n",
       "<path clip-path=\"url(#clip032)\" d=\"\n",
       "M1442.55 1445.72 L1442.55 1445.72 L1468.88 1445.72 L1468.88 1445.72 L1442.55 1445.72 L1442.55 1445.72  Z\n",
       "  \" fill=\"#009af9\" fill-rule=\"evenodd\" fill-opacity=\"1\"/>\n",
       "<polyline clip-path=\"url(#clip032)\" style=\"stroke:#000000; stroke-width:4; stroke-opacity:1; fill:none\" points=\"\n",
       "  1442.55,1445.72 1442.55,1445.72 1468.88,1445.72 1442.55,1445.72 \n",
       "  \"/>\n",
       "<path clip-path=\"url(#clip032)\" d=\"\n",
       "M1468.88 1445.72 L1468.88 1445.72 L1495.21 1445.72 L1495.21 1445.72 L1468.88 1445.72 L1468.88 1445.72  Z\n",
       "  \" fill=\"#009af9\" fill-rule=\"evenodd\" fill-opacity=\"1\"/>\n",
       "<polyline clip-path=\"url(#clip032)\" style=\"stroke:#000000; stroke-width:4; stroke-opacity:1; fill:none\" points=\"\n",
       "  1468.88,1445.72 1468.88,1445.72 1495.21,1445.72 1468.88,1445.72 \n",
       "  \"/>\n",
       "<path clip-path=\"url(#clip032)\" d=\"\n",
       "M1495.21 1445.72 L1495.21 1445.72 L1521.53 1445.72 L1521.53 1445.72 L1495.21 1445.72 L1495.21 1445.72  Z\n",
       "  \" fill=\"#009af9\" fill-rule=\"evenodd\" fill-opacity=\"1\"/>\n",
       "<polyline clip-path=\"url(#clip032)\" style=\"stroke:#000000; stroke-width:4; stroke-opacity:1; fill:none\" points=\"\n",
       "  1495.21,1445.72 1495.21,1445.72 1521.53,1445.72 1495.21,1445.72 \n",
       "  \"/>\n",
       "<path clip-path=\"url(#clip032)\" d=\"\n",
       "M1521.53 1442.1 L1521.53 1445.72 L1547.86 1445.72 L1547.86 1442.1 L1521.53 1442.1 L1521.53 1442.1  Z\n",
       "  \" fill=\"#009af9\" fill-rule=\"evenodd\" fill-opacity=\"1\"/>\n",
       "<polyline clip-path=\"url(#clip032)\" style=\"stroke:#000000; stroke-width:4; stroke-opacity:1; fill:none\" points=\"\n",
       "  1521.53,1442.1 1521.53,1445.72 1547.86,1445.72 1547.86,1442.1 1521.53,1442.1 \n",
       "  \"/>\n",
       "<path clip-path=\"url(#clip032)\" d=\"\n",
       "M1547.86 1445.72 L1547.86 1445.72 L1574.19 1445.72 L1574.19 1445.72 L1547.86 1445.72 L1547.86 1445.72  Z\n",
       "  \" fill=\"#009af9\" fill-rule=\"evenodd\" fill-opacity=\"1\"/>\n",
       "<polyline clip-path=\"url(#clip032)\" style=\"stroke:#000000; stroke-width:4; stroke-opacity:1; fill:none\" points=\"\n",
       "  1547.86,1445.72 1547.86,1445.72 1574.19,1445.72 1547.86,1445.72 \n",
       "  \"/>\n",
       "<path clip-path=\"url(#clip032)\" d=\"\n",
       "M1574.19 1445.72 L1574.19 1445.72 L1600.51 1445.72 L1600.51 1445.72 L1574.19 1445.72 L1574.19 1445.72  Z\n",
       "  \" fill=\"#009af9\" fill-rule=\"evenodd\" fill-opacity=\"1\"/>\n",
       "<polyline clip-path=\"url(#clip032)\" style=\"stroke:#000000; stroke-width:4; stroke-opacity:1; fill:none\" points=\"\n",
       "  1574.19,1445.72 1574.19,1445.72 1600.51,1445.72 1574.19,1445.72 \n",
       "  \"/>\n",
       "<path clip-path=\"url(#clip032)\" d=\"\n",
       "M1600.51 1445.72 L1600.51 1445.72 L1626.84 1445.72 L1626.84 1445.72 L1600.51 1445.72 L1600.51 1445.72  Z\n",
       "  \" fill=\"#009af9\" fill-rule=\"evenodd\" fill-opacity=\"1\"/>\n",
       "<polyline clip-path=\"url(#clip032)\" style=\"stroke:#000000; stroke-width:4; stroke-opacity:1; fill:none\" points=\"\n",
       "  1600.51,1445.72 1600.51,1445.72 1626.84,1445.72 1600.51,1445.72 \n",
       "  \"/>\n",
       "<path clip-path=\"url(#clip032)\" d=\"\n",
       "M1626.84 1445.72 L1626.84 1445.72 L1653.17 1445.72 L1653.17 1445.72 L1626.84 1445.72 L1626.84 1445.72  Z\n",
       "  \" fill=\"#009af9\" fill-rule=\"evenodd\" fill-opacity=\"1\"/>\n",
       "<polyline clip-path=\"url(#clip032)\" style=\"stroke:#000000; stroke-width:4; stroke-opacity:1; fill:none\" points=\"\n",
       "  1626.84,1445.72 1626.84,1445.72 1653.17,1445.72 1626.84,1445.72 \n",
       "  \"/>\n",
       "<path clip-path=\"url(#clip032)\" d=\"\n",
       "M1653.17 1445.72 L1653.17 1445.72 L1679.49 1445.72 L1679.49 1445.72 L1653.17 1445.72 L1653.17 1445.72  Z\n",
       "  \" fill=\"#009af9\" fill-rule=\"evenodd\" fill-opacity=\"1\"/>\n",
       "<polyline clip-path=\"url(#clip032)\" style=\"stroke:#000000; stroke-width:4; stroke-opacity:1; fill:none\" points=\"\n",
       "  1653.17,1445.72 1653.17,1445.72 1679.49,1445.72 1653.17,1445.72 \n",
       "  \"/>\n",
       "<path clip-path=\"url(#clip032)\" d=\"\n",
       "M1679.49 1445.72 L1679.49 1445.72 L1705.82 1445.72 L1705.82 1445.72 L1679.49 1445.72 L1679.49 1445.72  Z\n",
       "  \" fill=\"#009af9\" fill-rule=\"evenodd\" fill-opacity=\"1\"/>\n",
       "<polyline clip-path=\"url(#clip032)\" style=\"stroke:#000000; stroke-width:4; stroke-opacity:1; fill:none\" points=\"\n",
       "  1679.49,1445.72 1679.49,1445.72 1705.82,1445.72 1679.49,1445.72 \n",
       "  \"/>\n",
       "<path clip-path=\"url(#clip032)\" d=\"\n",
       "M1705.82 1442.1 L1705.82 1445.72 L1732.15 1445.72 L1732.15 1442.1 L1705.82 1442.1 L1705.82 1442.1  Z\n",
       "  \" fill=\"#009af9\" fill-rule=\"evenodd\" fill-opacity=\"1\"/>\n",
       "<polyline clip-path=\"url(#clip032)\" style=\"stroke:#000000; stroke-width:4; stroke-opacity:1; fill:none\" points=\"\n",
       "  1705.82,1442.1 1705.82,1445.72 1732.15,1445.72 1732.15,1442.1 1705.82,1442.1 \n",
       "  \"/>\n",
       "<path clip-path=\"url(#clip032)\" d=\"\n",
       "M1732.15 1445.72 L1732.15 1445.72 L1758.47 1445.72 L1758.47 1445.72 L1732.15 1445.72 L1732.15 1445.72  Z\n",
       "  \" fill=\"#009af9\" fill-rule=\"evenodd\" fill-opacity=\"1\"/>\n",
       "<polyline clip-path=\"url(#clip032)\" style=\"stroke:#000000; stroke-width:4; stroke-opacity:1; fill:none\" points=\"\n",
       "  1732.15,1445.72 1732.15,1445.72 1758.47,1445.72 1732.15,1445.72 \n",
       "  \"/>\n",
       "<path clip-path=\"url(#clip032)\" d=\"\n",
       "M1758.47 1445.72 L1758.47 1445.72 L1784.8 1445.72 L1784.8 1445.72 L1758.47 1445.72 L1758.47 1445.72  Z\n",
       "  \" fill=\"#009af9\" fill-rule=\"evenodd\" fill-opacity=\"1\"/>\n",
       "<polyline clip-path=\"url(#clip032)\" style=\"stroke:#000000; stroke-width:4; stroke-opacity:1; fill:none\" points=\"\n",
       "  1758.47,1445.72 1758.47,1445.72 1784.8,1445.72 1758.47,1445.72 \n",
       "  \"/>\n",
       "<path clip-path=\"url(#clip032)\" d=\"\n",
       "M1784.8 1445.72 L1784.8 1445.72 L1811.13 1445.72 L1811.13 1445.72 L1784.8 1445.72 L1784.8 1445.72  Z\n",
       "  \" fill=\"#009af9\" fill-rule=\"evenodd\" fill-opacity=\"1\"/>\n",
       "<polyline clip-path=\"url(#clip032)\" style=\"stroke:#000000; stroke-width:4; stroke-opacity:1; fill:none\" points=\"\n",
       "  1784.8,1445.72 1784.8,1445.72 1811.13,1445.72 1784.8,1445.72 \n",
       "  \"/>\n",
       "<path clip-path=\"url(#clip032)\" d=\"\n",
       "M1811.13 1445.72 L1811.13 1445.72 L1837.46 1445.72 L1837.46 1445.72 L1811.13 1445.72 L1811.13 1445.72  Z\n",
       "  \" fill=\"#009af9\" fill-rule=\"evenodd\" fill-opacity=\"1\"/>\n",
       "<polyline clip-path=\"url(#clip032)\" style=\"stroke:#000000; stroke-width:4; stroke-opacity:1; fill:none\" points=\"\n",
       "  1811.13,1445.72 1811.13,1445.72 1837.46,1445.72 1811.13,1445.72 \n",
       "  \"/>\n",
       "<path clip-path=\"url(#clip032)\" d=\"\n",
       "M1837.46 1445.72 L1837.46 1445.72 L1863.78 1445.72 L1863.78 1445.72 L1837.46 1445.72 L1837.46 1445.72  Z\n",
       "  \" fill=\"#009af9\" fill-rule=\"evenodd\" fill-opacity=\"1\"/>\n",
       "<polyline clip-path=\"url(#clip032)\" style=\"stroke:#000000; stroke-width:4; stroke-opacity:1; fill:none\" points=\"\n",
       "  1837.46,1445.72 1837.46,1445.72 1863.78,1445.72 1837.46,1445.72 \n",
       "  \"/>\n",
       "<path clip-path=\"url(#clip032)\" d=\"\n",
       "M1863.78 1445.72 L1863.78 1445.72 L1890.11 1445.72 L1890.11 1445.72 L1863.78 1445.72 L1863.78 1445.72  Z\n",
       "  \" fill=\"#009af9\" fill-rule=\"evenodd\" fill-opacity=\"1\"/>\n",
       "<polyline clip-path=\"url(#clip032)\" style=\"stroke:#000000; stroke-width:4; stroke-opacity:1; fill:none\" points=\"\n",
       "  1863.78,1445.72 1863.78,1445.72 1890.11,1445.72 1863.78,1445.72 \n",
       "  \"/>\n",
       "<path clip-path=\"url(#clip032)\" d=\"\n",
       "M1890.11 1445.72 L1890.11 1445.72 L1916.44 1445.72 L1916.44 1445.72 L1890.11 1445.72 L1890.11 1445.72  Z\n",
       "  \" fill=\"#009af9\" fill-rule=\"evenodd\" fill-opacity=\"1\"/>\n",
       "<polyline clip-path=\"url(#clip032)\" style=\"stroke:#000000; stroke-width:4; stroke-opacity:1; fill:none\" points=\"\n",
       "  1890.11,1445.72 1890.11,1445.72 1916.44,1445.72 1890.11,1445.72 \n",
       "  \"/>\n",
       "<path clip-path=\"url(#clip032)\" d=\"\n",
       "M1916.44 1445.72 L1916.44 1445.72 L1942.76 1445.72 L1942.76 1445.72 L1916.44 1445.72 L1916.44 1445.72  Z\n",
       "  \" fill=\"#009af9\" fill-rule=\"evenodd\" fill-opacity=\"1\"/>\n",
       "<polyline clip-path=\"url(#clip032)\" style=\"stroke:#000000; stroke-width:4; stroke-opacity:1; fill:none\" points=\"\n",
       "  1916.44,1445.72 1916.44,1445.72 1942.76,1445.72 1916.44,1445.72 \n",
       "  \"/>\n",
       "<path clip-path=\"url(#clip032)\" d=\"\n",
       "M1942.76 1445.72 L1942.76 1445.72 L1969.09 1445.72 L1969.09 1445.72 L1942.76 1445.72 L1942.76 1445.72  Z\n",
       "  \" fill=\"#009af9\" fill-rule=\"evenodd\" fill-opacity=\"1\"/>\n",
       "<polyline clip-path=\"url(#clip032)\" style=\"stroke:#000000; stroke-width:4; stroke-opacity:1; fill:none\" points=\"\n",
       "  1942.76,1445.72 1942.76,1445.72 1969.09,1445.72 1942.76,1445.72 \n",
       "  \"/>\n",
       "<path clip-path=\"url(#clip032)\" d=\"\n",
       "M1969.09 1445.72 L1969.09 1445.72 L1995.42 1445.72 L1995.42 1445.72 L1969.09 1445.72 L1969.09 1445.72  Z\n",
       "  \" fill=\"#009af9\" fill-rule=\"evenodd\" fill-opacity=\"1\"/>\n",
       "<polyline clip-path=\"url(#clip032)\" style=\"stroke:#000000; stroke-width:4; stroke-opacity:1; fill:none\" points=\"\n",
       "  1969.09,1445.72 1969.09,1445.72 1995.42,1445.72 1969.09,1445.72 \n",
       "  \"/>\n",
       "<path clip-path=\"url(#clip032)\" d=\"\n",
       "M1995.42 1445.72 L1995.42 1445.72 L2021.74 1445.72 L2021.74 1445.72 L1995.42 1445.72 L1995.42 1445.72  Z\n",
       "  \" fill=\"#009af9\" fill-rule=\"evenodd\" fill-opacity=\"1\"/>\n",
       "<polyline clip-path=\"url(#clip032)\" style=\"stroke:#000000; stroke-width:4; stroke-opacity:1; fill:none\" points=\"\n",
       "  1995.42,1445.72 1995.42,1445.72 2021.74,1445.72 1995.42,1445.72 \n",
       "  \"/>\n",
       "<path clip-path=\"url(#clip032)\" d=\"\n",
       "M2021.74 1445.72 L2021.74 1445.72 L2048.07 1445.72 L2048.07 1445.72 L2021.74 1445.72 L2021.74 1445.72  Z\n",
       "  \" fill=\"#009af9\" fill-rule=\"evenodd\" fill-opacity=\"1\"/>\n",
       "<polyline clip-path=\"url(#clip032)\" style=\"stroke:#000000; stroke-width:4; stroke-opacity:1; fill:none\" points=\"\n",
       "  2021.74,1445.72 2021.74,1445.72 2048.07,1445.72 2021.74,1445.72 \n",
       "  \"/>\n",
       "<path clip-path=\"url(#clip032)\" d=\"\n",
       "M2048.07 1445.72 L2048.07 1445.72 L2074.4 1445.72 L2074.4 1445.72 L2048.07 1445.72 L2048.07 1445.72  Z\n",
       "  \" fill=\"#009af9\" fill-rule=\"evenodd\" fill-opacity=\"1\"/>\n",
       "<polyline clip-path=\"url(#clip032)\" style=\"stroke:#000000; stroke-width:4; stroke-opacity:1; fill:none\" points=\"\n",
       "  2048.07,1445.72 2048.07,1445.72 2074.4,1445.72 2048.07,1445.72 \n",
       "  \"/>\n",
       "<path clip-path=\"url(#clip032)\" d=\"\n",
       "M2074.4 1445.72 L2074.4 1445.72 L2100.72 1445.72 L2100.72 1445.72 L2074.4 1445.72 L2074.4 1445.72  Z\n",
       "  \" fill=\"#009af9\" fill-rule=\"evenodd\" fill-opacity=\"1\"/>\n",
       "<polyline clip-path=\"url(#clip032)\" style=\"stroke:#000000; stroke-width:4; stroke-opacity:1; fill:none\" points=\"\n",
       "  2074.4,1445.72 2074.4,1445.72 2100.72,1445.72 2074.4,1445.72 \n",
       "  \"/>\n",
       "<path clip-path=\"url(#clip032)\" d=\"\n",
       "M2100.72 1445.72 L2100.72 1445.72 L2127.05 1445.72 L2127.05 1445.72 L2100.72 1445.72 L2100.72 1445.72  Z\n",
       "  \" fill=\"#009af9\" fill-rule=\"evenodd\" fill-opacity=\"1\"/>\n",
       "<polyline clip-path=\"url(#clip032)\" style=\"stroke:#000000; stroke-width:4; stroke-opacity:1; fill:none\" points=\"\n",
       "  2100.72,1445.72 2100.72,1445.72 2127.05,1445.72 2100.72,1445.72 \n",
       "  \"/>\n",
       "<path clip-path=\"url(#clip032)\" d=\"\n",
       "M2127.05 1445.72 L2127.05 1445.72 L2153.38 1445.72 L2153.38 1445.72 L2127.05 1445.72 L2127.05 1445.72  Z\n",
       "  \" fill=\"#009af9\" fill-rule=\"evenodd\" fill-opacity=\"1\"/>\n",
       "<polyline clip-path=\"url(#clip032)\" style=\"stroke:#000000; stroke-width:4; stroke-opacity:1; fill:none\" points=\"\n",
       "  2127.05,1445.72 2127.05,1445.72 2153.38,1445.72 2127.05,1445.72 \n",
       "  \"/>\n",
       "<path clip-path=\"url(#clip032)\" d=\"\n",
       "M2153.38 1445.72 L2153.38 1445.72 L2179.7 1445.72 L2179.7 1445.72 L2153.38 1445.72 L2153.38 1445.72  Z\n",
       "  \" fill=\"#009af9\" fill-rule=\"evenodd\" fill-opacity=\"1\"/>\n",
       "<polyline clip-path=\"url(#clip032)\" style=\"stroke:#000000; stroke-width:4; stroke-opacity:1; fill:none\" points=\"\n",
       "  2153.38,1445.72 2153.38,1445.72 2179.7,1445.72 2153.38,1445.72 \n",
       "  \"/>\n",
       "<path clip-path=\"url(#clip032)\" d=\"\n",
       "M2179.7 1445.72 L2179.7 1445.72 L2206.03 1445.72 L2206.03 1445.72 L2179.7 1445.72 L2179.7 1445.72  Z\n",
       "  \" fill=\"#009af9\" fill-rule=\"evenodd\" fill-opacity=\"1\"/>\n",
       "<polyline clip-path=\"url(#clip032)\" style=\"stroke:#000000; stroke-width:4; stroke-opacity:1; fill:none\" points=\"\n",
       "  2179.7,1445.72 2179.7,1445.72 2206.03,1445.72 2179.7,1445.72 \n",
       "  \"/>\n",
       "<path clip-path=\"url(#clip032)\" d=\"\n",
       "M2206.03 1442.1 L2206.03 1445.72 L2232.36 1445.72 L2232.36 1442.1 L2206.03 1442.1 L2206.03 1442.1  Z\n",
       "  \" fill=\"#009af9\" fill-rule=\"evenodd\" fill-opacity=\"1\"/>\n",
       "<polyline clip-path=\"url(#clip032)\" style=\"stroke:#000000; stroke-width:4; stroke-opacity:1; fill:none\" points=\"\n",
       "  2206.03,1442.1 2206.03,1445.72 2232.36,1445.72 2232.36,1442.1 2206.03,1442.1 \n",
       "  \"/>\n",
       "<polyline clip-path=\"url(#clip032)\" style=\"stroke:#e26f46; stroke-width:4; stroke-opacity:1; fill:none\" stroke-dasharray=\"16, 10\" points=\"\n",
       "  876.526,2925.65 876.526,-1391.96 \n",
       "  \"/>\n",
       "</svg>\n"
      ]
     },
     "execution_count": 29,
     "metadata": {},
     "output_type": "execute_result"
    }
   ],
   "source": [
    "histogram(dd12, bins=100, label=\"\")\n",
    "plot!([4.5], seriestype=:vline, linestyle=:dash, label=\"\")"
   ]
  },
  {
   "cell_type": "markdown",
   "metadata": {},
   "source": [
    "合計1000個の$\\Delta D_{1,2}$のうちいくつが4.5より右にあるか"
   ]
  },
  {
   "cell_type": "code",
   "execution_count": 30,
   "metadata": {},
   "outputs": [
    {
     "data": {
      "text/plain": [
       "25"
      ]
     },
     "execution_count": 30,
     "metadata": {},
     "output_type": "execute_result"
    }
   ],
   "source": [
    "sum(dd12 .>= 4.5)"
   ]
  },
  {
   "cell_type": "markdown",
   "metadata": {},
   "source": [
    "$P=0.05$となる逸脱度の差"
   ]
  },
  {
   "cell_type": "code",
   "execution_count": 31,
   "metadata": {},
   "outputs": [
    {
     "data": {
      "text/plain": [
       "3.558692353422625"
      ]
     },
     "execution_count": 31,
     "metadata": {},
     "output_type": "execute_result"
    }
   ],
   "source": [
    "quantile(dd12, 0.95)"
   ]
  },
  {
   "cell_type": "markdown",
   "metadata": {},
   "source": [
    "### 方法(2) $\\chi^2$分布を使った近似計算法"
   ]
  },
  {
   "cell_type": "code",
   "execution_count": 32,
   "metadata": {},
   "outputs": [
    {
     "data": {
      "text/plain": [
       "0.03363819191961954"
      ]
     },
     "execution_count": 32,
     "metadata": {},
     "output_type": "execute_result"
    }
   ],
   "source": [
    "ccdf(Chisq(1), 4.513)"
   ]
  },
  {
   "cell_type": "markdown",
   "metadata": {},
   "source": [
    "---\n",
    "\n",
    "*This notebook was generated using [Literate.jl](https://github.com/fredrikekre/Literate.jl).*"
   ]
  }
 ],
 "metadata": {
  "kernelspec": {
   "display_name": "Julia 1.4.1",
   "language": "julia",
   "name": "julia-1.4"
  },
  "language_info": {
   "file_extension": ".jl",
   "mimetype": "application/julia",
   "name": "julia",
   "version": "1.4.1"
  }
 },
 "nbformat": 4,
 "nbformat_minor": 3
}
