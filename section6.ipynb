{
 "cells": [
  {
   "cell_type": "markdown",
   "metadata": {},
   "source": [
    "# 6 GLMの応用範囲を広げる -ロジスティック回帰など-"
   ]
  },
  {
   "cell_type": "code",
   "execution_count": 1,
   "metadata": {},
   "outputs": [],
   "source": [
    "using CSV\n",
    "using DataFrames\n",
    "using Distributions\n",
    "using GLM\n",
    "using LaTeXStrings\n",
    "using Plots\n",
    "using StatsBase"
   ]
  },
  {
   "cell_type": "markdown",
   "metadata": {},
   "source": [
    "## 6.2 例題 : 上限のあるカウントデータ"
   ]
  },
  {
   "cell_type": "code",
   "execution_count": 2,
   "metadata": {},
   "outputs": [],
   "source": [
    "df = CSV.read(\"data4a.csv\");"
   ]
  },
  {
   "cell_type": "code",
   "execution_count": 3,
   "metadata": {},
   "outputs": [
    {
     "data": {
      "text/html": [
       "<table class=\"data-frame\"><thead><tr><th></th><th>N</th><th>y</th><th>x</th><th>f</th></tr><tr><th></th><th>Int64⍰</th><th>Int64⍰</th><th>Float64⍰</th><th>String⍰</th></tr></thead><tbody><p>100 rows × 4 columns</p><tr><th>1</th><td>8</td><td>1</td><td>9.76</td><td>C</td></tr><tr><th>2</th><td>8</td><td>6</td><td>10.48</td><td>C</td></tr><tr><th>3</th><td>8</td><td>5</td><td>10.83</td><td>C</td></tr><tr><th>4</th><td>8</td><td>6</td><td>10.94</td><td>C</td></tr><tr><th>5</th><td>8</td><td>1</td><td>9.37</td><td>C</td></tr><tr><th>6</th><td>8</td><td>1</td><td>8.81</td><td>C</td></tr><tr><th>7</th><td>8</td><td>3</td><td>9.49</td><td>C</td></tr><tr><th>8</th><td>8</td><td>6</td><td>11.02</td><td>C</td></tr><tr><th>9</th><td>8</td><td>0</td><td>7.97</td><td>C</td></tr><tr><th>10</th><td>8</td><td>8</td><td>11.55</td><td>C</td></tr><tr><th>11</th><td>8</td><td>0</td><td>9.46</td><td>C</td></tr><tr><th>12</th><td>8</td><td>2</td><td>9.47</td><td>C</td></tr><tr><th>13</th><td>8</td><td>0</td><td>8.71</td><td>C</td></tr><tr><th>14</th><td>8</td><td>5</td><td>10.42</td><td>C</td></tr><tr><th>15</th><td>8</td><td>3</td><td>10.06</td><td>C</td></tr><tr><th>16</th><td>8</td><td>6</td><td>11.0</td><td>C</td></tr><tr><th>17</th><td>8</td><td>3</td><td>9.95</td><td>C</td></tr><tr><th>18</th><td>8</td><td>4</td><td>9.52</td><td>C</td></tr><tr><th>19</th><td>8</td><td>5</td><td>10.26</td><td>C</td></tr><tr><th>20</th><td>8</td><td>8</td><td>11.33</td><td>C</td></tr><tr><th>21</th><td>8</td><td>5</td><td>9.77</td><td>C</td></tr><tr><th>22</th><td>8</td><td>8</td><td>10.59</td><td>C</td></tr><tr><th>23</th><td>8</td><td>1</td><td>9.35</td><td>C</td></tr><tr><th>24</th><td>8</td><td>4</td><td>10.0</td><td>C</td></tr><tr><th>25</th><td>8</td><td>1</td><td>9.53</td><td>C</td></tr><tr><th>26</th><td>8</td><td>8</td><td>12.06</td><td>C</td></tr><tr><th>27</th><td>8</td><td>4</td><td>9.68</td><td>C</td></tr><tr><th>28</th><td>8</td><td>7</td><td>11.32</td><td>C</td></tr><tr><th>29</th><td>8</td><td>5</td><td>10.48</td><td>C</td></tr><tr><th>30</th><td>8</td><td>5</td><td>10.37</td><td>C</td></tr><tr><th>&vellip;</th><td>&vellip;</td><td>&vellip;</td><td>&vellip;</td><td>&vellip;</td></tr></tbody></table>"
      ],
      "text/latex": [
       "\\begin{tabular}{r|cccc}\n",
       "\t& N & y & x & f\\\\\n",
       "\t\\hline\n",
       "\t& Int64⍰ & Int64⍰ & Float64⍰ & String⍰\\\\\n",
       "\t\\hline\n",
       "\t1 & 8 & 1 & 9.76 & C \\\\\n",
       "\t2 & 8 & 6 & 10.48 & C \\\\\n",
       "\t3 & 8 & 5 & 10.83 & C \\\\\n",
       "\t4 & 8 & 6 & 10.94 & C \\\\\n",
       "\t5 & 8 & 1 & 9.37 & C \\\\\n",
       "\t6 & 8 & 1 & 8.81 & C \\\\\n",
       "\t7 & 8 & 3 & 9.49 & C \\\\\n",
       "\t8 & 8 & 6 & 11.02 & C \\\\\n",
       "\t9 & 8 & 0 & 7.97 & C \\\\\n",
       "\t10 & 8 & 8 & 11.55 & C \\\\\n",
       "\t11 & 8 & 0 & 9.46 & C \\\\\n",
       "\t12 & 8 & 2 & 9.47 & C \\\\\n",
       "\t13 & 8 & 0 & 8.71 & C \\\\\n",
       "\t14 & 8 & 5 & 10.42 & C \\\\\n",
       "\t15 & 8 & 3 & 10.06 & C \\\\\n",
       "\t16 & 8 & 6 & 11.0 & C \\\\\n",
       "\t17 & 8 & 3 & 9.95 & C \\\\\n",
       "\t18 & 8 & 4 & 9.52 & C \\\\\n",
       "\t19 & 8 & 5 & 10.26 & C \\\\\n",
       "\t20 & 8 & 8 & 11.33 & C \\\\\n",
       "\t21 & 8 & 5 & 9.77 & C \\\\\n",
       "\t22 & 8 & 8 & 10.59 & C \\\\\n",
       "\t23 & 8 & 1 & 9.35 & C \\\\\n",
       "\t24 & 8 & 4 & 10.0 & C \\\\\n",
       "\t25 & 8 & 1 & 9.53 & C \\\\\n",
       "\t26 & 8 & 8 & 12.06 & C \\\\\n",
       "\t27 & 8 & 4 & 9.68 & C \\\\\n",
       "\t28 & 8 & 7 & 11.32 & C \\\\\n",
       "\t29 & 8 & 5 & 10.48 & C \\\\\n",
       "\t30 & 8 & 5 & 10.37 & C \\\\\n",
       "\t$\\dots$ & $\\dots$ & $\\dots$ & $\\dots$ & $\\dots$ \\\\\n",
       "\\end{tabular}\n"
      ],
      "text/plain": [
       "100×4 DataFrame\n",
       "│ Row │ N      │ y      │ x        │ f       │\n",
       "│     │ \u001b[90mInt64⍰\u001b[39m │ \u001b[90mInt64⍰\u001b[39m │ \u001b[90mFloat64⍰\u001b[39m │ \u001b[90mString⍰\u001b[39m │\n",
       "├─────┼────────┼────────┼──────────┼─────────┤\n",
       "│ 1   │ 8      │ 1      │ 9.76     │ C       │\n",
       "│ 2   │ 8      │ 6      │ 10.48    │ C       │\n",
       "│ 3   │ 8      │ 5      │ 10.83    │ C       │\n",
       "│ 4   │ 8      │ 6      │ 10.94    │ C       │\n",
       "│ 5   │ 8      │ 1      │ 9.37     │ C       │\n",
       "│ 6   │ 8      │ 1      │ 8.81     │ C       │\n",
       "│ 7   │ 8      │ 3      │ 9.49     │ C       │\n",
       "│ 8   │ 8      │ 6      │ 11.02    │ C       │\n",
       "│ 9   │ 8      │ 0      │ 7.97     │ C       │\n",
       "│ 10  │ 8      │ 8      │ 11.55    │ C       │\n",
       "⋮\n",
       "│ 90  │ 8      │ 8      │ 10.84    │ T       │\n",
       "│ 91  │ 8      │ 8      │ 10.97    │ T       │\n",
       "│ 92  │ 8      │ 3      │ 8.6      │ T       │\n",
       "│ 93  │ 8      │ 7      │ 9.91     │ T       │\n",
       "│ 94  │ 8      │ 8      │ 11.38    │ T       │\n",
       "│ 95  │ 8      │ 8      │ 10.39    │ T       │\n",
       "│ 96  │ 8      │ 7      │ 10.45    │ T       │\n",
       "│ 97  │ 8      │ 0      │ 8.94     │ T       │\n",
       "│ 98  │ 8      │ 5      │ 8.94     │ T       │\n",
       "│ 99  │ 8      │ 8      │ 10.14    │ T       │\n",
       "│ 100 │ 8      │ 1      │ 8.5      │ T       │"
      ]
     },
     "execution_count": 3,
     "metadata": {},
     "output_type": "execute_result"
    }
   ],
   "source": [
    "df"
   ]
  },
  {
   "cell_type": "code",
   "execution_count": null,
   "metadata": {},
   "outputs": [],
   "source": [
    "plot(df.x, df.y, group=df.f, seriestype=:scatter, xlabel=\"Plant size\", ylabel=\"Number of seeds\")"
   ]
  },
  {
   "cell_type": "code",
   "execution_count": null,
   "metadata": {},
   "outputs": [],
   "source": [
    "describe(df)"
   ]
  },
  {
   "cell_type": "markdown",
   "metadata": {},
   "source": [
    "## 6.4 ロジスティック回帰とロジットリンク関数"
   ]
  },
  {
   "cell_type": "code",
   "execution_count": null,
   "metadata": {},
   "outputs": [],
   "source": [
    "function logistic(z)\n",
    "    1 / (1 + exp(-z))\n",
    "end"
   ]
  },
  {
   "cell_type": "code",
   "execution_count": null,
   "metadata": {},
   "outputs": [],
   "source": [
    "z = -6:0.1:6\n",
    "plot(z, logistic.(z), title=\"Logistic function\", xlabel=\"Linear predictor\", ylabel=\"Probability\")"
   ]
  },
  {
   "cell_type": "markdown",
   "metadata": {},
   "source": [
    "### 6.4.2 パラメータ推定\n",
    "Juliaでは、Binomial分布の場合、応答変数はfractionにしなければならない  \n",
    "https://github.com/JuliaStats/GLM.jl/issues/228#issuecomment-387340111"
   ]
  },
  {
   "cell_type": "code",
   "execution_count": null,
   "metadata": {},
   "outputs": [],
   "source": [
    "df.yy = df.y ./ df.N\n",
    "result = glm(@formula(yy ~ x + f), df, Binomial(), wts=fill(8.0, nrow(df)))"
   ]
  },
  {
   "cell_type": "code",
   "execution_count": null,
   "metadata": {},
   "outputs": [],
   "source": [
    "dfc = df[df.f .== \"C\", :];\n",
    "plot(dfc.x, dfc.y, seriestype=:scatter, label=\"C\")\n",
    "xx = DataFrame(x=range(minimum(dfc.x), maximum(dfc.x), length=100), f=\"C\")\n",
    "yy = predict(result, xx) * 8.0\n",
    "plot!(xx.x, yy)"
   ]
  },
  {
   "cell_type": "code",
   "execution_count": null,
   "metadata": {},
   "outputs": [],
   "source": [
    "dft = df[df.f .== \"T\", :];\n",
    "plot(dft.x, dft.y, seriestype=:scatter, label=\"T\", color=:red)\n",
    "xx = DataFrame(x=range(minimum(dft.x), maximum(dft.x), length=100), f=\"T\")\n",
    "yy = predict(result, xx) * 8.0\n",
    "plot!(xx.x, yy)"
   ]
  },
  {
   "cell_type": "code",
   "execution_count": null,
   "metadata": {},
   "outputs": [],
   "source": [
    "typeof(result)"
   ]
  },
  {
   "cell_type": "markdown",
   "metadata": {},
   "source": [
    "### 6.4.4 ロジスティック回帰のモデル選択\n",
    "$k, \\log L^*, \\mbox{deriance} - 2\\log L^*, \\mbox{residual deviance}, \\mbox{AIC}$"
   ]
  },
  {
   "cell_type": "code",
   "execution_count": null,
   "metadata": {},
   "outputs": [],
   "source": [
    "function model_selection_table(result)\n",
    "    dof(result), loglikelihood(result), -2loglikelihood(result), deviance(const_model), aic(result)\n",
    "end"
   ]
  },
  {
   "cell_type": "code",
   "execution_count": null,
   "metadata": {},
   "outputs": [],
   "source": [
    "const_model = glm(@formula(yy ~ 1), df, Binomial(), wts=fill(8.0, nrow(df)))\n",
    "model_selection_table(const_model)"
   ]
  },
  {
   "cell_type": "code",
   "execution_count": null,
   "metadata": {},
   "outputs": [],
   "source": [
    "f_model = glm(@formula(yy ~ 1 + f), df, Binomial(), wts=fill(8.0, nrow(df)))\n",
    "model_selection_table(f_model)"
   ]
  },
  {
   "cell_type": "code",
   "execution_count": null,
   "metadata": {},
   "outputs": [],
   "source": [
    "x_model = glm(@formula(yy ~ 1 + x), df, Binomial(), wts=fill(8.0, nrow(df)))\n",
    "model_selection_table(x_model)"
   ]
  },
  {
   "cell_type": "code",
   "execution_count": null,
   "metadata": {},
   "outputs": [],
   "source": [
    "xf_model = glm(@formula(yy ~ 1 + x + f), df, Binomial(), wts=fill(8.0, nrow(df)))\n",
    "model_selection_table(xf_model)"
   ]
  },
  {
   "cell_type": "markdown",
   "metadata": {},
   "source": [
    "## 6.5 交互作用項の入った線形予測子"
   ]
  },
  {
   "cell_type": "code",
   "execution_count": null,
   "metadata": {},
   "outputs": [],
   "source": [
    "interaction_model = glm(@formula(yy ~ x + f + x * f), df, Binomial(), wts=fill(8.0, nrow(df)))"
   ]
  },
  {
   "cell_type": "code",
   "execution_count": null,
   "metadata": {},
   "outputs": [],
   "source": [
    "model_selection_table(interaction_model)"
   ]
  },
  {
   "cell_type": "markdown",
   "metadata": {},
   "source": [
    "## 6.6 割算値の統計モデリングはやめよう\n",
    "### 6.6.1 割算値いらずのオフセット項わざ"
   ]
  },
  {
   "cell_type": "code",
   "execution_count": null,
   "metadata": {},
   "outputs": [],
   "source": [
    "df_population = CSV.read(\"data4b.csv\")"
   ]
  },
  {
   "cell_type": "code",
   "execution_count": null,
   "metadata": {},
   "outputs": [],
   "source": [
    "plot(df_population.A, df_population.y, seriestype=:scatter, \n",
    "    markeralpha=df_population.x, label=\"\",\n",
    "    xlabel=\"Area\", ylabel=\"Plant population\")"
   ]
  },
  {
   "cell_type": "code",
   "execution_count": null,
   "metadata": {},
   "outputs": [],
   "source": [
    "population_reseult = glm(@formula(y ~ x), df_population, Poisson(), offset=log.(df_population.A))"
   ]
  },
  {
   "cell_type": "markdown",
   "metadata": {},
   "source": [
    "### 明るさごとの平均個体数の予測"
   ]
  },
  {
   "cell_type": "code",
   "execution_count": null,
   "metadata": {},
   "outputs": [],
   "source": [
    "plt = plot(df_population.A, df_population.y, seriestype=:scatter, \n",
    "    markeralpha=df_population.x, label=\"\", \n",
    "    title=\"Prediction\",\n",
    "    xlabel=\"Area\", ylabel=\"Plant population\",\n",
    "    legendtitle = \"Brightness\", legend = :topleft)\n",
    "for j = 0.1:0.2:0.9\n",
    "    xx = DataFrame(A=range(minimum(df_population.A), maximum(df_population.A), length=100), x=j)\n",
    "    yy = predict(population_reseult, xx, offset=log.(xx.A))\n",
    "    plot!(xx.A, yy, lw=3, color=:red, linealpha=j, label=j)\n",
    "end\n",
    "display(plt)"
   ]
  },
  {
   "cell_type": "markdown",
   "metadata": {},
   "source": [
    "## 6.7 正規分布とその尤度"
   ]
  },
  {
   "cell_type": "code",
   "execution_count": null,
   "metadata": {},
   "outputs": [],
   "source": [
    "y = -5:0.1:5\n",
    "plot(y, pdf.(Normal(), y), label=\"\", \n",
    "    title=L\"\\mu=0, \\sigma=1\",\n",
    "    ylabel=\"Probability density\")"
   ]
  },
  {
   "cell_type": "code",
   "execution_count": null,
   "metadata": {},
   "outputs": [],
   "source": [
    "plot(y, pdf.(Normal(0, 3), y), label=\"\", \n",
    "    title=L\"\\mu=0, \\sigma=3\",\n",
    "    ylabel=\"Probability d3nsity\")"
   ]
  },
  {
   "cell_type": "code",
   "execution_count": null,
   "metadata": {},
   "outputs": [],
   "source": [
    "plot(y, pdf.(Normal(2, 1), y), label=\"\", \n",
    "    title=L\"\\mu=2, \\sigma=1\",\n",
    "    ylabel=\"Probability d3nsity\")"
   ]
  },
  {
   "cell_type": "markdown",
   "metadata": {},
   "source": [
    "$p(1.2 \\le y \\le 1.8 | \\mu, \\sigma)$を評価する"
   ]
  },
  {
   "cell_type": "code",
   "execution_count": null,
   "metadata": {},
   "outputs": [],
   "source": [
    "cdf(Normal(), 1.8) - cdf(Normal(), 1.2)"
   ]
  },
  {
   "cell_type": "markdown",
   "metadata": {},
   "source": [
    "近似"
   ]
  },
  {
   "cell_type": "code",
   "execution_count": null,
   "metadata": {},
   "outputs": [],
   "source": [
    "pdf.(Normal(), 1.5) * 0.6"
   ]
  },
  {
   "cell_type": "markdown",
   "metadata": {},
   "source": [
    "## 6.8 ガンマ分布のGLM"
   ]
  },
  {
   "cell_type": "code",
   "execution_count": null,
   "metadata": {},
   "outputs": [],
   "source": [
    "d = CSV.read(\"d.csv\");"
   ]
  },
  {
   "cell_type": "code",
   "execution_count": null,
   "metadata": {},
   "outputs": [],
   "source": [
    "d.logx = log.(d.x)\n",
    "d"
   ]
  },
  {
   "cell_type": "code",
   "execution_count": null,
   "metadata": {},
   "outputs": [],
   "source": [
    "glm(@formula(y ~ logx), d, Gamma(), LogLink())"
   ]
  }
 ],
 "metadata": {
  "kernelspec": {
   "display_name": "Julia 1.1.0",
   "language": "julia",
   "name": "julia-1.1"
  },
  "language_info": {
   "file_extension": ".jl",
   "mimetype": "application/julia",
   "name": "julia",
   "version": "1.1.0"
  }
 },
 "nbformat": 4,
 "nbformat_minor": 2
}
