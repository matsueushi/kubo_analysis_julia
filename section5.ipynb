{
 "cells": [
  {
   "cell_type": "markdown",
   "metadata": {},
   "source": [
    "# 5 GLMの尤度比検定と検定の非対称性"
   ]
  },
  {
   "cell_type": "code",
   "execution_count": 1,
   "metadata": {},
   "outputs": [],
   "source": [
    "using CSV\n",
    "using Distributions\n",
    "using GLM\n",
    "using Plots\n",
    "using StatsBase\n",
    "using Statistics"
   ]
  },
  {
   "cell_type": "code",
   "execution_count": 2,
   "metadata": {},
   "outputs": [],
   "source": [
    "df = CSV.read(\"data3a.csv\");"
   ]
  },
  {
   "cell_type": "markdown",
   "metadata": {},
   "source": [
    "### 5.4.1 方法(1) 汎用性のあるパラメトリックブートストラップ法\n",
    "一定モデル"
   ]
  },
  {
   "cell_type": "code",
   "execution_count": 3,
   "metadata": {},
   "outputs": [
    {
     "data": {
      "text/plain": [
       "StatsModels.DataFrameRegressionModel{GeneralizedLinearModel{GlmResp{Array{Float64,1},Poisson{Float64},LogLink},DensePredChol{Float64,LinearAlgebra.Cholesky{Float64,Array{Float64,2}}}},Array{Float64,2}}\n",
       "\n",
       "Formula: y ~ +1\n",
       "\n",
       "Coefficients:\n",
       "             Estimate Std.Error z value Pr(>|z|)\n",
       "(Intercept)   2.05796 0.0357371 57.5862   <1e-99\n"
      ]
     },
     "execution_count": 3,
     "metadata": {},
     "output_type": "execute_result"
    }
   ],
   "source": [
    "fit1 = glm(@formula(y ~ 1), df, Poisson())"
   ]
  },
  {
   "cell_type": "markdown",
   "metadata": {},
   "source": [
    "xモデル"
   ]
  },
  {
   "cell_type": "code",
   "execution_count": 4,
   "metadata": {},
   "outputs": [
    {
     "data": {
      "text/plain": [
       "StatsModels.DataFrameRegressionModel{GeneralizedLinearModel{GlmResp{Array{Float64,1},Poisson{Float64},LogLink},DensePredChol{Float64,LinearAlgebra.Cholesky{Float64,Array{Float64,2}}}},Array{Float64,2}}\n",
       "\n",
       "Formula: y ~ 1 + x\n",
       "\n",
       "Coefficients:\n",
       "              Estimate Std.Error z value Pr(>|z|)\n",
       "(Intercept)    1.29172  0.363686 3.55174   0.0004\n",
       "x            0.0756619 0.0356042 2.12509   0.0336\n"
      ]
     },
     "execution_count": 4,
     "metadata": {},
     "output_type": "execute_result"
    }
   ],
   "source": [
    "fit2 = glm(@formula(y ~ x), df, Poisson())"
   ]
  },
  {
   "cell_type": "markdown",
   "metadata": {},
   "source": [
    "### 残差逸脱度の差"
   ]
  },
  {
   "cell_type": "code",
   "execution_count": 5,
   "metadata": {},
   "outputs": [
    {
     "data": {
      "text/plain": [
       "4.513941078851829"
      ]
     },
     "execution_count": 5,
     "metadata": {},
     "output_type": "execute_result"
    }
   ],
   "source": [
    "deviance(fit1) - deviance(fit2)"
   ]
  },
  {
   "cell_type": "markdown",
   "metadata": {},
   "source": [
    "### 真のモデルから100個体分のデータを新しく生成"
   ]
  },
  {
   "cell_type": "code",
   "execution_count": 6,
   "metadata": {},
   "outputs": [
    {
     "data": {
      "text/plain": [
       "100-element Array{Int64,1}:\n",
       " 10\n",
       "  7\n",
       "  9\n",
       "  6\n",
       "  8\n",
       "  6\n",
       "  5\n",
       " 12\n",
       "  8\n",
       "  6\n",
       "  8\n",
       "  8\n",
       " 11\n",
       "  ⋮\n",
       "  8\n",
       "  3\n",
       "  6\n",
       "  5\n",
       "  4\n",
       "  6\n",
       "  8\n",
       "  9\n",
       "  7\n",
       " 11\n",
       "  9\n",
       "  9"
      ]
     },
     "execution_count": 6,
     "metadata": {},
     "output_type": "execute_result"
    }
   ],
   "source": [
    "df.y_rnd = rand(Poisson(mean(df.y)), 100)"
   ]
  },
  {
   "cell_type": "markdown",
   "metadata": {},
   "source": [
    "### 一定モデルとxモデルをこの真データに当てはめる"
   ]
  },
  {
   "cell_type": "code",
   "execution_count": 7,
   "metadata": {},
   "outputs": [
    {
     "data": {
      "text/plain": [
       "1.3429940882300144"
      ]
     },
     "execution_count": 7,
     "metadata": {},
     "output_type": "execute_result"
    }
   ],
   "source": [
    "fit1 = glm(@formula(y_rnd ~ 1), df, Poisson())\n",
    "fit2 = glm(@formula(y_rnd ~ x), df, Poisson())\n",
    "deviance(fit1) - deviance(fit2)"
   ]
  },
  {
   "cell_type": "markdown",
   "metadata": {},
   "source": [
    "### PB法を実行する関数\n",
    "データの生成と逸脱度差の評価"
   ]
  },
  {
   "cell_type": "code",
   "execution_count": 8,
   "metadata": {},
   "outputs": [
    {
     "data": {
      "text/plain": [
       "get_dd (generic function with 1 method)"
      ]
     },
     "execution_count": 8,
     "metadata": {},
     "output_type": "execute_result"
    }
   ],
   "source": [
    "function get_dd(df)\n",
    "    n_samples = size(df, 1)\n",
    "    y_mean = mean(df.y)\n",
    "    df.y_rnd = rand(Poisson(y_mean), n_samples)\n",
    "    fit1 = glm(@formula(y_rnd ~ 1), df, Poisson())\n",
    "    fit2 = glm(@formula(y_rnd ~ x), df, Poisson())\n",
    "    deviance(fit1) - deviance(fit2)\n",
    "end"
   ]
  },
  {
   "cell_type": "code",
   "execution_count": 9,
   "metadata": {},
   "outputs": [
    {
     "data": {
      "text/plain": [
       "pb (generic function with 1 method)"
      ]
     },
     "execution_count": 9,
     "metadata": {},
     "output_type": "execute_result"
    }
   ],
   "source": [
    "function pb(df, n_bootstrap)\n",
    "    [get_dd(df) for _ in 1:n_bootstrap]\n",
    "end"
   ]
  },
  {
   "cell_type": "markdown",
   "metadata": {},
   "source": [
    "### 逸脱度の差のサンプルを1000個を作成"
   ]
  },
  {
   "cell_type": "code",
   "execution_count": 10,
   "metadata": {},
   "outputs": [
    {
     "data": {
      "text/plain": [
       "1000-element Array{Float64,1}:\n",
       " 0.0401696026361833   \n",
       " 1.5070617728257076   \n",
       " 0.2856369535353309   \n",
       " 0.007809335917997373 \n",
       " 1.9259449280372678   \n",
       " 0.7456275073599272   \n",
       " 0.23202398097875232  \n",
       " 0.06073637433526358  \n",
       " 0.7313564121601104   \n",
       " 0.9365406635862854   \n",
       " 3.309899384187773    \n",
       " 0.27262762635172066  \n",
       " 0.4611197488120098   \n",
       " ⋮                    \n",
       " 0.16735788324501755  \n",
       " 1.4246380478989806   \n",
       " 0.8827725900923156   \n",
       " 3.869532771373315    \n",
       " 0.018158444199968926 \n",
       " 0.28480773009005134  \n",
       " 1.0698633107784445   \n",
       " 0.0016949001433772537\n",
       " 0.9101275956259514   \n",
       " 0.8232468445648493   \n",
       " 0.14872044911938076  \n",
       " 0.01677196644025969  "
      ]
     },
     "execution_count": 10,
     "metadata": {},
     "output_type": "execute_result"
    }
   ],
   "source": [
    "dd12 = pb(df, 1000)"
   ]
  },
  {
   "cell_type": "code",
   "execution_count": 11,
   "metadata": {},
   "outputs": [
    {
     "name": "stdout",
     "output_type": "stream",
     "text": [
      "Summary Stats:\n",
      "Mean:           1.004756\n",
      "Minimum:        0.000000\n",
      "1st Quartile:   0.097193\n",
      "Median:         0.429462\n",
      "3rd Quartile:   1.288192\n",
      "Maximum:        15.368768\n",
      "Length:         1000\n",
      "Type:           Float64\n"
     ]
    }
   ],
   "source": [
    "describe(dd12)"
   ]
  },
  {
   "cell_type": "code",
   "execution_count": 12,
   "metadata": {},
   "outputs": [
    {
     "data": {
      "image/svg+xml": [
       "<?xml version=\"1.0\" encoding=\"utf-8\"?>\n",
       "<svg xmlns=\"http://www.w3.org/2000/svg\" xmlns:xlink=\"http://www.w3.org/1999/xlink\" width=\"600\" height=\"400\" viewBox=\"0 0 2400 1600\">\n",
       "<defs>\n",
       "  <clipPath id=\"clip0200\">\n",
       "    <rect x=\"0\" y=\"0\" width=\"2000\" height=\"2000\"/>\n",
       "  </clipPath>\n",
       "</defs>\n",
       "<defs>\n",
       "  <clipPath id=\"clip0201\">\n",
       "    <rect x=\"0\" y=\"0\" width=\"2400\" height=\"1600\"/>\n",
       "  </clipPath>\n",
       "</defs>\n",
       "<polygon clip-path=\"url(#clip0201)\" points=\"\n",
       "0,1600 2400,1600 2400,0 0,0 \n",
       "  \" fill=\"#ffffff\" fill-rule=\"evenodd\" fill-opacity=\"1\"/>\n",
       "<defs>\n",
       "  <clipPath id=\"clip0202\">\n",
       "    <rect x=\"480\" y=\"0\" width=\"1681\" height=\"1600\"/>\n",
       "  </clipPath>\n",
       "</defs>\n",
       "<polygon clip-path=\"url(#clip0201)\" points=\"\n",
       "174.775,1503.47 2321.26,1503.47 2321.26,47.2441 174.775,47.2441 \n",
       "  \" fill=\"#ffffff\" fill-rule=\"evenodd\" fill-opacity=\"1\"/>\n",
       "<defs>\n",
       "  <clipPath id=\"clip0203\">\n",
       "    <rect x=\"174\" y=\"47\" width=\"2147\" height=\"1457\"/>\n",
       "  </clipPath>\n",
       "</defs>\n",
       "<polyline clip-path=\"url(#clip0203)\" style=\"stroke:#000000; stroke-width:2; stroke-opacity:0.1; fill:none\" points=\"\n",
       "  292.836,1503.47 292.836,47.2441 \n",
       "  \"/>\n",
       "<polyline clip-path=\"url(#clip0203)\" style=\"stroke:#000000; stroke-width:2; stroke-opacity:0.1; fill:none\" points=\"\n",
       "  913.084,1503.47 913.084,47.2441 \n",
       "  \"/>\n",
       "<polyline clip-path=\"url(#clip0203)\" style=\"stroke:#000000; stroke-width:2; stroke-opacity:0.1; fill:none\" points=\"\n",
       "  1533.33,1503.47 1533.33,47.2441 \n",
       "  \"/>\n",
       "<polyline clip-path=\"url(#clip0203)\" style=\"stroke:#000000; stroke-width:2; stroke-opacity:0.1; fill:none\" points=\"\n",
       "  2153.58,1503.47 2153.58,47.2441 \n",
       "  \"/>\n",
       "<polyline clip-path=\"url(#clip0203)\" style=\"stroke:#000000; stroke-width:2; stroke-opacity:0.1; fill:none\" points=\"\n",
       "  174.775,1462.26 2321.26,1462.26 \n",
       "  \"/>\n",
       "<polyline clip-path=\"url(#clip0203)\" style=\"stroke:#000000; stroke-width:2; stroke-opacity:0.1; fill:none\" points=\"\n",
       "  174.775,1062.9 2321.26,1062.9 \n",
       "  \"/>\n",
       "<polyline clip-path=\"url(#clip0203)\" style=\"stroke:#000000; stroke-width:2; stroke-opacity:0.1; fill:none\" points=\"\n",
       "  174.775,663.538 2321.26,663.538 \n",
       "  \"/>\n",
       "<polyline clip-path=\"url(#clip0203)\" style=\"stroke:#000000; stroke-width:2; stroke-opacity:0.1; fill:none\" points=\"\n",
       "  174.775,264.177 2321.26,264.177 \n",
       "  \"/>\n",
       "<polyline clip-path=\"url(#clip0201)\" style=\"stroke:#000000; stroke-width:4; stroke-opacity:1; fill:none\" points=\"\n",
       "  174.775,1503.47 2321.26,1503.47 \n",
       "  \"/>\n",
       "<polyline clip-path=\"url(#clip0201)\" style=\"stroke:#000000; stroke-width:4; stroke-opacity:1; fill:none\" points=\"\n",
       "  174.775,1503.47 174.775,47.2441 \n",
       "  \"/>\n",
       "<polyline clip-path=\"url(#clip0201)\" style=\"stroke:#000000; stroke-width:4; stroke-opacity:1; fill:none\" points=\"\n",
       "  292.836,1503.47 292.836,1481.63 \n",
       "  \"/>\n",
       "<polyline clip-path=\"url(#clip0201)\" style=\"stroke:#000000; stroke-width:4; stroke-opacity:1; fill:none\" points=\"\n",
       "  913.084,1503.47 913.084,1481.63 \n",
       "  \"/>\n",
       "<polyline clip-path=\"url(#clip0201)\" style=\"stroke:#000000; stroke-width:4; stroke-opacity:1; fill:none\" points=\"\n",
       "  1533.33,1503.47 1533.33,1481.63 \n",
       "  \"/>\n",
       "<polyline clip-path=\"url(#clip0201)\" style=\"stroke:#000000; stroke-width:4; stroke-opacity:1; fill:none\" points=\"\n",
       "  2153.58,1503.47 2153.58,1481.63 \n",
       "  \"/>\n",
       "<polyline clip-path=\"url(#clip0201)\" style=\"stroke:#000000; stroke-width:4; stroke-opacity:1; fill:none\" points=\"\n",
       "  174.775,1462.26 206.972,1462.26 \n",
       "  \"/>\n",
       "<polyline clip-path=\"url(#clip0201)\" style=\"stroke:#000000; stroke-width:4; stroke-opacity:1; fill:none\" points=\"\n",
       "  174.775,1062.9 206.972,1062.9 \n",
       "  \"/>\n",
       "<polyline clip-path=\"url(#clip0201)\" style=\"stroke:#000000; stroke-width:4; stroke-opacity:1; fill:none\" points=\"\n",
       "  174.775,663.538 206.972,663.538 \n",
       "  \"/>\n",
       "<polyline clip-path=\"url(#clip0201)\" style=\"stroke:#000000; stroke-width:4; stroke-opacity:1; fill:none\" points=\"\n",
       "  174.775,264.177 206.972,264.177 \n",
       "  \"/>\n",
       "<g clip-path=\"url(#clip0201)\">\n",
       "<text style=\"fill:#000000; fill-opacity:1; font-family:Arial,Helvetica Neue,Helvetica,sans-serif; font-size:48px; text-anchor:middle;\" transform=\"rotate(0, 292.836, 1557.47)\" x=\"292.836\" y=\"1557.47\">0</text>\n",
       "</g>\n",
       "<g clip-path=\"url(#clip0201)\">\n",
       "<text style=\"fill:#000000; fill-opacity:1; font-family:Arial,Helvetica Neue,Helvetica,sans-serif; font-size:48px; text-anchor:middle;\" transform=\"rotate(0, 913.084, 1557.47)\" x=\"913.084\" y=\"1557.47\">5</text>\n",
       "</g>\n",
       "<g clip-path=\"url(#clip0201)\">\n",
       "<text style=\"fill:#000000; fill-opacity:1; font-family:Arial,Helvetica Neue,Helvetica,sans-serif; font-size:48px; text-anchor:middle;\" transform=\"rotate(0, 1533.33, 1557.47)\" x=\"1533.33\" y=\"1557.47\">10</text>\n",
       "</g>\n",
       "<g clip-path=\"url(#clip0201)\">\n",
       "<text style=\"fill:#000000; fill-opacity:1; font-family:Arial,Helvetica Neue,Helvetica,sans-serif; font-size:48px; text-anchor:middle;\" transform=\"rotate(0, 2153.58, 1557.47)\" x=\"2153.58\" y=\"1557.47\">15</text>\n",
       "</g>\n",
       "<g clip-path=\"url(#clip0201)\">\n",
       "<text style=\"fill:#000000; fill-opacity:1; font-family:Arial,Helvetica Neue,Helvetica,sans-serif; font-size:48px; text-anchor:end;\" transform=\"rotate(0, 150.775, 1479.76)\" x=\"150.775\" y=\"1479.76\">0</text>\n",
       "</g>\n",
       "<g clip-path=\"url(#clip0201)\">\n",
       "<text style=\"fill:#000000; fill-opacity:1; font-family:Arial,Helvetica Neue,Helvetica,sans-serif; font-size:48px; text-anchor:end;\" transform=\"rotate(0, 150.775, 1080.4)\" x=\"150.775\" y=\"1080.4\">100</text>\n",
       "</g>\n",
       "<g clip-path=\"url(#clip0201)\">\n",
       "<text style=\"fill:#000000; fill-opacity:1; font-family:Arial,Helvetica Neue,Helvetica,sans-serif; font-size:48px; text-anchor:end;\" transform=\"rotate(0, 150.775, 681.038)\" x=\"150.775\" y=\"681.038\">200</text>\n",
       "</g>\n",
       "<g clip-path=\"url(#clip0201)\">\n",
       "<text style=\"fill:#000000; fill-opacity:1; font-family:Arial,Helvetica Neue,Helvetica,sans-serif; font-size:48px; text-anchor:end;\" transform=\"rotate(0, 150.775, 281.677)\" x=\"150.775\" y=\"281.677\">300</text>\n",
       "</g>\n",
       "<polygon clip-path=\"url(#clip0203)\" points=\"\n",
       "292.836,88.4582 292.836,1462.26 317.646,1462.26 317.646,88.4582 292.836,88.4582 292.836,88.4582 \n",
       "  \" fill=\"#009af9\" fill-rule=\"evenodd\" fill-opacity=\"1\"/>\n",
       "<polyline clip-path=\"url(#clip0203)\" style=\"stroke:#000000; stroke-width:4; stroke-opacity:1; fill:none\" points=\"\n",
       "  292.836,88.4582 292.836,1462.26 317.646,1462.26 317.646,88.4582 292.836,88.4582 \n",
       "  \"/>\n",
       "<polygon clip-path=\"url(#clip0203)\" points=\"\n",
       "317.646,911.142 317.646,1462.26 342.456,1462.26 342.456,911.142 317.646,911.142 317.646,911.142 \n",
       "  \" fill=\"#009af9\" fill-rule=\"evenodd\" fill-opacity=\"1\"/>\n",
       "<polyline clip-path=\"url(#clip0203)\" style=\"stroke:#000000; stroke-width:4; stroke-opacity:1; fill:none\" points=\"\n",
       "  317.646,911.142 317.646,1462.26 342.456,1462.26 342.456,911.142 317.646,911.142 \n",
       "  \"/>\n",
       "<polygon clip-path=\"url(#clip0203)\" points=\"\n",
       "342.456,1094.85 342.456,1462.26 367.265,1462.26 367.265,1094.85 342.456,1094.85 342.456,1094.85 \n",
       "  \" fill=\"#009af9\" fill-rule=\"evenodd\" fill-opacity=\"1\"/>\n",
       "<polyline clip-path=\"url(#clip0203)\" style=\"stroke:#000000; stroke-width:4; stroke-opacity:1; fill:none\" points=\"\n",
       "  342.456,1094.85 342.456,1462.26 367.265,1462.26 367.265,1094.85 342.456,1094.85 \n",
       "  \"/>\n",
       "<polygon clip-path=\"url(#clip0203)\" points=\"\n",
       "367.265,1230.63 367.265,1462.26 392.075,1462.26 392.075,1230.63 367.265,1230.63 367.265,1230.63 \n",
       "  \" fill=\"#009af9\" fill-rule=\"evenodd\" fill-opacity=\"1\"/>\n",
       "<polyline clip-path=\"url(#clip0203)\" style=\"stroke:#000000; stroke-width:4; stroke-opacity:1; fill:none\" points=\"\n",
       "  367.265,1230.63 367.265,1462.26 392.075,1462.26 392.075,1230.63 367.265,1230.63 \n",
       "  \"/>\n",
       "<polygon clip-path=\"url(#clip0203)\" points=\"\n",
       "392.075,1230.63 392.075,1462.26 416.885,1462.26 416.885,1230.63 392.075,1230.63 392.075,1230.63 \n",
       "  \" fill=\"#009af9\" fill-rule=\"evenodd\" fill-opacity=\"1\"/>\n",
       "<polyline clip-path=\"url(#clip0203)\" style=\"stroke:#000000; stroke-width:4; stroke-opacity:1; fill:none\" points=\"\n",
       "  392.075,1230.63 392.075,1462.26 416.885,1462.26 416.885,1230.63 392.075,1230.63 \n",
       "  \"/>\n",
       "<polygon clip-path=\"url(#clip0203)\" points=\"\n",
       "416.885,1294.53 416.885,1462.26 441.695,1462.26 441.695,1294.53 416.885,1294.53 416.885,1294.53 \n",
       "  \" fill=\"#009af9\" fill-rule=\"evenodd\" fill-opacity=\"1\"/>\n",
       "<polyline clip-path=\"url(#clip0203)\" style=\"stroke:#000000; stroke-width:4; stroke-opacity:1; fill:none\" points=\"\n",
       "  416.885,1294.53 416.885,1462.26 441.695,1462.26 441.695,1294.53 416.885,1294.53 \n",
       "  \"/>\n",
       "<polygon clip-path=\"url(#clip0203)\" points=\"\n",
       "441.695,1314.5 441.695,1462.26 466.505,1462.26 466.505,1314.5 441.695,1314.5 441.695,1314.5 \n",
       "  \" fill=\"#009af9\" fill-rule=\"evenodd\" fill-opacity=\"1\"/>\n",
       "<polyline clip-path=\"url(#clip0203)\" style=\"stroke:#000000; stroke-width:4; stroke-opacity:1; fill:none\" points=\"\n",
       "  441.695,1314.5 441.695,1462.26 466.505,1462.26 466.505,1314.5 441.695,1314.5 \n",
       "  \"/>\n",
       "<polygon clip-path=\"url(#clip0203)\" points=\"\n",
       "466.505,1366.41 466.505,1462.26 491.315,1462.26 491.315,1366.41 466.505,1366.41 466.505,1366.41 \n",
       "  \" fill=\"#009af9\" fill-rule=\"evenodd\" fill-opacity=\"1\"/>\n",
       "<polyline clip-path=\"url(#clip0203)\" style=\"stroke:#000000; stroke-width:4; stroke-opacity:1; fill:none\" points=\"\n",
       "  466.505,1366.41 466.505,1462.26 491.315,1462.26 491.315,1366.41 466.505,1366.41 \n",
       "  \"/>\n",
       "<polygon clip-path=\"url(#clip0203)\" points=\"\n",
       "491.315,1354.43 491.315,1462.26 516.125,1462.26 516.125,1354.43 491.315,1354.43 491.315,1354.43 \n",
       "  \" fill=\"#009af9\" fill-rule=\"evenodd\" fill-opacity=\"1\"/>\n",
       "<polyline clip-path=\"url(#clip0203)\" style=\"stroke:#000000; stroke-width:4; stroke-opacity:1; fill:none\" points=\"\n",
       "  491.315,1354.43 491.315,1462.26 516.125,1462.26 516.125,1354.43 491.315,1354.43 \n",
       "  \"/>\n",
       "<polygon clip-path=\"url(#clip0203)\" points=\"\n",
       "516.125,1370.41 516.125,1462.26 540.935,1462.26 540.935,1370.41 516.125,1370.41 516.125,1370.41 \n",
       "  \" fill=\"#009af9\" fill-rule=\"evenodd\" fill-opacity=\"1\"/>\n",
       "<polyline clip-path=\"url(#clip0203)\" style=\"stroke:#000000; stroke-width:4; stroke-opacity:1; fill:none\" points=\"\n",
       "  516.125,1370.41 516.125,1462.26 540.935,1462.26 540.935,1370.41 516.125,1370.41 \n",
       "  \"/>\n",
       "<polygon clip-path=\"url(#clip0203)\" points=\"\n",
       "540.935,1402.36 540.935,1462.26 565.745,1462.26 565.745,1402.36 540.935,1402.36 540.935,1402.36 \n",
       "  \" fill=\"#009af9\" fill-rule=\"evenodd\" fill-opacity=\"1\"/>\n",
       "<polyline clip-path=\"url(#clip0203)\" style=\"stroke:#000000; stroke-width:4; stroke-opacity:1; fill:none\" points=\"\n",
       "  540.935,1402.36 540.935,1462.26 565.745,1462.26 565.745,1402.36 540.935,1402.36 \n",
       "  \"/>\n",
       "<polygon clip-path=\"url(#clip0203)\" points=\"\n",
       "565.745,1390.38 565.745,1462.26 590.555,1462.26 590.555,1390.38 565.745,1390.38 565.745,1390.38 \n",
       "  \" fill=\"#009af9\" fill-rule=\"evenodd\" fill-opacity=\"1\"/>\n",
       "<polyline clip-path=\"url(#clip0203)\" style=\"stroke:#000000; stroke-width:4; stroke-opacity:1; fill:none\" points=\"\n",
       "  565.745,1390.38 565.745,1462.26 590.555,1462.26 590.555,1390.38 565.745,1390.38 \n",
       "  \"/>\n",
       "<polygon clip-path=\"url(#clip0203)\" points=\"\n",
       "590.555,1422.32 590.555,1462.26 615.365,1462.26 615.365,1422.32 590.555,1422.32 590.555,1422.32 \n",
       "  \" fill=\"#009af9\" fill-rule=\"evenodd\" fill-opacity=\"1\"/>\n",
       "<polyline clip-path=\"url(#clip0203)\" style=\"stroke:#000000; stroke-width:4; stroke-opacity:1; fill:none\" points=\"\n",
       "  590.555,1422.32 590.555,1462.26 615.365,1462.26 615.365,1422.32 590.555,1422.32 \n",
       "  \"/>\n",
       "<polygon clip-path=\"url(#clip0203)\" points=\"\n",
       "615.365,1402.36 615.365,1462.26 640.175,1462.26 640.175,1402.36 615.365,1402.36 615.365,1402.36 \n",
       "  \" fill=\"#009af9\" fill-rule=\"evenodd\" fill-opacity=\"1\"/>\n",
       "<polyline clip-path=\"url(#clip0203)\" style=\"stroke:#000000; stroke-width:4; stroke-opacity:1; fill:none\" points=\"\n",
       "  615.365,1402.36 615.365,1462.26 640.175,1462.26 640.175,1402.36 615.365,1402.36 \n",
       "  \"/>\n",
       "<polygon clip-path=\"url(#clip0203)\" points=\"\n",
       "640.175,1418.33 640.175,1462.26 664.984,1462.26 664.984,1418.33 640.175,1418.33 640.175,1418.33 \n",
       "  \" fill=\"#009af9\" fill-rule=\"evenodd\" fill-opacity=\"1\"/>\n",
       "<polyline clip-path=\"url(#clip0203)\" style=\"stroke:#000000; stroke-width:4; stroke-opacity:1; fill:none\" points=\"\n",
       "  640.175,1418.33 640.175,1462.26 664.984,1462.26 664.984,1418.33 640.175,1418.33 \n",
       "  \"/>\n",
       "<polygon clip-path=\"url(#clip0203)\" points=\"\n",
       "664.984,1410.34 664.984,1462.26 689.794,1462.26 689.794,1410.34 664.984,1410.34 664.984,1410.34 \n",
       "  \" fill=\"#009af9\" fill-rule=\"evenodd\" fill-opacity=\"1\"/>\n",
       "<polyline clip-path=\"url(#clip0203)\" style=\"stroke:#000000; stroke-width:4; stroke-opacity:1; fill:none\" points=\"\n",
       "  664.984,1410.34 664.984,1462.26 689.794,1462.26 689.794,1410.34 664.984,1410.34 \n",
       "  \"/>\n",
       "<polygon clip-path=\"url(#clip0203)\" points=\"\n",
       "689.794,1434.31 689.794,1462.26 714.604,1462.26 714.604,1434.31 689.794,1434.31 689.794,1434.31 \n",
       "  \" fill=\"#009af9\" fill-rule=\"evenodd\" fill-opacity=\"1\"/>\n",
       "<polyline clip-path=\"url(#clip0203)\" style=\"stroke:#000000; stroke-width:4; stroke-opacity:1; fill:none\" points=\"\n",
       "  689.794,1434.31 689.794,1462.26 714.604,1462.26 714.604,1434.31 689.794,1434.31 \n",
       "  \"/>\n",
       "<polygon clip-path=\"url(#clip0203)\" points=\"\n",
       "714.604,1434.31 714.604,1462.26 739.414,1462.26 739.414,1434.31 714.604,1434.31 714.604,1434.31 \n",
       "  \" fill=\"#009af9\" fill-rule=\"evenodd\" fill-opacity=\"1\"/>\n",
       "<polyline clip-path=\"url(#clip0203)\" style=\"stroke:#000000; stroke-width:4; stroke-opacity:1; fill:none\" points=\"\n",
       "  714.604,1434.31 714.604,1462.26 739.414,1462.26 739.414,1434.31 714.604,1434.31 \n",
       "  \"/>\n",
       "<polygon clip-path=\"url(#clip0203)\" points=\"\n",
       "739.414,1430.31 739.414,1462.26 764.224,1462.26 764.224,1430.31 739.414,1430.31 739.414,1430.31 \n",
       "  \" fill=\"#009af9\" fill-rule=\"evenodd\" fill-opacity=\"1\"/>\n",
       "<polyline clip-path=\"url(#clip0203)\" style=\"stroke:#000000; stroke-width:4; stroke-opacity:1; fill:none\" points=\"\n",
       "  739.414,1430.31 739.414,1462.26 764.224,1462.26 764.224,1430.31 739.414,1430.31 \n",
       "  \"/>\n",
       "<polygon clip-path=\"url(#clip0203)\" points=\"\n",
       "764.224,1434.31 764.224,1462.26 789.034,1462.26 789.034,1434.31 764.224,1434.31 764.224,1434.31 \n",
       "  \" fill=\"#009af9\" fill-rule=\"evenodd\" fill-opacity=\"1\"/>\n",
       "<polyline clip-path=\"url(#clip0203)\" style=\"stroke:#000000; stroke-width:4; stroke-opacity:1; fill:none\" points=\"\n",
       "  764.224,1434.31 764.224,1462.26 789.034,1462.26 789.034,1434.31 764.224,1434.31 \n",
       "  \"/>\n",
       "<polygon clip-path=\"url(#clip0203)\" points=\"\n",
       "789.034,1446.29 789.034,1462.26 813.844,1462.26 813.844,1446.29 789.034,1446.29 789.034,1446.29 \n",
       "  \" fill=\"#009af9\" fill-rule=\"evenodd\" fill-opacity=\"1\"/>\n",
       "<polyline clip-path=\"url(#clip0203)\" style=\"stroke:#000000; stroke-width:4; stroke-opacity:1; fill:none\" points=\"\n",
       "  789.034,1446.29 789.034,1462.26 813.844,1462.26 813.844,1446.29 789.034,1446.29 \n",
       "  \"/>\n",
       "<polygon clip-path=\"url(#clip0203)\" points=\"\n",
       "813.844,1434.31 813.844,1462.26 838.654,1462.26 838.654,1434.31 813.844,1434.31 813.844,1434.31 \n",
       "  \" fill=\"#009af9\" fill-rule=\"evenodd\" fill-opacity=\"1\"/>\n",
       "<polyline clip-path=\"url(#clip0203)\" style=\"stroke:#000000; stroke-width:4; stroke-opacity:1; fill:none\" points=\"\n",
       "  813.844,1434.31 813.844,1462.26 838.654,1462.26 838.654,1434.31 813.844,1434.31 \n",
       "  \"/>\n",
       "<polygon clip-path=\"url(#clip0203)\" points=\"\n",
       "838.654,1438.3 838.654,1462.26 863.464,1462.26 863.464,1438.3 838.654,1438.3 838.654,1438.3 \n",
       "  \" fill=\"#009af9\" fill-rule=\"evenodd\" fill-opacity=\"1\"/>\n",
       "<polyline clip-path=\"url(#clip0203)\" style=\"stroke:#000000; stroke-width:4; stroke-opacity:1; fill:none\" points=\"\n",
       "  838.654,1438.3 838.654,1462.26 863.464,1462.26 863.464,1438.3 838.654,1438.3 \n",
       "  \"/>\n",
       "<polygon clip-path=\"url(#clip0203)\" points=\"\n",
       "863.464,1446.29 863.464,1462.26 888.274,1462.26 888.274,1446.29 863.464,1446.29 863.464,1446.29 \n",
       "  \" fill=\"#009af9\" fill-rule=\"evenodd\" fill-opacity=\"1\"/>\n",
       "<polyline clip-path=\"url(#clip0203)\" style=\"stroke:#000000; stroke-width:4; stroke-opacity:1; fill:none\" points=\"\n",
       "  863.464,1446.29 863.464,1462.26 888.274,1462.26 888.274,1446.29 863.464,1446.29 \n",
       "  \"/>\n",
       "<polygon clip-path=\"url(#clip0203)\" points=\"\n",
       "888.274,1454.27 888.274,1462.26 913.084,1462.26 913.084,1454.27 888.274,1454.27 888.274,1454.27 \n",
       "  \" fill=\"#009af9\" fill-rule=\"evenodd\" fill-opacity=\"1\"/>\n",
       "<polyline clip-path=\"url(#clip0203)\" style=\"stroke:#000000; stroke-width:4; stroke-opacity:1; fill:none\" points=\"\n",
       "  888.274,1454.27 888.274,1462.26 913.084,1462.26 913.084,1454.27 888.274,1454.27 \n",
       "  \"/>\n",
       "<polygon clip-path=\"url(#clip0203)\" points=\"\n",
       "913.084,1454.27 913.084,1462.26 937.894,1462.26 937.894,1454.27 913.084,1454.27 913.084,1454.27 \n",
       "  \" fill=\"#009af9\" fill-rule=\"evenodd\" fill-opacity=\"1\"/>\n",
       "<polyline clip-path=\"url(#clip0203)\" style=\"stroke:#000000; stroke-width:4; stroke-opacity:1; fill:none\" points=\"\n",
       "  913.084,1454.27 913.084,1462.26 937.894,1462.26 937.894,1454.27 913.084,1454.27 \n",
       "  \"/>\n",
       "<polygon clip-path=\"url(#clip0203)\" points=\"\n",
       "937.894,1454.27 937.894,1462.26 962.703,1462.26 962.703,1454.27 937.894,1454.27 937.894,1454.27 \n",
       "  \" fill=\"#009af9\" fill-rule=\"evenodd\" fill-opacity=\"1\"/>\n",
       "<polyline clip-path=\"url(#clip0203)\" style=\"stroke:#000000; stroke-width:4; stroke-opacity:1; fill:none\" points=\"\n",
       "  937.894,1454.27 937.894,1462.26 962.703,1462.26 962.703,1454.27 937.894,1454.27 \n",
       "  \"/>\n",
       "<polygon clip-path=\"url(#clip0203)\" points=\"\n",
       "962.703,1450.28 962.703,1462.26 987.513,1462.26 987.513,1450.28 962.703,1450.28 962.703,1450.28 \n",
       "  \" fill=\"#009af9\" fill-rule=\"evenodd\" fill-opacity=\"1\"/>\n",
       "<polyline clip-path=\"url(#clip0203)\" style=\"stroke:#000000; stroke-width:4; stroke-opacity:1; fill:none\" points=\"\n",
       "  962.703,1450.28 962.703,1462.26 987.513,1462.26 987.513,1450.28 962.703,1450.28 \n",
       "  \"/>\n",
       "<polygon clip-path=\"url(#clip0203)\" points=\"\n",
       "987.513,1458.27 987.513,1462.26 1012.32,1462.26 1012.32,1458.27 987.513,1458.27 987.513,1458.27 \n",
       "  \" fill=\"#009af9\" fill-rule=\"evenodd\" fill-opacity=\"1\"/>\n",
       "<polyline clip-path=\"url(#clip0203)\" style=\"stroke:#000000; stroke-width:4; stroke-opacity:1; fill:none\" points=\"\n",
       "  987.513,1458.27 987.513,1462.26 1012.32,1462.26 1012.32,1458.27 987.513,1458.27 \n",
       "  \"/>\n",
       "<polygon clip-path=\"url(#clip0203)\" points=\"\n",
       "1012.32,1446.29 1012.32,1462.26 1037.13,1462.26 1037.13,1446.29 1012.32,1446.29 1012.32,1446.29 \n",
       "  \" fill=\"#009af9\" fill-rule=\"evenodd\" fill-opacity=\"1\"/>\n",
       "<polyline clip-path=\"url(#clip0203)\" style=\"stroke:#000000; stroke-width:4; stroke-opacity:1; fill:none\" points=\"\n",
       "  1012.32,1446.29 1012.32,1462.26 1037.13,1462.26 1037.13,1446.29 1012.32,1446.29 \n",
       "  \"/>\n",
       "<polygon clip-path=\"url(#clip0203)\" points=\"\n",
       "1037.13,1458.27 1037.13,1462.26 1061.94,1462.26 1061.94,1458.27 1037.13,1458.27 1037.13,1458.27 \n",
       "  \" fill=\"#009af9\" fill-rule=\"evenodd\" fill-opacity=\"1\"/>\n",
       "<polyline clip-path=\"url(#clip0203)\" style=\"stroke:#000000; stroke-width:4; stroke-opacity:1; fill:none\" points=\"\n",
       "  1037.13,1458.27 1037.13,1462.26 1061.94,1462.26 1061.94,1458.27 1037.13,1458.27 \n",
       "  \"/>\n",
       "<polygon clip-path=\"url(#clip0203)\" points=\"\n",
       "1061.94,1462.26 1061.94,1462.26 1086.75,1462.26 1086.75,1462.26 1061.94,1462.26 1061.94,1462.26 \n",
       "  \" fill=\"#009af9\" fill-rule=\"evenodd\" fill-opacity=\"1\"/>\n",
       "<polyline clip-path=\"url(#clip0203)\" style=\"stroke:#000000; stroke-width:4; stroke-opacity:1; fill:none\" points=\"\n",
       "  1061.94,1462.26 1061.94,1462.26 1086.75,1462.26 1061.94,1462.26 \n",
       "  \"/>\n",
       "<polygon clip-path=\"url(#clip0203)\" points=\"\n",
       "1086.75,1462.26 1086.75,1462.26 1111.56,1462.26 1111.56,1462.26 1086.75,1462.26 1086.75,1462.26 \n",
       "  \" fill=\"#009af9\" fill-rule=\"evenodd\" fill-opacity=\"1\"/>\n",
       "<polyline clip-path=\"url(#clip0203)\" style=\"stroke:#000000; stroke-width:4; stroke-opacity:1; fill:none\" points=\"\n",
       "  1086.75,1462.26 1086.75,1462.26 1111.56,1462.26 1086.75,1462.26 \n",
       "  \"/>\n",
       "<polygon clip-path=\"url(#clip0203)\" points=\"\n",
       "1111.56,1462.26 1111.56,1462.26 1136.37,1462.26 1136.37,1462.26 1111.56,1462.26 1111.56,1462.26 \n",
       "  \" fill=\"#009af9\" fill-rule=\"evenodd\" fill-opacity=\"1\"/>\n",
       "<polyline clip-path=\"url(#clip0203)\" style=\"stroke:#000000; stroke-width:4; stroke-opacity:1; fill:none\" points=\"\n",
       "  1111.56,1462.26 1111.56,1462.26 1136.37,1462.26 1111.56,1462.26 \n",
       "  \"/>\n",
       "<polygon clip-path=\"url(#clip0203)\" points=\"\n",
       "1136.37,1458.27 1136.37,1462.26 1161.18,1462.26 1161.18,1458.27 1136.37,1458.27 1136.37,1458.27 \n",
       "  \" fill=\"#009af9\" fill-rule=\"evenodd\" fill-opacity=\"1\"/>\n",
       "<polyline clip-path=\"url(#clip0203)\" style=\"stroke:#000000; stroke-width:4; stroke-opacity:1; fill:none\" points=\"\n",
       "  1136.37,1458.27 1136.37,1462.26 1161.18,1462.26 1161.18,1458.27 1136.37,1458.27 \n",
       "  \"/>\n",
       "<polygon clip-path=\"url(#clip0203)\" points=\"\n",
       "1161.18,1462.26 1161.18,1462.26 1185.99,1462.26 1185.99,1462.26 1161.18,1462.26 1161.18,1462.26 \n",
       "  \" fill=\"#009af9\" fill-rule=\"evenodd\" fill-opacity=\"1\"/>\n",
       "<polyline clip-path=\"url(#clip0203)\" style=\"stroke:#000000; stroke-width:4; stroke-opacity:1; fill:none\" points=\"\n",
       "  1161.18,1462.26 1161.18,1462.26 1185.99,1462.26 1161.18,1462.26 \n",
       "  \"/>\n",
       "<polygon clip-path=\"url(#clip0203)\" points=\"\n",
       "1185.99,1462.26 1185.99,1462.26 1210.8,1462.26 1210.8,1462.26 1185.99,1462.26 1185.99,1462.26 \n",
       "  \" fill=\"#009af9\" fill-rule=\"evenodd\" fill-opacity=\"1\"/>\n",
       "<polyline clip-path=\"url(#clip0203)\" style=\"stroke:#000000; stroke-width:4; stroke-opacity:1; fill:none\" points=\"\n",
       "  1185.99,1462.26 1185.99,1462.26 1210.8,1462.26 1185.99,1462.26 \n",
       "  \"/>\n",
       "<polygon clip-path=\"url(#clip0203)\" points=\"\n",
       "1210.8,1458.27 1210.8,1462.26 1235.61,1462.26 1235.61,1458.27 1210.8,1458.27 1210.8,1458.27 \n",
       "  \" fill=\"#009af9\" fill-rule=\"evenodd\" fill-opacity=\"1\"/>\n",
       "<polyline clip-path=\"url(#clip0203)\" style=\"stroke:#000000; stroke-width:4; stroke-opacity:1; fill:none\" points=\"\n",
       "  1210.8,1458.27 1210.8,1462.26 1235.61,1462.26 1235.61,1458.27 1210.8,1458.27 \n",
       "  \"/>\n",
       "<polygon clip-path=\"url(#clip0203)\" points=\"\n",
       "1235.61,1462.26 1235.61,1462.26 1260.42,1462.26 1260.42,1462.26 1235.61,1462.26 1235.61,1462.26 \n",
       "  \" fill=\"#009af9\" fill-rule=\"evenodd\" fill-opacity=\"1\"/>\n",
       "<polyline clip-path=\"url(#clip0203)\" style=\"stroke:#000000; stroke-width:4; stroke-opacity:1; fill:none\" points=\"\n",
       "  1235.61,1462.26 1235.61,1462.26 1260.42,1462.26 1235.61,1462.26 \n",
       "  \"/>\n",
       "<polygon clip-path=\"url(#clip0203)\" points=\"\n",
       "1260.42,1454.27 1260.42,1462.26 1285.23,1462.26 1285.23,1454.27 1260.42,1454.27 1260.42,1454.27 \n",
       "  \" fill=\"#009af9\" fill-rule=\"evenodd\" fill-opacity=\"1\"/>\n",
       "<polyline clip-path=\"url(#clip0203)\" style=\"stroke:#000000; stroke-width:4; stroke-opacity:1; fill:none\" points=\"\n",
       "  1260.42,1454.27 1260.42,1462.26 1285.23,1462.26 1285.23,1454.27 1260.42,1454.27 \n",
       "  \"/>\n",
       "<polygon clip-path=\"url(#clip0203)\" points=\"\n",
       "1285.23,1458.27 1285.23,1462.26 1310.04,1462.26 1310.04,1458.27 1285.23,1458.27 1285.23,1458.27 \n",
       "  \" fill=\"#009af9\" fill-rule=\"evenodd\" fill-opacity=\"1\"/>\n",
       "<polyline clip-path=\"url(#clip0203)\" style=\"stroke:#000000; stroke-width:4; stroke-opacity:1; fill:none\" points=\"\n",
       "  1285.23,1458.27 1285.23,1462.26 1310.04,1462.26 1310.04,1458.27 1285.23,1458.27 \n",
       "  \"/>\n",
       "<polygon clip-path=\"url(#clip0203)\" points=\"\n",
       "1310.04,1454.27 1310.04,1462.26 1334.85,1462.26 1334.85,1454.27 1310.04,1454.27 1310.04,1454.27 \n",
       "  \" fill=\"#009af9\" fill-rule=\"evenodd\" fill-opacity=\"1\"/>\n",
       "<polyline clip-path=\"url(#clip0203)\" style=\"stroke:#000000; stroke-width:4; stroke-opacity:1; fill:none\" points=\"\n",
       "  1310.04,1454.27 1310.04,1462.26 1334.85,1462.26 1334.85,1454.27 1310.04,1454.27 \n",
       "  \"/>\n",
       "<polygon clip-path=\"url(#clip0203)\" points=\"\n",
       "1334.85,1462.26 1334.85,1462.26 1359.66,1462.26 1359.66,1462.26 1334.85,1462.26 1334.85,1462.26 \n",
       "  \" fill=\"#009af9\" fill-rule=\"evenodd\" fill-opacity=\"1\"/>\n",
       "<polyline clip-path=\"url(#clip0203)\" style=\"stroke:#000000; stroke-width:4; stroke-opacity:1; fill:none\" points=\"\n",
       "  1334.85,1462.26 1334.85,1462.26 1359.66,1462.26 1334.85,1462.26 \n",
       "  \"/>\n",
       "<polygon clip-path=\"url(#clip0203)\" points=\"\n",
       "1359.66,1462.26 1359.66,1462.26 1384.47,1462.26 1384.47,1462.26 1359.66,1462.26 1359.66,1462.26 \n",
       "  \" fill=\"#009af9\" fill-rule=\"evenodd\" fill-opacity=\"1\"/>\n",
       "<polyline clip-path=\"url(#clip0203)\" style=\"stroke:#000000; stroke-width:4; stroke-opacity:1; fill:none\" points=\"\n",
       "  1359.66,1462.26 1359.66,1462.26 1384.47,1462.26 1359.66,1462.26 \n",
       "  \"/>\n",
       "<polygon clip-path=\"url(#clip0203)\" points=\"\n",
       "1384.47,1462.26 1384.47,1462.26 1409.28,1462.26 1409.28,1462.26 1384.47,1462.26 1384.47,1462.26 \n",
       "  \" fill=\"#009af9\" fill-rule=\"evenodd\" fill-opacity=\"1\"/>\n",
       "<polyline clip-path=\"url(#clip0203)\" style=\"stroke:#000000; stroke-width:4; stroke-opacity:1; fill:none\" points=\"\n",
       "  1384.47,1462.26 1384.47,1462.26 1409.28,1462.26 1384.47,1462.26 \n",
       "  \"/>\n",
       "<polygon clip-path=\"url(#clip0203)\" points=\"\n",
       "1409.28,1462.26 1409.28,1462.26 1434.09,1462.26 1434.09,1462.26 1409.28,1462.26 1409.28,1462.26 \n",
       "  \" fill=\"#009af9\" fill-rule=\"evenodd\" fill-opacity=\"1\"/>\n",
       "<polyline clip-path=\"url(#clip0203)\" style=\"stroke:#000000; stroke-width:4; stroke-opacity:1; fill:none\" points=\"\n",
       "  1409.28,1462.26 1409.28,1462.26 1434.09,1462.26 1409.28,1462.26 \n",
       "  \"/>\n",
       "<polygon clip-path=\"url(#clip0203)\" points=\"\n",
       "1434.09,1462.26 1434.09,1462.26 1458.9,1462.26 1458.9,1462.26 1434.09,1462.26 1434.09,1462.26 \n",
       "  \" fill=\"#009af9\" fill-rule=\"evenodd\" fill-opacity=\"1\"/>\n",
       "<polyline clip-path=\"url(#clip0203)\" style=\"stroke:#000000; stroke-width:4; stroke-opacity:1; fill:none\" points=\"\n",
       "  1434.09,1462.26 1434.09,1462.26 1458.9,1462.26 1434.09,1462.26 \n",
       "  \"/>\n",
       "<polygon clip-path=\"url(#clip0203)\" points=\"\n",
       "1458.9,1462.26 1458.9,1462.26 1483.71,1462.26 1483.71,1462.26 1458.9,1462.26 1458.9,1462.26 \n",
       "  \" fill=\"#009af9\" fill-rule=\"evenodd\" fill-opacity=\"1\"/>\n",
       "<polyline clip-path=\"url(#clip0203)\" style=\"stroke:#000000; stroke-width:4; stroke-opacity:1; fill:none\" points=\"\n",
       "  1458.9,1462.26 1458.9,1462.26 1483.71,1462.26 1458.9,1462.26 \n",
       "  \"/>\n",
       "<polygon clip-path=\"url(#clip0203)\" points=\"\n",
       "1483.71,1462.26 1483.71,1462.26 1508.52,1462.26 1508.52,1462.26 1483.71,1462.26 1483.71,1462.26 \n",
       "  \" fill=\"#009af9\" fill-rule=\"evenodd\" fill-opacity=\"1\"/>\n",
       "<polyline clip-path=\"url(#clip0203)\" style=\"stroke:#000000; stroke-width:4; stroke-opacity:1; fill:none\" points=\"\n",
       "  1483.71,1462.26 1483.71,1462.26 1508.52,1462.26 1483.71,1462.26 \n",
       "  \"/>\n",
       "<polygon clip-path=\"url(#clip0203)\" points=\"\n",
       "1508.52,1462.26 1508.52,1462.26 1533.33,1462.26 1533.33,1462.26 1508.52,1462.26 1508.52,1462.26 \n",
       "  \" fill=\"#009af9\" fill-rule=\"evenodd\" fill-opacity=\"1\"/>\n",
       "<polyline clip-path=\"url(#clip0203)\" style=\"stroke:#000000; stroke-width:4; stroke-opacity:1; fill:none\" points=\"\n",
       "  1508.52,1462.26 1508.52,1462.26 1533.33,1462.26 1508.52,1462.26 \n",
       "  \"/>\n",
       "<polygon clip-path=\"url(#clip0203)\" points=\"\n",
       "1533.33,1462.26 1533.33,1462.26 1558.14,1462.26 1558.14,1462.26 1533.33,1462.26 1533.33,1462.26 \n",
       "  \" fill=\"#009af9\" fill-rule=\"evenodd\" fill-opacity=\"1\"/>\n",
       "<polyline clip-path=\"url(#clip0203)\" style=\"stroke:#000000; stroke-width:4; stroke-opacity:1; fill:none\" points=\"\n",
       "  1533.33,1462.26 1533.33,1462.26 1558.14,1462.26 1533.33,1462.26 \n",
       "  \"/>\n",
       "<polygon clip-path=\"url(#clip0203)\" points=\"\n",
       "1558.14,1462.26 1558.14,1462.26 1582.95,1462.26 1582.95,1462.26 1558.14,1462.26 1558.14,1462.26 \n",
       "  \" fill=\"#009af9\" fill-rule=\"evenodd\" fill-opacity=\"1\"/>\n",
       "<polyline clip-path=\"url(#clip0203)\" style=\"stroke:#000000; stroke-width:4; stroke-opacity:1; fill:none\" points=\"\n",
       "  1558.14,1462.26 1558.14,1462.26 1582.95,1462.26 1558.14,1462.26 \n",
       "  \"/>\n",
       "<polygon clip-path=\"url(#clip0203)\" points=\"\n",
       "1582.95,1462.26 1582.95,1462.26 1607.76,1462.26 1607.76,1462.26 1582.95,1462.26 1582.95,1462.26 \n",
       "  \" fill=\"#009af9\" fill-rule=\"evenodd\" fill-opacity=\"1\"/>\n",
       "<polyline clip-path=\"url(#clip0203)\" style=\"stroke:#000000; stroke-width:4; stroke-opacity:1; fill:none\" points=\"\n",
       "  1582.95,1462.26 1582.95,1462.26 1607.76,1462.26 1582.95,1462.26 \n",
       "  \"/>\n",
       "<polygon clip-path=\"url(#clip0203)\" points=\"\n",
       "1607.76,1462.26 1607.76,1462.26 1632.57,1462.26 1632.57,1462.26 1607.76,1462.26 1607.76,1462.26 \n",
       "  \" fill=\"#009af9\" fill-rule=\"evenodd\" fill-opacity=\"1\"/>\n",
       "<polyline clip-path=\"url(#clip0203)\" style=\"stroke:#000000; stroke-width:4; stroke-opacity:1; fill:none\" points=\"\n",
       "  1607.76,1462.26 1607.76,1462.26 1632.57,1462.26 1607.76,1462.26 \n",
       "  \"/>\n",
       "<polygon clip-path=\"url(#clip0203)\" points=\"\n",
       "1632.57,1458.27 1632.57,1462.26 1657.38,1462.26 1657.38,1458.27 1632.57,1458.27 1632.57,1458.27 \n",
       "  \" fill=\"#009af9\" fill-rule=\"evenodd\" fill-opacity=\"1\"/>\n",
       "<polyline clip-path=\"url(#clip0203)\" style=\"stroke:#000000; stroke-width:4; stroke-opacity:1; fill:none\" points=\"\n",
       "  1632.57,1458.27 1632.57,1462.26 1657.38,1462.26 1657.38,1458.27 1632.57,1458.27 \n",
       "  \"/>\n",
       "<polygon clip-path=\"url(#clip0203)\" points=\"\n",
       "1657.38,1462.26 1657.38,1462.26 1682.19,1462.26 1682.19,1462.26 1657.38,1462.26 1657.38,1462.26 \n",
       "  \" fill=\"#009af9\" fill-rule=\"evenodd\" fill-opacity=\"1\"/>\n",
       "<polyline clip-path=\"url(#clip0203)\" style=\"stroke:#000000; stroke-width:4; stroke-opacity:1; fill:none\" points=\"\n",
       "  1657.38,1462.26 1657.38,1462.26 1682.19,1462.26 1657.38,1462.26 \n",
       "  \"/>\n",
       "<polygon clip-path=\"url(#clip0203)\" points=\"\n",
       "1682.19,1462.26 1682.19,1462.26 1707,1462.26 1707,1462.26 1682.19,1462.26 1682.19,1462.26 \n",
       "  \" fill=\"#009af9\" fill-rule=\"evenodd\" fill-opacity=\"1\"/>\n",
       "<polyline clip-path=\"url(#clip0203)\" style=\"stroke:#000000; stroke-width:4; stroke-opacity:1; fill:none\" points=\"\n",
       "  1682.19,1462.26 1682.19,1462.26 1707,1462.26 1682.19,1462.26 \n",
       "  \"/>\n",
       "<polygon clip-path=\"url(#clip0203)\" points=\"\n",
       "1707,1462.26 1707,1462.26 1731.81,1462.26 1731.81,1462.26 1707,1462.26 1707,1462.26 \n",
       "  \" fill=\"#009af9\" fill-rule=\"evenodd\" fill-opacity=\"1\"/>\n",
       "<polyline clip-path=\"url(#clip0203)\" style=\"stroke:#000000; stroke-width:4; stroke-opacity:1; fill:none\" points=\"\n",
       "  1707,1462.26 1707,1462.26 1731.81,1462.26 1707,1462.26 \n",
       "  \"/>\n",
       "<polygon clip-path=\"url(#clip0203)\" points=\"\n",
       "1731.81,1462.26 1731.81,1462.26 1756.62,1462.26 1756.62,1462.26 1731.81,1462.26 1731.81,1462.26 \n",
       "  \" fill=\"#009af9\" fill-rule=\"evenodd\" fill-opacity=\"1\"/>\n",
       "<polyline clip-path=\"url(#clip0203)\" style=\"stroke:#000000; stroke-width:4; stroke-opacity:1; fill:none\" points=\"\n",
       "  1731.81,1462.26 1731.81,1462.26 1756.62,1462.26 1731.81,1462.26 \n",
       "  \"/>\n",
       "<polygon clip-path=\"url(#clip0203)\" points=\"\n",
       "1756.62,1462.26 1756.62,1462.26 1781.43,1462.26 1781.43,1462.26 1756.62,1462.26 1756.62,1462.26 \n",
       "  \" fill=\"#009af9\" fill-rule=\"evenodd\" fill-opacity=\"1\"/>\n",
       "<polyline clip-path=\"url(#clip0203)\" style=\"stroke:#000000; stroke-width:4; stroke-opacity:1; fill:none\" points=\"\n",
       "  1756.62,1462.26 1756.62,1462.26 1781.43,1462.26 1756.62,1462.26 \n",
       "  \"/>\n",
       "<polygon clip-path=\"url(#clip0203)\" points=\"\n",
       "1781.43,1462.26 1781.43,1462.26 1806.24,1462.26 1806.24,1462.26 1781.43,1462.26 1781.43,1462.26 \n",
       "  \" fill=\"#009af9\" fill-rule=\"evenodd\" fill-opacity=\"1\"/>\n",
       "<polyline clip-path=\"url(#clip0203)\" style=\"stroke:#000000; stroke-width:4; stroke-opacity:1; fill:none\" points=\"\n",
       "  1781.43,1462.26 1781.43,1462.26 1806.24,1462.26 1781.43,1462.26 \n",
       "  \"/>\n",
       "<polygon clip-path=\"url(#clip0203)\" points=\"\n",
       "1806.24,1462.26 1806.24,1462.26 1831.05,1462.26 1831.05,1462.26 1806.24,1462.26 1806.24,1462.26 \n",
       "  \" fill=\"#009af9\" fill-rule=\"evenodd\" fill-opacity=\"1\"/>\n",
       "<polyline clip-path=\"url(#clip0203)\" style=\"stroke:#000000; stroke-width:4; stroke-opacity:1; fill:none\" points=\"\n",
       "  1806.24,1462.26 1806.24,1462.26 1831.05,1462.26 1806.24,1462.26 \n",
       "  \"/>\n",
       "<polygon clip-path=\"url(#clip0203)\" points=\"\n",
       "1831.05,1462.26 1831.05,1462.26 1855.86,1462.26 1855.86,1462.26 1831.05,1462.26 1831.05,1462.26 \n",
       "  \" fill=\"#009af9\" fill-rule=\"evenodd\" fill-opacity=\"1\"/>\n",
       "<polyline clip-path=\"url(#clip0203)\" style=\"stroke:#000000; stroke-width:4; stroke-opacity:1; fill:none\" points=\"\n",
       "  1831.05,1462.26 1831.05,1462.26 1855.86,1462.26 1831.05,1462.26 \n",
       "  \"/>\n",
       "<polygon clip-path=\"url(#clip0203)\" points=\"\n",
       "1855.86,1462.26 1855.86,1462.26 1880.67,1462.26 1880.67,1462.26 1855.86,1462.26 1855.86,1462.26 \n",
       "  \" fill=\"#009af9\" fill-rule=\"evenodd\" fill-opacity=\"1\"/>\n",
       "<polyline clip-path=\"url(#clip0203)\" style=\"stroke:#000000; stroke-width:4; stroke-opacity:1; fill:none\" points=\"\n",
       "  1855.86,1462.26 1855.86,1462.26 1880.67,1462.26 1855.86,1462.26 \n",
       "  \"/>\n",
       "<polygon clip-path=\"url(#clip0203)\" points=\"\n",
       "1880.67,1462.26 1880.67,1462.26 1905.48,1462.26 1905.48,1462.26 1880.67,1462.26 1880.67,1462.26 \n",
       "  \" fill=\"#009af9\" fill-rule=\"evenodd\" fill-opacity=\"1\"/>\n",
       "<polyline clip-path=\"url(#clip0203)\" style=\"stroke:#000000; stroke-width:4; stroke-opacity:1; fill:none\" points=\"\n",
       "  1880.67,1462.26 1880.67,1462.26 1905.48,1462.26 1880.67,1462.26 \n",
       "  \"/>\n",
       "<polygon clip-path=\"url(#clip0203)\" points=\"\n",
       "1905.48,1462.26 1905.48,1462.26 1930.29,1462.26 1930.29,1462.26 1905.48,1462.26 1905.48,1462.26 \n",
       "  \" fill=\"#009af9\" fill-rule=\"evenodd\" fill-opacity=\"1\"/>\n",
       "<polyline clip-path=\"url(#clip0203)\" style=\"stroke:#000000; stroke-width:4; stroke-opacity:1; fill:none\" points=\"\n",
       "  1905.48,1462.26 1905.48,1462.26 1930.29,1462.26 1905.48,1462.26 \n",
       "  \"/>\n",
       "<polygon clip-path=\"url(#clip0203)\" points=\"\n",
       "1930.29,1462.26 1930.29,1462.26 1955.1,1462.26 1955.1,1462.26 1930.29,1462.26 1930.29,1462.26 \n",
       "  \" fill=\"#009af9\" fill-rule=\"evenodd\" fill-opacity=\"1\"/>\n",
       "<polyline clip-path=\"url(#clip0203)\" style=\"stroke:#000000; stroke-width:4; stroke-opacity:1; fill:none\" points=\"\n",
       "  1930.29,1462.26 1930.29,1462.26 1955.1,1462.26 1930.29,1462.26 \n",
       "  \"/>\n",
       "<polygon clip-path=\"url(#clip0203)\" points=\"\n",
       "1955.1,1462.26 1955.1,1462.26 1979.91,1462.26 1979.91,1462.26 1955.1,1462.26 1955.1,1462.26 \n",
       "  \" fill=\"#009af9\" fill-rule=\"evenodd\" fill-opacity=\"1\"/>\n",
       "<polyline clip-path=\"url(#clip0203)\" style=\"stroke:#000000; stroke-width:4; stroke-opacity:1; fill:none\" points=\"\n",
       "  1955.1,1462.26 1955.1,1462.26 1979.91,1462.26 1955.1,1462.26 \n",
       "  \"/>\n",
       "<polygon clip-path=\"url(#clip0203)\" points=\"\n",
       "1979.91,1462.26 1979.91,1462.26 2004.72,1462.26 2004.72,1462.26 1979.91,1462.26 1979.91,1462.26 \n",
       "  \" fill=\"#009af9\" fill-rule=\"evenodd\" fill-opacity=\"1\"/>\n",
       "<polyline clip-path=\"url(#clip0203)\" style=\"stroke:#000000; stroke-width:4; stroke-opacity:1; fill:none\" points=\"\n",
       "  1979.91,1462.26 1979.91,1462.26 2004.72,1462.26 1979.91,1462.26 \n",
       "  \"/>\n",
       "<polygon clip-path=\"url(#clip0203)\" points=\"\n",
       "2004.72,1462.26 2004.72,1462.26 2029.53,1462.26 2029.53,1462.26 2004.72,1462.26 2004.72,1462.26 \n",
       "  \" fill=\"#009af9\" fill-rule=\"evenodd\" fill-opacity=\"1\"/>\n",
       "<polyline clip-path=\"url(#clip0203)\" style=\"stroke:#000000; stroke-width:4; stroke-opacity:1; fill:none\" points=\"\n",
       "  2004.72,1462.26 2004.72,1462.26 2029.53,1462.26 2004.72,1462.26 \n",
       "  \"/>\n",
       "<polygon clip-path=\"url(#clip0203)\" points=\"\n",
       "2029.53,1462.26 2029.53,1462.26 2054.34,1462.26 2054.34,1462.26 2029.53,1462.26 2029.53,1462.26 \n",
       "  \" fill=\"#009af9\" fill-rule=\"evenodd\" fill-opacity=\"1\"/>\n",
       "<polyline clip-path=\"url(#clip0203)\" style=\"stroke:#000000; stroke-width:4; stroke-opacity:1; fill:none\" points=\"\n",
       "  2029.53,1462.26 2029.53,1462.26 2054.34,1462.26 2029.53,1462.26 \n",
       "  \"/>\n",
       "<polygon clip-path=\"url(#clip0203)\" points=\"\n",
       "2054.34,1462.26 2054.34,1462.26 2079.15,1462.26 2079.15,1462.26 2054.34,1462.26 2054.34,1462.26 \n",
       "  \" fill=\"#009af9\" fill-rule=\"evenodd\" fill-opacity=\"1\"/>\n",
       "<polyline clip-path=\"url(#clip0203)\" style=\"stroke:#000000; stroke-width:4; stroke-opacity:1; fill:none\" points=\"\n",
       "  2054.34,1462.26 2054.34,1462.26 2079.15,1462.26 2054.34,1462.26 \n",
       "  \"/>\n",
       "<polygon clip-path=\"url(#clip0203)\" points=\"\n",
       "2079.15,1462.26 2079.15,1462.26 2103.96,1462.26 2103.96,1462.26 2079.15,1462.26 2079.15,1462.26 \n",
       "  \" fill=\"#009af9\" fill-rule=\"evenodd\" fill-opacity=\"1\"/>\n",
       "<polyline clip-path=\"url(#clip0203)\" style=\"stroke:#000000; stroke-width:4; stroke-opacity:1; fill:none\" points=\"\n",
       "  2079.15,1462.26 2079.15,1462.26 2103.96,1462.26 2079.15,1462.26 \n",
       "  \"/>\n",
       "<polygon clip-path=\"url(#clip0203)\" points=\"\n",
       "2103.96,1458.27 2103.96,1462.26 2128.77,1462.26 2128.77,1458.27 2103.96,1458.27 2103.96,1458.27 \n",
       "  \" fill=\"#009af9\" fill-rule=\"evenodd\" fill-opacity=\"1\"/>\n",
       "<polyline clip-path=\"url(#clip0203)\" style=\"stroke:#000000; stroke-width:4; stroke-opacity:1; fill:none\" points=\"\n",
       "  2103.96,1458.27 2103.96,1462.26 2128.77,1462.26 2128.77,1458.27 2103.96,1458.27 \n",
       "  \"/>\n",
       "<polygon clip-path=\"url(#clip0203)\" points=\"\n",
       "2128.77,1462.26 2128.77,1462.26 2153.58,1462.26 2153.58,1462.26 2128.77,1462.26 2128.77,1462.26 \n",
       "  \" fill=\"#009af9\" fill-rule=\"evenodd\" fill-opacity=\"1\"/>\n",
       "<polyline clip-path=\"url(#clip0203)\" style=\"stroke:#000000; stroke-width:4; stroke-opacity:1; fill:none\" points=\"\n",
       "  2128.77,1462.26 2128.77,1462.26 2153.58,1462.26 2128.77,1462.26 \n",
       "  \"/>\n",
       "<polygon clip-path=\"url(#clip0203)\" points=\"\n",
       "2153.58,1462.26 2153.58,1462.26 2178.39,1462.26 2178.39,1462.26 2153.58,1462.26 2153.58,1462.26 \n",
       "  \" fill=\"#009af9\" fill-rule=\"evenodd\" fill-opacity=\"1\"/>\n",
       "<polyline clip-path=\"url(#clip0203)\" style=\"stroke:#000000; stroke-width:4; stroke-opacity:1; fill:none\" points=\"\n",
       "  2153.58,1462.26 2153.58,1462.26 2178.39,1462.26 2153.58,1462.26 \n",
       "  \"/>\n",
       "<polygon clip-path=\"url(#clip0203)\" points=\"\n",
       "2178.39,1458.27 2178.39,1462.26 2203.2,1462.26 2203.2,1458.27 2178.39,1458.27 2178.39,1458.27 \n",
       "  \" fill=\"#009af9\" fill-rule=\"evenodd\" fill-opacity=\"1\"/>\n",
       "<polyline clip-path=\"url(#clip0203)\" style=\"stroke:#000000; stroke-width:4; stroke-opacity:1; fill:none\" points=\"\n",
       "  2178.39,1458.27 2178.39,1462.26 2203.2,1462.26 2203.2,1458.27 2178.39,1458.27 \n",
       "  \"/>\n",
       "<polyline clip-path=\"url(#clip0203)\" style=\"stroke:#e26f46; stroke-width:4; stroke-opacity:1; fill:none\" stroke-dasharray=\"16, 10\" points=\"\n",
       "  851.059,147127 851.059,-145576 \n",
       "  \"/>\n",
       "<polygon clip-path=\"url(#clip0201)\" points=\"\n",
       "1958.43,312.204 2249.26,312.204 2249.26,130.764 1958.43,130.764 \n",
       "  \" fill=\"#ffffff\" fill-rule=\"evenodd\" fill-opacity=\"1\"/>\n",
       "<polyline clip-path=\"url(#clip0201)\" style=\"stroke:#000000; stroke-width:4; stroke-opacity:1; fill:none\" points=\"\n",
       "  1958.43,312.204 2249.26,312.204 2249.26,130.764 1958.43,130.764 1958.43,312.204 \n",
       "  \"/>\n",
       "<polygon clip-path=\"url(#clip0201)\" points=\"\n",
       "1982.43,215.436 2126.43,215.436 2126.43,167.052 1982.43,167.052 1982.43,215.436 \n",
       "  \" fill=\"#009af9\" fill-rule=\"evenodd\" fill-opacity=\"1\"/>\n",
       "<polyline clip-path=\"url(#clip0201)\" style=\"stroke:#000000; stroke-width:4; stroke-opacity:1; fill:none\" points=\"\n",
       "  1982.43,215.436 2126.43,215.436 2126.43,167.052 1982.43,167.052 1982.43,215.436 \n",
       "  \"/>\n",
       "<g clip-path=\"url(#clip0201)\">\n",
       "<text style=\"fill:#000000; fill-opacity:1; font-family:Arial,Helvetica Neue,Helvetica,sans-serif; font-size:48px; text-anchor:start;\" transform=\"rotate(0, 2150.43, 208.744)\" x=\"2150.43\" y=\"208.744\">y1</text>\n",
       "</g>\n",
       "<polyline clip-path=\"url(#clip0201)\" style=\"stroke:#e26f46; stroke-width:4; stroke-opacity:1; fill:none\" stroke-dasharray=\"16, 10\" points=\"\n",
       "  1982.43,251.724 2126.43,251.724 \n",
       "  \"/>\n",
       "<g clip-path=\"url(#clip0201)\">\n",
       "<text style=\"fill:#000000; fill-opacity:1; font-family:Arial,Helvetica Neue,Helvetica,sans-serif; font-size:48px; text-anchor:start;\" transform=\"rotate(0, 2150.43, 269.224)\" x=\"2150.43\" y=\"269.224\">y2</text>\n",
       "</g>\n",
       "</svg>\n"
      ]
     },
     "execution_count": 12,
     "metadata": {},
     "output_type": "execute_result"
    }
   ],
   "source": [
    "histogram(dd12, bins=100)\n",
    "plot!([4.5], seriestype=:vline, linestyle=:dash)"
   ]
  },
  {
   "cell_type": "markdown",
   "metadata": {},
   "source": [
    "合計1000個の$\\Delta D_{1,2}$のうちいくつが4.5より右にあるか"
   ]
  },
  {
   "cell_type": "code",
   "execution_count": 13,
   "metadata": {},
   "outputs": [
    {
     "data": {
      "text/plain": [
       "33"
      ]
     },
     "execution_count": 13,
     "metadata": {},
     "output_type": "execute_result"
    }
   ],
   "source": [
    "sum(dd12 .>= 4.5)"
   ]
  },
  {
   "cell_type": "markdown",
   "metadata": {},
   "source": [
    "$P=0.05$となる逸脱度の差"
   ]
  },
  {
   "cell_type": "code",
   "execution_count": 14,
   "metadata": {},
   "outputs": [
    {
     "data": {
      "text/plain": [
       "3.9070529549370105"
      ]
     },
     "execution_count": 14,
     "metadata": {},
     "output_type": "execute_result"
    }
   ],
   "source": [
    "quantile(dd12, 0.95)"
   ]
  },
  {
   "cell_type": "markdown",
   "metadata": {},
   "source": [
    "### 方法(2) $\\chi^2$分布を使った近似計算法"
   ]
  },
  {
   "cell_type": "code",
   "execution_count": 15,
   "metadata": {},
   "outputs": [
    {
     "data": {
      "text/plain": [
       "0.03363819191961954"
      ]
     },
     "execution_count": 15,
     "metadata": {},
     "output_type": "execute_result"
    }
   ],
   "source": [
    "ccdf(Chisq(1), 4.513)"
   ]
  }
 ],
 "metadata": {
  "kernelspec": {
   "display_name": "Julia 1.1.0",
   "language": "julia",
   "name": "julia-1.1"
  },
  "language_info": {
   "file_extension": ".jl",
   "mimetype": "application/julia",
   "name": "julia",
   "version": "1.1.0"
  }
 },
 "nbformat": 4,
 "nbformat_minor": 2
}
