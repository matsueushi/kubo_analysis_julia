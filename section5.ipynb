{
 "cells": [
  {
   "cell_type": "markdown",
   "metadata": {},
   "source": [
    "# 5 GLMの尤度比検定と検定の非対称性"
   ]
  },
  {
   "cell_type": "code",
   "execution_count": 1,
   "metadata": {},
   "outputs": [],
   "source": [
    "using CSV\n",
    "using GLM\n",
    "using Plots\n",
    "using StatsBase\n",
    "using Statistics"
   ]
  },
  {
   "cell_type": "code",
   "execution_count": 2,
   "metadata": {},
   "outputs": [],
   "source": [
    "df = CSV.read(\"data3a.csv\");"
   ]
  },
  {
   "cell_type": "markdown",
   "metadata": {},
   "source": [
    "### 5.4.1 方法(1) 汎用性のあるパラメトリックブートストラップ法\n",
    "一定モデル"
   ]
  },
  {
   "cell_type": "code",
   "execution_count": 3,
   "metadata": {},
   "outputs": [
    {
     "data": {
      "text/plain": [
       "StatsModels.DataFrameRegressionModel{GeneralizedLinearModel{GlmResp{Array{Float64,1},Poisson{Float64},LogLink},DensePredChol{Float64,LinearAlgebra.Cholesky{Float64,Array{Float64,2}}}},Array{Float64,2}}\n",
       "\n",
       "Formula: y ~ +1\n",
       "\n",
       "Coefficients:\n",
       "             Estimate Std.Error z value Pr(>|z|)\n",
       "(Intercept)   2.05796 0.0357371 57.5862   <1e-99\n"
      ]
     },
     "execution_count": 3,
     "metadata": {},
     "output_type": "execute_result"
    }
   ],
   "source": [
    "fit1 = glm(@formula(y ~ 1), df, Poisson())"
   ]
  },
  {
   "cell_type": "markdown",
   "metadata": {},
   "source": [
    "xモデル"
   ]
  },
  {
   "cell_type": "code",
   "execution_count": 4,
   "metadata": {},
   "outputs": [
    {
     "data": {
      "text/plain": [
       "StatsModels.DataFrameRegressionModel{GeneralizedLinearModel{GlmResp{Array{Float64,1},Poisson{Float64},LogLink},DensePredChol{Float64,LinearAlgebra.Cholesky{Float64,Array{Float64,2}}}},Array{Float64,2}}\n",
       "\n",
       "Formula: y ~ 1 + x\n",
       "\n",
       "Coefficients:\n",
       "              Estimate Std.Error z value Pr(>|z|)\n",
       "(Intercept)    1.29172  0.363686 3.55174   0.0004\n",
       "x            0.0756619 0.0356042 2.12509   0.0336\n"
      ]
     },
     "execution_count": 4,
     "metadata": {},
     "output_type": "execute_result"
    }
   ],
   "source": [
    "fit2 = glm(@formula(y ~ x), df, Poisson())"
   ]
  },
  {
   "cell_type": "markdown",
   "metadata": {},
   "source": [
    "### 残差逸脱度の差"
   ]
  },
  {
   "cell_type": "code",
   "execution_count": 5,
   "metadata": {},
   "outputs": [
    {
     "data": {
      "text/plain": [
       "4.513941078851829"
      ]
     },
     "execution_count": 5,
     "metadata": {},
     "output_type": "execute_result"
    }
   ],
   "source": [
    "deviance(fit1) - deviance(fit2)"
   ]
  },
  {
   "cell_type": "markdown",
   "metadata": {},
   "source": [
    "### 真のモデルから100個体分のデータを新しく生成"
   ]
  },
  {
   "cell_type": "code",
   "execution_count": 6,
   "metadata": {},
   "outputs": [
    {
     "data": {
      "text/plain": [
       "100-element Array{Int64,1}:\n",
       "  7\n",
       "  6\n",
       " 10\n",
       "  9\n",
       "  7\n",
       "  4\n",
       "  4\n",
       "  7\n",
       "  7\n",
       " 10\n",
       "  4\n",
       "  5\n",
       "  7\n",
       "  ⋮\n",
       "  5\n",
       "  6\n",
       " 13\n",
       " 14\n",
       " 11\n",
       " 12\n",
       "  8\n",
       "  9\n",
       " 10\n",
       "  8\n",
       "  6\n",
       "  4"
      ]
     },
     "execution_count": 6,
     "metadata": {},
     "output_type": "execute_result"
    }
   ],
   "source": [
    "df.y_rnd = rand(Poisson(mean(df.y)), 100)"
   ]
  },
  {
   "cell_type": "markdown",
   "metadata": {},
   "source": [
    "### 一定モデルとxモデルをこの真データに当てはめる"
   ]
  },
  {
   "cell_type": "code",
   "execution_count": 7,
   "metadata": {},
   "outputs": [
    {
     "data": {
      "text/plain": [
       "1.189020424934796"
      ]
     },
     "execution_count": 7,
     "metadata": {},
     "output_type": "execute_result"
    }
   ],
   "source": [
    "fit1 = glm(@formula(y_rnd ~ 1), df, Poisson())\n",
    "fit2 = glm(@formula(y_rnd ~ x), df, Poisson())\n",
    "deviance(fit1) - deviance(fit2)"
   ]
  },
  {
   "cell_type": "markdown",
   "metadata": {},
   "source": [
    "### PB法を実行する関数\n",
    "データの生成と逸脱度差の評価"
   ]
  },
  {
   "cell_type": "code",
   "execution_count": 8,
   "metadata": {},
   "outputs": [
    {
     "data": {
      "text/plain": [
       "get_dd (generic function with 1 method)"
      ]
     },
     "execution_count": 8,
     "metadata": {},
     "output_type": "execute_result"
    }
   ],
   "source": [
    "function get_dd(df)\n",
    "    n_samples = size(df, 1)\n",
    "    y_mean = mean(df.y)\n",
    "    df.y_rnd = rand(Poisson(y_mean), n_samples)\n",
    "    fit1 = glm(@formula(y_rnd ~ 1), df, Poisson())\n",
    "    fit2 = glm(@formula(y_rnd ~ x), df, Poisson())\n",
    "    deviance(fit1) - deviance(fit2)\n",
    "end"
   ]
  },
  {
   "cell_type": "code",
   "execution_count": 9,
   "metadata": {},
   "outputs": [
    {
     "data": {
      "text/plain": [
       "pb (generic function with 1 method)"
      ]
     },
     "execution_count": 9,
     "metadata": {},
     "output_type": "execute_result"
    }
   ],
   "source": [
    "function pb(df, n_bootstrap)\n",
    "    [get_dd(df) for _ in 1:n_bootstrap]\n",
    "end"
   ]
  },
  {
   "cell_type": "markdown",
   "metadata": {},
   "source": [
    "### 逸脱度の差のサンプルを1000個を作成"
   ]
  },
  {
   "cell_type": "code",
   "execution_count": 10,
   "metadata": {},
   "outputs": [
    {
     "data": {
      "text/plain": [
       "1000-element Array{Float64,1}:\n",
       " 1.1486303244452358  \n",
       " 1.2379143349800472  \n",
       " 1.2867198382396623  \n",
       " 0.3511088318944786  \n",
       " 0.17412789949815988 \n",
       " 0.000811551981911407\n",
       " 0.2857821265328795  \n",
       " 0.05591170539449308 \n",
       " 1.9994458341597436  \n",
       " 0.017207438999037095\n",
       " 0.24567352366568684 \n",
       " 0.3779673222890807  \n",
       " 0.05990015905760515 \n",
       " ⋮                   \n",
       " 0.004638528845788414\n",
       " 5.585730797733419   \n",
       " 1.7980378372794519  \n",
       " 1.8555270906410186  \n",
       " 0.5715930980171464  \n",
       " 5.197761267675872   \n",
       " 0.010076028839890228\n",
       " 0.25846395166242075 \n",
       " 0.7479123098301983  \n",
       " 0.6692151464064295  \n",
       " 0.11823858683075628 \n",
       " 0.26236143376769405 "
      ]
     },
     "execution_count": 10,
     "metadata": {},
     "output_type": "execute_result"
    }
   ],
   "source": [
    "dd12 = pb(df, 1000)"
   ]
  },
  {
   "cell_type": "code",
   "execution_count": 11,
   "metadata": {},
   "outputs": [
    {
     "name": "stdout",
     "output_type": "stream",
     "text": [
      "Summary Stats:\n",
      "Mean:           0.981152\n",
      "Minimum:        0.000001\n",
      "1st Quartile:   0.105289\n",
      "Median:         0.442494\n",
      "3rd Quartile:   1.310634\n",
      "Maximum:        11.279349\n",
      "Length:         1000\n",
      "Type:           Float64\n"
     ]
    }
   ],
   "source": [
    "describe(dd12)"
   ]
  },
  {
   "cell_type": "code",
   "execution_count": 12,
   "metadata": {},
   "outputs": [
    {
     "data": {
      "image/svg+xml": [
       "<?xml version=\"1.0\" encoding=\"utf-8\"?>\n",
       "<svg xmlns=\"http://www.w3.org/2000/svg\" xmlns:xlink=\"http://www.w3.org/1999/xlink\" width=\"600\" height=\"400\" viewBox=\"0 0 2400 1600\">\n",
       "<defs>\n",
       "  <clipPath id=\"clip9700\">\n",
       "    <rect x=\"0\" y=\"0\" width=\"2000\" height=\"2000\"/>\n",
       "  </clipPath>\n",
       "</defs>\n",
       "<defs>\n",
       "  <clipPath id=\"clip9701\">\n",
       "    <rect x=\"0\" y=\"0\" width=\"2400\" height=\"1600\"/>\n",
       "  </clipPath>\n",
       "</defs>\n",
       "<polygon clip-path=\"url(#clip9701)\" points=\"\n",
       "0,1600 2400,1600 2400,0 0,0 \n",
       "  \" fill=\"#ffffff\" fill-rule=\"evenodd\" fill-opacity=\"1\"/>\n",
       "<defs>\n",
       "  <clipPath id=\"clip9702\">\n",
       "    <rect x=\"480\" y=\"0\" width=\"1681\" height=\"1600\"/>\n",
       "  </clipPath>\n",
       "</defs>\n",
       "<polygon clip-path=\"url(#clip9701)\" points=\"\n",
       "174.775,1503.47 2321.26,1503.47 2321.26,47.2441 174.775,47.2441 \n",
       "  \" fill=\"#ffffff\" fill-rule=\"evenodd\" fill-opacity=\"1\"/>\n",
       "<defs>\n",
       "  <clipPath id=\"clip9703\">\n",
       "    <rect x=\"174\" y=\"47\" width=\"2147\" height=\"1457\"/>\n",
       "  </clipPath>\n",
       "</defs>\n",
       "<polyline clip-path=\"url(#clip9703)\" style=\"stroke:#000000; stroke-width:2; stroke-opacity:0.1; fill:none\" points=\"\n",
       "  292.836,1503.47 292.836,47.2441 \n",
       "  \"/>\n",
       "<polyline clip-path=\"url(#clip9703)\" style=\"stroke:#000000; stroke-width:2; stroke-opacity:0.1; fill:none\" points=\"\n",
       "  711.775,1503.47 711.775,47.2441 \n",
       "  \"/>\n",
       "<polyline clip-path=\"url(#clip9703)\" style=\"stroke:#000000; stroke-width:2; stroke-opacity:0.1; fill:none\" points=\"\n",
       "  1130.71,1503.47 1130.71,47.2441 \n",
       "  \"/>\n",
       "<polyline clip-path=\"url(#clip9703)\" style=\"stroke:#000000; stroke-width:2; stroke-opacity:0.1; fill:none\" points=\"\n",
       "  1549.65,1503.47 1549.65,47.2441 \n",
       "  \"/>\n",
       "<polyline clip-path=\"url(#clip9703)\" style=\"stroke:#000000; stroke-width:2; stroke-opacity:0.1; fill:none\" points=\"\n",
       "  1968.59,1503.47 1968.59,47.2441 \n",
       "  \"/>\n",
       "<polyline clip-path=\"url(#clip9703)\" style=\"stroke:#000000; stroke-width:2; stroke-opacity:0.1; fill:none\" points=\"\n",
       "  174.775,1462.26 2321.26,1462.26 \n",
       "  \"/>\n",
       "<polyline clip-path=\"url(#clip9703)\" style=\"stroke:#000000; stroke-width:2; stroke-opacity:0.1; fill:none\" points=\"\n",
       "  174.775,1061.74 2321.26,1061.74 \n",
       "  \"/>\n",
       "<polyline clip-path=\"url(#clip9703)\" style=\"stroke:#000000; stroke-width:2; stroke-opacity:0.1; fill:none\" points=\"\n",
       "  174.775,661.21 2321.26,661.21 \n",
       "  \"/>\n",
       "<polyline clip-path=\"url(#clip9703)\" style=\"stroke:#000000; stroke-width:2; stroke-opacity:0.1; fill:none\" points=\"\n",
       "  174.775,260.684 2321.26,260.684 \n",
       "  \"/>\n",
       "<polyline clip-path=\"url(#clip9701)\" style=\"stroke:#000000; stroke-width:4; stroke-opacity:1; fill:none\" points=\"\n",
       "  174.775,1503.47 2321.26,1503.47 \n",
       "  \"/>\n",
       "<polyline clip-path=\"url(#clip9701)\" style=\"stroke:#000000; stroke-width:4; stroke-opacity:1; fill:none\" points=\"\n",
       "  174.775,1503.47 174.775,47.2441 \n",
       "  \"/>\n",
       "<polyline clip-path=\"url(#clip9701)\" style=\"stroke:#000000; stroke-width:4; stroke-opacity:1; fill:none\" points=\"\n",
       "  292.836,1503.47 292.836,1481.63 \n",
       "  \"/>\n",
       "<polyline clip-path=\"url(#clip9701)\" style=\"stroke:#000000; stroke-width:4; stroke-opacity:1; fill:none\" points=\"\n",
       "  711.775,1503.47 711.775,1481.63 \n",
       "  \"/>\n",
       "<polyline clip-path=\"url(#clip9701)\" style=\"stroke:#000000; stroke-width:4; stroke-opacity:1; fill:none\" points=\"\n",
       "  1130.71,1503.47 1130.71,1481.63 \n",
       "  \"/>\n",
       "<polyline clip-path=\"url(#clip9701)\" style=\"stroke:#000000; stroke-width:4; stroke-opacity:1; fill:none\" points=\"\n",
       "  1549.65,1503.47 1549.65,1481.63 \n",
       "  \"/>\n",
       "<polyline clip-path=\"url(#clip9701)\" style=\"stroke:#000000; stroke-width:4; stroke-opacity:1; fill:none\" points=\"\n",
       "  1968.59,1503.47 1968.59,1481.63 \n",
       "  \"/>\n",
       "<polyline clip-path=\"url(#clip9701)\" style=\"stroke:#000000; stroke-width:4; stroke-opacity:1; fill:none\" points=\"\n",
       "  174.775,1462.26 206.972,1462.26 \n",
       "  \"/>\n",
       "<polyline clip-path=\"url(#clip9701)\" style=\"stroke:#000000; stroke-width:4; stroke-opacity:1; fill:none\" points=\"\n",
       "  174.775,1061.74 206.972,1061.74 \n",
       "  \"/>\n",
       "<polyline clip-path=\"url(#clip9701)\" style=\"stroke:#000000; stroke-width:4; stroke-opacity:1; fill:none\" points=\"\n",
       "  174.775,661.21 206.972,661.21 \n",
       "  \"/>\n",
       "<polyline clip-path=\"url(#clip9701)\" style=\"stroke:#000000; stroke-width:4; stroke-opacity:1; fill:none\" points=\"\n",
       "  174.775,260.684 206.972,260.684 \n",
       "  \"/>\n",
       "<g clip-path=\"url(#clip9701)\">\n",
       "<text style=\"fill:#000000; fill-opacity:1; font-family:Arial,Helvetica Neue,Helvetica,sans-serif; font-size:48px; text-anchor:middle;\" transform=\"rotate(0, 292.836, 1557.47)\" x=\"292.836\" y=\"1557.47\">0.0</text>\n",
       "</g>\n",
       "<g clip-path=\"url(#clip9701)\">\n",
       "<text style=\"fill:#000000; fill-opacity:1; font-family:Arial,Helvetica Neue,Helvetica,sans-serif; font-size:48px; text-anchor:middle;\" transform=\"rotate(0, 711.775, 1557.47)\" x=\"711.775\" y=\"1557.47\">2.5</text>\n",
       "</g>\n",
       "<g clip-path=\"url(#clip9701)\">\n",
       "<text style=\"fill:#000000; fill-opacity:1; font-family:Arial,Helvetica Neue,Helvetica,sans-serif; font-size:48px; text-anchor:middle;\" transform=\"rotate(0, 1130.71, 1557.47)\" x=\"1130.71\" y=\"1557.47\">5.0</text>\n",
       "</g>\n",
       "<g clip-path=\"url(#clip9701)\">\n",
       "<text style=\"fill:#000000; fill-opacity:1; font-family:Arial,Helvetica Neue,Helvetica,sans-serif; font-size:48px; text-anchor:middle;\" transform=\"rotate(0, 1549.65, 1557.47)\" x=\"1549.65\" y=\"1557.47\">7.5</text>\n",
       "</g>\n",
       "<g clip-path=\"url(#clip9701)\">\n",
       "<text style=\"fill:#000000; fill-opacity:1; font-family:Arial,Helvetica Neue,Helvetica,sans-serif; font-size:48px; text-anchor:middle;\" transform=\"rotate(0, 1968.59, 1557.47)\" x=\"1968.59\" y=\"1557.47\">10.0</text>\n",
       "</g>\n",
       "<g clip-path=\"url(#clip9701)\">\n",
       "<text style=\"fill:#000000; fill-opacity:1; font-family:Arial,Helvetica Neue,Helvetica,sans-serif; font-size:48px; text-anchor:end;\" transform=\"rotate(0, 150.775, 1479.76)\" x=\"150.775\" y=\"1479.76\">0</text>\n",
       "</g>\n",
       "<g clip-path=\"url(#clip9701)\">\n",
       "<text style=\"fill:#000000; fill-opacity:1; font-family:Arial,Helvetica Neue,Helvetica,sans-serif; font-size:48px; text-anchor:end;\" transform=\"rotate(0, 150.775, 1079.24)\" x=\"150.775\" y=\"1079.24\">100</text>\n",
       "</g>\n",
       "<g clip-path=\"url(#clip9701)\">\n",
       "<text style=\"fill:#000000; fill-opacity:1; font-family:Arial,Helvetica Neue,Helvetica,sans-serif; font-size:48px; text-anchor:end;\" transform=\"rotate(0, 150.775, 678.71)\" x=\"150.775\" y=\"678.71\">200</text>\n",
       "</g>\n",
       "<g clip-path=\"url(#clip9701)\">\n",
       "<text style=\"fill:#000000; fill-opacity:1; font-family:Arial,Helvetica Neue,Helvetica,sans-serif; font-size:48px; text-anchor:end;\" transform=\"rotate(0, 150.775, 278.184)\" x=\"150.775\" y=\"278.184\">300</text>\n",
       "</g>\n",
       "<polygon clip-path=\"url(#clip9703)\" points=\"\n",
       "292.836,88.4582 292.836,1462.26 326.351,1462.26 326.351,88.4582 292.836,88.4582 292.836,88.4582 \n",
       "  \" fill=\"#009af9\" fill-rule=\"evenodd\" fill-opacity=\"1\"/>\n",
       "<polyline clip-path=\"url(#clip9703)\" style=\"stroke:#000000; stroke-width:4; stroke-opacity:1; fill:none\" points=\"\n",
       "  292.836,88.4582 292.836,1462.26 326.351,1462.26 326.351,88.4582 292.836,88.4582 \n",
       "  \"/>\n",
       "<polygon clip-path=\"url(#clip9703)\" points=\"\n",
       "326.351,917.546 326.351,1462.26 359.866,1462.26 359.866,917.546 326.351,917.546 326.351,917.546 \n",
       "  \" fill=\"#009af9\" fill-rule=\"evenodd\" fill-opacity=\"1\"/>\n",
       "<polyline clip-path=\"url(#clip9703)\" style=\"stroke:#000000; stroke-width:4; stroke-opacity:1; fill:none\" points=\"\n",
       "  326.351,917.546 326.351,1462.26 359.866,1462.26 359.866,917.546 326.351,917.546 \n",
       "  \"/>\n",
       "<polygon clip-path=\"url(#clip9703)\" points=\"\n",
       "359.866,1093.78 359.866,1462.26 393.381,1462.26 393.381,1093.78 359.866,1093.78 359.866,1093.78 \n",
       "  \" fill=\"#009af9\" fill-rule=\"evenodd\" fill-opacity=\"1\"/>\n",
       "<polyline clip-path=\"url(#clip9703)\" style=\"stroke:#000000; stroke-width:4; stroke-opacity:1; fill:none\" points=\"\n",
       "  359.866,1093.78 359.866,1462.26 393.381,1462.26 393.381,1093.78 359.866,1093.78 \n",
       "  \"/>\n",
       "<polygon clip-path=\"url(#clip9703)\" points=\"\n",
       "393.381,1241.97 393.381,1462.26 426.896,1462.26 426.896,1241.97 393.381,1241.97 393.381,1241.97 \n",
       "  \" fill=\"#009af9\" fill-rule=\"evenodd\" fill-opacity=\"1\"/>\n",
       "<polyline clip-path=\"url(#clip9703)\" style=\"stroke:#000000; stroke-width:4; stroke-opacity:1; fill:none\" points=\"\n",
       "  393.381,1241.97 393.381,1462.26 426.896,1462.26 426.896,1241.97 393.381,1241.97 \n",
       "  \"/>\n",
       "<polygon clip-path=\"url(#clip9703)\" points=\"\n",
       "426.896,1257.99 426.896,1462.26 460.411,1462.26 460.411,1257.99 426.896,1257.99 426.896,1257.99 \n",
       "  \" fill=\"#009af9\" fill-rule=\"evenodd\" fill-opacity=\"1\"/>\n",
       "<polyline clip-path=\"url(#clip9703)\" style=\"stroke:#000000; stroke-width:4; stroke-opacity:1; fill:none\" points=\"\n",
       "  426.896,1257.99 426.896,1462.26 460.411,1462.26 460.411,1257.99 426.896,1257.99 \n",
       "  \"/>\n",
       "<polygon clip-path=\"url(#clip9703)\" points=\"\n",
       "460.411,1245.98 460.411,1462.26 493.927,1462.26 493.927,1245.98 460.411,1245.98 460.411,1245.98 \n",
       "  \" fill=\"#009af9\" fill-rule=\"evenodd\" fill-opacity=\"1\"/>\n",
       "<polyline clip-path=\"url(#clip9703)\" style=\"stroke:#000000; stroke-width:4; stroke-opacity:1; fill:none\" points=\"\n",
       "  460.411,1245.98 460.411,1462.26 493.927,1462.26 493.927,1245.98 460.411,1245.98 \n",
       "  \"/>\n",
       "<polygon clip-path=\"url(#clip9703)\" points=\"\n",
       "493.927,1306.06 493.927,1462.26 527.442,1462.26 527.442,1306.06 493.927,1306.06 493.927,1306.06 \n",
       "  \" fill=\"#009af9\" fill-rule=\"evenodd\" fill-opacity=\"1\"/>\n",
       "<polyline clip-path=\"url(#clip9703)\" style=\"stroke:#000000; stroke-width:4; stroke-opacity:1; fill:none\" points=\"\n",
       "  493.927,1306.06 493.927,1462.26 527.442,1462.26 527.442,1306.06 493.927,1306.06 \n",
       "  \"/>\n",
       "<polygon clip-path=\"url(#clip9703)\" points=\"\n",
       "527.442,1334.09 527.442,1462.26 560.957,1462.26 560.957,1334.09 527.442,1334.09 527.442,1334.09 \n",
       "  \" fill=\"#009af9\" fill-rule=\"evenodd\" fill-opacity=\"1\"/>\n",
       "<polyline clip-path=\"url(#clip9703)\" style=\"stroke:#000000; stroke-width:4; stroke-opacity:1; fill:none\" points=\"\n",
       "  527.442,1334.09 527.442,1462.26 560.957,1462.26 560.957,1334.09 527.442,1334.09 \n",
       "  \"/>\n",
       "<polygon clip-path=\"url(#clip9703)\" points=\"\n",
       "560.957,1390.17 560.957,1462.26 594.472,1462.26 594.472,1390.17 560.957,1390.17 560.957,1390.17 \n",
       "  \" fill=\"#009af9\" fill-rule=\"evenodd\" fill-opacity=\"1\"/>\n",
       "<polyline clip-path=\"url(#clip9703)\" style=\"stroke:#000000; stroke-width:4; stroke-opacity:1; fill:none\" points=\"\n",
       "  560.957,1390.17 560.957,1462.26 594.472,1462.26 594.472,1390.17 560.957,1390.17 \n",
       "  \"/>\n",
       "<polygon clip-path=\"url(#clip9703)\" points=\"\n",
       "594.472,1354.12 594.472,1462.26 627.987,1462.26 627.987,1354.12 594.472,1354.12 594.472,1354.12 \n",
       "  \" fill=\"#009af9\" fill-rule=\"evenodd\" fill-opacity=\"1\"/>\n",
       "<polyline clip-path=\"url(#clip9703)\" style=\"stroke:#000000; stroke-width:4; stroke-opacity:1; fill:none\" points=\"\n",
       "  594.472,1354.12 594.472,1462.26 627.987,1462.26 627.987,1354.12 594.472,1354.12 \n",
       "  \"/>\n",
       "<polygon clip-path=\"url(#clip9703)\" points=\"\n",
       "627.987,1390.17 627.987,1462.26 661.502,1462.26 661.502,1390.17 627.987,1390.17 627.987,1390.17 \n",
       "  \" fill=\"#009af9\" fill-rule=\"evenodd\" fill-opacity=\"1\"/>\n",
       "<polyline clip-path=\"url(#clip9703)\" style=\"stroke:#000000; stroke-width:4; stroke-opacity:1; fill:none\" points=\"\n",
       "  627.987,1390.17 627.987,1462.26 661.502,1462.26 661.502,1390.17 627.987,1390.17 \n",
       "  \"/>\n",
       "<polygon clip-path=\"url(#clip9703)\" points=\"\n",
       "661.502,1398.18 661.502,1462.26 695.018,1462.26 695.018,1398.18 661.502,1398.18 661.502,1398.18 \n",
       "  \" fill=\"#009af9\" fill-rule=\"evenodd\" fill-opacity=\"1\"/>\n",
       "<polyline clip-path=\"url(#clip9703)\" style=\"stroke:#000000; stroke-width:4; stroke-opacity:1; fill:none\" points=\"\n",
       "  661.502,1398.18 661.502,1462.26 695.018,1462.26 695.018,1398.18 661.502,1398.18 \n",
       "  \"/>\n",
       "<polygon clip-path=\"url(#clip9703)\" points=\"\n",
       "695.018,1390.17 695.018,1462.26 728.533,1462.26 728.533,1390.17 695.018,1390.17 695.018,1390.17 \n",
       "  \" fill=\"#009af9\" fill-rule=\"evenodd\" fill-opacity=\"1\"/>\n",
       "<polyline clip-path=\"url(#clip9703)\" style=\"stroke:#000000; stroke-width:4; stroke-opacity:1; fill:none\" points=\"\n",
       "  695.018,1390.17 695.018,1462.26 728.533,1462.26 728.533,1390.17 695.018,1390.17 \n",
       "  \"/>\n",
       "<polygon clip-path=\"url(#clip9703)\" points=\"\n",
       "728.533,1406.19 728.533,1462.26 762.048,1462.26 762.048,1406.19 728.533,1406.19 728.533,1406.19 \n",
       "  \" fill=\"#009af9\" fill-rule=\"evenodd\" fill-opacity=\"1\"/>\n",
       "<polyline clip-path=\"url(#clip9703)\" style=\"stroke:#000000; stroke-width:4; stroke-opacity:1; fill:none\" points=\"\n",
       "  728.533,1406.19 728.533,1462.26 762.048,1462.26 762.048,1406.19 728.533,1406.19 \n",
       "  \"/>\n",
       "<polygon clip-path=\"url(#clip9703)\" points=\"\n",
       "762.048,1434.22 762.048,1462.26 795.563,1462.26 795.563,1434.22 762.048,1434.22 762.048,1434.22 \n",
       "  \" fill=\"#009af9\" fill-rule=\"evenodd\" fill-opacity=\"1\"/>\n",
       "<polyline clip-path=\"url(#clip9703)\" style=\"stroke:#000000; stroke-width:4; stroke-opacity:1; fill:none\" points=\"\n",
       "  762.048,1434.22 762.048,1462.26 795.563,1462.26 795.563,1434.22 762.048,1434.22 \n",
       "  \"/>\n",
       "<polygon clip-path=\"url(#clip9703)\" points=\"\n",
       "795.563,1418.2 795.563,1462.26 829.078,1462.26 829.078,1418.2 795.563,1418.2 795.563,1418.2 \n",
       "  \" fill=\"#009af9\" fill-rule=\"evenodd\" fill-opacity=\"1\"/>\n",
       "<polyline clip-path=\"url(#clip9703)\" style=\"stroke:#000000; stroke-width:4; stroke-opacity:1; fill:none\" points=\"\n",
       "  795.563,1418.2 795.563,1462.26 829.078,1462.26 829.078,1418.2 795.563,1418.2 \n",
       "  \"/>\n",
       "<polygon clip-path=\"url(#clip9703)\" points=\"\n",
       "829.078,1434.22 829.078,1462.26 862.593,1462.26 862.593,1434.22 829.078,1434.22 829.078,1434.22 \n",
       "  \" fill=\"#009af9\" fill-rule=\"evenodd\" fill-opacity=\"1\"/>\n",
       "<polyline clip-path=\"url(#clip9703)\" style=\"stroke:#000000; stroke-width:4; stroke-opacity:1; fill:none\" points=\"\n",
       "  829.078,1434.22 829.078,1462.26 862.593,1462.26 862.593,1434.22 829.078,1434.22 \n",
       "  \"/>\n",
       "<polygon clip-path=\"url(#clip9703)\" points=\"\n",
       "862.593,1426.21 862.593,1462.26 896.108,1462.26 896.108,1426.21 862.593,1426.21 862.593,1426.21 \n",
       "  \" fill=\"#009af9\" fill-rule=\"evenodd\" fill-opacity=\"1\"/>\n",
       "<polyline clip-path=\"url(#clip9703)\" style=\"stroke:#000000; stroke-width:4; stroke-opacity:1; fill:none\" points=\"\n",
       "  862.593,1426.21 862.593,1462.26 896.108,1462.26 896.108,1426.21 862.593,1426.21 \n",
       "  \"/>\n",
       "<polygon clip-path=\"url(#clip9703)\" points=\"\n",
       "896.108,1446.24 896.108,1462.26 929.624,1462.26 929.624,1446.24 896.108,1446.24 896.108,1446.24 \n",
       "  \" fill=\"#009af9\" fill-rule=\"evenodd\" fill-opacity=\"1\"/>\n",
       "<polyline clip-path=\"url(#clip9703)\" style=\"stroke:#000000; stroke-width:4; stroke-opacity:1; fill:none\" points=\"\n",
       "  896.108,1446.24 896.108,1462.26 929.624,1462.26 929.624,1446.24 896.108,1446.24 \n",
       "  \"/>\n",
       "<polygon clip-path=\"url(#clip9703)\" points=\"\n",
       "929.624,1450.24 929.624,1462.26 963.139,1462.26 963.139,1450.24 929.624,1450.24 929.624,1450.24 \n",
       "  \" fill=\"#009af9\" fill-rule=\"evenodd\" fill-opacity=\"1\"/>\n",
       "<polyline clip-path=\"url(#clip9703)\" style=\"stroke:#000000; stroke-width:4; stroke-opacity:1; fill:none\" points=\"\n",
       "  929.624,1450.24 929.624,1462.26 963.139,1462.26 963.139,1450.24 929.624,1450.24 \n",
       "  \"/>\n",
       "<polygon clip-path=\"url(#clip9703)\" points=\"\n",
       "963.139,1454.25 963.139,1462.26 996.654,1462.26 996.654,1454.25 963.139,1454.25 963.139,1454.25 \n",
       "  \" fill=\"#009af9\" fill-rule=\"evenodd\" fill-opacity=\"1\"/>\n",
       "<polyline clip-path=\"url(#clip9703)\" style=\"stroke:#000000; stroke-width:4; stroke-opacity:1; fill:none\" points=\"\n",
       "  963.139,1454.25 963.139,1462.26 996.654,1462.26 996.654,1454.25 963.139,1454.25 \n",
       "  \"/>\n",
       "<polygon clip-path=\"url(#clip9703)\" points=\"\n",
       "996.654,1438.23 996.654,1462.26 1030.17,1462.26 1030.17,1438.23 996.654,1438.23 996.654,1438.23 \n",
       "  \" fill=\"#009af9\" fill-rule=\"evenodd\" fill-opacity=\"1\"/>\n",
       "<polyline clip-path=\"url(#clip9703)\" style=\"stroke:#000000; stroke-width:4; stroke-opacity:1; fill:none\" points=\"\n",
       "  996.654,1438.23 996.654,1462.26 1030.17,1462.26 1030.17,1438.23 996.654,1438.23 \n",
       "  \"/>\n",
       "<polygon clip-path=\"url(#clip9703)\" points=\"\n",
       "1030.17,1450.24 1030.17,1462.26 1063.68,1462.26 1063.68,1450.24 1030.17,1450.24 1030.17,1450.24 \n",
       "  \" fill=\"#009af9\" fill-rule=\"evenodd\" fill-opacity=\"1\"/>\n",
       "<polyline clip-path=\"url(#clip9703)\" style=\"stroke:#000000; stroke-width:4; stroke-opacity:1; fill:none\" points=\"\n",
       "  1030.17,1450.24 1030.17,1462.26 1063.68,1462.26 1063.68,1450.24 1030.17,1450.24 \n",
       "  \"/>\n",
       "<polygon clip-path=\"url(#clip9703)\" points=\"\n",
       "1063.68,1434.22 1063.68,1462.26 1097.2,1462.26 1097.2,1434.22 1063.68,1434.22 1063.68,1434.22 \n",
       "  \" fill=\"#009af9\" fill-rule=\"evenodd\" fill-opacity=\"1\"/>\n",
       "<polyline clip-path=\"url(#clip9703)\" style=\"stroke:#000000; stroke-width:4; stroke-opacity:1; fill:none\" points=\"\n",
       "  1063.68,1434.22 1063.68,1462.26 1097.2,1462.26 1097.2,1434.22 1063.68,1434.22 \n",
       "  \"/>\n",
       "<polygon clip-path=\"url(#clip9703)\" points=\"\n",
       "1097.2,1458.26 1097.2,1462.26 1130.71,1462.26 1130.71,1458.26 1097.2,1458.26 1097.2,1458.26 \n",
       "  \" fill=\"#009af9\" fill-rule=\"evenodd\" fill-opacity=\"1\"/>\n",
       "<polyline clip-path=\"url(#clip9703)\" style=\"stroke:#000000; stroke-width:4; stroke-opacity:1; fill:none\" points=\"\n",
       "  1097.2,1458.26 1097.2,1462.26 1130.71,1462.26 1130.71,1458.26 1097.2,1458.26 \n",
       "  \"/>\n",
       "<polygon clip-path=\"url(#clip9703)\" points=\"\n",
       "1130.71,1442.23 1130.71,1462.26 1164.23,1462.26 1164.23,1442.23 1130.71,1442.23 1130.71,1442.23 \n",
       "  \" fill=\"#009af9\" fill-rule=\"evenodd\" fill-opacity=\"1\"/>\n",
       "<polyline clip-path=\"url(#clip9703)\" style=\"stroke:#000000; stroke-width:4; stroke-opacity:1; fill:none\" points=\"\n",
       "  1130.71,1442.23 1130.71,1462.26 1164.23,1462.26 1164.23,1442.23 1130.71,1442.23 \n",
       "  \"/>\n",
       "<polygon clip-path=\"url(#clip9703)\" points=\"\n",
       "1164.23,1454.25 1164.23,1462.26 1197.74,1462.26 1197.74,1454.25 1164.23,1454.25 1164.23,1454.25 \n",
       "  \" fill=\"#009af9\" fill-rule=\"evenodd\" fill-opacity=\"1\"/>\n",
       "<polyline clip-path=\"url(#clip9703)\" style=\"stroke:#000000; stroke-width:4; stroke-opacity:1; fill:none\" points=\"\n",
       "  1164.23,1454.25 1164.23,1462.26 1197.74,1462.26 1197.74,1454.25 1164.23,1454.25 \n",
       "  \"/>\n",
       "<polygon clip-path=\"url(#clip9703)\" points=\"\n",
       "1197.74,1442.23 1197.74,1462.26 1231.26,1462.26 1231.26,1442.23 1197.74,1442.23 1197.74,1442.23 \n",
       "  \" fill=\"#009af9\" fill-rule=\"evenodd\" fill-opacity=\"1\"/>\n",
       "<polyline clip-path=\"url(#clip9703)\" style=\"stroke:#000000; stroke-width:4; stroke-opacity:1; fill:none\" points=\"\n",
       "  1197.74,1442.23 1197.74,1462.26 1231.26,1462.26 1231.26,1442.23 1197.74,1442.23 \n",
       "  \"/>\n",
       "<polygon clip-path=\"url(#clip9703)\" points=\"\n",
       "1231.26,1458.26 1231.26,1462.26 1264.78,1462.26 1264.78,1458.26 1231.26,1458.26 1231.26,1458.26 \n",
       "  \" fill=\"#009af9\" fill-rule=\"evenodd\" fill-opacity=\"1\"/>\n",
       "<polyline clip-path=\"url(#clip9703)\" style=\"stroke:#000000; stroke-width:4; stroke-opacity:1; fill:none\" points=\"\n",
       "  1231.26,1458.26 1231.26,1462.26 1264.78,1462.26 1264.78,1458.26 1231.26,1458.26 \n",
       "  \"/>\n",
       "<polygon clip-path=\"url(#clip9703)\" points=\"\n",
       "1264.78,1446.24 1264.78,1462.26 1298.29,1462.26 1298.29,1446.24 1264.78,1446.24 1264.78,1446.24 \n",
       "  \" fill=\"#009af9\" fill-rule=\"evenodd\" fill-opacity=\"1\"/>\n",
       "<polyline clip-path=\"url(#clip9703)\" style=\"stroke:#000000; stroke-width:4; stroke-opacity:1; fill:none\" points=\"\n",
       "  1264.78,1446.24 1264.78,1462.26 1298.29,1462.26 1298.29,1446.24 1264.78,1446.24 \n",
       "  \"/>\n",
       "<polygon clip-path=\"url(#clip9703)\" points=\"\n",
       "1298.29,1462.26 1298.29,1462.26 1331.81,1462.26 1331.81,1462.26 1298.29,1462.26 1298.29,1462.26 \n",
       "  \" fill=\"#009af9\" fill-rule=\"evenodd\" fill-opacity=\"1\"/>\n",
       "<polyline clip-path=\"url(#clip9703)\" style=\"stroke:#000000; stroke-width:4; stroke-opacity:1; fill:none\" points=\"\n",
       "  1298.29,1462.26 1298.29,1462.26 1331.81,1462.26 1298.29,1462.26 \n",
       "  \"/>\n",
       "<polygon clip-path=\"url(#clip9703)\" points=\"\n",
       "1331.81,1462.26 1331.81,1462.26 1365.32,1462.26 1365.32,1462.26 1331.81,1462.26 1331.81,1462.26 \n",
       "  \" fill=\"#009af9\" fill-rule=\"evenodd\" fill-opacity=\"1\"/>\n",
       "<polyline clip-path=\"url(#clip9703)\" style=\"stroke:#000000; stroke-width:4; stroke-opacity:1; fill:none\" points=\"\n",
       "  1331.81,1462.26 1331.81,1462.26 1365.32,1462.26 1331.81,1462.26 \n",
       "  \"/>\n",
       "<polygon clip-path=\"url(#clip9703)\" points=\"\n",
       "1365.32,1462.26 1365.32,1462.26 1398.84,1462.26 1398.84,1462.26 1365.32,1462.26 1365.32,1462.26 \n",
       "  \" fill=\"#009af9\" fill-rule=\"evenodd\" fill-opacity=\"1\"/>\n",
       "<polyline clip-path=\"url(#clip9703)\" style=\"stroke:#000000; stroke-width:4; stroke-opacity:1; fill:none\" points=\"\n",
       "  1365.32,1462.26 1365.32,1462.26 1398.84,1462.26 1365.32,1462.26 \n",
       "  \"/>\n",
       "<polygon clip-path=\"url(#clip9703)\" points=\"\n",
       "1398.84,1450.24 1398.84,1462.26 1432.35,1462.26 1432.35,1450.24 1398.84,1450.24 1398.84,1450.24 \n",
       "  \" fill=\"#009af9\" fill-rule=\"evenodd\" fill-opacity=\"1\"/>\n",
       "<polyline clip-path=\"url(#clip9703)\" style=\"stroke:#000000; stroke-width:4; stroke-opacity:1; fill:none\" points=\"\n",
       "  1398.84,1450.24 1398.84,1462.26 1432.35,1462.26 1432.35,1450.24 1398.84,1450.24 \n",
       "  \"/>\n",
       "<polygon clip-path=\"url(#clip9703)\" points=\"\n",
       "1432.35,1462.26 1432.35,1462.26 1465.87,1462.26 1465.87,1462.26 1432.35,1462.26 1432.35,1462.26 \n",
       "  \" fill=\"#009af9\" fill-rule=\"evenodd\" fill-opacity=\"1\"/>\n",
       "<polyline clip-path=\"url(#clip9703)\" style=\"stroke:#000000; stroke-width:4; stroke-opacity:1; fill:none\" points=\"\n",
       "  1432.35,1462.26 1432.35,1462.26 1465.87,1462.26 1432.35,1462.26 \n",
       "  \"/>\n",
       "<polygon clip-path=\"url(#clip9703)\" points=\"\n",
       "1465.87,1458.26 1465.87,1462.26 1499.38,1462.26 1499.38,1458.26 1465.87,1458.26 1465.87,1458.26 \n",
       "  \" fill=\"#009af9\" fill-rule=\"evenodd\" fill-opacity=\"1\"/>\n",
       "<polyline clip-path=\"url(#clip9703)\" style=\"stroke:#000000; stroke-width:4; stroke-opacity:1; fill:none\" points=\"\n",
       "  1465.87,1458.26 1465.87,1462.26 1499.38,1462.26 1499.38,1458.26 1465.87,1458.26 \n",
       "  \"/>\n",
       "<polygon clip-path=\"url(#clip9703)\" points=\"\n",
       "1499.38,1462.26 1499.38,1462.26 1532.9,1462.26 1532.9,1462.26 1499.38,1462.26 1499.38,1462.26 \n",
       "  \" fill=\"#009af9\" fill-rule=\"evenodd\" fill-opacity=\"1\"/>\n",
       "<polyline clip-path=\"url(#clip9703)\" style=\"stroke:#000000; stroke-width:4; stroke-opacity:1; fill:none\" points=\"\n",
       "  1499.38,1462.26 1499.38,1462.26 1532.9,1462.26 1499.38,1462.26 \n",
       "  \"/>\n",
       "<polygon clip-path=\"url(#clip9703)\" points=\"\n",
       "1532.9,1458.26 1532.9,1462.26 1566.41,1462.26 1566.41,1458.26 1532.9,1458.26 1532.9,1458.26 \n",
       "  \" fill=\"#009af9\" fill-rule=\"evenodd\" fill-opacity=\"1\"/>\n",
       "<polyline clip-path=\"url(#clip9703)\" style=\"stroke:#000000; stroke-width:4; stroke-opacity:1; fill:none\" points=\"\n",
       "  1532.9,1458.26 1532.9,1462.26 1566.41,1462.26 1566.41,1458.26 1532.9,1458.26 \n",
       "  \"/>\n",
       "<polygon clip-path=\"url(#clip9703)\" points=\"\n",
       "1566.41,1462.26 1566.41,1462.26 1599.93,1462.26 1599.93,1462.26 1566.41,1462.26 1566.41,1462.26 \n",
       "  \" fill=\"#009af9\" fill-rule=\"evenodd\" fill-opacity=\"1\"/>\n",
       "<polyline clip-path=\"url(#clip9703)\" style=\"stroke:#000000; stroke-width:4; stroke-opacity:1; fill:none\" points=\"\n",
       "  1566.41,1462.26 1566.41,1462.26 1599.93,1462.26 1566.41,1462.26 \n",
       "  \"/>\n",
       "<polygon clip-path=\"url(#clip9703)\" points=\"\n",
       "1599.93,1454.25 1599.93,1462.26 1633.44,1462.26 1633.44,1454.25 1599.93,1454.25 1599.93,1454.25 \n",
       "  \" fill=\"#009af9\" fill-rule=\"evenodd\" fill-opacity=\"1\"/>\n",
       "<polyline clip-path=\"url(#clip9703)\" style=\"stroke:#000000; stroke-width:4; stroke-opacity:1; fill:none\" points=\"\n",
       "  1599.93,1454.25 1599.93,1462.26 1633.44,1462.26 1633.44,1454.25 1599.93,1454.25 \n",
       "  \"/>\n",
       "<polygon clip-path=\"url(#clip9703)\" points=\"\n",
       "1633.44,1462.26 1633.44,1462.26 1666.96,1462.26 1666.96,1462.26 1633.44,1462.26 1633.44,1462.26 \n",
       "  \" fill=\"#009af9\" fill-rule=\"evenodd\" fill-opacity=\"1\"/>\n",
       "<polyline clip-path=\"url(#clip9703)\" style=\"stroke:#000000; stroke-width:4; stroke-opacity:1; fill:none\" points=\"\n",
       "  1633.44,1462.26 1633.44,1462.26 1666.96,1462.26 1633.44,1462.26 \n",
       "  \"/>\n",
       "<polygon clip-path=\"url(#clip9703)\" points=\"\n",
       "1666.96,1458.26 1666.96,1462.26 1700.47,1462.26 1700.47,1458.26 1666.96,1458.26 1666.96,1458.26 \n",
       "  \" fill=\"#009af9\" fill-rule=\"evenodd\" fill-opacity=\"1\"/>\n",
       "<polyline clip-path=\"url(#clip9703)\" style=\"stroke:#000000; stroke-width:4; stroke-opacity:1; fill:none\" points=\"\n",
       "  1666.96,1458.26 1666.96,1462.26 1700.47,1462.26 1700.47,1458.26 1666.96,1458.26 \n",
       "  \"/>\n",
       "<polygon clip-path=\"url(#clip9703)\" points=\"\n",
       "1700.47,1462.26 1700.47,1462.26 1733.99,1462.26 1733.99,1462.26 1700.47,1462.26 1700.47,1462.26 \n",
       "  \" fill=\"#009af9\" fill-rule=\"evenodd\" fill-opacity=\"1\"/>\n",
       "<polyline clip-path=\"url(#clip9703)\" style=\"stroke:#000000; stroke-width:4; stroke-opacity:1; fill:none\" points=\"\n",
       "  1700.47,1462.26 1700.47,1462.26 1733.99,1462.26 1700.47,1462.26 \n",
       "  \"/>\n",
       "<polygon clip-path=\"url(#clip9703)\" points=\"\n",
       "1733.99,1462.26 1733.99,1462.26 1767.5,1462.26 1767.5,1462.26 1733.99,1462.26 1733.99,1462.26 \n",
       "  \" fill=\"#009af9\" fill-rule=\"evenodd\" fill-opacity=\"1\"/>\n",
       "<polyline clip-path=\"url(#clip9703)\" style=\"stroke:#000000; stroke-width:4; stroke-opacity:1; fill:none\" points=\"\n",
       "  1733.99,1462.26 1733.99,1462.26 1767.5,1462.26 1733.99,1462.26 \n",
       "  \"/>\n",
       "<polygon clip-path=\"url(#clip9703)\" points=\"\n",
       "1767.5,1462.26 1767.5,1462.26 1801.02,1462.26 1801.02,1462.26 1767.5,1462.26 1767.5,1462.26 \n",
       "  \" fill=\"#009af9\" fill-rule=\"evenodd\" fill-opacity=\"1\"/>\n",
       "<polyline clip-path=\"url(#clip9703)\" style=\"stroke:#000000; stroke-width:4; stroke-opacity:1; fill:none\" points=\"\n",
       "  1767.5,1462.26 1767.5,1462.26 1801.02,1462.26 1767.5,1462.26 \n",
       "  \"/>\n",
       "<polygon clip-path=\"url(#clip9703)\" points=\"\n",
       "1801.02,1458.26 1801.02,1462.26 1834.53,1462.26 1834.53,1458.26 1801.02,1458.26 1801.02,1458.26 \n",
       "  \" fill=\"#009af9\" fill-rule=\"evenodd\" fill-opacity=\"1\"/>\n",
       "<polyline clip-path=\"url(#clip9703)\" style=\"stroke:#000000; stroke-width:4; stroke-opacity:1; fill:none\" points=\"\n",
       "  1801.02,1458.26 1801.02,1462.26 1834.53,1462.26 1834.53,1458.26 1801.02,1458.26 \n",
       "  \"/>\n",
       "<polygon clip-path=\"url(#clip9703)\" points=\"\n",
       "1834.53,1462.26 1834.53,1462.26 1868.05,1462.26 1868.05,1462.26 1834.53,1462.26 1834.53,1462.26 \n",
       "  \" fill=\"#009af9\" fill-rule=\"evenodd\" fill-opacity=\"1\"/>\n",
       "<polyline clip-path=\"url(#clip9703)\" style=\"stroke:#000000; stroke-width:4; stroke-opacity:1; fill:none\" points=\"\n",
       "  1834.53,1462.26 1834.53,1462.26 1868.05,1462.26 1834.53,1462.26 \n",
       "  \"/>\n",
       "<polygon clip-path=\"url(#clip9703)\" points=\"\n",
       "1868.05,1462.26 1868.05,1462.26 1901.56,1462.26 1901.56,1462.26 1868.05,1462.26 1868.05,1462.26 \n",
       "  \" fill=\"#009af9\" fill-rule=\"evenodd\" fill-opacity=\"1\"/>\n",
       "<polyline clip-path=\"url(#clip9703)\" style=\"stroke:#000000; stroke-width:4; stroke-opacity:1; fill:none\" points=\"\n",
       "  1868.05,1462.26 1868.05,1462.26 1901.56,1462.26 1868.05,1462.26 \n",
       "  \"/>\n",
       "<polygon clip-path=\"url(#clip9703)\" points=\"\n",
       "1901.56,1462.26 1901.56,1462.26 1935.08,1462.26 1935.08,1462.26 1901.56,1462.26 1901.56,1462.26 \n",
       "  \" fill=\"#009af9\" fill-rule=\"evenodd\" fill-opacity=\"1\"/>\n",
       "<polyline clip-path=\"url(#clip9703)\" style=\"stroke:#000000; stroke-width:4; stroke-opacity:1; fill:none\" points=\"\n",
       "  1901.56,1462.26 1901.56,1462.26 1935.08,1462.26 1901.56,1462.26 \n",
       "  \"/>\n",
       "<polygon clip-path=\"url(#clip9703)\" points=\"\n",
       "1935.08,1462.26 1935.08,1462.26 1968.59,1462.26 1968.59,1462.26 1935.08,1462.26 1935.08,1462.26 \n",
       "  \" fill=\"#009af9\" fill-rule=\"evenodd\" fill-opacity=\"1\"/>\n",
       "<polyline clip-path=\"url(#clip9703)\" style=\"stroke:#000000; stroke-width:4; stroke-opacity:1; fill:none\" points=\"\n",
       "  1935.08,1462.26 1935.08,1462.26 1968.59,1462.26 1935.08,1462.26 \n",
       "  \"/>\n",
       "<polygon clip-path=\"url(#clip9703)\" points=\"\n",
       "1968.59,1462.26 1968.59,1462.26 2002.11,1462.26 2002.11,1462.26 1968.59,1462.26 1968.59,1462.26 \n",
       "  \" fill=\"#009af9\" fill-rule=\"evenodd\" fill-opacity=\"1\"/>\n",
       "<polyline clip-path=\"url(#clip9703)\" style=\"stroke:#000000; stroke-width:4; stroke-opacity:1; fill:none\" points=\"\n",
       "  1968.59,1462.26 1968.59,1462.26 2002.11,1462.26 1968.59,1462.26 \n",
       "  \"/>\n",
       "<polygon clip-path=\"url(#clip9703)\" points=\"\n",
       "2002.11,1462.26 2002.11,1462.26 2035.62,1462.26 2035.62,1462.26 2002.11,1462.26 2002.11,1462.26 \n",
       "  \" fill=\"#009af9\" fill-rule=\"evenodd\" fill-opacity=\"1\"/>\n",
       "<polyline clip-path=\"url(#clip9703)\" style=\"stroke:#000000; stroke-width:4; stroke-opacity:1; fill:none\" points=\"\n",
       "  2002.11,1462.26 2002.11,1462.26 2035.62,1462.26 2002.11,1462.26 \n",
       "  \"/>\n",
       "<polygon clip-path=\"url(#clip9703)\" points=\"\n",
       "2035.62,1462.26 2035.62,1462.26 2069.14,1462.26 2069.14,1462.26 2035.62,1462.26 2035.62,1462.26 \n",
       "  \" fill=\"#009af9\" fill-rule=\"evenodd\" fill-opacity=\"1\"/>\n",
       "<polyline clip-path=\"url(#clip9703)\" style=\"stroke:#000000; stroke-width:4; stroke-opacity:1; fill:none\" points=\"\n",
       "  2035.62,1462.26 2035.62,1462.26 2069.14,1462.26 2035.62,1462.26 \n",
       "  \"/>\n",
       "<polygon clip-path=\"url(#clip9703)\" points=\"\n",
       "2069.14,1462.26 2069.14,1462.26 2102.65,1462.26 2102.65,1462.26 2069.14,1462.26 2069.14,1462.26 \n",
       "  \" fill=\"#009af9\" fill-rule=\"evenodd\" fill-opacity=\"1\"/>\n",
       "<polyline clip-path=\"url(#clip9703)\" style=\"stroke:#000000; stroke-width:4; stroke-opacity:1; fill:none\" points=\"\n",
       "  2069.14,1462.26 2069.14,1462.26 2102.65,1462.26 2069.14,1462.26 \n",
       "  \"/>\n",
       "<polygon clip-path=\"url(#clip9703)\" points=\"\n",
       "2102.65,1462.26 2102.65,1462.26 2136.17,1462.26 2136.17,1462.26 2102.65,1462.26 2102.65,1462.26 \n",
       "  \" fill=\"#009af9\" fill-rule=\"evenodd\" fill-opacity=\"1\"/>\n",
       "<polyline clip-path=\"url(#clip9703)\" style=\"stroke:#000000; stroke-width:4; stroke-opacity:1; fill:none\" points=\"\n",
       "  2102.65,1462.26 2102.65,1462.26 2136.17,1462.26 2102.65,1462.26 \n",
       "  \"/>\n",
       "<polygon clip-path=\"url(#clip9703)\" points=\"\n",
       "2136.17,1462.26 2136.17,1462.26 2169.68,1462.26 2169.68,1462.26 2136.17,1462.26 2136.17,1462.26 \n",
       "  \" fill=\"#009af9\" fill-rule=\"evenodd\" fill-opacity=\"1\"/>\n",
       "<polyline clip-path=\"url(#clip9703)\" style=\"stroke:#000000; stroke-width:4; stroke-opacity:1; fill:none\" points=\"\n",
       "  2136.17,1462.26 2136.17,1462.26 2169.68,1462.26 2136.17,1462.26 \n",
       "  \"/>\n",
       "<polygon clip-path=\"url(#clip9703)\" points=\"\n",
       "2169.68,1458.26 2169.68,1462.26 2203.2,1462.26 2203.2,1458.26 2169.68,1458.26 2169.68,1458.26 \n",
       "  \" fill=\"#009af9\" fill-rule=\"evenodd\" fill-opacity=\"1\"/>\n",
       "<polyline clip-path=\"url(#clip9703)\" style=\"stroke:#000000; stroke-width:4; stroke-opacity:1; fill:none\" points=\"\n",
       "  2169.68,1458.26 2169.68,1462.26 2203.2,1462.26 2203.2,1458.26 2169.68,1458.26 \n",
       "  \"/>\n",
       "<polyline clip-path=\"url(#clip9703)\" style=\"stroke:#e26f46; stroke-width:4; stroke-opacity:1; fill:none\" stroke-dasharray=\"16, 10\" points=\"\n",
       "  1046.93,147127 1046.93,-145576 \n",
       "  \"/>\n",
       "<polygon clip-path=\"url(#clip9701)\" points=\"\n",
       "1958.43,312.204 2249.26,312.204 2249.26,130.764 1958.43,130.764 \n",
       "  \" fill=\"#ffffff\" fill-rule=\"evenodd\" fill-opacity=\"1\"/>\n",
       "<polyline clip-path=\"url(#clip9701)\" style=\"stroke:#000000; stroke-width:4; stroke-opacity:1; fill:none\" points=\"\n",
       "  1958.43,312.204 2249.26,312.204 2249.26,130.764 1958.43,130.764 1958.43,312.204 \n",
       "  \"/>\n",
       "<polygon clip-path=\"url(#clip9701)\" points=\"\n",
       "1982.43,215.436 2126.43,215.436 2126.43,167.052 1982.43,167.052 1982.43,215.436 \n",
       "  \" fill=\"#009af9\" fill-rule=\"evenodd\" fill-opacity=\"1\"/>\n",
       "<polyline clip-path=\"url(#clip9701)\" style=\"stroke:#000000; stroke-width:4; stroke-opacity:1; fill:none\" points=\"\n",
       "  1982.43,215.436 2126.43,215.436 2126.43,167.052 1982.43,167.052 1982.43,215.436 \n",
       "  \"/>\n",
       "<g clip-path=\"url(#clip9701)\">\n",
       "<text style=\"fill:#000000; fill-opacity:1; font-family:Arial,Helvetica Neue,Helvetica,sans-serif; font-size:48px; text-anchor:start;\" transform=\"rotate(0, 2150.43, 208.744)\" x=\"2150.43\" y=\"208.744\">y1</text>\n",
       "</g>\n",
       "<polyline clip-path=\"url(#clip9701)\" style=\"stroke:#e26f46; stroke-width:4; stroke-opacity:1; fill:none\" stroke-dasharray=\"16, 10\" points=\"\n",
       "  1982.43,251.724 2126.43,251.724 \n",
       "  \"/>\n",
       "<g clip-path=\"url(#clip9701)\">\n",
       "<text style=\"fill:#000000; fill-opacity:1; font-family:Arial,Helvetica Neue,Helvetica,sans-serif; font-size:48px; text-anchor:start;\" transform=\"rotate(0, 2150.43, 269.224)\" x=\"2150.43\" y=\"269.224\">y2</text>\n",
       "</g>\n",
       "</svg>\n"
      ]
     },
     "execution_count": 12,
     "metadata": {},
     "output_type": "execute_result"
    }
   ],
   "source": [
    "histogram(dd12, bins=100)\n",
    "plot!([4.5], seriestype=:vline, linestyle=:dash)"
   ]
  },
  {
   "cell_type": "markdown",
   "metadata": {},
   "source": [
    "合計1000個の$\\Delta D_{1,2}$のうちいくつが4.5より右にあるか"
   ]
  },
  {
   "cell_type": "code",
   "execution_count": 13,
   "metadata": {},
   "outputs": [
    {
     "data": {
      "text/plain": [
       "36"
      ]
     },
     "execution_count": 13,
     "metadata": {},
     "output_type": "execute_result"
    }
   ],
   "source": [
    "sum(dd12 .>= 4.5)"
   ]
  },
  {
   "cell_type": "markdown",
   "metadata": {},
   "source": [
    "$P=0.05$となる逸脱度の差"
   ]
  },
  {
   "cell_type": "code",
   "execution_count": 14,
   "metadata": {},
   "outputs": [
    {
     "data": {
      "text/plain": [
       "3.7152435329931905"
      ]
     },
     "execution_count": 14,
     "metadata": {},
     "output_type": "execute_result"
    }
   ],
   "source": [
    "quantile(dd12, 0.95)"
   ]
  },
  {
   "cell_type": "markdown",
   "metadata": {},
   "source": [
    "### 方法(2) $\\chi^2$分布を使った近似計算法"
   ]
  },
  {
   "cell_type": "code",
   "execution_count": 15,
   "metadata": {},
   "outputs": [
    {
     "data": {
      "text/plain": [
       "StatsModels.DataFrameRegressionModel{GeneralizedLinearModel{GlmResp{Array{Float64,1},Poisson{Float64},LogLink},DensePredChol{Float64,LinearAlgebra.Cholesky{Float64,Array{Float64,2}}}},Array{Float64,2}}\n",
       "\n",
       "Formula: y_rnd ~ 1 + x\n",
       "\n",
       "Coefficients:\n",
       "               Estimate Std.Error   z value Pr(>|z|)\n",
       "(Intercept)     2.26033  0.357048    6.3306    <1e-9\n",
       "x            -0.0180691 0.0352789 -0.512178   0.6085\n"
      ]
     },
     "execution_count": 15,
     "metadata": {},
     "output_type": "execute_result"
    }
   ],
   "source": [
    "fit1 = glm(@formula(y_rnd ~ 1), df, Poisson())\n",
    "fit2 = glm(@formula(y_rnd ~ x), df, Poisson())"
   ]
  },
  {
   "cell_type": "markdown",
   "metadata": {},
   "source": [
    "TODO  \n",
    "anova"
   ]
  },
  {
   "cell_type": "code",
   "execution_count": null,
   "metadata": {},
   "outputs": [],
   "source": []
  }
 ],
 "metadata": {
  "kernelspec": {
   "display_name": "Julia 1.1.0",
   "language": "julia",
   "name": "julia-1.1"
  },
  "language_info": {
   "file_extension": ".jl",
   "mimetype": "application/julia",
   "name": "julia",
   "version": "1.1.0"
  }
 },
 "nbformat": 4,
 "nbformat_minor": 2
}
