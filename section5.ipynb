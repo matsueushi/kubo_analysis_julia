{
 "cells": [
  {
   "cell_type": "markdown",
   "metadata": {},
   "source": [
    "# 5 GLMの尤度比検定と検定の非対称性"
   ]
  },
  {
   "cell_type": "code",
   "execution_count": 1,
   "metadata": {},
   "outputs": [],
   "source": [
    "using CSV\n",
    "using Distributions\n",
    "using GLM\n",
    "using Plots\n",
    "using StatsBase\n",
    "using Statistics"
   ]
  },
  {
   "cell_type": "code",
   "execution_count": 2,
   "metadata": {},
   "outputs": [],
   "source": [
    "df = CSV.read(\"data3a.csv\");"
   ]
  },
  {
   "cell_type": "markdown",
   "metadata": {},
   "source": [
    "### 5.4.1 方法(1) 汎用性のあるパラメトリックブートストラップ法\n",
    "一定モデル"
   ]
  },
  {
   "cell_type": "code",
   "execution_count": 3,
   "metadata": {},
   "outputs": [
    {
     "data": {
      "text/plain": [
       "StatsModels.DataFrameRegressionModel{GeneralizedLinearModel{GlmResp{Array{Float64,1},Poisson{Float64},LogLink},DensePredChol{Float64,LinearAlgebra.Cholesky{Float64,Array{Float64,2}}}},Array{Float64,2}}\n",
       "\n",
       "Formula: y ~ +1\n",
       "\n",
       "Coefficients:\n",
       "             Estimate Std.Error z value Pr(>|z|)\n",
       "(Intercept)   2.05796 0.0357371 57.5862   <1e-99\n"
      ]
     },
     "execution_count": 3,
     "metadata": {},
     "output_type": "execute_result"
    }
   ],
   "source": [
    "fit1 = glm(@formula(y ~ 1), df, Poisson())"
   ]
  },
  {
   "cell_type": "markdown",
   "metadata": {},
   "source": [
    "xモデル"
   ]
  },
  {
   "cell_type": "code",
   "execution_count": 4,
   "metadata": {},
   "outputs": [
    {
     "data": {
      "text/plain": [
       "StatsModels.DataFrameRegressionModel{GeneralizedLinearModel{GlmResp{Array{Float64,1},Poisson{Float64},LogLink},DensePredChol{Float64,LinearAlgebra.Cholesky{Float64,Array{Float64,2}}}},Array{Float64,2}}\n",
       "\n",
       "Formula: y ~ 1 + x\n",
       "\n",
       "Coefficients:\n",
       "              Estimate Std.Error z value Pr(>|z|)\n",
       "(Intercept)    1.29172  0.363686 3.55174   0.0004\n",
       "x            0.0756619 0.0356042 2.12509   0.0336\n"
      ]
     },
     "execution_count": 4,
     "metadata": {},
     "output_type": "execute_result"
    }
   ],
   "source": [
    "fit2 = glm(@formula(y ~ x), df, Poisson())"
   ]
  },
  {
   "cell_type": "markdown",
   "metadata": {},
   "source": [
    "### 残差逸脱度の差"
   ]
  },
  {
   "cell_type": "code",
   "execution_count": 5,
   "metadata": {},
   "outputs": [
    {
     "data": {
      "text/plain": [
       "4.513941078851829"
      ]
     },
     "execution_count": 5,
     "metadata": {},
     "output_type": "execute_result"
    }
   ],
   "source": [
    "deviance(fit1) - deviance(fit2)"
   ]
  },
  {
   "cell_type": "markdown",
   "metadata": {},
   "source": [
    "### 真のモデルから100個体分のデータを新しく生成"
   ]
  },
  {
   "cell_type": "code",
   "execution_count": 6,
   "metadata": {},
   "outputs": [
    {
     "data": {
      "text/plain": [
       "100-element Array{Int64,1}:\n",
       "  8\n",
       "  7\n",
       "  8\n",
       "  9\n",
       "  3\n",
       "  8\n",
       "  7\n",
       "  7\n",
       " 10\n",
       "  8\n",
       "  5\n",
       "  6\n",
       " 12\n",
       "  ⋮\n",
       " 12\n",
       "  5\n",
       "  7\n",
       " 12\n",
       " 11\n",
       "  4\n",
       "  4\n",
       "  9\n",
       " 10\n",
       "  7\n",
       " 11\n",
       " 10"
      ]
     },
     "execution_count": 6,
     "metadata": {},
     "output_type": "execute_result"
    }
   ],
   "source": [
    "df.y_rnd = rand(Poisson(mean(df.y)), 100)"
   ]
  },
  {
   "cell_type": "markdown",
   "metadata": {},
   "source": [
    "### 一定モデルとxモデルをこの真データに当てはめる"
   ]
  },
  {
   "cell_type": "code",
   "execution_count": 7,
   "metadata": {},
   "outputs": [
    {
     "data": {
      "text/plain": [
       "2.470373693888675"
      ]
     },
     "execution_count": 7,
     "metadata": {},
     "output_type": "execute_result"
    }
   ],
   "source": [
    "fit1 = glm(@formula(y_rnd ~ 1), df, Poisson())\n",
    "fit2 = glm(@formula(y_rnd ~ x), df, Poisson())\n",
    "deviance(fit1) - deviance(fit2)"
   ]
  },
  {
   "cell_type": "markdown",
   "metadata": {},
   "source": [
    "### PB法を実行する関数\n",
    "データの生成と逸脱度差の評価"
   ]
  },
  {
   "cell_type": "code",
   "execution_count": 8,
   "metadata": {},
   "outputs": [
    {
     "data": {
      "text/plain": [
       "get_dd (generic function with 1 method)"
      ]
     },
     "execution_count": 8,
     "metadata": {},
     "output_type": "execute_result"
    }
   ],
   "source": [
    "function get_dd(df)\n",
    "    n_samples = size(df, 1)\n",
    "    y_mean = mean(df.y)\n",
    "    df.y_rnd = rand(Poisson(y_mean), n_samples)\n",
    "    fit1 = glm(@formula(y_rnd ~ 1), df, Poisson())\n",
    "    fit2 = glm(@formula(y_rnd ~ x), df, Poisson())\n",
    "    deviance(fit1) - deviance(fit2)\n",
    "end"
   ]
  },
  {
   "cell_type": "code",
   "execution_count": 9,
   "metadata": {},
   "outputs": [
    {
     "data": {
      "text/plain": [
       "pb (generic function with 1 method)"
      ]
     },
     "execution_count": 9,
     "metadata": {},
     "output_type": "execute_result"
    }
   ],
   "source": [
    "function pb(df, n_bootstrap)\n",
    "    [get_dd(df) for _ in 1:n_bootstrap]\n",
    "end"
   ]
  },
  {
   "cell_type": "markdown",
   "metadata": {},
   "source": [
    "### 逸脱度の差のサンプルを1000個を作成"
   ]
  },
  {
   "cell_type": "code",
   "execution_count": 10,
   "metadata": {},
   "outputs": [
    {
     "data": {
      "text/plain": [
       "1000-element Array{Float64,1}:\n",
       " 0.012465302576657677\n",
       " 0.035931063112286665\n",
       " 0.34239127420826776 \n",
       " 2.3873738902448736  \n",
       " 0.5558736280405014  \n",
       " 0.09245487860255253 \n",
       " 2.0229434227664456  \n",
       " 0.3128247779316524  \n",
       " 0.10178367829379908 \n",
       " 0.010965166693594597\n",
       " 0.5151200972789951  \n",
       " 2.5453630007647945  \n",
       " 4.535775060320333   \n",
       " ⋮                   \n",
       " 0.6902673130294801  \n",
       " 0.019754260202816454\n",
       " 0.21006283082033406 \n",
       " 0.9746229208311092  \n",
       " 2.5480643697455463  \n",
       " 0.8728076889968008  \n",
       " 0.014746288213530079\n",
       " 0.14741929783509988 \n",
       " 0.17138144421581103 \n",
       " 0.6841576787072086  \n",
       " 0.5593547081290495  \n",
       " 0.21804940202450496 "
      ]
     },
     "execution_count": 10,
     "metadata": {},
     "output_type": "execute_result"
    }
   ],
   "source": [
    "dd12 = pb(df, 1000)"
   ]
  },
  {
   "cell_type": "code",
   "execution_count": 11,
   "metadata": {},
   "outputs": [
    {
     "name": "stdout",
     "output_type": "stream",
     "text": [
      "Summary Stats:\n",
      "Mean:           0.965541\n",
      "Minimum:        0.000002\n",
      "1st Quartile:   0.085295\n",
      "Median:         0.415875\n",
      "3rd Quartile:   1.252693\n",
      "Maximum:        11.510013\n",
      "Length:         1000\n",
      "Type:           Float64\n"
     ]
    }
   ],
   "source": [
    "describe(dd12)"
   ]
  },
  {
   "cell_type": "code",
   "execution_count": 12,
   "metadata": {},
   "outputs": [
    {
     "data": {
      "image/svg+xml": [
       "<?xml version=\"1.0\" encoding=\"utf-8\"?>\n",
       "<svg xmlns=\"http://www.w3.org/2000/svg\" xmlns:xlink=\"http://www.w3.org/1999/xlink\" width=\"600\" height=\"400\" viewBox=\"0 0 2400 1600\">\n",
       "<defs>\n",
       "  <clipPath id=\"clip1000\">\n",
       "    <rect x=\"0\" y=\"0\" width=\"2000\" height=\"2000\"/>\n",
       "  </clipPath>\n",
       "</defs>\n",
       "<defs>\n",
       "  <clipPath id=\"clip1001\">\n",
       "    <rect x=\"0\" y=\"0\" width=\"2400\" height=\"1600\"/>\n",
       "  </clipPath>\n",
       "</defs>\n",
       "<polygon clip-path=\"url(#clip1001)\" points=\"\n",
       "0,1600 2400,1600 2400,0 0,0 \n",
       "  \" fill=\"#ffffff\" fill-rule=\"evenodd\" fill-opacity=\"1\"/>\n",
       "<defs>\n",
       "  <clipPath id=\"clip1002\">\n",
       "    <rect x=\"480\" y=\"0\" width=\"1681\" height=\"1600\"/>\n",
       "  </clipPath>\n",
       "</defs>\n",
       "<polygon clip-path=\"url(#clip1001)\" points=\"\n",
       "174.775,1503.47 2321.26,1503.47 2321.26,47.2441 174.775,47.2441 \n",
       "  \" fill=\"#ffffff\" fill-rule=\"evenodd\" fill-opacity=\"1\"/>\n",
       "<defs>\n",
       "  <clipPath id=\"clip1003\">\n",
       "    <rect x=\"174\" y=\"47\" width=\"2147\" height=\"1457\"/>\n",
       "  </clipPath>\n",
       "</defs>\n",
       "<polyline clip-path=\"url(#clip1003)\" style=\"stroke:#000000; stroke-width:2; stroke-opacity:0.1; fill:none\" points=\"\n",
       "  292.836,1503.47 292.836,47.2441 \n",
       "  \"/>\n",
       "<polyline clip-path=\"url(#clip1003)\" style=\"stroke:#000000; stroke-width:2; stroke-opacity:0.1; fill:none\" points=\"\n",
       "  704.552,1503.47 704.552,47.2441 \n",
       "  \"/>\n",
       "<polyline clip-path=\"url(#clip1003)\" style=\"stroke:#000000; stroke-width:2; stroke-opacity:0.1; fill:none\" points=\"\n",
       "  1116.27,1503.47 1116.27,47.2441 \n",
       "  \"/>\n",
       "<polyline clip-path=\"url(#clip1003)\" style=\"stroke:#000000; stroke-width:2; stroke-opacity:0.1; fill:none\" points=\"\n",
       "  1527.98,1503.47 1527.98,47.2441 \n",
       "  \"/>\n",
       "<polyline clip-path=\"url(#clip1003)\" style=\"stroke:#000000; stroke-width:2; stroke-opacity:0.1; fill:none\" points=\"\n",
       "  1939.7,1503.47 1939.7,47.2441 \n",
       "  \"/>\n",
       "<polyline clip-path=\"url(#clip1003)\" style=\"stroke:#000000; stroke-width:2; stroke-opacity:0.1; fill:none\" points=\"\n",
       "  174.775,1462.26 2321.26,1462.26 \n",
       "  \"/>\n",
       "<polyline clip-path=\"url(#clip1003)\" style=\"stroke:#000000; stroke-width:2; stroke-opacity:0.1; fill:none\" points=\"\n",
       "  174.775,1080.65 2321.26,1080.65 \n",
       "  \"/>\n",
       "<polyline clip-path=\"url(#clip1003)\" style=\"stroke:#000000; stroke-width:2; stroke-opacity:0.1; fill:none\" points=\"\n",
       "  174.775,699.037 2321.26,699.037 \n",
       "  \"/>\n",
       "<polyline clip-path=\"url(#clip1003)\" style=\"stroke:#000000; stroke-width:2; stroke-opacity:0.1; fill:none\" points=\"\n",
       "  174.775,317.425 2321.26,317.425 \n",
       "  \"/>\n",
       "<polyline clip-path=\"url(#clip1001)\" style=\"stroke:#000000; stroke-width:4; stroke-opacity:1; fill:none\" points=\"\n",
       "  174.775,1503.47 2321.26,1503.47 \n",
       "  \"/>\n",
       "<polyline clip-path=\"url(#clip1001)\" style=\"stroke:#000000; stroke-width:4; stroke-opacity:1; fill:none\" points=\"\n",
       "  174.775,1503.47 174.775,47.2441 \n",
       "  \"/>\n",
       "<polyline clip-path=\"url(#clip1001)\" style=\"stroke:#000000; stroke-width:4; stroke-opacity:1; fill:none\" points=\"\n",
       "  292.836,1503.47 292.836,1481.63 \n",
       "  \"/>\n",
       "<polyline clip-path=\"url(#clip1001)\" style=\"stroke:#000000; stroke-width:4; stroke-opacity:1; fill:none\" points=\"\n",
       "  704.552,1503.47 704.552,1481.63 \n",
       "  \"/>\n",
       "<polyline clip-path=\"url(#clip1001)\" style=\"stroke:#000000; stroke-width:4; stroke-opacity:1; fill:none\" points=\"\n",
       "  1116.27,1503.47 1116.27,1481.63 \n",
       "  \"/>\n",
       "<polyline clip-path=\"url(#clip1001)\" style=\"stroke:#000000; stroke-width:4; stroke-opacity:1; fill:none\" points=\"\n",
       "  1527.98,1503.47 1527.98,1481.63 \n",
       "  \"/>\n",
       "<polyline clip-path=\"url(#clip1001)\" style=\"stroke:#000000; stroke-width:4; stroke-opacity:1; fill:none\" points=\"\n",
       "  1939.7,1503.47 1939.7,1481.63 \n",
       "  \"/>\n",
       "<polyline clip-path=\"url(#clip1001)\" style=\"stroke:#000000; stroke-width:4; stroke-opacity:1; fill:none\" points=\"\n",
       "  174.775,1462.26 206.972,1462.26 \n",
       "  \"/>\n",
       "<polyline clip-path=\"url(#clip1001)\" style=\"stroke:#000000; stroke-width:4; stroke-opacity:1; fill:none\" points=\"\n",
       "  174.775,1080.65 206.972,1080.65 \n",
       "  \"/>\n",
       "<polyline clip-path=\"url(#clip1001)\" style=\"stroke:#000000; stroke-width:4; stroke-opacity:1; fill:none\" points=\"\n",
       "  174.775,699.037 206.972,699.037 \n",
       "  \"/>\n",
       "<polyline clip-path=\"url(#clip1001)\" style=\"stroke:#000000; stroke-width:4; stroke-opacity:1; fill:none\" points=\"\n",
       "  174.775,317.425 206.972,317.425 \n",
       "  \"/>\n",
       "<g clip-path=\"url(#clip1001)\">\n",
       "<text style=\"fill:#000000; fill-opacity:1; font-family:Arial,Helvetica Neue,Helvetica,sans-serif; font-size:48px; text-anchor:middle;\" transform=\"rotate(0, 292.836, 1557.47)\" x=\"292.836\" y=\"1557.47\">0.0</text>\n",
       "</g>\n",
       "<g clip-path=\"url(#clip1001)\">\n",
       "<text style=\"fill:#000000; fill-opacity:1; font-family:Arial,Helvetica Neue,Helvetica,sans-serif; font-size:48px; text-anchor:middle;\" transform=\"rotate(0, 704.552, 1557.47)\" x=\"704.552\" y=\"1557.47\">2.5</text>\n",
       "</g>\n",
       "<g clip-path=\"url(#clip1001)\">\n",
       "<text style=\"fill:#000000; fill-opacity:1; font-family:Arial,Helvetica Neue,Helvetica,sans-serif; font-size:48px; text-anchor:middle;\" transform=\"rotate(0, 1116.27, 1557.47)\" x=\"1116.27\" y=\"1557.47\">5.0</text>\n",
       "</g>\n",
       "<g clip-path=\"url(#clip1001)\">\n",
       "<text style=\"fill:#000000; fill-opacity:1; font-family:Arial,Helvetica Neue,Helvetica,sans-serif; font-size:48px; text-anchor:middle;\" transform=\"rotate(0, 1527.98, 1557.47)\" x=\"1527.98\" y=\"1557.47\">7.5</text>\n",
       "</g>\n",
       "<g clip-path=\"url(#clip1001)\">\n",
       "<text style=\"fill:#000000; fill-opacity:1; font-family:Arial,Helvetica Neue,Helvetica,sans-serif; font-size:48px; text-anchor:middle;\" transform=\"rotate(0, 1939.7, 1557.47)\" x=\"1939.7\" y=\"1557.47\">10.0</text>\n",
       "</g>\n",
       "<g clip-path=\"url(#clip1001)\">\n",
       "<text style=\"fill:#000000; fill-opacity:1; font-family:Arial,Helvetica Neue,Helvetica,sans-serif; font-size:48px; text-anchor:end;\" transform=\"rotate(0, 150.775, 1479.76)\" x=\"150.775\" y=\"1479.76\">0</text>\n",
       "</g>\n",
       "<g clip-path=\"url(#clip1001)\">\n",
       "<text style=\"fill:#000000; fill-opacity:1; font-family:Arial,Helvetica Neue,Helvetica,sans-serif; font-size:48px; text-anchor:end;\" transform=\"rotate(0, 150.775, 1098.15)\" x=\"150.775\" y=\"1098.15\">100</text>\n",
       "</g>\n",
       "<g clip-path=\"url(#clip1001)\">\n",
       "<text style=\"fill:#000000; fill-opacity:1; font-family:Arial,Helvetica Neue,Helvetica,sans-serif; font-size:48px; text-anchor:end;\" transform=\"rotate(0, 150.775, 716.537)\" x=\"150.775\" y=\"716.537\">200</text>\n",
       "</g>\n",
       "<g clip-path=\"url(#clip1001)\">\n",
       "<text style=\"fill:#000000; fill-opacity:1; font-family:Arial,Helvetica Neue,Helvetica,sans-serif; font-size:48px; text-anchor:end;\" transform=\"rotate(0, 150.775, 334.925)\" x=\"150.775\" y=\"334.925\">300</text>\n",
       "</g>\n",
       "<polygon clip-path=\"url(#clip1003)\" points=\"\n",
       "292.836,88.4582 292.836,1462.26 325.773,1462.26 325.773,88.4582 292.836,88.4582 292.836,88.4582 \n",
       "  \" fill=\"#009af9\" fill-rule=\"evenodd\" fill-opacity=\"1\"/>\n",
       "<polyline clip-path=\"url(#clip1003)\" style=\"stroke:#000000; stroke-width:4; stroke-opacity:1; fill:none\" points=\"\n",
       "  292.836,88.4582 292.836,1462.26 325.773,1462.26 325.773,88.4582 292.836,88.4582 \n",
       "  \"/>\n",
       "<polygon clip-path=\"url(#clip1003)\" points=\"\n",
       "325.773,950.901 325.773,1462.26 358.71,1462.26 358.71,950.901 325.773,950.901 325.773,950.901 \n",
       "  \" fill=\"#009af9\" fill-rule=\"evenodd\" fill-opacity=\"1\"/>\n",
       "<polyline clip-path=\"url(#clip1003)\" style=\"stroke:#000000; stroke-width:4; stroke-opacity:1; fill:none\" points=\"\n",
       "  325.773,950.901 325.773,1462.26 358.71,1462.26 358.71,950.901 325.773,950.901 \n",
       "  \"/>\n",
       "<polygon clip-path=\"url(#clip1003)\" points=\"\n",
       "358.71,1126.44 358.71,1462.26 391.648,1462.26 391.648,1126.44 358.71,1126.44 358.71,1126.44 \n",
       "  \" fill=\"#009af9\" fill-rule=\"evenodd\" fill-opacity=\"1\"/>\n",
       "<polyline clip-path=\"url(#clip1003)\" style=\"stroke:#000000; stroke-width:4; stroke-opacity:1; fill:none\" points=\"\n",
       "  358.71,1126.44 358.71,1462.26 391.648,1462.26 391.648,1126.44 358.71,1126.44 \n",
       "  \"/>\n",
       "<polygon clip-path=\"url(#clip1003)\" points=\"\n",
       "391.648,1240.93 391.648,1462.26 424.585,1462.26 424.585,1240.93 391.648,1240.93 391.648,1240.93 \n",
       "  \" fill=\"#009af9\" fill-rule=\"evenodd\" fill-opacity=\"1\"/>\n",
       "<polyline clip-path=\"url(#clip1003)\" style=\"stroke:#000000; stroke-width:4; stroke-opacity:1; fill:none\" points=\"\n",
       "  391.648,1240.93 391.648,1462.26 424.585,1462.26 424.585,1240.93 391.648,1240.93 \n",
       "  \"/>\n",
       "<polygon clip-path=\"url(#clip1003)\" points=\"\n",
       "424.585,1275.27 424.585,1462.26 457.522,1462.26 457.522,1275.27 424.585,1275.27 424.585,1275.27 \n",
       "  \" fill=\"#009af9\" fill-rule=\"evenodd\" fill-opacity=\"1\"/>\n",
       "<polyline clip-path=\"url(#clip1003)\" style=\"stroke:#000000; stroke-width:4; stroke-opacity:1; fill:none\" points=\"\n",
       "  424.585,1275.27 424.585,1462.26 457.522,1462.26 457.522,1275.27 424.585,1275.27 \n",
       "  \"/>\n",
       "<polygon clip-path=\"url(#clip1003)\" points=\"\n",
       "457.522,1267.64 457.522,1462.26 490.46,1462.26 490.46,1267.64 457.522,1267.64 457.522,1267.64 \n",
       "  \" fill=\"#009af9\" fill-rule=\"evenodd\" fill-opacity=\"1\"/>\n",
       "<polyline clip-path=\"url(#clip1003)\" style=\"stroke:#000000; stroke-width:4; stroke-opacity:1; fill:none\" points=\"\n",
       "  457.522,1267.64 457.522,1462.26 490.46,1462.26 490.46,1267.64 457.522,1267.64 \n",
       "  \"/>\n",
       "<polygon clip-path=\"url(#clip1003)\" points=\"\n",
       "490.46,1321.06 490.46,1462.26 523.397,1462.26 523.397,1321.06 490.46,1321.06 490.46,1321.06 \n",
       "  \" fill=\"#009af9\" fill-rule=\"evenodd\" fill-opacity=\"1\"/>\n",
       "<polyline clip-path=\"url(#clip1003)\" style=\"stroke:#000000; stroke-width:4; stroke-opacity:1; fill:none\" points=\"\n",
       "  490.46,1321.06 490.46,1462.26 523.397,1462.26 523.397,1321.06 490.46,1321.06 \n",
       "  \"/>\n",
       "<polygon clip-path=\"url(#clip1003)\" points=\"\n",
       "523.397,1378.31 523.397,1462.26 556.334,1462.26 556.334,1378.31 523.397,1378.31 523.397,1378.31 \n",
       "  \" fill=\"#009af9\" fill-rule=\"evenodd\" fill-opacity=\"1\"/>\n",
       "<polyline clip-path=\"url(#clip1003)\" style=\"stroke:#000000; stroke-width:4; stroke-opacity:1; fill:none\" points=\"\n",
       "  523.397,1378.31 523.397,1462.26 556.334,1462.26 556.334,1378.31 523.397,1378.31 \n",
       "  \"/>\n",
       "<polygon clip-path=\"url(#clip1003)\" points=\"\n",
       "556.334,1370.67 556.334,1462.26 589.271,1462.26 589.271,1370.67 556.334,1370.67 556.334,1370.67 \n",
       "  \" fill=\"#009af9\" fill-rule=\"evenodd\" fill-opacity=\"1\"/>\n",
       "<polyline clip-path=\"url(#clip1003)\" style=\"stroke:#000000; stroke-width:4; stroke-opacity:1; fill:none\" points=\"\n",
       "  556.334,1370.67 556.334,1462.26 589.271,1462.26 589.271,1370.67 556.334,1370.67 \n",
       "  \"/>\n",
       "<polygon clip-path=\"url(#clip1003)\" points=\"\n",
       "589.271,1405.02 589.271,1462.26 622.209,1462.26 622.209,1405.02 589.271,1405.02 589.271,1405.02 \n",
       "  \" fill=\"#009af9\" fill-rule=\"evenodd\" fill-opacity=\"1\"/>\n",
       "<polyline clip-path=\"url(#clip1003)\" style=\"stroke:#000000; stroke-width:4; stroke-opacity:1; fill:none\" points=\"\n",
       "  589.271,1405.02 589.271,1462.26 622.209,1462.26 622.209,1405.02 589.271,1405.02 \n",
       "  \"/>\n",
       "<polygon clip-path=\"url(#clip1003)\" points=\"\n",
       "622.209,1366.86 622.209,1462.26 655.146,1462.26 655.146,1366.86 622.209,1366.86 622.209,1366.86 \n",
       "  \" fill=\"#009af9\" fill-rule=\"evenodd\" fill-opacity=\"1\"/>\n",
       "<polyline clip-path=\"url(#clip1003)\" style=\"stroke:#000000; stroke-width:4; stroke-opacity:1; fill:none\" points=\"\n",
       "  622.209,1366.86 622.209,1462.26 655.146,1462.26 655.146,1366.86 622.209,1366.86 \n",
       "  \"/>\n",
       "<polygon clip-path=\"url(#clip1003)\" points=\"\n",
       "655.146,1401.2 655.146,1462.26 688.083,1462.26 688.083,1401.2 655.146,1401.2 655.146,1401.2 \n",
       "  \" fill=\"#009af9\" fill-rule=\"evenodd\" fill-opacity=\"1\"/>\n",
       "<polyline clip-path=\"url(#clip1003)\" style=\"stroke:#000000; stroke-width:4; stroke-opacity:1; fill:none\" points=\"\n",
       "  655.146,1401.2 655.146,1462.26 688.083,1462.26 688.083,1401.2 655.146,1401.2 \n",
       "  \"/>\n",
       "<polygon clip-path=\"url(#clip1003)\" points=\"\n",
       "688.083,1385.94 688.083,1462.26 721.021,1462.26 721.021,1385.94 688.083,1385.94 688.083,1385.94 \n",
       "  \" fill=\"#009af9\" fill-rule=\"evenodd\" fill-opacity=\"1\"/>\n",
       "<polyline clip-path=\"url(#clip1003)\" style=\"stroke:#000000; stroke-width:4; stroke-opacity:1; fill:none\" points=\"\n",
       "  688.083,1385.94 688.083,1462.26 721.021,1462.26 721.021,1385.94 688.083,1385.94 \n",
       "  \"/>\n",
       "<polygon clip-path=\"url(#clip1003)\" points=\"\n",
       "721.021,1420.28 721.021,1462.26 753.958,1462.26 753.958,1420.28 721.021,1420.28 721.021,1420.28 \n",
       "  \" fill=\"#009af9\" fill-rule=\"evenodd\" fill-opacity=\"1\"/>\n",
       "<polyline clip-path=\"url(#clip1003)\" style=\"stroke:#000000; stroke-width:4; stroke-opacity:1; fill:none\" points=\"\n",
       "  721.021,1420.28 721.021,1462.26 753.958,1462.26 753.958,1420.28 721.021,1420.28 \n",
       "  \"/>\n",
       "<polygon clip-path=\"url(#clip1003)\" points=\"\n",
       "753.958,1420.28 753.958,1462.26 786.895,1462.26 786.895,1420.28 753.958,1420.28 753.958,1420.28 \n",
       "  \" fill=\"#009af9\" fill-rule=\"evenodd\" fill-opacity=\"1\"/>\n",
       "<polyline clip-path=\"url(#clip1003)\" style=\"stroke:#000000; stroke-width:4; stroke-opacity:1; fill:none\" points=\"\n",
       "  753.958,1420.28 753.958,1462.26 786.895,1462.26 786.895,1420.28 753.958,1420.28 \n",
       "  \"/>\n",
       "<polygon clip-path=\"url(#clip1003)\" points=\"\n",
       "786.895,1412.65 786.895,1462.26 819.833,1462.26 819.833,1412.65 786.895,1412.65 786.895,1412.65 \n",
       "  \" fill=\"#009af9\" fill-rule=\"evenodd\" fill-opacity=\"1\"/>\n",
       "<polyline clip-path=\"url(#clip1003)\" style=\"stroke:#000000; stroke-width:4; stroke-opacity:1; fill:none\" points=\"\n",
       "  786.895,1412.65 786.895,1462.26 819.833,1462.26 819.833,1412.65 786.895,1412.65 \n",
       "  \"/>\n",
       "<polygon clip-path=\"url(#clip1003)\" points=\"\n",
       "819.833,1424.1 819.833,1462.26 852.77,1462.26 852.77,1424.1 819.833,1424.1 819.833,1424.1 \n",
       "  \" fill=\"#009af9\" fill-rule=\"evenodd\" fill-opacity=\"1\"/>\n",
       "<polyline clip-path=\"url(#clip1003)\" style=\"stroke:#000000; stroke-width:4; stroke-opacity:1; fill:none\" points=\"\n",
       "  819.833,1424.1 819.833,1462.26 852.77,1462.26 852.77,1424.1 819.833,1424.1 \n",
       "  \"/>\n",
       "<polygon clip-path=\"url(#clip1003)\" points=\"\n",
       "852.77,1439.36 852.77,1462.26 885.707,1462.26 885.707,1439.36 852.77,1439.36 852.77,1439.36 \n",
       "  \" fill=\"#009af9\" fill-rule=\"evenodd\" fill-opacity=\"1\"/>\n",
       "<polyline clip-path=\"url(#clip1003)\" style=\"stroke:#000000; stroke-width:4; stroke-opacity:1; fill:none\" points=\"\n",
       "  852.77,1439.36 852.77,1462.26 885.707,1462.26 885.707,1439.36 852.77,1439.36 \n",
       "  \"/>\n",
       "<polygon clip-path=\"url(#clip1003)\" points=\"\n",
       "885.707,1439.36 885.707,1462.26 918.644,1462.26 918.644,1439.36 885.707,1439.36 885.707,1439.36 \n",
       "  \" fill=\"#009af9\" fill-rule=\"evenodd\" fill-opacity=\"1\"/>\n",
       "<polyline clip-path=\"url(#clip1003)\" style=\"stroke:#000000; stroke-width:4; stroke-opacity:1; fill:none\" points=\"\n",
       "  885.707,1439.36 885.707,1462.26 918.644,1462.26 918.644,1439.36 885.707,1439.36 \n",
       "  \"/>\n",
       "<polygon clip-path=\"url(#clip1003)\" points=\"\n",
       "918.644,1439.36 918.644,1462.26 951.582,1462.26 951.582,1439.36 918.644,1439.36 918.644,1439.36 \n",
       "  \" fill=\"#009af9\" fill-rule=\"evenodd\" fill-opacity=\"1\"/>\n",
       "<polyline clip-path=\"url(#clip1003)\" style=\"stroke:#000000; stroke-width:4; stroke-opacity:1; fill:none\" points=\"\n",
       "  918.644,1439.36 918.644,1462.26 951.582,1462.26 951.582,1439.36 918.644,1439.36 \n",
       "  \"/>\n",
       "<polygon clip-path=\"url(#clip1003)\" points=\"\n",
       "951.582,1450.81 951.582,1462.26 984.519,1462.26 984.519,1450.81 951.582,1450.81 951.582,1450.81 \n",
       "  \" fill=\"#009af9\" fill-rule=\"evenodd\" fill-opacity=\"1\"/>\n",
       "<polyline clip-path=\"url(#clip1003)\" style=\"stroke:#000000; stroke-width:4; stroke-opacity:1; fill:none\" points=\"\n",
       "  951.582,1450.81 951.582,1462.26 984.519,1462.26 984.519,1450.81 951.582,1450.81 \n",
       "  \"/>\n",
       "<polygon clip-path=\"url(#clip1003)\" points=\"\n",
       "984.519,1462.26 984.519,1462.26 1017.46,1462.26 1017.46,1462.26 984.519,1462.26 984.519,1462.26 \n",
       "  \" fill=\"#009af9\" fill-rule=\"evenodd\" fill-opacity=\"1\"/>\n",
       "<polyline clip-path=\"url(#clip1003)\" style=\"stroke:#000000; stroke-width:4; stroke-opacity:1; fill:none\" points=\"\n",
       "  984.519,1462.26 984.519,1462.26 1017.46,1462.26 984.519,1462.26 \n",
       "  \"/>\n",
       "<polygon clip-path=\"url(#clip1003)\" points=\"\n",
       "1017.46,1447 1017.46,1462.26 1050.39,1462.26 1050.39,1447 1017.46,1447 1017.46,1447 \n",
       "  \" fill=\"#009af9\" fill-rule=\"evenodd\" fill-opacity=\"1\"/>\n",
       "<polyline clip-path=\"url(#clip1003)\" style=\"stroke:#000000; stroke-width:4; stroke-opacity:1; fill:none\" points=\"\n",
       "  1017.46,1447 1017.46,1462.26 1050.39,1462.26 1050.39,1447 1017.46,1447 \n",
       "  \"/>\n",
       "<polygon clip-path=\"url(#clip1003)\" points=\"\n",
       "1050.39,1447 1050.39,1462.26 1083.33,1462.26 1083.33,1447 1050.39,1447 1050.39,1447 \n",
       "  \" fill=\"#009af9\" fill-rule=\"evenodd\" fill-opacity=\"1\"/>\n",
       "<polyline clip-path=\"url(#clip1003)\" style=\"stroke:#000000; stroke-width:4; stroke-opacity:1; fill:none\" points=\"\n",
       "  1050.39,1447 1050.39,1462.26 1083.33,1462.26 1083.33,1447 1050.39,1447 \n",
       "  \"/>\n",
       "<polygon clip-path=\"url(#clip1003)\" points=\"\n",
       "1083.33,1454.63 1083.33,1462.26 1116.27,1462.26 1116.27,1454.63 1083.33,1454.63 1083.33,1454.63 \n",
       "  \" fill=\"#009af9\" fill-rule=\"evenodd\" fill-opacity=\"1\"/>\n",
       "<polyline clip-path=\"url(#clip1003)\" style=\"stroke:#000000; stroke-width:4; stroke-opacity:1; fill:none\" points=\"\n",
       "  1083.33,1454.63 1083.33,1462.26 1116.27,1462.26 1116.27,1454.63 1083.33,1454.63 \n",
       "  \"/>\n",
       "<polygon clip-path=\"url(#clip1003)\" points=\"\n",
       "1116.27,1450.81 1116.27,1462.26 1149.21,1462.26 1149.21,1450.81 1116.27,1450.81 1116.27,1450.81 \n",
       "  \" fill=\"#009af9\" fill-rule=\"evenodd\" fill-opacity=\"1\"/>\n",
       "<polyline clip-path=\"url(#clip1003)\" style=\"stroke:#000000; stroke-width:4; stroke-opacity:1; fill:none\" points=\"\n",
       "  1116.27,1450.81 1116.27,1462.26 1149.21,1462.26 1149.21,1450.81 1116.27,1450.81 \n",
       "  \"/>\n",
       "<polygon clip-path=\"url(#clip1003)\" points=\"\n",
       "1149.21,1447 1149.21,1462.26 1182.14,1462.26 1182.14,1447 1149.21,1447 1149.21,1447 \n",
       "  \" fill=\"#009af9\" fill-rule=\"evenodd\" fill-opacity=\"1\"/>\n",
       "<polyline clip-path=\"url(#clip1003)\" style=\"stroke:#000000; stroke-width:4; stroke-opacity:1; fill:none\" points=\"\n",
       "  1149.21,1447 1149.21,1462.26 1182.14,1462.26 1182.14,1447 1149.21,1447 \n",
       "  \"/>\n",
       "<polygon clip-path=\"url(#clip1003)\" points=\"\n",
       "1182.14,1454.63 1182.14,1462.26 1215.08,1462.26 1215.08,1454.63 1182.14,1454.63 1182.14,1454.63 \n",
       "  \" fill=\"#009af9\" fill-rule=\"evenodd\" fill-opacity=\"1\"/>\n",
       "<polyline clip-path=\"url(#clip1003)\" style=\"stroke:#000000; stroke-width:4; stroke-opacity:1; fill:none\" points=\"\n",
       "  1182.14,1454.63 1182.14,1462.26 1215.08,1462.26 1215.08,1454.63 1182.14,1454.63 \n",
       "  \"/>\n",
       "<polygon clip-path=\"url(#clip1003)\" points=\"\n",
       "1215.08,1458.44 1215.08,1462.26 1248.02,1462.26 1248.02,1458.44 1215.08,1458.44 1215.08,1458.44 \n",
       "  \" fill=\"#009af9\" fill-rule=\"evenodd\" fill-opacity=\"1\"/>\n",
       "<polyline clip-path=\"url(#clip1003)\" style=\"stroke:#000000; stroke-width:4; stroke-opacity:1; fill:none\" points=\"\n",
       "  1215.08,1458.44 1215.08,1462.26 1248.02,1462.26 1248.02,1458.44 1215.08,1458.44 \n",
       "  \"/>\n",
       "<polygon clip-path=\"url(#clip1003)\" points=\"\n",
       "1248.02,1450.81 1248.02,1462.26 1280.95,1462.26 1280.95,1450.81 1248.02,1450.81 1248.02,1450.81 \n",
       "  \" fill=\"#009af9\" fill-rule=\"evenodd\" fill-opacity=\"1\"/>\n",
       "<polyline clip-path=\"url(#clip1003)\" style=\"stroke:#000000; stroke-width:4; stroke-opacity:1; fill:none\" points=\"\n",
       "  1248.02,1450.81 1248.02,1462.26 1280.95,1462.26 1280.95,1450.81 1248.02,1450.81 \n",
       "  \"/>\n",
       "<polygon clip-path=\"url(#clip1003)\" points=\"\n",
       "1280.95,1458.44 1280.95,1462.26 1313.89,1462.26 1313.89,1458.44 1280.95,1458.44 1280.95,1458.44 \n",
       "  \" fill=\"#009af9\" fill-rule=\"evenodd\" fill-opacity=\"1\"/>\n",
       "<polyline clip-path=\"url(#clip1003)\" style=\"stroke:#000000; stroke-width:4; stroke-opacity:1; fill:none\" points=\"\n",
       "  1280.95,1458.44 1280.95,1462.26 1313.89,1462.26 1313.89,1458.44 1280.95,1458.44 \n",
       "  \"/>\n",
       "<polygon clip-path=\"url(#clip1003)\" points=\"\n",
       "1313.89,1458.44 1313.89,1462.26 1346.83,1462.26 1346.83,1458.44 1313.89,1458.44 1313.89,1458.44 \n",
       "  \" fill=\"#009af9\" fill-rule=\"evenodd\" fill-opacity=\"1\"/>\n",
       "<polyline clip-path=\"url(#clip1003)\" style=\"stroke:#000000; stroke-width:4; stroke-opacity:1; fill:none\" points=\"\n",
       "  1313.89,1458.44 1313.89,1462.26 1346.83,1462.26 1346.83,1458.44 1313.89,1458.44 \n",
       "  \"/>\n",
       "<polygon clip-path=\"url(#clip1003)\" points=\"\n",
       "1346.83,1454.63 1346.83,1462.26 1379.77,1462.26 1379.77,1454.63 1346.83,1454.63 1346.83,1454.63 \n",
       "  \" fill=\"#009af9\" fill-rule=\"evenodd\" fill-opacity=\"1\"/>\n",
       "<polyline clip-path=\"url(#clip1003)\" style=\"stroke:#000000; stroke-width:4; stroke-opacity:1; fill:none\" points=\"\n",
       "  1346.83,1454.63 1346.83,1462.26 1379.77,1462.26 1379.77,1454.63 1346.83,1454.63 \n",
       "  \"/>\n",
       "<polygon clip-path=\"url(#clip1003)\" points=\"\n",
       "1379.77,1462.26 1379.77,1462.26 1412.7,1462.26 1412.7,1462.26 1379.77,1462.26 1379.77,1462.26 \n",
       "  \" fill=\"#009af9\" fill-rule=\"evenodd\" fill-opacity=\"1\"/>\n",
       "<polyline clip-path=\"url(#clip1003)\" style=\"stroke:#000000; stroke-width:4; stroke-opacity:1; fill:none\" points=\"\n",
       "  1379.77,1462.26 1379.77,1462.26 1412.7,1462.26 1379.77,1462.26 \n",
       "  \"/>\n",
       "<polygon clip-path=\"url(#clip1003)\" points=\"\n",
       "1412.7,1462.26 1412.7,1462.26 1445.64,1462.26 1445.64,1462.26 1412.7,1462.26 1412.7,1462.26 \n",
       "  \" fill=\"#009af9\" fill-rule=\"evenodd\" fill-opacity=\"1\"/>\n",
       "<polyline clip-path=\"url(#clip1003)\" style=\"stroke:#000000; stroke-width:4; stroke-opacity:1; fill:none\" points=\"\n",
       "  1412.7,1462.26 1412.7,1462.26 1445.64,1462.26 1412.7,1462.26 \n",
       "  \"/>\n",
       "<polygon clip-path=\"url(#clip1003)\" points=\"\n",
       "1445.64,1458.44 1445.64,1462.26 1478.58,1462.26 1478.58,1458.44 1445.64,1458.44 1445.64,1458.44 \n",
       "  \" fill=\"#009af9\" fill-rule=\"evenodd\" fill-opacity=\"1\"/>\n",
       "<polyline clip-path=\"url(#clip1003)\" style=\"stroke:#000000; stroke-width:4; stroke-opacity:1; fill:none\" points=\"\n",
       "  1445.64,1458.44 1445.64,1462.26 1478.58,1462.26 1478.58,1458.44 1445.64,1458.44 \n",
       "  \"/>\n",
       "<polygon clip-path=\"url(#clip1003)\" points=\"\n",
       "1478.58,1462.26 1478.58,1462.26 1511.52,1462.26 1511.52,1462.26 1478.58,1462.26 1478.58,1462.26 \n",
       "  \" fill=\"#009af9\" fill-rule=\"evenodd\" fill-opacity=\"1\"/>\n",
       "<polyline clip-path=\"url(#clip1003)\" style=\"stroke:#000000; stroke-width:4; stroke-opacity:1; fill:none\" points=\"\n",
       "  1478.58,1462.26 1478.58,1462.26 1511.52,1462.26 1478.58,1462.26 \n",
       "  \"/>\n",
       "<polygon clip-path=\"url(#clip1003)\" points=\"\n",
       "1511.52,1458.44 1511.52,1462.26 1544.45,1462.26 1544.45,1458.44 1511.52,1458.44 1511.52,1458.44 \n",
       "  \" fill=\"#009af9\" fill-rule=\"evenodd\" fill-opacity=\"1\"/>\n",
       "<polyline clip-path=\"url(#clip1003)\" style=\"stroke:#000000; stroke-width:4; stroke-opacity:1; fill:none\" points=\"\n",
       "  1511.52,1458.44 1511.52,1462.26 1544.45,1462.26 1544.45,1458.44 1511.52,1458.44 \n",
       "  \"/>\n",
       "<polygon clip-path=\"url(#clip1003)\" points=\"\n",
       "1544.45,1462.26 1544.45,1462.26 1577.39,1462.26 1577.39,1462.26 1544.45,1462.26 1544.45,1462.26 \n",
       "  \" fill=\"#009af9\" fill-rule=\"evenodd\" fill-opacity=\"1\"/>\n",
       "<polyline clip-path=\"url(#clip1003)\" style=\"stroke:#000000; stroke-width:4; stroke-opacity:1; fill:none\" points=\"\n",
       "  1544.45,1462.26 1544.45,1462.26 1577.39,1462.26 1544.45,1462.26 \n",
       "  \"/>\n",
       "<polygon clip-path=\"url(#clip1003)\" points=\"\n",
       "1577.39,1462.26 1577.39,1462.26 1610.33,1462.26 1610.33,1462.26 1577.39,1462.26 1577.39,1462.26 \n",
       "  \" fill=\"#009af9\" fill-rule=\"evenodd\" fill-opacity=\"1\"/>\n",
       "<polyline clip-path=\"url(#clip1003)\" style=\"stroke:#000000; stroke-width:4; stroke-opacity:1; fill:none\" points=\"\n",
       "  1577.39,1462.26 1577.39,1462.26 1610.33,1462.26 1577.39,1462.26 \n",
       "  \"/>\n",
       "<polygon clip-path=\"url(#clip1003)\" points=\"\n",
       "1610.33,1458.44 1610.33,1462.26 1643.27,1462.26 1643.27,1458.44 1610.33,1458.44 1610.33,1458.44 \n",
       "  \" fill=\"#009af9\" fill-rule=\"evenodd\" fill-opacity=\"1\"/>\n",
       "<polyline clip-path=\"url(#clip1003)\" style=\"stroke:#000000; stroke-width:4; stroke-opacity:1; fill:none\" points=\"\n",
       "  1610.33,1458.44 1610.33,1462.26 1643.27,1462.26 1643.27,1458.44 1610.33,1458.44 \n",
       "  \"/>\n",
       "<polygon clip-path=\"url(#clip1003)\" points=\"\n",
       "1643.27,1462.26 1643.27,1462.26 1676.2,1462.26 1676.2,1462.26 1643.27,1462.26 1643.27,1462.26 \n",
       "  \" fill=\"#009af9\" fill-rule=\"evenodd\" fill-opacity=\"1\"/>\n",
       "<polyline clip-path=\"url(#clip1003)\" style=\"stroke:#000000; stroke-width:4; stroke-opacity:1; fill:none\" points=\"\n",
       "  1643.27,1462.26 1643.27,1462.26 1676.2,1462.26 1643.27,1462.26 \n",
       "  \"/>\n",
       "<polygon clip-path=\"url(#clip1003)\" points=\"\n",
       "1676.2,1462.26 1676.2,1462.26 1709.14,1462.26 1709.14,1462.26 1676.2,1462.26 1676.2,1462.26 \n",
       "  \" fill=\"#009af9\" fill-rule=\"evenodd\" fill-opacity=\"1\"/>\n",
       "<polyline clip-path=\"url(#clip1003)\" style=\"stroke:#000000; stroke-width:4; stroke-opacity:1; fill:none\" points=\"\n",
       "  1676.2,1462.26 1676.2,1462.26 1709.14,1462.26 1676.2,1462.26 \n",
       "  \"/>\n",
       "<polygon clip-path=\"url(#clip1003)\" points=\"\n",
       "1709.14,1462.26 1709.14,1462.26 1742.08,1462.26 1742.08,1462.26 1709.14,1462.26 1709.14,1462.26 \n",
       "  \" fill=\"#009af9\" fill-rule=\"evenodd\" fill-opacity=\"1\"/>\n",
       "<polyline clip-path=\"url(#clip1003)\" style=\"stroke:#000000; stroke-width:4; stroke-opacity:1; fill:none\" points=\"\n",
       "  1709.14,1462.26 1709.14,1462.26 1742.08,1462.26 1709.14,1462.26 \n",
       "  \"/>\n",
       "<polygon clip-path=\"url(#clip1003)\" points=\"\n",
       "1742.08,1462.26 1742.08,1462.26 1775.01,1462.26 1775.01,1462.26 1742.08,1462.26 1742.08,1462.26 \n",
       "  \" fill=\"#009af9\" fill-rule=\"evenodd\" fill-opacity=\"1\"/>\n",
       "<polyline clip-path=\"url(#clip1003)\" style=\"stroke:#000000; stroke-width:4; stroke-opacity:1; fill:none\" points=\"\n",
       "  1742.08,1462.26 1742.08,1462.26 1775.01,1462.26 1742.08,1462.26 \n",
       "  \"/>\n",
       "<polygon clip-path=\"url(#clip1003)\" points=\"\n",
       "1775.01,1462.26 1775.01,1462.26 1807.95,1462.26 1807.95,1462.26 1775.01,1462.26 1775.01,1462.26 \n",
       "  \" fill=\"#009af9\" fill-rule=\"evenodd\" fill-opacity=\"1\"/>\n",
       "<polyline clip-path=\"url(#clip1003)\" style=\"stroke:#000000; stroke-width:4; stroke-opacity:1; fill:none\" points=\"\n",
       "  1775.01,1462.26 1775.01,1462.26 1807.95,1462.26 1775.01,1462.26 \n",
       "  \"/>\n",
       "<polygon clip-path=\"url(#clip1003)\" points=\"\n",
       "1807.95,1462.26 1807.95,1462.26 1840.89,1462.26 1840.89,1462.26 1807.95,1462.26 1807.95,1462.26 \n",
       "  \" fill=\"#009af9\" fill-rule=\"evenodd\" fill-opacity=\"1\"/>\n",
       "<polyline clip-path=\"url(#clip1003)\" style=\"stroke:#000000; stroke-width:4; stroke-opacity:1; fill:none\" points=\"\n",
       "  1807.95,1462.26 1807.95,1462.26 1840.89,1462.26 1807.95,1462.26 \n",
       "  \"/>\n",
       "<polygon clip-path=\"url(#clip1003)\" points=\"\n",
       "1840.89,1462.26 1840.89,1462.26 1873.83,1462.26 1873.83,1462.26 1840.89,1462.26 1840.89,1462.26 \n",
       "  \" fill=\"#009af9\" fill-rule=\"evenodd\" fill-opacity=\"1\"/>\n",
       "<polyline clip-path=\"url(#clip1003)\" style=\"stroke:#000000; stroke-width:4; stroke-opacity:1; fill:none\" points=\"\n",
       "  1840.89,1462.26 1840.89,1462.26 1873.83,1462.26 1840.89,1462.26 \n",
       "  \"/>\n",
       "<polygon clip-path=\"url(#clip1003)\" points=\"\n",
       "1873.83,1454.63 1873.83,1462.26 1906.76,1462.26 1906.76,1454.63 1873.83,1454.63 1873.83,1454.63 \n",
       "  \" fill=\"#009af9\" fill-rule=\"evenodd\" fill-opacity=\"1\"/>\n",
       "<polyline clip-path=\"url(#clip1003)\" style=\"stroke:#000000; stroke-width:4; stroke-opacity:1; fill:none\" points=\"\n",
       "  1873.83,1454.63 1873.83,1462.26 1906.76,1462.26 1906.76,1454.63 1873.83,1454.63 \n",
       "  \"/>\n",
       "<polygon clip-path=\"url(#clip1003)\" points=\"\n",
       "1906.76,1458.44 1906.76,1462.26 1939.7,1462.26 1939.7,1458.44 1906.76,1458.44 1906.76,1458.44 \n",
       "  \" fill=\"#009af9\" fill-rule=\"evenodd\" fill-opacity=\"1\"/>\n",
       "<polyline clip-path=\"url(#clip1003)\" style=\"stroke:#000000; stroke-width:4; stroke-opacity:1; fill:none\" points=\"\n",
       "  1906.76,1458.44 1906.76,1462.26 1939.7,1462.26 1939.7,1458.44 1906.76,1458.44 \n",
       "  \"/>\n",
       "<polygon clip-path=\"url(#clip1003)\" points=\"\n",
       "1939.7,1462.26 1939.7,1462.26 1972.64,1462.26 1972.64,1462.26 1939.7,1462.26 1939.7,1462.26 \n",
       "  \" fill=\"#009af9\" fill-rule=\"evenodd\" fill-opacity=\"1\"/>\n",
       "<polyline clip-path=\"url(#clip1003)\" style=\"stroke:#000000; stroke-width:4; stroke-opacity:1; fill:none\" points=\"\n",
       "  1939.7,1462.26 1939.7,1462.26 1972.64,1462.26 1939.7,1462.26 \n",
       "  \"/>\n",
       "<polygon clip-path=\"url(#clip1003)\" points=\"\n",
       "1972.64,1462.26 1972.64,1462.26 2005.58,1462.26 2005.58,1462.26 1972.64,1462.26 1972.64,1462.26 \n",
       "  \" fill=\"#009af9\" fill-rule=\"evenodd\" fill-opacity=\"1\"/>\n",
       "<polyline clip-path=\"url(#clip1003)\" style=\"stroke:#000000; stroke-width:4; stroke-opacity:1; fill:none\" points=\"\n",
       "  1972.64,1462.26 1972.64,1462.26 2005.58,1462.26 1972.64,1462.26 \n",
       "  \"/>\n",
       "<polygon clip-path=\"url(#clip1003)\" points=\"\n",
       "2005.58,1462.26 2005.58,1462.26 2038.51,1462.26 2038.51,1462.26 2005.58,1462.26 2005.58,1462.26 \n",
       "  \" fill=\"#009af9\" fill-rule=\"evenodd\" fill-opacity=\"1\"/>\n",
       "<polyline clip-path=\"url(#clip1003)\" style=\"stroke:#000000; stroke-width:4; stroke-opacity:1; fill:none\" points=\"\n",
       "  2005.58,1462.26 2005.58,1462.26 2038.51,1462.26 2005.58,1462.26 \n",
       "  \"/>\n",
       "<polygon clip-path=\"url(#clip1003)\" points=\"\n",
       "2038.51,1462.26 2038.51,1462.26 2071.45,1462.26 2071.45,1462.26 2038.51,1462.26 2038.51,1462.26 \n",
       "  \" fill=\"#009af9\" fill-rule=\"evenodd\" fill-opacity=\"1\"/>\n",
       "<polyline clip-path=\"url(#clip1003)\" style=\"stroke:#000000; stroke-width:4; stroke-opacity:1; fill:none\" points=\"\n",
       "  2038.51,1462.26 2038.51,1462.26 2071.45,1462.26 2038.51,1462.26 \n",
       "  \"/>\n",
       "<polygon clip-path=\"url(#clip1003)\" points=\"\n",
       "2071.45,1462.26 2071.45,1462.26 2104.39,1462.26 2104.39,1462.26 2071.45,1462.26 2071.45,1462.26 \n",
       "  \" fill=\"#009af9\" fill-rule=\"evenodd\" fill-opacity=\"1\"/>\n",
       "<polyline clip-path=\"url(#clip1003)\" style=\"stroke:#000000; stroke-width:4; stroke-opacity:1; fill:none\" points=\"\n",
       "  2071.45,1462.26 2071.45,1462.26 2104.39,1462.26 2071.45,1462.26 \n",
       "  \"/>\n",
       "<polygon clip-path=\"url(#clip1003)\" points=\"\n",
       "2104.39,1462.26 2104.39,1462.26 2137.32,1462.26 2137.32,1462.26 2104.39,1462.26 2104.39,1462.26 \n",
       "  \" fill=\"#009af9\" fill-rule=\"evenodd\" fill-opacity=\"1\"/>\n",
       "<polyline clip-path=\"url(#clip1003)\" style=\"stroke:#000000; stroke-width:4; stroke-opacity:1; fill:none\" points=\"\n",
       "  2104.39,1462.26 2104.39,1462.26 2137.32,1462.26 2104.39,1462.26 \n",
       "  \"/>\n",
       "<polygon clip-path=\"url(#clip1003)\" points=\"\n",
       "2137.32,1458.44 2137.32,1462.26 2170.26,1462.26 2170.26,1458.44 2137.32,1458.44 2137.32,1458.44 \n",
       "  \" fill=\"#009af9\" fill-rule=\"evenodd\" fill-opacity=\"1\"/>\n",
       "<polyline clip-path=\"url(#clip1003)\" style=\"stroke:#000000; stroke-width:4; stroke-opacity:1; fill:none\" points=\"\n",
       "  2137.32,1458.44 2137.32,1462.26 2170.26,1462.26 2170.26,1458.44 2137.32,1458.44 \n",
       "  \"/>\n",
       "<polygon clip-path=\"url(#clip1003)\" points=\"\n",
       "2170.26,1458.44 2170.26,1462.26 2203.2,1462.26 2203.2,1458.44 2170.26,1458.44 2170.26,1458.44 \n",
       "  \" fill=\"#009af9\" fill-rule=\"evenodd\" fill-opacity=\"1\"/>\n",
       "<polyline clip-path=\"url(#clip1003)\" style=\"stroke:#000000; stroke-width:4; stroke-opacity:1; fill:none\" points=\"\n",
       "  2170.26,1458.44 2170.26,1462.26 2203.2,1462.26 2203.2,1458.44 2170.26,1458.44 \n",
       "  \"/>\n",
       "<polyline clip-path=\"url(#clip1003)\" style=\"stroke:#e26f46; stroke-width:4; stroke-opacity:1; fill:none\" stroke-dasharray=\"16, 10\" points=\"\n",
       "  1033.93,147127 1033.93,-145576 \n",
       "  \"/>\n",
       "</svg>\n"
      ]
     },
     "execution_count": 12,
     "metadata": {},
     "output_type": "execute_result"
    }
   ],
   "source": [
    "histogram(dd12, bins=100, label=\"\")\n",
    "plot!([4.5], seriestype=:vline, linestyle=:dash, label=\"\")"
   ]
  },
  {
   "cell_type": "markdown",
   "metadata": {},
   "source": [
    "合計1000個の$\\Delta D_{1,2}$のうちいくつが4.5より右にあるか"
   ]
  },
  {
   "cell_type": "code",
   "execution_count": 13,
   "metadata": {},
   "outputs": [
    {
     "data": {
      "text/plain": [
       "32"
      ]
     },
     "execution_count": 13,
     "metadata": {},
     "output_type": "execute_result"
    }
   ],
   "source": [
    "sum(dd12 .>= 4.5)"
   ]
  },
  {
   "cell_type": "markdown",
   "metadata": {},
   "source": [
    "$P=0.05$となる逸脱度の差"
   ]
  },
  {
   "cell_type": "code",
   "execution_count": 14,
   "metadata": {},
   "outputs": [
    {
     "data": {
      "text/plain": [
       "3.5647733354686495"
      ]
     },
     "execution_count": 14,
     "metadata": {},
     "output_type": "execute_result"
    }
   ],
   "source": [
    "quantile(dd12, 0.95)"
   ]
  },
  {
   "cell_type": "markdown",
   "metadata": {},
   "source": [
    "### 方法(2) $\\chi^2$分布を使った近似計算法"
   ]
  },
  {
   "cell_type": "code",
   "execution_count": 15,
   "metadata": {},
   "outputs": [
    {
     "data": {
      "text/plain": [
       "0.03363819191961954"
      ]
     },
     "execution_count": 15,
     "metadata": {},
     "output_type": "execute_result"
    }
   ],
   "source": [
    "ccdf(Chisq(1), 4.513)"
   ]
  }
 ],
 "metadata": {
  "kernelspec": {
   "display_name": "Julia 1.1.0",
   "language": "julia",
   "name": "julia-1.1"
  },
  "language_info": {
   "file_extension": ".jl",
   "mimetype": "application/julia",
   "name": "julia",
   "version": "1.1.0"
  }
 },
 "nbformat": 4,
 "nbformat_minor": 2
}
